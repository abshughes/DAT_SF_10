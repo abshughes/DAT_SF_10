{
 "metadata": {
  "name": "",
  "signature": "sha256:a0a8d47ee50230b6e4ae3d7c75fa52c81437b37b3a1036ae1568be8be823aa5f"
 },
 "nbformat": 3,
 "nbformat_minor": 0,
 "worksheets": [
  {
   "cells": [
    {
     "cell_type": "code",
     "collapsed": false,
     "input": [
      "from sklearn.datasets import fetch_olivetti_faces\n",
      "from sklearn.decomposition import PCA\n",
      "from sklearn.decomposition import RandomizedPCA\n",
      "import pandas as pd\n",
      "%matplotlib inline\n",
      "from matplotlib import pyplot as plt\n",
      "from numpy.random import RandomState\n",
      "import matplotlib.pyplot as plt\n",
      "from sklearn.cluster import KMeans"
     ],
     "language": "python",
     "metadata": {},
     "outputs": [],
     "prompt_number": 241
    },
    {
     "cell_type": "code",
     "collapsed": false,
     "input": [
      "dataset=fetch_olivetti_faces(data_home=None, shuffle=False, random_state=0, download_if_missing=True)"
     ],
     "language": "python",
     "metadata": {},
     "outputs": [],
     "prompt_number": 242
    },
    {
     "cell_type": "code",
     "collapsed": false,
     "input": [
      "faces_coord = dataset.data\n",
      "faces_id=dataset.target"
     ],
     "language": "python",
     "metadata": {},
     "outputs": [],
     "prompt_number": 243
    },
    {
     "cell_type": "code",
     "collapsed": false,
     "input": [
      "print 'The number of faces in the database is = %s' % len(faces)\n",
      "#print faces_coord[:5]\n",
      "#print faces_id[:5]"
     ],
     "language": "python",
     "metadata": {},
     "outputs": [
      {
       "output_type": "stream",
       "stream": "stdout",
       "text": [
        "The number of faces in the database is = 400\n"
       ]
      }
     ],
     "prompt_number": 244
    },
    {
     "cell_type": "heading",
     "level": 6,
     "metadata": {},
     "source": [
      "1. Implementing PCA on the dataset"
     ]
    },
    {
     "cell_type": "code",
     "collapsed": false,
     "input": [
      "X=faces_coord\n",
      "y=faces_id\n",
      "pca = PCA(n_components=20)\n",
      "F = pca.fit(X).transform(X)"
     ],
     "language": "python",
     "metadata": {},
     "outputs": [],
     "prompt_number": 245
    },
    {
     "cell_type": "code",
     "collapsed": false,
     "input": [
      "from sklearn.cross_validation import train_test_split\n",
      "X_train, X_test, y_train, y_test = train_test_split( X, y, test_size=0.2, random_state=None)\n",
      "from sklearn.neighbors import KNeighborsClassifier\n",
      "myknn = KNeighborsClassifier(5).fit(X_train,y_train)\n",
      "print 'KNN classification score is %s' % myknn.score(X_test, y_test)"
     ],
     "language": "python",
     "metadata": {},
     "outputs": [
      {
       "output_type": "stream",
       "stream": "stdout",
       "text": [
        "KNN classification score is 0.7875\n"
       ]
      }
     ],
     "prompt_number": 246
    },
    {
     "cell_type": "heading",
     "level": 6,
     "metadata": {},
     "source": [
      "Figuring out how many n_components we need"
     ]
    },
    {
     "cell_type": "code",
     "collapsed": false,
     "input": [
      "ratios = pca.explained_variance_ratio_\n",
      "sum_expl_ratios=pca.explained_variance_ratio_.sum()\n",
      "print ratios, sum_expl_ratios"
     ],
     "language": "python",
     "metadata": {},
     "outputs": [
      {
       "output_type": "stream",
       "stream": "stdout",
       "text": [
        "[ 0.23812735  0.13993968  0.07968616  0.04998329  0.03609847  0.03156934\n",
        "  0.02426833  0.02036395  0.01958116  0.01672123  0.01595224  0.01436981\n",
        "  0.01246741  0.01147133  0.01062877  0.0097772   0.0091906   0.00815574\n",
        "  0.00753875  0.00746985] 0.763361\n"
       ]
      }
     ],
     "prompt_number": 247
    },
    {
     "cell_type": "code",
     "collapsed": false,
     "input": [
      "p=[]\n",
      "\n",
      "for i in range(1,100):\n",
      "    T={'K':i}\n",
      "    pca = PCA(n_components=i)\n",
      "    F = pca.fit(X).transform(X)\n",
      "    ratios = pca.explained_variance_ratio_\n",
      "    expl_ratios=pca.explained_variance_ratio_.sum()\n",
      "    T['Expl_var']=expl_ratios\n",
      "    p.append(T)\n",
      "DFCoords=pd.DataFrame(p)"
     ],
     "language": "python",
     "metadata": {},
     "outputs": [],
     "prompt_number": 248
    },
    {
     "cell_type": "code",
     "collapsed": false,
     "input": [
      "fig = plt.figure(figsize=(8,5))\n",
      "plt.scatter(DFCoords['K'],DFCoords['Expl_var'])\n",
      "plt.title('Number of variables after PCA and the variance explained')\n",
      "plt.xlabel('Number of variables after PCA')\n",
      "plt.ylabel('Variance explined')"
     ],
     "language": "python",
     "metadata": {},
     "outputs": [
      {
       "metadata": {},
       "output_type": "pyout",
       "prompt_number": 249,
       "text": [
        "<matplotlib.text.Text at 0x10f852990>"
       ]
      },
      {
       "metadata": {},
       "output_type": "display_data",
       "png": "[encoded data removed]",
       "text": [
        "<matplotlib.figure.Figure at 0x1109e4cd0>"
       ]
      }
     ],
     "prompt_number": 249
    },
    {
     "cell_type": "heading",
     "level": 6,
     "metadata": {},
     "source": [
      "I assume the variance explained around 0.9 is good enough and visually it is reached when number of variables after PCA = 80. So I am going to run it for 80 features.\n"
     ]
    },
    {
     "cell_type": "code",
     "collapsed": false,
     "input": [
      "pca = PCA(n_components=80)\n",
      "X1 = pca.fit(X).transform(X)\n",
      "ratios1 = pca.explained_variance_ratio_\n",
      "expl_ratios=pca.explained_variance_ratio_.sum()\n",
      "print ratios, expl_ratios\n"
     ],
     "language": "python",
     "metadata": {},
     "outputs": [
      {
       "output_type": "stream",
       "stream": "stdout",
       "text": [
        "[ 0.23812735  0.13993968  0.07968616  0.04998329  0.03609847  0.03156934\n",
        "  0.02426833  0.02036395  0.01958116  0.01672123  0.01595224  0.01436981\n",
        "  0.01246741  0.01147133  0.01062877  0.0097772   0.0091906   0.00815574\n",
        "  0.00753875  0.00746985  0.00698578  0.00614628  0.00583928  0.00569722\n",
        "  0.00546191  0.00531856  0.00513816  0.00495842  0.00457664  0.00441184\n",
        "  0.00402002  0.0038419   0.00361951  0.00334543  0.00320381  0.00316041\n",
        "  0.00305147  0.00298635  0.00282141  0.00274007  0.00259772  0.0025399\n",
        "  0.00244547  0.0023984   0.00230891  0.00226419  0.00222286  0.00220443\n",
        "  0.00208921  0.00204983  0.00196843  0.00191436  0.00185046  0.00178939\n",
        "  0.00177608  0.00172483  0.00168585  0.00164168  0.00161885  0.00158394\n",
        "  0.00155428  0.00152233  0.00149957  0.00147712  0.00142609  0.00140598\n",
        "  0.00136941  0.00133973  0.00130915  0.0012872   0.00127428  0.00126232\n",
        "  0.00123801  0.00121334  0.00117883  0.00114882  0.00114184  0.00110184\n",
        "  0.00109686  0.00108623  0.00106535  0.00104696  0.00101681  0.00098781\n",
        "  0.00097482  0.0009637   0.00095599  0.0009331   0.00091188  0.00090856\n",
        "  0.00089056  0.00088107  0.00087561  0.00086456  0.00082534  0.0008069\n",
        "  0.00079725  0.00079418  0.00078668] 0.917293\n"
       ]
      }
     ],
     "prompt_number": 250
    },
    {
     "cell_type": "heading",
     "level": 6,
     "metadata": {},
     "source": [
      "2. Randomized PCA"
     ]
    },
    {
     "cell_type": "code",
     "collapsed": false,
     "input": [
      "pca_rand = RandomizedPCA(n_components=80)\n",
      "X_rand = pca_rand.fit(X).transform(X)\n",
      "ratios_rand = pca_rand.explained_variance_ratio_\n",
      "sum_expl_ratios_rand=pca_rand.explained_variance_ratio_.sum()\n",
      "print ratios_rand, sum_expl_ratios_rand"
     ],
     "language": "python",
     "metadata": {},
     "outputs": [
      {
       "output_type": "stream",
       "stream": "stdout",
       "text": [
        "[ 0.2381273   0.13993972  0.07968614  0.04998332  0.03609848  0.03156939\n",
        "  0.02426832  0.02036398  0.01958114  0.01672122  0.01595222  0.01436979\n",
        "  0.01246741  0.01147133  0.01062877  0.0097772   0.0091906   0.00815573\n",
        "  0.00753874  0.00746985  0.00698577  0.00614628  0.00583927  0.00569721\n",
        "  0.00546189  0.00531854  0.00513815  0.00495835  0.00457661  0.0044118\n",
        "  0.00401991  0.00384181  0.00361918  0.00334521  0.00320339  0.00316011\n",
        "  0.00305062  0.00298571  0.0028207   0.0027396   0.00259672  0.00253739\n",
        "  0.00244452  0.00239623  0.00230738  0.00226028  0.00221741  0.00220264\n",
        "  0.00208555  0.0020487   0.00196117  0.0019105   0.00183929  0.00178266\n",
        "  0.00176925  0.00171785  0.00166706  0.00162844  0.0016087   0.00156334\n",
        "  0.00152155  0.00151023  0.00148859  0.00145547  0.00141262  0.00136693\n",
        "  0.00133401  0.00130518  0.00126966  0.00125437  0.00123803  0.00122096\n",
        "  0.00118808  0.00116205  0.00112661  0.00111947  0.0010644   0.00105423\n",
        "  0.00103815  0.00101359] 0.91637002185\n"
       ]
      }
     ],
     "prompt_number": 251
    },
    {
     "cell_type": "heading",
     "level": 6,
     "metadata": {},
     "source": [
      "Randomised PCA shows very similar results, the explained variance for PCA and Randomized PCA are 0.917 and 0.916 respectively"
     ]
    },
    {
     "cell_type": "heading",
     "level": 6,
     "metadata": {},
     "source": [
      "3. Plot the datapoints in the plane of the two principal components. Are any clusters visible?"
     ]
    },
    {
     "cell_type": "code",
     "collapsed": false,
     "input": [
      "pca_two = PCA(n_components = 2)\n",
      "X_two = pca_two.fit(X).transform(X)\n",
      "ratios_two = pca_two.explained_variance_ratio_"
     ],
     "language": "python",
     "metadata": {},
     "outputs": [],
     "prompt_number": 252
    },
    {
     "cell_type": "code",
     "collapsed": false,
     "input": [
      "fig = plt.figure(figsize=(8,5))\n",
      "plt.scatter(X_two[:,0],X_two[:, 1])\n",
      "plt.title('Top two principal components')\n",
      "plt.xlabel('Principal component 1')\n",
      "plt.ylabel('Principal component 2')"
     ],
     "language": "python",
     "metadata": {},
     "outputs": [
      {
       "metadata": {},
       "output_type": "pyout",
       "prompt_number": 253,
       "text": [
        "<matplotlib.text.Text at 0x108616490>"
       ]
      },
      {
       "metadata": {},
       "output_type": "display_data",
       "png": "[encoded data removed]",
       "text": [
        "<matplotlib.figure.Figure at 0x10ce9b450>"
       ]
      }
     ],
     "prompt_number": 253
    },
    {
     "cell_type": "heading",
     "level": 6,
     "metadata": {},
     "source": [
      "I dont see there any clusters"
     ]
    },
    {
     "cell_type": "heading",
     "level": 6,
     "metadata": {},
     "source": [
      "4. Implement k-means clustering, using sklearn, with k = number of people in the dataset. Does the clustering work? Does each cluster map correctly to one person?"
     ]
    },
    {
     "cell_type": "heading",
     "level": 6,
     "metadata": {},
     "source": [
      "Since I am going to map ther results, I use 2 components\n"
     ]
    },
    {
     "cell_type": "code",
     "collapsed": false,
     "input": [
      "k=400\n",
      "km = KMeans(n_clusters=k,  init='k-means++', random_state=0)\n",
      "km.fit(X_two)\n",
      "centroids = km.cluster_centers_\n",
      "y = km.predict(X_two)"
     ],
     "language": "python",
     "metadata": {},
     "outputs": [],
     "prompt_number": 273
    },
    {
     "cell_type": "code",
     "collapsed": false,
     "input": [
      "fig, ax = plt.subplots(1,1, figsize=(8,8))\n",
      "ax.scatter(X_two[0:k,0], X_two[0:k,1])\n",
      "ax.scatter(centroids[:,0],centroids[:,1],marker = 's',c='r')\n",
      "plt.title('Top Two Components of Olvetti Faces with Centroids')\n",
      "plt.xlabel('Component 1')\n",
      "plt.ylabel('Component 2')\n",
      "plt.show()"
     ],
     "language": "python",
     "metadata": {},
     "outputs": [
      {
       "metadata": {},
       "output_type": "display_data",
       "png": "[encoded data removed]",
       "text": [
        "<matplotlib.figure.Figure at 0x10862e090>"
       ]
      }
     ],
     "prompt_number": 274
    },
    {
     "cell_type": "heading",
     "level": 6,
     "metadata": {},
     "source": [
      "All red dots are covering blue dots, so we can see that 400 cluster centers correspond to 400 different people "
     ]
    },
    {
     "cell_type": "heading",
     "level": 6,
     "metadata": {},
     "source": [
      "5. Vary the number k between 1 and 'number of datapoints' and plot the Silhouette coefficient as a function of k. What do you observe? What conclusions can you draw?"
     ]
    },
    {
     "cell_type": "code",
     "collapsed": false,
     "input": [
      "from sklearn import metrics\n",
      "from sklearn.metrics import pairwise_distances\n",
      "\n",
      "sil_to_list=[]\n",
      "for k in xrange(2,400):\n",
      "    T1={'K':k}\n",
      "    km = KMeans(n_clusters=k, random_state=0)\n",
      "    km.fit(X_two)\n",
      "    labels = km.labels_\n",
      "    T1['score']=metrics.silhouette_score(X_two, labels, metric='euclidean')\n",
      "    sil_to_list.append(T1)\n",
      "DFSilScore=pd.DataFrame(sil_to_list)\n",
      "print DFSilScore    \n",
      "    \n",
      "fig = plt.figure(figsize=(14,6))\n",
      "plt.scatter(DFSilScore ['K'], DFSilScore ['score'])\n",
      "plt.xlabel('K')\n",
      "plt.ylabel('Silhouette score')\n",
      "plt.xlim([0,400]) # only display the first 50 ratios\n",
      "plt.ylim([0,0.5]) # only display the first 50 ratios\n",
      "\n",
      "    "
     ],
     "language": "python",
     "metadata": {},
     "outputs": [
      {
       "output_type": "stream",
       "stream": "stdout",
       "text": [
        "       K     score\n",
        "0      2  0.392753\n",
        "1      3  0.397989\n",
        "2      4  0.382545\n",
        "3      5  0.359632\n",
        "4      6  0.360821\n",
        "5      7  0.379142\n",
        "6      8  0.374240\n",
        "7      9  0.379283\n",
        "8     10  0.377507\n",
        "9     11  0.368159\n",
        "10    12  0.388017\n",
        "11    13  0.380057\n",
        "12    14  0.383261\n",
        "13    15  0.375667\n",
        "14    16  0.382578\n",
        "15    17  0.370924\n",
        "16    18  0.371642\n",
        "17    19  0.368027\n",
        "18    20  0.378891\n",
        "19    21  0.378664\n",
        "20    22  0.371350\n",
        "21    23  0.381743\n",
        "22    24  0.376109\n",
        "23    25  0.371985\n",
        "24    26  0.389200\n",
        "25    27  0.383744\n",
        "26    28  0.366647\n",
        "27    29  0.400871\n",
        "28    30  0.391134\n",
        "29    31  0.392887\n",
        "..   ...       ...\n",
        "368  370  0.087518\n",
        "369  371  0.082756\n",
        "370  372  0.081139\n",
        "371  373  0.078509\n",
        "372  374  0.074756\n",
        "373  375  0.071465\n",
        "374  376  0.070269\n",
        "375  377  0.068624\n",
        "376  378  0.067411\n",
        "377  379  0.066375\n",
        "378  380  0.063119\n",
        "379  381  0.059146\n",
        "380  382  0.055581\n",
        "381  383  0.052769\n",
        "382  384  0.050485\n",
        "383  385  0.048496\n",
        "384  386  0.045219\n",
        "385  387  0.042740\n",
        "386  388  0.039948\n",
        "387  389  0.038003\n",
        "388  390  0.034068\n",
        "389  391  0.031105\n",
        "390  392  0.027017\n",
        "391  393  0.023164\n",
        "392  394  0.020795\n",
        "393  395  0.016344\n",
        "394  396  0.013931\n",
        "395  397  0.010681\n",
        "396  398  0.006814\n",
        "397  399  0.001548\n",
        "\n",
        "[398 rows x 2 columns]\n"
       ]
      },
      {
       "metadata": {},
       "output_type": "pyout",
       "prompt_number": 302,
       "text": [
        "(0, 0.5)"
       ]
      },
      {
       "metadata": {},
       "output_type": "display_data",
       "png": "[encoded data removed]",
       "text": [
        "<matplotlib.figure.Figure at 0x1115a5510>"
       ]
      }
     ],
     "prompt_number": 302
    },
    {
     "cell_type": "heading",
     "level": 6,
     "metadata": {},
     "source": [
      "The highes number of K, the lower silhoulette number"
     ]
    }
   ],
   "metadata": {}
  }
 ]
}