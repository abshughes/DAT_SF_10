{
 "metadata": {
  "name": "",
  "signature": "sha256:cd527b14d183b199cf5b33065a33f10b80d03f071c9858347889e4288e99b2af"
 },
 "nbformat": 3,
 "nbformat_minor": 0,
 "worksheets": [
  {
   "cells": [
    {
     "cell_type": "code",
     "collapsed": false,
     "input": [
      "# Function for assigning the 1 or 0 values depending on the threshold\n",
      "def result_thres(df,model,df_thres):\n",
      "    df_thres=0.6\n",
      "    #dft1['Survived']=model_lr.predict(dft1)\n",
      "    \n",
      "    df_prob=model.predict_proba(df)\n",
      "    df['Survived_prob']=df_prob[:,1]\n",
      "\n",
      "    for i in dft.index:\n",
      "        if df.ix[i, 'Survived_prob']>df_thres:\n",
      "            df.ix[i, 'Survived']=1\n",
      "        else:\n",
      "            df.ix[i, 'Survived']=0\n",
      "    return df\n",
      "\n"
     ],
     "language": "python",
     "metadata": {},
     "outputs": [],
     "prompt_number": 4
    },
    {
     "cell_type": "code",
     "collapsed": false,
     "input": [
      "def plot_roc_curve(target_test, target_predicted_proba):\n",
      "    fpr, tpr, thresholds = roc_curve(target_test, target_predicted_proba[:, 1])\n",
      "    roc_auc = auc(fpr, tpr)\n",
      "    \n",
      "    # Plot ROC curve\n",
      "    plt.plot(fpr, tpr, label='ROC curve (area = %0.3f)' % roc_auc)\n",
      "    plt.plot([0, 1], [0, 1], 'k--')  # random predictions curve\n",
      "    plt.xlim([0.0, 1.0])\n",
      "    plt.ylim([0.0, 1.0])\n",
      "    plt.xlabel('False Positive Rate or (1 - Specifity)')\n",
      "    plt.ylabel('True Positive Rate or (Sensitivity)')\n",
      "    plt.title('Receiver Operating Characteristic')\n",
      "    plt.legend(loc=\"lower right\")"
     ],
     "language": "python",
     "metadata": {},
     "outputs": [],
     "prompt_number": 3
    },
    {
     "cell_type": "code",
     "collapsed": false,
     "input": [],
     "language": "python",
     "metadata": {},
     "outputs": []
    }
   ],
   "metadata": {}
  }
 ]
}