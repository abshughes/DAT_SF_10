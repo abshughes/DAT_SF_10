{
 "metadata": {
  "name": "",
  "signature": "sha256:fb5f394374a5c92828041a1f0e00a12a3b4d94c054d39452cb7ca335a9b910b5"
 },
 "nbformat": 3,
 "nbformat_minor": 0,
 "worksheets": [
  {
   "cells": [
    {
     "cell_type": "heading",
     "level": 6,
     "metadata": {},
     "source": [
      "Importing data and packages"
     ]
    },
    {
     "cell_type": "code",
     "collapsed": false,
     "input": [
      "import pandas as pd\n",
      "import numpy as np\n",
      "import string\n",
      "import statsmodels.api as sm\n",
      "import matplotlib.pyplot as plt\n",
      "from sklearn.linear_model import LogisticRegression\n",
      "import string\n",
      "from sklearn.metrics import roc_curve\n",
      "from sklearn.metrics import auc\n",
      "from sklearn.cross_validation import train_test_split\n",
      "\n",
      "%matplotlib inline\n",
      "\n",
      "df=pd.read_csv('train.csv')\n",
      "df = df.drop([\"Ticket\"], axis=1)"
     ],
     "language": "python",
     "metadata": {},
     "outputs": [],
     "prompt_number": 397
    },
    {
     "cell_type": "heading",
     "level": 6,
     "metadata": {},
     "source": [
      "Exloring the data graphically"
     ]
    },
    {
     "cell_type": "code",
     "collapsed": false,
     "input": [
      "df.groupby('Sex').Survived.count().plot(kind='bar', color='red')\n",
      "df.groupby('Sex').Survived.sum().plot(kind='bar', color='blue')\n",
      "\n"
     ],
     "language": "python",
     "metadata": {},
     "outputs": [
      {
       "metadata": {},
       "output_type": "pyout",
       "prompt_number": 398,
       "text": [
        "<matplotlib.axes._subplots.AxesSubplot at 0x119011950>"
       ]
      },
      {
       "metadata": {},
       "output_type": "display_data",
       "png": "[encoded data removed]",
       "text": [
        "<matplotlib.figure.Figure at 0x1194f7c50>"
       ]
      }
     ],
     "prompt_number": 398
    },
    {
     "cell_type": "code",
     "collapsed": false,
     "input": [
      "df.groupby('Pclass').Survived.count().plot(kind='bar', color='red')\n",
      "df.groupby('Pclass').Survived.sum().plot(kind='bar', color='blue')"
     ],
     "language": "python",
     "metadata": {},
     "outputs": [
      {
       "metadata": {},
       "output_type": "pyout",
       "prompt_number": 399,
       "text": [
        "<matplotlib.axes._subplots.AxesSubplot at 0x11938a850>"
       ]
      },
      {
       "metadata": {},
       "output_type": "display_data",
       "png": "[encoded data removed]",
       "text": [
        "<matplotlib.figure.Figure at 0x1193e3ad0>"
       ]
      }
     ],
     "prompt_number": 399
    },
    {
     "cell_type": "code",
     "collapsed": false,
     "input": [
      "df.groupby('Embarked').Survived.count().plot(kind='bar', color='red')\n",
      "df.groupby('Embarked').Survived.sum().plot(kind='bar', color='blue')"
     ],
     "language": "python",
     "metadata": {},
     "outputs": [
      {
       "metadata": {},
       "output_type": "pyout",
       "prompt_number": 400,
       "text": [
        "<matplotlib.axes._subplots.AxesSubplot at 0x1173bf750>"
       ]
      },
      {
       "metadata": {},
       "output_type": "display_data",
       "png": "[encoded data removed]",
       "text": [
        "<matplotlib.figure.Figure at 0x11a983e10>"
       ]
      }
     ],
     "prompt_number": 400
    },
    {
     "cell_type": "heading",
     "level": 6,
     "metadata": {},
     "source": [
      "Here is a number of functions I am going to use for data cleaning and feature creation. They don't really work independently and require to be applied in certain order. But this is still better solution than to write the code all over again for a test sample. "
     ]
    },
    {
     "cell_type": "code",
     "collapsed": false,
     "input": [
      "# Function for creating the column 'Title' and filling it in with the word from 'Name' field\n",
      "def title_fill(df) :\n",
      "    for i in df.index: \n",
      "        df.ix[i, 'Title']=df.ix[i, 'Name'].partition('.')[0]\n",
      "        df.ix[i, 'Title']=df.ix[i, 'Title'].partition(',')[2]\n",
      "    return df\n",
      "\n",
      "# Function for extracting all possible titles\n",
      "def title_extract(df):\n",
      "    title_names=list(pd.unique(df['Title']).ravel())\n",
      "    return title_names\n",
      "\n",
      "# Function for creating a new column 'Martial_status'\n",
      "def title_replace(df):\n",
      "    title_names_Mr=[' Don', ' Major', ' Capt', ' Jonkheer', ' Rev', ' Col', ' Mr', ' Sir']\n",
      "    title_names_Mrs=[' the Countess', ' Mme', ' Mrs',' Lady', ' Dona']\n",
      "    title_names_Miss=[' Mlle', ' Ms',' Miss']\n",
      "    title_names_Master=[' Master']\n",
      "    for i in df.index: \n",
      "        if df.ix[i, 'Title'] in title_names_Mr:\n",
      "            df.ix[i, 'Title']='Mr'\n",
      "            df.ix[i, 'Title_mar']=1\n",
      "        elif df.ix[i, 'Title'] in title_names_Mrs:\n",
      "            df.ix[i, 'Title']='Mrs'\n",
      "            df.ix[i, 'Title_mar']=1\n",
      "        elif df.ix[i, 'Title'] in title_names_Miss:\n",
      "            df.ix[i, 'Title']='Miss'\n",
      "            df.ix[i, 'Title_mar']=0\n",
      "        elif df.ix[i, 'Title'] in title_names_Master:\n",
      "            df.ix[i, 'Title'] = 'Master'\n",
      "            df.ix[i, 'Title_mar']=0\n",
      "        elif df.ix[i, 'Title']in [' Dr', 'Dr']:\n",
      "            if df.ix[i, 'Sex']=='male':\n",
      "                df.ix[i, 'Title']='Mr'\n",
      "                df.ix[i, 'Title_mar']=1\n",
      "            else:\n",
      "                df.ix[i, 'Title']='Mrs'\n",
      "                df.ix[i, 'Title_mar']=1\n",
      "    return df\n",
      "\n",
      "# Function for replacing Sex with 0/1, Embarked with 0/1/2, dropping Embarked NaN and replacing Fare from 0 to NaN\n",
      "def other_replace(df):\n",
      "    df['Sex_01']=df['Sex'].map({'female':1, 'male':0}).astype(int)\n",
      "    df=df.dropna(subset=['Embarked'], how='any')\n",
      "    df['Embarked_01']=df['Embarked'].map({'S':0, 'C':1, 'Q':2}).astype(int)\n",
      "    df.Fare = df.Fare.map(lambda x: np.nan if x==0 else x)\n",
      "    return df\n",
      "\n",
      "# Function for imputing values into Age field\n",
      "def age_fill(df):\n",
      "    median_ages = np.zeros((2,3))\n",
      "    for j in range(0, 2):\n",
      "        for k in range (0,3):\n",
      "            median_ages[j,k] = df[(df['Title_mar'] == j) &(df['Pclass'] == k+1)]['Age'].dropna().median()       \n",
      "    for j in range(0, 2):\n",
      "        for k in range (0,3):\n",
      "            df.loc[ (df.Age.isnull()) & (df['Title_mar'] == j) & (df['Pclass']== k+1),\\\n",
      "                'Age'] = median_ages[j,k]\n",
      "    print median_ages\n",
      "    return df\n",
      "\n",
      "# Function for imputing values into Fare field\n",
      "def fare_fill(df):\n",
      "    df['Family_Size']=df['SibSp']+df['Parch']+1\n",
      "    df['Family_Size'].astype(int)\n",
      "    df['Fare_pp']=df['Fare']/df['Family_Size']\n",
      "\n",
      "    average_fares = np.zeros((3,3))\n",
      "    for j in range(0, 3):\n",
      "        for k in range (0,3):\n",
      "            average_fares[j,k] =df[(df['Embarked_01'] == j) &(df['Pclass'] == k+1)]['Fare_pp'].dropna().median()\n",
      "    for j in range(0, 3):\n",
      "        for k in range (0,3):\n",
      "            df.loc[ (df.Fare_pp.isnull()) & (df['Embarked_01']== j) & (df['Pclass'] == k+1),'Fare_pp'] = average_fares[j,k]\n",
      "    return df\n",
      "\n",
      "# Function for creating a dummies tabel for Embarked\n",
      "def embarked_dummies(df):\n",
      "    df_dummies=pd.get_dummies(df['Embarked'])\n",
      "    df=df.join(df_dummies)\n",
      "    return df\n",
      "\n",
      "# Function for creating a value 0/1 for Alone feature\n",
      "def alone_fill(df):\n",
      "    for i in df.index:\n",
      "        if df.ix[i, 'Family_Size']==1:\n",
      "            df.ix[i,'Alone']='1'\n",
      "        else:\n",
      "            df.ix[i,'Alone']='0'            \n",
      "    return df\n",
      "\n",
      "# Function for creating an Age_group (0 for Children, 1 for Adults)\n",
      "def age_group_fill(df):\n",
      "    for i in df.index:\n",
      "        if df.ix[i, 'Age']<16:\n",
      "            df.ix[i,'Age_group']='0'\n",
      "        else:\n",
      "            df.ix[i,'Age_group']='1'\n",
      "    return df\n"
     ],
     "language": "python",
     "metadata": {},
     "outputs": [],
     "prompt_number": 401
    },
    {
     "cell_type": "code",
     "collapsed": false,
     "input": [
      "df=title_fill(df)\n",
      "tn=title_extract(df)\n",
      "df=title_replace(df)\n",
      "df=other_replace(df)\n",
      "df=age_fill(df)\n",
      "df=fare_fill(df)\n",
      "df=embarked_dummies(df)\n",
      "df=alone_fill(df)\n",
      "df=age_group_fill(df)"
     ],
     "language": "python",
     "metadata": {},
     "outputs": [
      {
       "output_type": "stream",
       "stream": "stdout",
       "text": [
        "[[ 26.  18.  12.]\n",
        " [ 42.  31.  28.]]\n"
       ]
      }
     ],
     "prompt_number": 402
    },
    {
     "cell_type": "code",
     "collapsed": false,
     "input": [
      "df.groupby('Alone').Survived.count().plot(kind='bar', color='red')\n",
      "df.groupby('Alone').Survived.sum().plot(kind='bar', color='blue')"
     ],
     "language": "python",
     "metadata": {},
     "outputs": [
      {
       "metadata": {},
       "output_type": "pyout",
       "prompt_number": 403,
       "text": [
        "<matplotlib.axes._subplots.AxesSubplot at 0x119732d10>"
       ]
      },
      {
       "metadata": {},
       "output_type": "display_data",
       "png": "[encoded data removed]",
       "text": [
        "<matplotlib.figure.Figure at 0x11a7245d0>"
       ]
      }
     ],
     "prompt_number": 403
    },
    {
     "cell_type": "code",
     "collapsed": false,
     "input": [
      "df.groupby('Age_group').Survived.count().plot(kind='bar', color='red')\n",
      "df.groupby('Age_group').Survived.sum().plot(kind='bar', color='blue')"
     ],
     "language": "python",
     "metadata": {},
     "outputs": [
      {
       "metadata": {},
       "output_type": "pyout",
       "prompt_number": 404,
       "text": [
        "<matplotlib.axes._subplots.AxesSubplot at 0x117625590>"
       ]
      },
      {
       "metadata": {},
       "output_type": "display_data",
       "png": "[encoded data removed]",
       "text": [
        "<matplotlib.figure.Figure at 0x11748dfd0>"
       ]
      }
     ],
     "prompt_number": 404
    },
    {
     "cell_type": "markdown",
     "metadata": {},
     "source": [
      "%matplotlib inline\n",
      "from pandas.tools.plotting import scatter_matrix\n",
      "scat = scatter_matrix(df, figsize = (15,15))"
     ]
    },
    {
     "cell_type": "code",
     "collapsed": false,
     "input": [],
     "language": "python",
     "metadata": {},
     "outputs": [],
     "prompt_number": 404
    },
    {
     "cell_type": "heading",
     "level": 6,
     "metadata": {},
     "source": [
      "Logistic regression"
     ]
    },
    {
     "cell_type": "code",
     "collapsed": false,
     "input": [
      "features = np.array(df[['Age', 'Pclass', 'Family_Size' ,'Title_mar','Fare_pp', 'Sex_01', 'C', 'S', 'Q']])\n",
      "target = np.array(df['Survived'])\n",
      "features_norm = (features - features.mean())/features.std()"
     ],
     "language": "python",
     "metadata": {},
     "outputs": [],
     "prompt_number": 427
    },
    {
     "cell_type": "markdown",
     "metadata": {},
     "source": [
      "I just used a cross validaton function"
     ]
    },
    {
     "cell_type": "code",
     "collapsed": false,
     "input": [
      "from sklearn.cross_validation import KFold\n",
      "\n",
      "def cross_validate(X, y, classifier, k_fold) :\n",
      "\n",
      "    # derive a set of (random) training and testing indices\n",
      "    k_fold_indices = KFold(len(X), n_folds=k_fold,\n",
      "                           shuffle=True, random_state=0)\n",
      "\n",
      "    k_score_total = 0\n",
      "    # for each training and testing slices run the classifier, and score the results\n",
      "    for train_slice, test_slice in k_fold_indices :\n",
      "\n",
      "        model = classifier(X[ train_slice  ],\n",
      "                         y[ train_slice  ])\n",
      "        k_score = model.score(X[ test_slice ],\n",
      "                              y[ test_slice ])\n",
      "\n",
      "        k_score_total += k_score\n",
      "\n",
      "    # return the average accuracy\n",
      "    return k_score_total/k_fold"
     ],
     "language": "python",
     "metadata": {},
     "outputs": [],
     "prompt_number": 428
    },
    {
     "cell_type": "code",
     "collapsed": false,
     "input": [
      "model_lr = LogisticRegression(C=1).fit(features, target)\n",
      "\n",
      "#cross_validate(features, target, model_lr, 10)\n",
      "\n",
      "model_lr.coef_.ravel()\n"
     ],
     "language": "python",
     "metadata": {},
     "outputs": [
      {
       "metadata": {},
       "output_type": "pyout",
       "prompt_number": 429,
       "text": [
        "array([-0.03241715, -1.05259309, -0.19276263, -0.2594224 ,  0.00258489,\n",
        "        2.46901661,  0.87914957,  0.45987804,  0.48670343])"
       ]
      }
     ],
     "prompt_number": 429
    },
    {
     "cell_type": "heading",
     "level": 6,
     "metadata": {},
     "source": [
      "Equation output"
     ]
    },
    {
     "cell_type": "code",
     "collapsed": false,
     "input": [
      "train_feat, test_feat, train_target, test_target = train_test_split(features, target, train_size=0.5)\n",
      "target_predicted_proba = model_lr.predict_proba(test_feat)"
     ],
     "language": "python",
     "metadata": {},
     "outputs": [],
     "prompt_number": 430
    },
    {
     "cell_type": "code",
     "collapsed": false,
     "input": [
      "\n",
      "def plot_roc_curve(target_test, target_predicted_proba):\n",
      "    fpr, tpr, thresholds = roc_curve(target_test, target_predicted_proba[:, 1\n",
      "                                                                         ])\n",
      "    roc_auc = auc(fpr, tpr)\n",
      "    \n",
      "    # Plot ROC curve\n",
      "    plt.plot(fpr, tpr, label='ROC curve (area = %0.3f)' % roc_auc)\n",
      "    plt.plot([0, 1], [0, 1], 'k--')  # random predictions curve\n",
      "    plt.xlim([0.0, 1.0])\n",
      "    plt.ylim([0.0, 1.0])\n",
      "    plt.xlabel('False Positive Rate or (1 - Specifity)')\n",
      "    plt.ylabel('True Positive Rate or (Sensitivity)')\n",
      "    plt.title('Receiver Operating Characteristic')\n",
      "    plt.legend(loc=\"lower right\")\n",
      "    \n",
      "plot_roc_curve(test_target, target_predicted_proba)"
     ],
     "language": "python",
     "metadata": {},
     "outputs": [
      {
       "metadata": {},
       "output_type": "display_data",
       "png": "[encoded data removed]",
       "text": [
        "<matplotlib.figure.Figure at 0x11a07ec50>"
       ]
      }
     ],
     "prompt_number": 431
    },
    {
     "cell_type": "markdown",
     "metadata": {},
     "source": [
      "Choosing a threshod value"
     ]
    },
    {
     "cell_type": "heading",
     "level": 6,
     "metadata": {},
     "source": [
      "Importing the out of sample data (test.csv is this case)"
     ]
    },
    {
     "cell_type": "code",
     "collapsed": false,
     "input": [
      "dft=pd.read_csv('test.csv')"
     ],
     "language": "python",
     "metadata": {},
     "outputs": [],
     "prompt_number": 432
    },
    {
     "cell_type": "markdown",
     "metadata": {},
     "source": [
      "I am going to apply the same functions to clean and transform data for further input into "
     ]
    },
    {
     "cell_type": "code",
     "collapsed": false,
     "input": [
      "dft=title_fill(dft)\n",
      "tnt=title_extract(dft)\n",
      "tn=title_extract(df)\n",
      "print tnt\n",
      "# I just printed both to make sure I dont have to modify the function of replacing titles for a test dataset, and indeed -  I foulf a new one (' Dona')"
     ],
     "language": "python",
     "metadata": {},
     "outputs": [
      {
       "output_type": "stream",
       "stream": "stdout",
       "text": [
        "[' Mr', ' Mrs', ' Miss', ' Master', ' Ms', ' Col', ' Rev', ' Dr', ' Dona']\n"
       ]
      }
     ],
     "prompt_number": 433
    },
    {
     "cell_type": "code",
     "collapsed": false,
     "input": [
      "dft=title_replace(dft)\n",
      "dft=other_replace(dft)\n",
      "dft=age_fill(dft)\n",
      "dft=fare_fill(dft)\n",
      "dft=embarked_dummies(dft)\n",
      "dft=alone_fill(dft)\n",
      "dft=age_group_fill(dft)"
     ],
     "language": "python",
     "metadata": {},
     "outputs": [
      {
       "output_type": "stream",
       "stream": "stdout",
       "text": [
        "[[ 30.5  18.5  18. ]\n",
        " [ 45.   29.   26. ]]\n"
       ]
      }
     ],
     "prompt_number": 434
    },
    {
     "cell_type": "code",
     "collapsed": false,
     "input": [
      "dft1 = dft[['Age', 'Pclass', 'Family_Size' ,'Title_mar','Fare_pp', 'Sex_01', 'C', 'S', 'Q']]\n",
      "\n",
      "dft1['Survived']=model_lr.predict(dft1)\n",
      "dft2=dft[['PassengerId']].join(dft1[['Survived']])\n",
      "dft2.to_csv('Anna_Hughes_model', index_label=False, index=False)\n"
     ],
     "language": "python",
     "metadata": {},
     "outputs": [],
     "prompt_number": 436
    }
   ],
   "metadata": {}
  }
 ]
}