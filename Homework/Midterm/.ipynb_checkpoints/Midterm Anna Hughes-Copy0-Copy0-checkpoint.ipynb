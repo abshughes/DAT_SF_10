{
 "metadata": {
  "name": "",
  "signature": "sha256:6436725df949d9cb396bbf23f81c6ead4efed062bb798aca9156c1ef76f0ce0e"
 },
 "nbformat": 3,
 "nbformat_minor": 0,
 "worksheets": [
  {
   "cells": [
    {
     "cell_type": "heading",
     "level": 6,
     "metadata": {},
     "source": [
      "Importing data and packages"
     ]
    },
    {
     "cell_type": "code",
     "collapsed": false,
     "input": [
      "import pandas as pd\n",
      "import numpy as np\n",
      "import string\n",
      "import statsmodels.api as sm\n",
      "import matplotlib.pyplot as plt\n",
      "\n",
      "%matplotlib inline\n",
      "\n",
      "df=pd.read_csv('train.csv')"
     ],
     "language": "python",
     "metadata": {},
     "outputs": [],
     "prompt_number": 109
    },
    {
     "cell_type": "heading",
     "level": 6,
     "metadata": {},
     "source": [
      "Extracting Titles from Names"
     ]
    },
    {
     "cell_type": "code",
     "collapsed": false,
     "input": [
      "for i in df.index: \n",
      "    df.ix[i, 'Title']=df.ix[i, 'Name'].partition('.')[0]\n",
      "    df.ix[i, 'Title']=df.ix[i, 'Title'].partition(',')[2]\n",
      "Title_names=list(pd.unique(df['Title'].values.ravel()))\n",
      "print Title_names"
     ],
     "language": "python",
     "metadata": {},
     "outputs": [
      {
       "output_type": "stream",
       "stream": "stdout",
       "text": [
        "[' Mr', ' Mrs', ' Miss', ' Master', ' Don', ' Rev', ' Dr', ' Mme', ' Ms', ' Major', ' Lady', ' Sir', ' Mlle', ' Col', ' Capt', ' the Countess', ' Jonkheer']\n"
       ]
      }
     ],
     "prompt_number": 110
    },
    {
     "cell_type": "markdown",
     "metadata": {},
     "source": [
      "Replacing titles with codes\n",
      "0 for male, 1 for female (Title_sex)\n",
      "0 for unmarried, 1 for married (Title_age)\n",
      "There are 4 titles left Mr, Mrs, Miss and Master"
     ]
    },
    {
     "cell_type": "code",
     "collapsed": false,
     "input": [
      "for i in df.index: \n",
      "    if df.ix[i, 'Title'] in [' Don', ' Major', ' Capt', ' Jonkheer', ' Rev', ' Col', ' Mr', ' Sir', 'Mr']:\n",
      "        df.ix[i, 'Title']='Mr'\n",
      "        df.ix[i, 'Title_sex']=0\n",
      "        df.ix[i, 'Title_age']=1\n",
      "    elif df.ix[i, 'Title'] in [' the Countess', ' Mme', ' Mrs',' Lady', 'Mrs']:\n",
      "        df.ix[i, 'Title']='Mrs'\n",
      "        df.ix[i, 'Title_sex']=1\n",
      "        df.ix[i, 'Title_age']=1\n",
      "    elif df.ix[i, 'Title'] in [' Mlle', ' Ms',' Miss', 'Miss']:\n",
      "        df.ix[i, 'Title']='Miss'\n",
      "        df.ix[i, 'Title_sex']=1\n",
      "        df.ix[i, 'Title_age']=0\n",
      "    elif df.ix[i, 'Title'] in [' Master', 'Master']:\n",
      "        df.ix[i, 'Title'] = 'Master'\n",
      "        df.ix[i, 'Title_sex']=0\n",
      "        df.ix[i, 'Title_age']=0\n",
      "    elif df.ix[i, 'Title']in [' Dr', 'Dr']:\n",
      "        if df.ix[i, 'Sex']=='male':\n",
      "            df.ix[i, 'Title']='Mr'\n",
      "            df.ix[i, 'Title_sex']=0\n",
      "            df.ix[i, 'Title_age']=1\n",
      "        else:\n",
      "            df.ix[i, 'Title']='Mrs'\n",
      "            df.ix[i, 'Title_sex']=1\n",
      "            df.ix[i, 'Title_age']=1\n",
      "            \n",
      "Title_names=list(pd.unique(df['Title'].values.ravel()))\n",
      "print Title_names"
     ],
     "language": "python",
     "metadata": {},
     "outputs": [
      {
       "output_type": "stream",
       "stream": "stdout",
       "text": [
        "['Mr', 'Mrs', 'Miss', 'Master']\n"
       ]
      }
     ],
     "prompt_number": 112
    },
    {
     "cell_type": "markdown",
     "metadata": {},
     "source": [
      "Here I am going to replace Sex with a 0/1 value (0 male, 1 female)"
     ]
    },
    {
     "cell_type": "code",
     "collapsed": false,
     "input": [
      "df['Sex_01']=df['Sex'].map({'female':1, 'male':0}).astype(int)"
     ],
     "language": "python",
     "metadata": {},
     "outputs": [],
     "prompt_number": 113
    },
    {
     "cell_type": "markdown",
     "metadata": {},
     "source": [
      "Checking whether the initial Sex values corresponds to the one derived from Title"
     ]
    },
    {
     "cell_type": "code",
     "collapsed": false,
     "input": [
      "for i in df.index: \n",
      "    if df.ix[i,'Sex_01']<>df.ix[i,'Title_sex']:\n",
      "        print df.ix[i,'Name']\n",
      "# nothing is printed because all data is consistent"
     ],
     "language": "python",
     "metadata": {},
     "outputs": [],
     "prompt_number": 114
    },
    {
     "cell_type": "markdown",
     "metadata": {},
     "source": [
      "I will use 3 dimensions to calculate the average age for. \n",
      "1. Sex (equal to title_sex)\n",
      "2. Title_age\n",
      "3. Cabin class"
     ]
    },
    {
     "cell_type": "code",
     "collapsed": false,
     "input": [
      "median_ages = np.zeros((2,2,3))\n",
      "for i in range(0, 2):\n",
      "    for j in range(0, 2):\n",
      "        for k in range (0,3):\n",
      "            median_ages[i,j,k] = df[(df['Title_sex'] == i) &(df['Title_age'] == j) &(df['Pclass'] == k+1)]['Age'].dropna().median()\n",
      "median_ages[:,0,:]"
     ],
     "language": "python",
     "metadata": {},
     "outputs": [
      {
       "metadata": {},
       "output_type": "pyout",
       "prompt_number": 115,
       "text": [
        "array([[  4.,   1.,   4.],\n",
        "       [ 30.,  24.,  18.]])"
       ]
      }
     ],
     "prompt_number": 115
    },
    {
     "cell_type": "code",
     "collapsed": false,
     "input": [
      "for i in range(0, 2):\n",
      "    for j in range(0, 2):\n",
      "        for k in range (0,3):\n",
      "            df.loc[ (df.Age.isnull()) & (df['Title_sex'] == i)&(df['Title_age'] == j) & (df.Pclass == k+1),\\\n",
      "                'Age'] = median_ages[i,j,k]"
     ],
     "language": "python",
     "metadata": {},
     "outputs": [],
     "prompt_number": 116
    },
    {
     "cell_type": "markdown",
     "metadata": {},
     "source": [
      "Dropping records with missing values for 'embarked'"
     ]
    },
    {
     "cell_type": "code",
     "collapsed": false,
     "input": [
      "df=df.dropna(subset=['Embarked'], how='any')"
     ],
     "language": "python",
     "metadata": {},
     "outputs": [],
     "prompt_number": 117
    },
    {
     "cell_type": "heading",
     "level": 6,
     "metadata": {},
     "source": [
      "Fare preliminary clean"
     ]
    },
    {
     "cell_type": "code",
     "collapsed": false,
     "input": [
      "df['Family_Size']=df['SibSp']+df['Parch']+1\n",
      "df['Fare_pp']=df['Fare']/df['Family_Size']\n",
      "df.Fare = df.Fare.map(lambda x: np.nan if x==0 else x)"
     ],
     "language": "python",
     "metadata": {},
     "outputs": [],
     "prompt_number": 118
    },
    {
     "cell_type": "heading",
     "level": 6,
     "metadata": {},
     "source": [
      "Cabins"
     ]
    },
    {
     "cell_type": "markdown",
     "metadata": {},
     "source": [
      "I am going to explore the data about cabins (there are only around 200 entries for this data)\n",
      "Common sense is that that "
     ]
    },
    {
     "cell_type": "code",
     "collapsed": false,
     "input": [
      "cabin_names=list(pd.unique(df['Cabin'].values.ravel()))\n",
      "df['Cabin']=df['Cabin'].astype(str)\n",
      "# df.info()\n",
      "# print cabin_names, len(cabin_names)\n",
      "\n",
      "for i in df.index: \n",
      "    if df.ix[i, 'Cabin']<>'nan':\n",
      "        df.ix[i, 'Deck']=df.ix[i, 'Cabin'][0]\n",
      "    else:\n",
      "        df.ix[i, 'Cabin']=np.nan\n",
      "        df.ix[i, 'Deck']=np.nan\n",
      "deck_names=list(pd.unique(df['Deck'].values.ravel()))\n",
      "df_cabins=df.dropna(subset=['Deck'], how='any')\n",
      "cabin_names=list(pd.unique(df['Deck'].values.ravel()))\n",
      "print cabin_names"
     ],
     "language": "python",
     "metadata": {},
     "outputs": [
      {
       "output_type": "stream",
       "stream": "stdout",
       "text": [
        "[nan, 'C', 'E', 'G', 'D', 'A', 'B', 'F', 'T']\n"
       ]
      }
     ],
     "prompt_number": 119
    },
    {
     "cell_type": "code",
     "collapsed": false,
     "input": [
      "df['Deck_01']=df['Deck'].map({'A':0, 'B':1,'C':2, 'D':3, 'E':4, 'F':5, 'G':6, 'T':7}).astype(float)\n",
      "df['Embarked_01']=df['Embarked'].map({'S':0, 'C':1,'Q':2}).astype(int)\n",
      "\n",
      "#median_ages = np.zeros((2,2,3))\n",
      "#for i in range(0, 2):\n",
      "#    for j in range(0, 2):\n",
      "#        for k in range (0,3):\n",
      "#            median_ages[i,j,k] = df[(df['Title_sex'] == i) &(df['Title_age'] == j) &(df['Pclass'] == k+1)]['Age'].dropna().median()\n",
      "#median_ages[:,0,:]"
     ],
     "language": "python",
     "metadata": {},
     "outputs": [],
     "prompt_number": 124
    },
    {
     "cell_type": "code",
     "collapsed": false,
     "input": [
      "average_fares1 = np.zeros((3,3))\n",
      "for j in range(0, 3):\n",
      "    for k in range (0,3):\n",
      "        average_fares1[j,k] =df[(df['Embarked_01'] == j) &(df['Pclass'] == k+1)]['Fare'].dropna().median()\n",
      "average_fares1[:, :]"
     ],
     "language": "python",
     "metadata": {},
     "outputs": [
      {
       "metadata": {},
       "output_type": "pyout",
       "prompt_number": 125,
       "text": [
        "array([[ 52.    ,  14.5   ,   8.05  ],\n",
        "       [ 78.2667,  24.    ,   7.8958],\n",
        "       [ 90.    ,  12.35  ,   7.75  ]])"
       ]
      }
     ],
     "prompt_number": 125
    },
    {
     "cell_type": "markdown",
     "metadata": {},
     "source": [
      "Pclass is a good predictor for the Fare, port on embarkation - not really"
     ]
    },
    {
     "cell_type": "code",
     "collapsed": false,
     "input": [
      "average_fares2 = np.zeros(3)\n",
      "for i in range(0, 3):\n",
      "    average_fares2[i] =df[df['Pclass'] == i+1]['Fare'].dropna().median()\n",
      "average_fares2"
     ],
     "language": "python",
     "metadata": {},
     "outputs": [
      {
       "metadata": {},
       "output_type": "pyout",
       "prompt_number": 126,
       "text": [
        "array([ 58.6896,  15.0229,   8.05  ])"
       ]
      }
     ],
     "prompt_number": 126
    },
    {
     "cell_type": "code",
     "collapsed": false,
     "input": [
      "for i in range(0, 2):\n",
      "    df.loc[ (df.Fare.isnull()) & (df['Pclass'] == i),\\\n",
      "                'Fare'] = average_fares2[i]"
     ],
     "language": "python",
     "metadata": {},
     "outputs": [],
     "prompt_number": 127
    },
    {
     "cell_type": "raw",
     "metadata": {},
     "source": [
      "%matplotlib inline\n",
      "from pandas.tools.plotting import scatter_matrix\n",
      "scat = scatter_matrix(df, figsize = (10,10))"
     ]
    },
    {
     "cell_type": "heading",
     "level": 6,
     "metadata": {},
     "source": [
      "Doing PCA to get an inout into logistic regression"
     ]
    },
    {
     "cell_type": "code",
     "collapsed": false,
     "input": [
      "X=df['Pclass', 'Sex', 'Age', 'SibSp', 'Parch','Fare' ]\n",
      "y=df['Survived']\n",
      "print y\n",
      "from sklearn.decomposition import PCA\n",
      "pca = PCA(n_components=10)\n",
      "X = pca.fit(X).transform(X)"
     ],
     "language": "python",
     "metadata": {},
     "outputs": []
    },
    {
     "cell_type": "heading",
     "level": 6,
     "metadata": {},
     "source": [
      "Logistic regression"
     ]
    },
    {
     "cell_type": "code",
     "collapsed": false,
     "input": [
      "features = df['Age']\n",
      "target = df['Survived']\n"
     ],
     "language": "python",
     "metadata": {},
     "outputs": [],
     "prompt_number": 129
    },
    {
     "cell_type": "raw",
     "metadata": {},
     "source": []
    },
    {
     "cell_type": "code",
     "collapsed": false,
     "input": [
      "df_cabins_dummies=pd.get_dummies(df_cabins['Cabin_letter'])\n",
      "df_cabins=df_cabins.join(df_cabins_dummies)\n",
      "df_cabins.head()"
     ],
     "language": "python",
     "metadata": {},
     "outputs": [
      {
       "html": [
        "<div style=\"max-height:1000px;max-width:1500px;overflow:auto;\">\n",
        "<table border=\"1\" class=\"dataframe\">\n",
        "  <thead>\n",
        "    <tr style=\"text-align: right;\">\n",
        "      <th></th>\n",
        "      <th>PassengerId</th>\n",
        "      <th>Survived</th>\n",
        "      <th>Pclass</th>\n",
        "      <th>Name</th>\n",
        "      <th>Sex</th>\n",
        "      <th>Age</th>\n",
        "      <th>SibSp</th>\n",
        "      <th>Parch</th>\n",
        "      <th>Ticket</th>\n",
        "      <th>Fare</th>\n",
        "      <th>...</th>\n",
        "      <th>Cabin_letter</th>\n",
        "      <th>Cabin_number</th>\n",
        "      <th>A</th>\n",
        "      <th>B</th>\n",
        "      <th>C</th>\n",
        "      <th>D</th>\n",
        "      <th>E</th>\n",
        "      <th>F</th>\n",
        "      <th>G</th>\n",
        "      <th>T</th>\n",
        "    </tr>\n",
        "  </thead>\n",
        "  <tbody>\n",
        "    <tr>\n",
        "      <th>1 </th>\n",
        "      <td>  2</td>\n",
        "      <td> 1</td>\n",
        "      <td> 1</td>\n",
        "      <td> Cumings, Mrs. John Bradley (Florence Briggs Th...</td>\n",
        "      <td> female</td>\n",
        "      <td> 38</td>\n",
        "      <td> 1</td>\n",
        "      <td> 0</td>\n",
        "      <td> PC 17599</td>\n",
        "      <td> 71.2833</td>\n",
        "      <td>...</td>\n",
        "      <td> C</td>\n",
        "      <td>  85</td>\n",
        "      <td> 0</td>\n",
        "      <td> 0</td>\n",
        "      <td> 1</td>\n",
        "      <td> 0</td>\n",
        "      <td> 0</td>\n",
        "      <td> 0</td>\n",
        "      <td> 0</td>\n",
        "      <td> 0</td>\n",
        "    </tr>\n",
        "    <tr>\n",
        "      <th>3 </th>\n",
        "      <td>  4</td>\n",
        "      <td> 1</td>\n",
        "      <td> 1</td>\n",
        "      <td>      Futrelle, Mrs. Jacques Heath (Lily May Peel)</td>\n",
        "      <td> female</td>\n",
        "      <td> 35</td>\n",
        "      <td> 1</td>\n",
        "      <td> 0</td>\n",
        "      <td>   113803</td>\n",
        "      <td> 53.1000</td>\n",
        "      <td>...</td>\n",
        "      <td> C</td>\n",
        "      <td> 123</td>\n",
        "      <td> 0</td>\n",
        "      <td> 0</td>\n",
        "      <td> 1</td>\n",
        "      <td> 0</td>\n",
        "      <td> 0</td>\n",
        "      <td> 0</td>\n",
        "      <td> 0</td>\n",
        "      <td> 0</td>\n",
        "    </tr>\n",
        "    <tr>\n",
        "      <th>6 </th>\n",
        "      <td>  7</td>\n",
        "      <td> 0</td>\n",
        "      <td> 1</td>\n",
        "      <td>                           McCarthy, Mr. Timothy J</td>\n",
        "      <td>   male</td>\n",
        "      <td> 54</td>\n",
        "      <td> 0</td>\n",
        "      <td> 0</td>\n",
        "      <td>    17463</td>\n",
        "      <td> 51.8625</td>\n",
        "      <td>...</td>\n",
        "      <td> E</td>\n",
        "      <td>  46</td>\n",
        "      <td> 0</td>\n",
        "      <td> 0</td>\n",
        "      <td> 0</td>\n",
        "      <td> 0</td>\n",
        "      <td> 1</td>\n",
        "      <td> 0</td>\n",
        "      <td> 0</td>\n",
        "      <td> 0</td>\n",
        "    </tr>\n",
        "    <tr>\n",
        "      <th>10</th>\n",
        "      <td> 11</td>\n",
        "      <td> 1</td>\n",
        "      <td> 3</td>\n",
        "      <td>                   Sandstrom, Miss. Marguerite Rut</td>\n",
        "      <td> female</td>\n",
        "      <td>  4</td>\n",
        "      <td> 1</td>\n",
        "      <td> 1</td>\n",
        "      <td>  PP 9549</td>\n",
        "      <td> 16.7000</td>\n",
        "      <td>...</td>\n",
        "      <td> G</td>\n",
        "      <td>   6</td>\n",
        "      <td> 0</td>\n",
        "      <td> 0</td>\n",
        "      <td> 0</td>\n",
        "      <td> 0</td>\n",
        "      <td> 0</td>\n",
        "      <td> 0</td>\n",
        "      <td> 1</td>\n",
        "      <td> 0</td>\n",
        "    </tr>\n",
        "    <tr>\n",
        "      <th>11</th>\n",
        "      <td> 12</td>\n",
        "      <td> 1</td>\n",
        "      <td> 1</td>\n",
        "      <td>                          Bonnell, Miss. Elizabeth</td>\n",
        "      <td> female</td>\n",
        "      <td> 58</td>\n",
        "      <td> 0</td>\n",
        "      <td> 0</td>\n",
        "      <td>   113783</td>\n",
        "      <td> 26.5500</td>\n",
        "      <td>...</td>\n",
        "      <td> C</td>\n",
        "      <td> 103</td>\n",
        "      <td> 0</td>\n",
        "      <td> 0</td>\n",
        "      <td> 1</td>\n",
        "      <td> 0</td>\n",
        "      <td> 0</td>\n",
        "      <td> 0</td>\n",
        "      <td> 0</td>\n",
        "      <td> 0</td>\n",
        "    </tr>\n",
        "  </tbody>\n",
        "</table>\n",
        "<p>5 rows \u00d7 24 columns</p>\n",
        "</div>"
       ],
       "metadata": {},
       "output_type": "pyout",
       "prompt_number": 403,
       "text": [
        "    PassengerId  Survived  Pclass  \\\n",
        "1             2         1       1   \n",
        "3             4         1       1   \n",
        "6             7         0       1   \n",
        "10           11         1       3   \n",
        "11           12         1       1   \n",
        "\n",
        "                                                 Name     Sex  Age  SibSp  \\\n",
        "1   Cumings, Mrs. John Bradley (Florence Briggs Th...  female   38      1   \n",
        "3        Futrelle, Mrs. Jacques Heath (Lily May Peel)  female   35      1   \n",
        "6                             McCarthy, Mr. Timothy J    male   54      0   \n",
        "10                    Sandstrom, Miss. Marguerite Rut  female    4      1   \n",
        "11                           Bonnell, Miss. Elizabeth  female   58      0   \n",
        "\n",
        "    Parch    Ticket     Fare   ...    Cabin_letter Cabin_number  A  B  C  D  \\\n",
        "1       0  PC 17599  71.2833   ...               C           85  0  0  1  0   \n",
        "3       0    113803  53.1000   ...               C          123  0  0  1  0   \n",
        "6       0     17463  51.8625   ...               E           46  0  0  0  0   \n",
        "10      1   PP 9549  16.7000   ...               G            6  0  0  0  0   \n",
        "11      0    113783  26.5500   ...               C          103  0  0  1  0   \n",
        "\n",
        "    E  F  G  T  \n",
        "1   0  0  0  0  \n",
        "3   0  0  0  0  \n",
        "6   1  0  0  0  \n",
        "10  0  0  1  0  \n",
        "11  0  0  0  0  \n",
        "\n",
        "[5 rows x 24 columns]"
       ]
      }
     ],
     "prompt_number": 403
    },
    {
     "cell_type": "code",
     "collapsed": false,
     "input": [
      "import statsmodels.api as sm\n",
      "\n",
      "df_cabins=df_cabins.dropna(how='any')\n",
      "print len(df_cabins)\n",
      "\n",
      "x1 = df_cabins[['A','B', 'C', 'D', 'E', 'F', 'G', 'T']].values\n",
      "y1 = df_cabins['Survived'].values\n",
      "\n",
      "X1 = sm.add_constant(x1, prepend=True)\n",
      "results = sm.OLS(y1, X1).fit()\n",
      "results.summary()\n",
      "\n"
     ],
     "language": "python",
     "metadata": {},
     "outputs": [
      {
       "output_type": "stream",
       "stream": "stdout",
       "text": [
        "183\n"
       ]
      },
      {
       "html": [
        "<table class=\"simpletable\">\n",
        "<caption>OLS Regression Results</caption>\n",
        "<tr>\n",
        "  <th>Dep. Variable:</th>            <td>y</td>        <th>  R-squared:         </th> <td>   0.038</td>\n",
        "</tr>\n",
        "<tr>\n",
        "  <th>Model:</th>                   <td>OLS</td>       <th>  Adj. R-squared:    </th> <td>  -0.001</td>\n",
        "</tr>\n",
        "<tr>\n",
        "  <th>Method:</th>             <td>Least Squares</td>  <th>  F-statistic:       </th> <td>  0.9823</td>\n",
        "</tr>\n",
        "<tr>\n",
        "  <th>Date:</th>             <td>Mon, 10 Nov 2014</td> <th>  Prob (F-statistic):</th>  <td> 0.446</td> \n",
        "</tr>\n",
        "<tr>\n",
        "  <th>Time:</th>                 <td>21:32:27</td>     <th>  Log-Likelihood:    </th> <td> -117.75</td>\n",
        "</tr>\n",
        "<tr>\n",
        "  <th>No. Observations:</th>      <td>   183</td>      <th>  AIC:               </th> <td>   251.5</td>\n",
        "</tr>\n",
        "<tr>\n",
        "  <th>Df Residuals:</th>          <td>   175</td>      <th>  BIC:               </th> <td>   277.2</td>\n",
        "</tr>\n",
        "<tr>\n",
        "  <th>Df Model:</th>              <td>     7</td>      <th>                     </th>     <td> </td>   \n",
        "</tr>\n",
        "</table>\n",
        "<table class=\"simpletable\">\n",
        "<tr>\n",
        "    <td></td>       <th>coef</th>     <th>std err</th>      <th>t</th>      <th>P>|t|</th> <th>[95.0% Conf. Int.]</th> \n",
        "</tr>\n",
        "<tr>\n",
        "  <th>const</th> <td>    0.5030</td> <td>    0.065</td> <td>    7.766</td> <td> 0.000</td> <td>    0.375     0.631</td>\n",
        "</tr>\n",
        "<tr>\n",
        "  <th>x1</th>    <td>    0.0803</td> <td>    0.136</td> <td>    0.589</td> <td> 0.556</td> <td>   -0.189     0.349</td>\n",
        "</tr>\n",
        "<tr>\n",
        "  <th>x2</th>    <td>    0.2411</td> <td>    0.091</td> <td>    2.662</td> <td> 0.008</td> <td>    0.062     0.420</td>\n",
        "</tr>\n",
        "<tr>\n",
        "  <th>x3</th>    <td>    0.0852</td> <td>    0.087</td> <td>    0.979</td> <td> 0.329</td> <td>   -0.087     0.257</td>\n",
        "</tr>\n",
        "<tr>\n",
        "  <th>x4</th>    <td>    0.2389</td> <td>    0.099</td> <td>    2.418</td> <td> 0.017</td> <td>    0.044     0.434</td>\n",
        "</tr>\n",
        "<tr>\n",
        "  <th>x5</th>    <td>    0.2303</td> <td>    0.100</td> <td>    2.309</td> <td> 0.022</td> <td>    0.033     0.427</td>\n",
        "</tr>\n",
        "<tr>\n",
        "  <th>x6</th>    <td>    0.1333</td> <td>    0.141</td> <td>    0.946</td> <td> 0.346</td> <td>   -0.145     0.412</td>\n",
        "</tr>\n",
        "<tr>\n",
        "  <th>x7</th>    <td>   -0.0030</td> <td>    0.218</td> <td>   -0.014</td> <td> 0.989</td> <td>   -0.432     0.426</td>\n",
        "</tr>\n",
        "<tr>\n",
        "  <th>x8</th>    <td>   -0.5030</td> <td>    0.420</td> <td>   -1.197</td> <td> 0.233</td> <td>   -1.333     0.326</td>\n",
        "</tr>\n",
        "</table>\n",
        "<table class=\"simpletable\">\n",
        "<tr>\n",
        "  <th>Omnibus:</th>       <td>217.679</td> <th>  Durbin-Watson:     </th> <td>   1.978</td>\n",
        "</tr>\n",
        "<tr>\n",
        "  <th>Prob(Omnibus):</th> <td> 0.000</td>  <th>  Jarque-Bera (JB):  </th> <td>  29.760</td>\n",
        "</tr>\n",
        "<tr>\n",
        "  <th>Skew:</th>          <td>-0.726</td>  <th>  Prob(JB):          </th> <td>3.45e-07</td>\n",
        "</tr>\n",
        "<tr>\n",
        "  <th>Kurtosis:</th>      <td> 1.660</td>  <th>  Cond. No.          </th> <td>1.91e+08</td>\n",
        "</tr>\n",
        "</table>"
       ],
       "metadata": {},
       "output_type": "pyout",
       "prompt_number": 410,
       "text": [
        "<class 'statsmodels.iolib.summary.Summary'>\n",
        "\"\"\"\n",
        "                            OLS Regression Results                            \n",
        "==============================================================================\n",
        "Dep. Variable:                      y   R-squared:                       0.038\n",
        "Model:                            OLS   Adj. R-squared:                 -0.001\n",
        "Method:                 Least Squares   F-statistic:                    0.9823\n",
        "Date:                Mon, 10 Nov 2014   Prob (F-statistic):              0.446\n",
        "Time:                        21:32:27   Log-Likelihood:                -117.75\n",
        "No. Observations:                 183   AIC:                             251.5\n",
        "Df Residuals:                     175   BIC:                             277.2\n",
        "Df Model:                           7                                         \n",
        "==============================================================================\n",
        "                 coef    std err          t      P>|t|      [95.0% Conf. Int.]\n",
        "------------------------------------------------------------------------------\n",
        "const          0.5030      0.065      7.766      0.000         0.375     0.631\n",
        "x1             0.0803      0.136      0.589      0.556        -0.189     0.349\n",
        "x2             0.2411      0.091      2.662      0.008         0.062     0.420\n",
        "x3             0.0852      0.087      0.979      0.329        -0.087     0.257\n",
        "x4             0.2389      0.099      2.418      0.017         0.044     0.434\n",
        "x5             0.2303      0.100      2.309      0.022         0.033     0.427\n",
        "x6             0.1333      0.141      0.946      0.346        -0.145     0.412\n",
        "x7            -0.0030      0.218     -0.014      0.989        -0.432     0.426\n",
        "x8            -0.5030      0.420     -1.197      0.233        -1.333     0.326\n",
        "==============================================================================\n",
        "Omnibus:                      217.679   Durbin-Watson:                   1.978\n",
        "Prob(Omnibus):                  0.000   Jarque-Bera (JB):               29.760\n",
        "Skew:                          -0.726   Prob(JB):                     3.45e-07\n",
        "Kurtosis:                       1.660   Cond. No.                     1.91e+08\n",
        "==============================================================================\n",
        "\n",
        "Warnings:\n",
        "[1] The smallest eigenvalue is 6.01e-15. This might indicate that there are\n",
        "strong multicollinearity problems or that the design matrix is singular.\n",
        "\"\"\""
       ]
      }
     ],
     "prompt_number": 410
    },
    {
     "cell_type": "markdown",
     "metadata": {},
     "source": [
      "I decided to replace missing values with ___ because ___\n",
      "Think statistically\n",
      "\n",
      "We have _ values in overall and ___ of them are Nan values. Thowing them away is not an option. \n",
      "I am going ot set the missing values to the mean values of similar items.\n",
      "Another motivation to use means is that the techniques we are going to use are ___\n",
      "\n",
      "Naive Bayes: the probabiliy of a feature given to a class"
     ]
    },
    {
     "cell_type": "heading",
     "level": 6,
     "metadata": {},
     "source": [
      "2. Create and run a logistic regression on the Titanic data to predict the survival of passengers."
     ]
    },
    {
     "cell_type": "heading",
     "level": 6,
     "metadata": {},
     "source": [
      "a. Make sure your model results are reproducible by the instructor team, given any random aspects to your code / steps."
     ]
    },
    {
     "cell_type": "markdown",
     "metadata": {},
     "source": [
      "Involve such constructions as create Table is exists etc\n",
      "Any directories"
     ]
    },
    {
     "cell_type": "heading",
     "level": 6,
     "metadata": {},
     "source": [
      "b. Show your model output. Include coefficient values."
     ]
    },
    {
     "cell_type": "markdown",
     "metadata": {},
     "source": [
      "Output as an equation'\n",
      "Output as a python function\n"
     ]
    },
    {
     "cell_type": "heading",
     "level": 6,
     "metadata": {},
     "source": [
      "c. Explain which features are predictive for this logistic regression and,\n",
      "intuitively, why you think this may be so. Describe your thinking / logic\n",
      "in words. It is not sufficient to cite output statistics."
     ]
    },
    {
     "cell_type": "markdown",
     "metadata": {},
     "source": [
      "explain the results/story telling/include nice visuals"
     ]
    },
    {
     "cell_type": "heading",
     "level": 6,
     "metadata": {},
     "source": [
      "d. Make sure that you can push new data points through your model to get\n",
      "regression output. We will be providing a test set for this purpose."
     ]
    },
    {
     "cell_type": "markdown",
     "metadata": {},
     "source": [
      "test/train split + out of sample data (include room for it)"
     ]
    },
    {
     "cell_type": "heading",
     "level": 6,
     "metadata": {},
     "source": [
      "3. Implement cross-validation for your logistic regression. Pick the number of folds. Explain your choice."
     ]
    },
    {
     "cell_type": "code",
     "collapsed": false,
     "input": [
      "The number of folds will depend on the cross validation score"
     ],
     "language": "python",
     "metadata": {},
     "outputs": []
    },
    {
     "cell_type": "heading",
     "level": 6,
     "metadata": {},
     "source": [
      "4. Create an ROC curve for your logistic regression by varying the threshold value for survival."
     ]
    },
    {
     "cell_type": "markdown",
     "metadata": {},
     "source": [
      "The Confusion matrix can exist for more than two different states. But ROC curve looks nive because its tow dimentional"
     ]
    },
    {
     "cell_type": "heading",
     "level": 6,
     "metadata": {},
     "source": [
      "a. Plot this ROC curve visually."
     ]
    },
    {
     "cell_type": "markdown",
     "metadata": {},
     "source": [
      "ROC curve is showing the sensitivity and specificity scores\n",
      "ROC: Receiver Operating Characteristic\n"
     ]
    },
    {
     "cell_type": "heading",
     "level": 6,
     "metadata": {},
     "source": [
      "b. What is the AUC for your model?"
     ]
    },
    {
     "cell_type": "markdown",
     "metadata": {},
     "source": [
      "what is the goal of the model? Which types of errors are accepted and which are not?"
     ]
    },
    {
     "cell_type": "markdown",
     "metadata": {},
     "source": [
      "AUC - Area under curve"
     ]
    },
    {
     "cell_type": "heading",
     "level": 6,
     "metadata": {},
     "source": [
      "c. Explain why the model has achieved this level of accuracy/precision."
     ]
    },
    {
     "cell_type": "markdown",
     "metadata": {},
     "source": [
      "hmmm"
     ]
    },
    {
     "cell_type": "heading",
     "level": 6,
     "metadata": {},
     "source": [
      "d. Explain how you could improve these metrics, as potential next steps."
     ]
    },
    {
     "cell_type": "markdown",
     "metadata": {},
     "source": [
      "hmmm"
     ]
    },
    {
     "cell_type": "heading",
     "level": 6,
     "metadata": {},
     "source": [
      "e. Armed with this knowledge, what threshold value would you use? Why?\n",
      "Describe your thinking."
     ]
    },
    {
     "cell_type": "markdown",
     "metadata": {},
     "source": [
      "hmm"
     ]
    },
    {
     "cell_type": "code",
     "collapsed": false,
     "input": [],
     "language": "python",
     "metadata": {},
     "outputs": []
    }
   ],
   "metadata": {}
  }
 ]
}