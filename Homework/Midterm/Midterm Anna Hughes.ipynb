{
 "metadata": {
  "name": "",
  "signature": "sha256:a3440152f602fae2404f4299c850c044eda8281caf2c34a0eaf2cf5b98b1f519"
 },
 "nbformat": 3,
 "nbformat_minor": 0,
 "worksheets": [
  {
   "cells": [
    {
     "cell_type": "heading",
     "level": 6,
     "metadata": {},
     "source": [
      "1. Several passengers are missing data points for age. Impute the missing values so that there are no \u201cNaN\u201d values for age as inputs to your model. Explain what value or values you used for the missing age data and why you used those values. (Hint: Think statistically here. Explain your thinking and choices.)"
     ]
    },
    {
     "cell_type": "markdown",
     "metadata": {},
     "source": [
      "I decided to replace missing values with ___ because ___\n",
      "Think statistically\n",
      "\n",
      "We have _ values in overall and ___ of them are Nan values. Thowing them away is not an option. \n",
      "I am going ot set the missing values to the mean values of similar items.\n",
      "Another motivation to use means is that the techniques we are going to use are ___\n",
      "\n",
      "Naive Bayes: the probabiliy of a feature given to a class"
     ]
    },
    {
     "cell_type": "heading",
     "level": 6,
     "metadata": {},
     "source": [
      "2. Create and run a logistic regression on the Titanic data to predict the survival of passengers."
     ]
    },
    {
     "cell_type": "heading",
     "level": 6,
     "metadata": {},
     "source": [
      "a. Make sure your model results are reproducible by the instructor team, given any random aspects to your code / steps."
     ]
    },
    {
     "cell_type": "markdown",
     "metadata": {},
     "source": [
      "Involve such constructions as create Table is exists etc\n",
      "Any directories"
     ]
    },
    {
     "cell_type": "heading",
     "level": 6,
     "metadata": {},
     "source": [
      "b. Show your model output. Include coefficient values."
     ]
    },
    {
     "cell_type": "markdown",
     "metadata": {},
     "source": [
      "Output as an equation'\n",
      "Output as a python function\n"
     ]
    },
    {
     "cell_type": "heading",
     "level": 6,
     "metadata": {},
     "source": [
      "c. Explain which features are predictive for this logistic regression and,\n",
      "intuitively, why you think this may be so. Describe your thinking / logic\n",
      "in words. It is not sufficient to cite output statistics."
     ]
    },
    {
     "cell_type": "markdown",
     "metadata": {},
     "source": [
      "explain the results/story telling/include nice visuals"
     ]
    },
    {
     "cell_type": "heading",
     "level": 6,
     "metadata": {},
     "source": [
      "d. Make sure that you can push new data points through your model to get\n",
      "regression output. We will be providing a test set for this purpose."
     ]
    },
    {
     "cell_type": "markdown",
     "metadata": {},
     "source": [
      "test/train split + out of sample data (include room for it)"
     ]
    },
    {
     "cell_type": "heading",
     "level": 6,
     "metadata": {},
     "source": [
      "3. Implement cross-validation for your logistic regression. Pick the number of folds. Explain your choice."
     ]
    },
    {
     "cell_type": "code",
     "collapsed": false,
     "input": [
      "The number of folds will depend on the cross validation score"
     ],
     "language": "python",
     "metadata": {},
     "outputs": []
    },
    {
     "cell_type": "heading",
     "level": 6,
     "metadata": {},
     "source": [
      "4. Create an ROC curve for your logistic regression by varying the threshold value for survival."
     ]
    },
    {
     "cell_type": "markdown",
     "metadata": {},
     "source": [
      "The Confusion matrix can exist for more than two different states. But ROC curve looks nive because its tow dimentional"
     ]
    },
    {
     "cell_type": "heading",
     "level": 6,
     "metadata": {},
     "source": [
      "a. Plot this ROC curve visually."
     ]
    },
    {
     "cell_type": "markdown",
     "metadata": {},
     "source": [
      "ROC curve is showing the sensitivity and specificity scores\n",
      "ROC: Receiver Operating Characteristic\n"
     ]
    },
    {
     "cell_type": "heading",
     "level": 6,
     "metadata": {},
     "source": [
      "b. What is the AUC for your model?"
     ]
    },
    {
     "cell_type": "markdown",
     "metadata": {},
     "source": [
      "what is the goal of the model? Which types of errors are accepted and which are not?"
     ]
    },
    {
     "cell_type": "markdown",
     "metadata": {},
     "source": [
      "AUC - Area under curve"
     ]
    },
    {
     "cell_type": "heading",
     "level": 6,
     "metadata": {},
     "source": [
      "c. Explain why the model has achieved this level of accuracy/precision."
     ]
    },
    {
     "cell_type": "markdown",
     "metadata": {},
     "source": [
      "hmmm"
     ]
    },
    {
     "cell_type": "heading",
     "level": 6,
     "metadata": {},
     "source": [
      "d. Explain how you could improve these metrics, as potential next steps."
     ]
    },
    {
     "cell_type": "markdown",
     "metadata": {},
     "source": [
      "hmmm"
     ]
    },
    {
     "cell_type": "heading",
     "level": 6,
     "metadata": {},
     "source": [
      "e. Armed with this knowledge, what threshold value would you use? Why?\n",
      "Describe your thinking."
     ]
    },
    {
     "cell_type": "markdown",
     "metadata": {},
     "source": [
      "hmm"
     ]
    },
    {
     "cell_type": "code",
     "collapsed": false,
     "input": [],
     "language": "python",
     "metadata": {},
     "outputs": []
    }
   ],
   "metadata": {}
  }
 ]
}