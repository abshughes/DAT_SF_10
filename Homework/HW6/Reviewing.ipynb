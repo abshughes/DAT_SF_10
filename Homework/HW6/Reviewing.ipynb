{
 "metadata": {
  "name": "",
  "signature": "sha256:dfd2eead9e0f3913c673164f1678698db87e647ed4ceb0de3104f5f16b6cbbde"
 },
 "nbformat": 3,
 "nbformat_minor": 0,
 "worksheets": [
  {
   "cells": [
    {
     "cell_type": "code",
     "collapsed": false,
     "input": [
      "import pandas as pd\n",
      "import numpy as np\n",
      "import pylab as pl\n",
      "from sklearn.cross_validation import train_test_split\n",
      "from sklearn.cross_validation import KFold\n",
      "from sklearn import tree\n",
      "\n",
      "pd.set_option('display.max_rows',100)\n",
      "pd.set_option('display.max_columns',60)"
     ],
     "language": "python",
     "metadata": {},
     "outputs": [],
     "prompt_number": 1
    },
    {
     "cell_type": "code",
     "collapsed": false,
     "input": [
      "def cross_validate(X, y, classifier, k_fold) :\n",
      "\n",
      "    # derive a set of (random) training and testing indices\n",
      "    k_fold_indices = KFold(len(X), n_folds=k_fold,\n",
      "                           shuffle=True, random_state=0)\n",
      "\n",
      "    k_score_total = 0\n",
      "    # for each training and testing slices run the classifier, and score the results\n",
      "    for train_slice, test_slice in k_fold_indices :\n",
      "\n",
      "        model = classifier(X[ train_slice  ],\n",
      "                         y[ train_slice  ])\n",
      "\n",
      "        k_score = model.score(X[ test_slice ],\n",
      "                              y[ test_slice ])\n",
      "\n",
      "        k_score_total += k_score\n",
      "\n",
      "    # return the average accuracy\n",
      "    return k_score_total/k_fold"
     ],
     "language": "python",
     "metadata": {},
     "outputs": [],
     "prompt_number": 2
    },
    {
     "cell_type": "code",
     "collapsed": false,
     "input": [
      "#Read in the data\n",
      "data = pd.read_csv('bank.csv',delimiter = ';')"
     ],
     "language": "python",
     "metadata": {},
     "outputs": [],
     "prompt_number": 3
    },
    {
     "cell_type": "code",
     "collapsed": false,
     "input": [
      "\n",
      "#Create two data frames for numeric and class labels\n",
      "data_c = data[['job','marital','education','default','housing','loan','contact','month','poutcome','y']]\n",
      "data_int = data_int = data[['age','balance','day','duration','campaign','pdays','previous']]"
     ],
     "language": "python",
     "metadata": {},
     "outputs": [],
     "prompt_number": 4
    },
    {
     "cell_type": "code",
     "collapsed": false,
     "input": [
      "#Create a list of dictionaries. Each dictionary in the list corresponds \n",
      "#to a key value pair for each colun in data_c\n",
      "lod = []\n",
      "for i in data_c.columns:\n",
      "   dc = dict(list(enumerate(data_c[i].unique())))\n",
      "   lod.append({y:x for x,y in dc.iteritems()})\n",
      "lod"
     ],
     "language": "python",
     "metadata": {},
     "outputs": [
      {
       "metadata": {},
       "output_type": "pyout",
       "prompt_number": 5,
       "text": [
        "[{'admin.': 7,\n",
        "  'blue-collar': 3,\n",
        "  'entrepreneur': 6,\n",
        "  'housemaid': 9,\n",
        "  'management': 2,\n",
        "  'retired': 10,\n",
        "  'self-employed': 4,\n",
        "  'services': 1,\n",
        "  'student': 8,\n",
        "  'technician': 5,\n",
        "  'unemployed': 0,\n",
        "  'unknown': 11},\n",
        " {'divorced': 2, 'married': 0, 'single': 1},\n",
        " {'primary': 0, 'secondary': 1, 'tertiary': 2, 'unknown': 3},\n",
        " {'no': 0, 'yes': 1},\n",
        " {'no': 0, 'yes': 1},\n",
        " {'no': 0, 'yes': 1},\n",
        " {'cellular': 0, 'telephone': 2, 'unknown': 1},\n",
        " {'apr': 2,\n",
        "  'aug': 5,\n",
        "  'dec': 11,\n",
        "  'feb': 4,\n",
        "  'jan': 6,\n",
        "  'jul': 7,\n",
        "  'jun': 3,\n",
        "  'mar': 10,\n",
        "  'may': 1,\n",
        "  'nov': 8,\n",
        "  'oct': 0,\n",
        "  'sep': 9},\n",
        " {'failure': 1, 'other': 2, 'success': 3, 'unknown': 0},\n",
        " {'no': 0, 'yes': 1}]"
       ]
      }
     ],
     "prompt_number": 5
    },
    {
     "cell_type": "code",
     "collapsed": false,
     "input": [
      "\n",
      "#Replace columns in data_c with dictionary values to assign a  number\n",
      "#for each unique key\n",
      "for i in range(0,len(data_c.columns)):\n",
      "    data_c.ix[:,i].replace(lod[i], inplace = True)\n",
      "data_c.head()"
     ],
     "language": "python",
     "metadata": {},
     "outputs": [
      {
       "html": [
        "<div style=\"max-height:1000px;max-width:1500px;overflow:auto;\">\n",
        "<table border=\"1\" class=\"dataframe\">\n",
        "  <thead>\n",
        "    <tr style=\"text-align: right;\">\n",
        "      <th></th>\n",
        "      <th>job</th>\n",
        "      <th>marital</th>\n",
        "      <th>education</th>\n",
        "      <th>default</th>\n",
        "      <th>housing</th>\n",
        "      <th>loan</th>\n",
        "      <th>contact</th>\n",
        "      <th>month</th>\n",
        "      <th>poutcome</th>\n",
        "      <th>y</th>\n",
        "    </tr>\n",
        "  </thead>\n",
        "  <tbody>\n",
        "    <tr>\n",
        "      <th>0</th>\n",
        "      <td> 0</td>\n",
        "      <td> 0</td>\n",
        "      <td> 0</td>\n",
        "      <td> 0</td>\n",
        "      <td> 0</td>\n",
        "      <td> 0</td>\n",
        "      <td> 0</td>\n",
        "      <td> 0</td>\n",
        "      <td> 0</td>\n",
        "      <td> 0</td>\n",
        "    </tr>\n",
        "    <tr>\n",
        "      <th>1</th>\n",
        "      <td> 1</td>\n",
        "      <td> 0</td>\n",
        "      <td> 1</td>\n",
        "      <td> 0</td>\n",
        "      <td> 1</td>\n",
        "      <td> 1</td>\n",
        "      <td> 0</td>\n",
        "      <td> 1</td>\n",
        "      <td> 1</td>\n",
        "      <td> 0</td>\n",
        "    </tr>\n",
        "    <tr>\n",
        "      <th>2</th>\n",
        "      <td> 2</td>\n",
        "      <td> 1</td>\n",
        "      <td> 2</td>\n",
        "      <td> 0</td>\n",
        "      <td> 1</td>\n",
        "      <td> 0</td>\n",
        "      <td> 0</td>\n",
        "      <td> 2</td>\n",
        "      <td> 1</td>\n",
        "      <td> 0</td>\n",
        "    </tr>\n",
        "    <tr>\n",
        "      <th>3</th>\n",
        "      <td> 2</td>\n",
        "      <td> 0</td>\n",
        "      <td> 2</td>\n",
        "      <td> 0</td>\n",
        "      <td> 1</td>\n",
        "      <td> 1</td>\n",
        "      <td> 1</td>\n",
        "      <td> 3</td>\n",
        "      <td> 0</td>\n",
        "      <td> 0</td>\n",
        "    </tr>\n",
        "    <tr>\n",
        "      <th>4</th>\n",
        "      <td> 3</td>\n",
        "      <td> 0</td>\n",
        "      <td> 1</td>\n",
        "      <td> 0</td>\n",
        "      <td> 1</td>\n",
        "      <td> 0</td>\n",
        "      <td> 1</td>\n",
        "      <td> 1</td>\n",
        "      <td> 0</td>\n",
        "      <td> 0</td>\n",
        "    </tr>\n",
        "  </tbody>\n",
        "</table>\n",
        "</div>"
       ],
       "metadata": {},
       "output_type": "pyout",
       "prompt_number": 6,
       "text": [
        "   job  marital  education  default  housing  loan  contact  month  poutcome  \\\n",
        "0    0        0          0        0        0     0        0      0         0   \n",
        "1    1        0          1        0        1     1        0      1         1   \n",
        "2    2        1          2        0        1     0        0      2         1   \n",
        "3    2        0          2        0        1     1        1      3         0   \n",
        "4    3        0          1        0        1     0        1      1         0   \n",
        "\n",
        "   y  \n",
        "0  0  \n",
        "1  0  \n",
        "2  0  \n",
        "3  0  \n",
        "4  0  "
       ]
      }
     ],
     "prompt_number": 6
    },
    {
     "cell_type": "code",
     "collapsed": false,
     "input": [
      "#Implement OneHotEncoder\n",
      "from sklearn.preprocessing import OneHotEncoder\n",
      "enc = OneHotEncoder()\n",
      "#Create data_c without classifier information y\n",
      "to_enc = data_c.ix[:,:-1]\n",
      "#fit encoder with data\n",
      "enc.fit(to_enc)\n",
      "print \"Encoder Values\", enc.n_values_\n",
      "print \"Encoder Indicies\", enc.feature_indices_\n",
      "enc"
     ],
     "language": "python",
     "metadata": {},
     "outputs": [
      {
       "output_type": "stream",
       "stream": "stdout",
       "text": [
        "Encoder Values [12  3  4  2  2  2  3 12  4]\n",
        "Encoder Indicies [ 0 12 15 19 21 23 25 28 40 44]\n"
       ]
      },
      {
       "metadata": {},
       "output_type": "pyout",
       "prompt_number": 9,
       "text": [
        "OneHotEncoder(categorical_features='all', dtype=<type 'float'>,\n",
        "       n_values='auto', sparse=True)"
       ]
      }
     ],
     "prompt_number": 9
    },
    {
     "cell_type": "code",
     "collapsed": false,
     "input": [
      "\n",
      "#Create a list of encoder values for each row in to_enc(to encode)\n",
      "enc_list = []\n",
      "for i in np.array(to_enc):\n",
      "    enc_list.append(enc.transform([list(i)]).toarray())\n",
      "\n",
      "print \"Example of first element of enc_list:\"\n",
      "print enc_list[0]"
     ],
     "language": "python",
     "metadata": {},
     "outputs": [
      {
       "output_type": "stream",
       "stream": "stdout",
       "text": [
        "Example of first element of enc_list:\n",
        "[[ 1.  0.  0.  0.  0.  0.  0.  0.  0.  0.  0.  0.  1.  0.  0.  1.  0.  0.\n",
        "   0.  1.  0.  1.  0.  1.  0.  1.  0.  0.  1.  0.  0.  0.  0.  0.  0.  0.\n",
        "   0.  0.  0.  0.  1.  0.  0.  0.]]\n"
       ]
      }
     ],
     "prompt_number": 11
    },
    {
     "cell_type": "code",
     "collapsed": false,
     "input": [],
     "language": "python",
     "metadata": {},
     "outputs": []
    }
   ],
   "metadata": {}
  }
 ]
}