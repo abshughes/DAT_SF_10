{
 "metadata": {
  "name": "",
  "signature": "sha256:b66a2232941f5bfcda3e659a766c5fcd90181690441fe4dba407a79fa55974b8"
 },
 "nbformat": 3,
 "nbformat_minor": 0,
 "worksheets": [
  {
   "cells": [
    {
     "cell_type": "code",
     "collapsed": false,
     "input": [
      "import pandas as pd\n",
      "import numpy as np"
     ],
     "language": "python",
     "metadata": {},
     "outputs": [],
     "prompt_number": 318
    },
    {
     "cell_type": "code",
     "collapsed": false,
     "input": [
      "df=pd.read_csv('bank.csv', delimiter=\";\")\n",
      "df.head()"
     ],
     "language": "python",
     "metadata": {},
     "outputs": [
      {
       "html": [
        "<div style=\"max-height:1000px;max-width:1500px;overflow:auto;\">\n",
        "<table border=\"1\" class=\"dataframe\">\n",
        "  <thead>\n",
        "    <tr style=\"text-align: right;\">\n",
        "      <th></th>\n",
        "      <th>age</th>\n",
        "      <th>job</th>\n",
        "      <th>marital</th>\n",
        "      <th>education</th>\n",
        "      <th>default</th>\n",
        "      <th>balance</th>\n",
        "      <th>housing</th>\n",
        "      <th>loan</th>\n",
        "      <th>contact</th>\n",
        "      <th>day</th>\n",
        "      <th>month</th>\n",
        "      <th>duration</th>\n",
        "      <th>campaign</th>\n",
        "      <th>pdays</th>\n",
        "      <th>previous</th>\n",
        "      <th>poutcome</th>\n",
        "      <th>y</th>\n",
        "    </tr>\n",
        "  </thead>\n",
        "  <tbody>\n",
        "    <tr>\n",
        "      <th>0</th>\n",
        "      <td> 30</td>\n",
        "      <td>  unemployed</td>\n",
        "      <td> married</td>\n",
        "      <td>   primary</td>\n",
        "      <td> no</td>\n",
        "      <td> 1787</td>\n",
        "      <td>  no</td>\n",
        "      <td>  no</td>\n",
        "      <td> cellular</td>\n",
        "      <td> 19</td>\n",
        "      <td> oct</td>\n",
        "      <td>  79</td>\n",
        "      <td> 1</td>\n",
        "      <td>  -1</td>\n",
        "      <td> 0</td>\n",
        "      <td> unknown</td>\n",
        "      <td> no</td>\n",
        "    </tr>\n",
        "    <tr>\n",
        "      <th>1</th>\n",
        "      <td> 33</td>\n",
        "      <td>    services</td>\n",
        "      <td> married</td>\n",
        "      <td> secondary</td>\n",
        "      <td> no</td>\n",
        "      <td> 4789</td>\n",
        "      <td> yes</td>\n",
        "      <td> yes</td>\n",
        "      <td> cellular</td>\n",
        "      <td> 11</td>\n",
        "      <td> may</td>\n",
        "      <td> 220</td>\n",
        "      <td> 1</td>\n",
        "      <td> 339</td>\n",
        "      <td> 4</td>\n",
        "      <td> failure</td>\n",
        "      <td> no</td>\n",
        "    </tr>\n",
        "    <tr>\n",
        "      <th>2</th>\n",
        "      <td> 35</td>\n",
        "      <td>  management</td>\n",
        "      <td>  single</td>\n",
        "      <td>  tertiary</td>\n",
        "      <td> no</td>\n",
        "      <td> 1350</td>\n",
        "      <td> yes</td>\n",
        "      <td>  no</td>\n",
        "      <td> cellular</td>\n",
        "      <td> 16</td>\n",
        "      <td> apr</td>\n",
        "      <td> 185</td>\n",
        "      <td> 1</td>\n",
        "      <td> 330</td>\n",
        "      <td> 1</td>\n",
        "      <td> failure</td>\n",
        "      <td> no</td>\n",
        "    </tr>\n",
        "    <tr>\n",
        "      <th>3</th>\n",
        "      <td> 30</td>\n",
        "      <td>  management</td>\n",
        "      <td> married</td>\n",
        "      <td>  tertiary</td>\n",
        "      <td> no</td>\n",
        "      <td> 1476</td>\n",
        "      <td> yes</td>\n",
        "      <td> yes</td>\n",
        "      <td>  unknown</td>\n",
        "      <td>  3</td>\n",
        "      <td> jun</td>\n",
        "      <td> 199</td>\n",
        "      <td> 4</td>\n",
        "      <td>  -1</td>\n",
        "      <td> 0</td>\n",
        "      <td> unknown</td>\n",
        "      <td> no</td>\n",
        "    </tr>\n",
        "    <tr>\n",
        "      <th>4</th>\n",
        "      <td> 59</td>\n",
        "      <td> blue-collar</td>\n",
        "      <td> married</td>\n",
        "      <td> secondary</td>\n",
        "      <td> no</td>\n",
        "      <td>    0</td>\n",
        "      <td> yes</td>\n",
        "      <td>  no</td>\n",
        "      <td>  unknown</td>\n",
        "      <td>  5</td>\n",
        "      <td> may</td>\n",
        "      <td> 226</td>\n",
        "      <td> 1</td>\n",
        "      <td>  -1</td>\n",
        "      <td> 0</td>\n",
        "      <td> unknown</td>\n",
        "      <td> no</td>\n",
        "    </tr>\n",
        "  </tbody>\n",
        "</table>\n",
        "</div>"
       ],
       "metadata": {},
       "output_type": "pyout",
       "prompt_number": 319,
       "text": [
        "   age          job  marital  education default  balance housing loan  \\\n",
        "0   30   unemployed  married    primary      no     1787      no   no   \n",
        "1   33     services  married  secondary      no     4789     yes  yes   \n",
        "2   35   management   single   tertiary      no     1350     yes   no   \n",
        "3   30   management  married   tertiary      no     1476     yes  yes   \n",
        "4   59  blue-collar  married  secondary      no        0     yes   no   \n",
        "\n",
        "    contact  day month  duration  campaign  pdays  previous poutcome   y  \n",
        "0  cellular   19   oct        79         1     -1         0  unknown  no  \n",
        "1  cellular   11   may       220         1    339         4  failure  no  \n",
        "2  cellular   16   apr       185         1    330         1  failure  no  \n",
        "3   unknown    3   jun       199         4     -1         0  unknown  no  \n",
        "4   unknown    5   may       226         1     -1         0  unknown  no  "
       ]
      }
     ],
     "prompt_number": 319
    },
    {
     "cell_type": "heading",
     "level": 6,
     "metadata": {},
     "source": [
      "1. Use the bank.csv to explore the data. Observe the features: are they numbers? Are they strings? Are they binary? Are they continuous?"
     ]
    },
    {
     "cell_type": "code",
     "collapsed": false,
     "input": [
      "df.info()"
     ],
     "language": "python",
     "metadata": {},
     "outputs": [
      {
       "output_type": "stream",
       "stream": "stdout",
       "text": [
        "<class 'pandas.core.frame.DataFrame'>\n",
        "Int64Index: 4521 entries, 0 to 4520\n",
        "Data columns (total 17 columns):\n",
        "age          4521 non-null int64\n",
        "job          4521 non-null object\n",
        "marital      4521 non-null object\n",
        "education    4521 non-null object\n",
        "default      4521 non-null object\n",
        "balance      4521 non-null int64\n",
        "housing      4521 non-null object\n",
        "loan         4521 non-null object\n",
        "contact      4521 non-null object\n",
        "day          4521 non-null int64\n",
        "month        4521 non-null object\n",
        "duration     4521 non-null int64\n",
        "campaign     4521 non-null int64\n",
        "pdays        4521 non-null int64\n",
        "previous     4521 non-null int64\n",
        "poutcome     4521 non-null object\n",
        "y            4521 non-null object\n",
        "dtypes: int64(7), object(10)"
       ]
      }
     ],
     "prompt_number": 320
    },
    {
     "cell_type": "code",
     "collapsed": false,
     "input": [
      "unique_age=list(pd.unique(df['age'].values.ravel()))\n",
      "print 'List of unique values for age are = %s' % unique_age\n",
      "print 'All of them are integer numbers, and they are continious variables'"
     ],
     "language": "python",
     "metadata": {},
     "outputs": [
      {
       "output_type": "stream",
       "stream": "stdout",
       "text": [
        "List of unique values for age are = [30, 33, 35, 59, 36, 39, 41, 43, 20, 31, 40, 56, 37, 25, 38, 42, 44, 26, 55, 67, 53, 68, 32, 49, 78, 23, 52, 34, 61, 45, 48, 57, 54, 63, 51, 29, 50, 27, 60, 28, 21, 58, 22, 46, 24, 77, 75, 47, 70, 65, 64, 62, 66, 19, 81, 83, 80, 71, 72, 69, 79, 73, 86, 74, 76, 87, 84]\n",
        "All of them are integer numbers, and they are continious variables\n"
       ]
      }
     ],
     "prompt_number": 321
    },
    {
     "cell_type": "code",
     "collapsed": false,
     "input": [
      "unique_job=list(pd.unique(df['job'].values.ravel()))\n",
      "print 'List of unique values for job are = %s' % unique_job\n",
      "print 'All of them are strings'"
     ],
     "language": "python",
     "metadata": {},
     "outputs": [
      {
       "output_type": "stream",
       "stream": "stdout",
       "text": [
        "List of unique values for job are = ['unemployed', 'services', 'management', 'blue-collar', 'self-employed', 'technician', 'entrepreneur', 'admin.', 'student', 'housemaid', 'retired', 'unknown']\n",
        "All of them are strings\n"
       ]
      }
     ],
     "prompt_number": 322
    },
    {
     "cell_type": "code",
     "collapsed": false,
     "input": [
      "unique_marital=list(pd.unique(df['marital'].values.ravel()))\n",
      "print 'List of unique values for marital are = %s' % unique_marital\n",
      "print 'All of them are strings'"
     ],
     "language": "python",
     "metadata": {},
     "outputs": [
      {
       "output_type": "stream",
       "stream": "stdout",
       "text": [
        "List of unique values for marital are = ['married', 'single', 'divorced']\n",
        "All of them are strings\n"
       ]
      }
     ],
     "prompt_number": 323
    },
    {
     "cell_type": "code",
     "collapsed": false,
     "input": [
      "unique_education=list(pd.unique(df['education'].values.ravel()))\n",
      "print 'List of unique values for education are = %s' % unique_education\n",
      "print 'All of them are strings'"
     ],
     "language": "python",
     "metadata": {},
     "outputs": [
      {
       "output_type": "stream",
       "stream": "stdout",
       "text": [
        "List of unique values for education are = ['primary', 'secondary', 'tertiary', 'unknown']\n",
        "All of them are strings\n"
       ]
      }
     ],
     "prompt_number": 324
    },
    {
     "cell_type": "code",
     "collapsed": false,
     "input": [
      "unique_default=list(pd.unique(df['default'].values.ravel()))\n",
      "print 'List of unique values for default are = %s' % unique_default\n",
      "print 'All of them are strings which can be converted into binary data'"
     ],
     "language": "python",
     "metadata": {},
     "outputs": [
      {
       "output_type": "stream",
       "stream": "stdout",
       "text": [
        "List of unique values for default are = ['no', 'yes']\n",
        "All of them are strings which can be converted into binary data\n"
       ]
      }
     ],
     "prompt_number": 325
    },
    {
     "cell_type": "code",
     "collapsed": false,
     "input": [
      "unique_balance=list(pd.unique(df['balance'].values.ravel()))\n",
      "print 'List of unique values for default are = %s' % unique_balance\n",
      "print 'All of them are integers, and this data in continious'"
     ],
     "language": "python",
     "metadata": {},
     "outputs": [
      {
       "output_type": "stream",
       "stream": "stdout",
       "text": [
        "List of unique values for default are = [1787, 4789, 1350, 1476, 0, 747, 307, 147, 221, -88, 9374, 264, 1109, 502, 360, 194, 4073, 2317, -221, 132, 16, 106, 93, 543, 5883, 627, 696, 784, 105, 4189, 171, 42, 2536, 1235, 1811, 229, 2089, 3935, 363, 11971, 553, 1117, 396, 2204, 872, 145, -849, 4629, 844, 228, 50, 1539, 2231, 3064, 82, 2155, 101, -516, 415, 5887, 1355, 16873, 203, 338, 444, 2, 6248, 412, 344, 3222, 174, 591, 388, 219, 451, 5, 177, 657, 1315, 1466, 879, 293, 424, 1831, 111, 455, -195, 3616, 14093, 1567, 5426, 261, 2843, 406, 493, 5996, 3777, 524, 574, 427, 483, 3391, 2488, 1517, 217, 22, 331, 505, 1808, 4111, 52, 25, 1890, 419, 2693, -231, -55, 462, 119, 586, 4659, 168, -715, 769, 428, -970, 6313, 948, 1877, 874, 323, 1906, 1152, 179, 391, 89, 442, -249, 8104, 501, 308, 602, 273, 1641, 20, 4590, -256, 978, 80, 2104, 499, 1269, 310, 1143, 2980, 37, 1031, 9009, -465, 5181, 176, 1699, 172, 6979, 6, -62, 1972, 899, 21, 23, -1206, 215, 1372, 1981, 9216, 39, 5563, 1, 782, 3771, 992, 1526, 2658, 2030, 1599, -196, 1333, 9149, -350, 432, 11494, -253, 372, 1410, 975, 305, 400, -22, 4030, 365, 204, 1691, -204, 359, 123, 142, 3571, 33, 3096, 3576, 206, 7082, 1634, 4012, 3762, -247, 606, -189, 484, 395, 2349, 410, 3401, 222, 989, 7190, 482, 209, 5803, 624, 883, 1516, -988, 902, 1007, 12186, 4, 11219, 5776, 593, 1148, 3561, 63, 260, 2269, 1060, -220, 49, 69, 4108, 480, 4994, 3681, -701, -311, 759, 4531, 1840, 345, 1287, 353, 205, 687, 1147, 4286, 605, 8545, 559, 760, 1317, 182, 276, 2971, 1064, 1783, -67, 1199, 214, 6699, 1760, 1150, 121, 828, 244, 447, 1084, 10924, 832, 478, 3950, 504, 1602, 2587, 2303, 1660, 32, 278, 318, 271, 3196, 4099, 2572, 339, 2039, 5450, 780, 8436, 11262, 946, 497, 55, -140, -379, -396, 733, 393, 7290, 468, 3705, 9676, 1328, 8, 61, 6613, 302, 1005, 109, 1240, 2923, 43, 288, 613, 6101, 7685, 4515, 517, 148, -285, 887, 3098, 744, 130, 438, 322, 186, 3810, 4380, 755, 2070, 999, 167, 1322, 1076, 1216, 876, 342, 950, 973, 3825, 2366, 542, 995, 259, 619, 644, 4303, 239, 275, 1221, 816, 1222, 2363, 2262, 4508, -402, 1577, 34, 795, 117, 5462, 402, 641, 36, 383, 283, 3102, 889, -370, -606, 10378, 1313, 8969, 15, 4608, 666, 452, 149, 7802, 1453, 1480, 715, 237, 694, 136, -404, 779, 1187, 826, 991, 1796, 7317, 4943, 258, 515, 12607, 13, 103, 3872, 296, 315, 820, 195, 108, -381, 757, 691, 1925, 5207, 665, 738, 233, -839, 5799, 1033, 66, 2567, 1584, 76, 663, 3455, 1054, 1529, 920, 3696, 59, 157, 2465, 12437, 378, 211, -228, 2747, 1932, 11269, 1314, 2275, 1304, 720, 2914, 1464, 11555, -302, 2497, -339, 56, 3611, 459, 242, 1138, 1319, 67, 937, -558, 361, 227, 236, -53, 192, 38, 518, 334, 1048, 660, 1034, 201, 189, -49, 1413, 54, 12519, 2881, 88, 1020, 1594, 72, 14, 81, 231, 1161, -45, 1570, 7050, 3704, 6619, -84, 1509, 1134, 146, 9449, 374, 2764, 8023, 289, 1382, 280, 2195, 703, 1178, 2763, 890, 548, 272, 6269, 178, 252, 23663, 1343, 225, 2538, 57, -117, 324, 621, 138, 4063, 11084, 73, 1281, 64, 60, 133, 3706, 251, 4153, 985, 1550, 7708, -12, 6483, 3339, 599, 28, 1430, 35, 6000, 340, 3, 445, 705, 1354, 8894, 429, 14752, 102, 1790, 15311, -635, 115, 10786, 498, 1045, 810, -162, 1010, 509, 2929, 3071, 153, 1146, 1092, 3463, 1158, 26, 566, 1855, 3250, 1633, 3334, 4020, -41, 2643, 352, 65, 1949, 739, 1167, 1136, 817, 1128, 450, 414, 1052, 1022, 343, 1944, -32, 1781, 350, 159, 865, -230, 3924, 764, 511, 4348, 3016, 279, 1405, 908, 162, 792, 1012, 643, 254, -1212, 2125, 629, -202, -216, 466, -75, 456, 77, -244, 1209, 58, 421, 112, 13669, 1429, 794, 1957, 454, 882, 714, 1996, 163, 3190, 1772, -151, 7066, 4798, -298, 439, 1927, 671, -932, 4366, 4900, 976, -148, 113, -105, -1680, -461, 144, 309, 866, 489, 8167, -255, 3671, 636, 141, 150, 839, 26965, 716, 2485, 15030, 11303, 595, 19358, 183, 255, 94, 9269, 1206, 5291, 1407, 793, 10287, 5235, 409, -459, 198, 99, 3485, -139, 952, 1427, 1017, -29, 9, 4040, 1259, 18, -76, 16353, -63, 7353, 3913, 1097, 6102, -119, 2993, 3575, 1072, 2904, 86, 8312, 1451, 1066, 3163, 888, 979, 2662, 84, 5920, 3276, -51, 3315, 196, 552, 2347, 3723, 3143, 6411, 1909, 3873, 1013, 262, 3217, 5436, 2067, 134, 3021, 3412, 1291, 79, 2013, 1016, 604, 525, 964, 314, 1370, 673, -342, 291, 1242, 355, 10758, 8494, 841, 470, 520, -454, 994, 5346, 1243, 2357, 1044, 1069, 266, -70, 25824, 538, 534, 2323, 1852, 2647, 2767, 9720, 1613, 2903, 299, 285, 1337, -388, 11, -535, 787, 3343, 3904, 736, 1390, 808, 1122, -568, 1165, -905, 740, 8262, 7108, 1049, 726, 594, 2206, 1988, 202, 667, 768, 74, 661, 3025, 751, 416, -502, -218, 300, 2096, 5278, 7289, 1665, 851, 2885, 137, 1239, -10, 2789, 3897, 487, 5110, -411, 4820, 4937, 725, 5403, 4089, 188, 2998, 610, 243, 877, 2817, 4567, 127, 1482, 3052, 3875, -337, 366, 998, 246, -182, 446, 1173, 5957, 369, 1934, 284, 1373, 62, 977, 2893, 1897, 5514, 1193, 2729, 230, 317, -470, 4579, 5106, 126, -33, 430, -6, 2569, 475, 706, 1825, 185, 4415, 679, 320, 2988, 1270, 654, 5173, 6016, 3694, 1640, 10177, 490, 2576, 598, 15459, 2508, 640, 2370, 160, 75, 4902, -79, 1341, 1521, 131, -632, 116, 4229, 549, 298, 579, 1467, -11, 90, 2403, 868, 653, 218, 5050, 741, 1050, -56, -98, 4667, 541, 7744, 895, -129, 158, 122, 411, -97, -217, 5037, 2232, 913, 2581, 639, 849, 386, 1218, 2603, -921, 607, 1091, 743, 41, 1116, 5845, 329, 494, 1519, 2685, -14, 5673, 1459, 625, 867, 8304, 151, -583, 1784, 3134, -346, 1623, 17, 2008, 91, 1027, 5801, 852, -584, 97, 628, 311, 1564, 856, -888, 226, 413, 710, 1233, 1499, 425, 1021, 781, 1448, -194, 1014, 2597, 2627, -319, -296, 169, 556, -386, 379, 9121, 951, 368, 4170, -335, 3165, 85, 603, 4424, 2610, 3234, 631, 341, 316, 507, 912, 2524, 9019, 265, 1520, 578, 2253, 1171, 4738, 467, 495, 358, 292, 7343, -563, 351, 13494, 846, 1574, -28, 2927, 1238, 301, 1388, 4665, 638, 1224, 1103, 3748, 955, 1893, -423, 2987, 433, 756, 2727, 1766, 124, 4103, 70, 1172, 7546, 620, 8647, 27733, 1008, 6421, 443, 5060, -124, 3945, 197, 837, -94, 1743, 635, -113, -7, 375, 936, 1415, 3638, -99, 19, 286, 1663, 238, 2178, 871, 1025, 417, 3992, 2749, 1721, 2171, 4760, 2979, 690, 1210, 634, 47, 1100, 1544, 6145, 245, 1998, 3990, 1562, 3432, 1339, 7727, 728, 2418, 2934, 181, 2023, 7702, 464, 104, 1041, 539, 2558, 3516, 5639, 100, 1306, 815, 191, 2815, 3672, 1572, 385, 29, 6217, 14533, -2, 4684, 1149, 8004, 1019, 1297, 2378, 71, 1188, 8139, 249, 689, -183, 3451, 1746, 897, 821, 699, 4968, 1211, 426, 376, 12, 330, 2273, 608, 356, -306, 306, -312, 669, 1164, -191, 2237, 4761, 655, 569, 1666, 263, -405, 1062, 809, -278, 3238, 2442, 1798, 7, 3283, 2960, 486, 5958, 304, 118, 960, 2185, 2190, 3732, 704, 1191, -47, 2398, 630, 235, 1910, 3172, 407, 2058, 51, 282, 2139, -469, 825, 3232, 1598, 83, 1445, -336, 44, 2887, 1992, 297, 1094, -1, 347, 1253, 4565, 7124, 17555, 5172, 15520, 13711, 1533, -219, 1175, 1477, 399, -435, 2830, 125, 45, 1987, 857, 15834, 3370, 6290, 4075, 373, -101, 1375, 180, 175, 381, 10, 4958, 21244, 156, 473, 1819, 4374, 253, 774, -59, -81, -3, 1680, 7179, 247, 8295, 95, 2240, 1295, 4143, 2646, 618, 434, 622, 290, 1230, 923, 1503, -679, 773, 10788, -406, -887, 4157, 1386, 2211, -495, 27359, 440, 135, -735, 18347, -72, 1205, 656, 87, 3228, 1361, 7813, -27, 1139, 7195, -477, 1026, 3921, 980, -179, 2552, 1729, -300, 4785, -329, 4657, 3472, 4365, 474, 695, -770, 213, 2169, 212, 333, 4404, 257, 3188, 3083, 1260, 6046, -37, -154, 680, 799, -1164, 2523, 98, 3419, -259, -1310, 139, 7138, 1111, -612, -186, 2038, 833, 551, 1063, 2926, -449, 4758, -23, 1573, 1378, -73, 1583, -121, 1065, -13, 1869, 4787, 702, 1494, 46, 609, 4079, 7876, 925, 7010, 3170, 216, 2975, 894, 1727, 664, -192, 1942, 5137, 13044, 1053, 154, 529, 1903, 1937, 3859, 4198, -46, 568, 1469, 1412, -93, -331, 2806, 2959, -1313, 697, 1086, 4335, -77, 1046, 1566, 592, 319, 9339, 6922, 633, 4265, 1970, 1513, 668, 649, -145, -498, 2304, 4897, 1832, 3726, 508, 348, 3554, 267, 1327, 864, 1265, 3727, -478, -363, 8883, 1859, 1059, 712, 523, 422, 3387, 1490, 1707, 907, 1836, 404, 819, 371, 3107, 1438, 1367, 1693, 778, -50, 26306, 575, 431, 777, 199, 3552, 3823, 1325, 4343, 3301, 822, -280, 1534, 1671, 2007, 2776, 573, 2154, 96, 6766, 3973, -552, 48, 7696, 4500, -18, 479, 1130, 389, 401, 207, 2433, 1924, -471, 1531, 3782, 326, -15, 1929, -424, -1148, -206, 1931, 943, 327, 983, 3060, 5780, 790, 1449, 681, 2087, 1905, 2644, 16430, 2515, 5195, 2098, 3431, 370, 13342, 6570, -665, 8238, 1661, 3132, 2682, 596, 2059, 223, 512, 1169, 940, -80, 1286, 804, 1678, 532, 659, 838, 68, -242, 321, 3403, 152, 1439, 1491, 6402, 3333, 16992, 6072, 2105, 2319, 30, -2082, 1750, 772, 1649, 287, 1731, 5498, 5063, 7041, 2400, 519, 1190, 1818, 1289, 796, 1548, 957, 724, 2519, 3927, 581, 3242, 155, 11386, 1380, 2443, 1129, 4232, 5564, 1323, 1042, -1053, 1667, 2571, 732, -136, 3636, 931, 565, 1153, 558, 700, -966, 4007, 567, 40, 917, 2542, 5355, 807, 9976, 540, -517, 2613, -200, 2301, 1882, 4425, 3533, 3573, 476, 1257, 398, 745, 8106, 1266, 2416, 7513, 5116, -1746, 4148, 767, 184, -17, -19, 377, -375, 1071, 7378, 1387, 2917, 4541, 4287, 827, 469, 2226, 477, 775, 2557, 2395, 4895, 1273, 2892, 295, -587, 367, -1224, 959, -589, -8, 5543, 642, -226, 5191, -320, 2289, 776, 812, 823, 1009, 22370, 2111, 5366, -452, 1770, 2358, 1200, 616, 4906, 313, 143, 3074, 1734, 397, 2984, 1011, 1133, 4945, -427, 2146, 92, 981, 3733, -540, 560, 325, 437, 935, 11417, 1673, -1202, 4213, 1310, 405, 9756, 2506, 403, 2705, 2457, 677, 2629, 2325, -20, -852, 9851, 5095, 1368, 1159, -322, 1114, 2072, 1157, 8309, 1043, 461, 1203, 1067, 1657, 1219, 8627, 1592, 2157, 6095, 1121, -328, 685, 22856, -352, -588, 5314, 632, 5731, 6307, 435, 7864, 1174, 2886, 2715, 516, 5715, 1088, 1532, 748, 1990, 648, -90, 170, 3665, 2380, 763, 1960, 818, 2678, 1980, 1582, 3931, 557, 3230, 120, 1058, 881, 6728, 1625, 562, 9305, 2486, 1558, 2590, 900, 9228, 771, 2431, 555, 848, 481, 12223, -254, 7007, 220, 1694, 4446, 13658, -276, 10218, 1646, 7635, 1029, 2855, 1465, 930, -35, 1351, 1601, 717, 1553, -131, 544, 688, 1603, 1511, 836, 1123, 12531, 14220, 12569, 3587, 1712, 4855, 2408, 346, -710, -551, 1514, 1580, 1278, 982, 128, 2543, 42045, 3940, 140, 746, 589, 2343, 294, -26, 3354, 3735, 2094, 26394, -74, 1830, 1904, 16957, 332, -399, -54, -102, 4809, 2201, 8044, 2374, 1397, 3177, 232, 1433, 187, 4610, 500, 210, 1696, -31, 800, 701, 3285, 1587, 1868, 4646, 27, 224, 2544, 3948, 1810, 2657, 658, 1679, 1160, 585, 2145, 966, 8515, 3068, 678, -630, 357, -9, 9146, 328, -703, 6053, 1142, 802, 6164, 1156, 806, 2381, -314, 4745, 11797, 786, 4015, 1554, 5086, 4824, 2281, 6968, 6904, 1922, 3298, 8556, 3514, 2819, -518, 2707, 13229, 990, 1916, 5739, 1518, -401, 5310, 2285, 22171, 3797, 53, 390, 2600, -241, 1545, 1801, 2278, 1588, 24, 788, 4438, 5045, 3014, 21664, 5878, 2723, 576, 2197, 1279, 2128, 2921, 16264, 1672, 9207, 1217, 590, 4256, 693, 362, 3043, 1309, 1792, 537, 1472, 3953, 13204, 22546, 8131, -378, 10787, 384, 1471, 6839, 1876, 1847, 4664, 382, 2033, 789, 645, 847, 1308, 1416, 465, 550, 1285, 4908, 336, 453, 1102, 926, 8669, 9324, 173, 1983, 1283, 2179, 1047, -308, 1177, 2077, 7735, 2770, 5320, 4885, 6767, 2974, 8876, 766, -305, 670, 2850, 110, 5039, 5092, 750, 1844, 4280, 5706, 7780, -559, 16874, 526, 2306, 954, 4209, 491, 14363, 335, 270, 914, 31, 860, -149, 2411, 2731, 3620, -110, 6495, -650, 5774, 19317, -674, 1180, 6610, -762, -120, 78, 2469, 1384, 719, 6704, 4543, -1400, -118, 2160, 3452, 842, 1628, 3215, 2814, 16178, 13893, 2718, -422, 248, 949, 614, 114, -229, 4194, 1057, 929, 268, 2223, 312, 1070, 5969, 3337, 1347, 5533, 4022, 3057, 349, 2322, 4094, 4539, 770, -673, 858, 5244, 1331, 71188, 5108, 1738, 6649, 1032, 2967, 1585, 4384, 588, 3180, 1040, -384, 674, 4130, 250, 2793, 2628, 878, 2944, 3975, 2288, 472, 7495, 3450, 492, 997, 1298, 3355, 1409, 2769, 2320, 2034, 3018, 921, 22196, 3274, 1664, 7020, 1670, 161, 3658, 3342, 1732, 623, 3540, 765, -824, 5549, 420, 2706, 423, -892, -365, 27069, 8038, -938, 3663, -614, 5122, 1495, 1274, -315, 1843, -107, 4503, 961, 3470, -147, -407, 3304, 4848, 13683, 1420, 1198, 506, 1249, 4402, 4722, 1555, 3357, 3809, 1318, 2187, 14440, 2294, 2537, 460, 7944, -464, 1989, 1698, 5306, 3676, 471, 8902, 1704, 3050, 3371, 1757, 934, -287, 2734, 2594, 1611, 7337, 835, 10655, 1758, 2061, 208, 801, 1948, 1871, 6836, -967, 5527, 17361, 1956, -294, -123, 2700, 21515, 5902, 547, 3800, -34, 9328, 3529, 2330, 1334, 3601, 2227, 14412, 3288, 2246, 4441, 448, 1185, 3972, 26452, 2420, 2788, 485, 6900, 4086, 2805, 1612, 2137, 944, 2394, 2144, 969, 436, 1170, 647, 2142, 1959, 1621, -282, -393, 1268, -163, 4831, 2880, 4382, 3939, 753, 1141, 2478, 6844, 1881, 10907, -566, 1275, 6637, 584, 3186, 1883, -872, 1689, 626, 3792, 14058, -522, 1978, 2812, 5057, -759, -416, 2106, 4717, 4039, 582, 8218, 1424, 2085, 2305, -547, 6563, 1145, 563, 3161, 5980, 3382, 2308, 1073, 1700, 896, 2225, -251, 722, 1504, 752, -246, 901, 834, 5597, 1547, 8652, 1626, 749, 6850, 932, -626, 3608, 8366, 2186, 20453, 19447, 2548, 2284, 364, 10888, 2131, 2642, 1214, -292, 2540, 13156, 4210, 16063, 5431, 3854, -617, 3653, 4795, 10910, 1568, 7929, 463, 2116, 107, 2679, 256, -133, 811, 7845, 2048, 1557, 1536, 190, 4888, 4460, 13117, 12877, 1506, 3316, 6880, 2189, 5304, 6969, 572, 164, 4554, 967, 1166, 3534, 200, 4790, -237, 1335, 577, 3436, 6945, 3496, 1183, 942, 4196, -91, 1080, -166, -333, -3313, 1137]\n",
        "All of them are integers, and this data in continious\n"
       ]
      }
     ],
     "prompt_number": 326
    },
    {
     "cell_type": "code",
     "collapsed": false,
     "input": [
      "unique_housing=list(pd.unique(df['housing'].values.ravel()))\n",
      "print 'List of unique values for housing are = %s' % unique_housing\n",
      "print 'It is string datatype which can be converted into binary data'"
     ],
     "language": "python",
     "metadata": {},
     "outputs": [
      {
       "output_type": "stream",
       "stream": "stdout",
       "text": [
        "List of unique values for housing are = ['no', 'yes']\n",
        "It is string datatype which can be converted into binary data\n"
       ]
      }
     ],
     "prompt_number": 327
    },
    {
     "cell_type": "code",
     "collapsed": false,
     "input": [
      "unique_loan=list(pd.unique(df['loan'].values.ravel()))\n",
      "print 'List of unique values for loan are = %s' % unique_loan\n",
      "print 'It is string datatype which can be converted into binary data'"
     ],
     "language": "python",
     "metadata": {},
     "outputs": [
      {
       "output_type": "stream",
       "stream": "stdout",
       "text": [
        "List of unique values for loan are = ['no', 'yes']\n",
        "It is string datatype which can be converted into binary data\n"
       ]
      }
     ],
     "prompt_number": 328
    },
    {
     "cell_type": "code",
     "collapsed": false,
     "input": [
      "unique_contact=list(pd.unique(df['contact'].values.ravel()))\n",
      "print 'List of unique values for contact are = %s' % unique_contact\n",
      "print 'all of them are strings'"
     ],
     "language": "python",
     "metadata": {},
     "outputs": [
      {
       "output_type": "stream",
       "stream": "stdout",
       "text": [
        "List of unique values for contact are = ['cellular', 'unknown', 'telephone']\n",
        "all of them are strings\n"
       ]
      }
     ],
     "prompt_number": 329
    },
    {
     "cell_type": "code",
     "collapsed": false,
     "input": [
      "unique_day=list(pd.unique(df['day'].values.ravel()))\n",
      "print 'List of unique values for day are = %s' % unique_day\n",
      "print 'all of them are integers, and this data is continious'"
     ],
     "language": "python",
     "metadata": {},
     "outputs": [
      {
       "output_type": "stream",
       "stream": "stdout",
       "text": [
        "List of unique values for day are = [19, 11, 16, 3, 5, 23, 14, 6, 17, 20, 13, 30, 29, 27, 7, 18, 12, 21, 26, 22, 2, 4, 15, 8, 28, 9, 1, 10, 31, 25, 24]\n",
        "all of them are integers, and this data is continious\n"
       ]
      }
     ],
     "prompt_number": 330
    },
    {
     "cell_type": "code",
     "collapsed": false,
     "input": [
      "unique_month=list(pd.unique(df['month'].values.ravel()))\n",
      "print 'List of unique values for month are = %s' % unique_month\n",
      "print 'all of them are strings'"
     ],
     "language": "python",
     "metadata": {},
     "outputs": [
      {
       "output_type": "stream",
       "stream": "stdout",
       "text": [
        "List of unique values for month are = ['oct', 'may', 'apr', 'jun', 'feb', 'aug', 'jan', 'jul', 'nov', 'sep', 'mar', 'dec']\n",
        "all of them are strings\n"
       ]
      }
     ],
     "prompt_number": 331
    },
    {
     "cell_type": "code",
     "collapsed": false,
     "input": [
      "unique_duration=list(pd.unique(df['duration'].values.ravel()))\n",
      "print 'List of unique values for duration are = %s' % unique_duration\n",
      "print 'all of them are integers'"
     ],
     "language": "python",
     "metadata": {},
     "outputs": [
      {
       "output_type": "stream",
       "stream": "stdout",
       "text": [
        "List of unique values for duration are = [79, 220, 185, 199, 226, 141, 341, 151, 57, 313, 273, 113, 328, 261, 89, 189, 239, 114, 250, 148, 96, 140, 109, 125, 169, 182, 247, 119, 149, 74, 897, 81, 40, 958, 354, 150, 97, 132, 765, 16, 609, 106, 365, 205, 11, 105, 59, 425, 204, 181, 1018, 1740, 98, 441, 272, 159, 295, 314, 579, 554, 323, 227, 134, 223, 155, 130, 630, 164, 268, 380, 154, 221, 67, 367, 87, 701, 652, 63, 398, 224, 406, 60, 521, 279, 203, 201, 372, 391, 165, 231, 291, 233, 473, 736, 337, 553, 345, 65, 9, 259, 371, 280, 243, 435, 258, 7, 317, 76, 170, 386, 83, 69, 564, 588, 779, 281, 1877, 51, 32, 176, 161, 187, 24, 85, 236, 54, 71, 489, 39, 455, 86, 190, 45, 168, 194, 103, 333, 102, 92, 213, 289, 77, 324, 84, 10, 35, 82, 676, 80, 549, 135, 412, 101, 253, 166, 18, 147, 14, 61, 377, 152, 382, 543, 240, 48, 471, 285, 301, 768, 1337, 403, 139, 196, 115, 17, 95, 198, 654, 256, 834, 20, 178, 111, 186, 297, 210, 112, 222, 195, 123, 145, 124, 216, 483, 690, 344, 673, 144, 246, 361, 375, 1097, 180, 373, 230, 58, 88, 487, 29, 484, 262, 644, 699, 49, 64, 121, 197, 331, 138, 312, 120, 526, 211, 62, 988, 451, 1030, 1484, 445, 383, 605, 330, 171, 442, 772, 249, 357, 271, 783, 472, 395, 56, 641, 429, 157, 162, 799, 1370, 22, 215, 1017, 298, 126, 8, 555, 270, 339, 342, 1434, 30, 397, 620, 6, 209, 419, 283, 188, 267, 245, 1065, 207, 456, 131, 94, 567, 153, 53, 234, 108, 208, 597, 505, 332, 212, 493, 681, 287, 202, 37, 72, 325, 1212, 319, 514, 551, 142, 293, 107, 127, 1816, 200, 418, 387, 156, 47, 265, 31, 28, 369, 854, 46, 266, 321, 99, 430, 264, 118, 343, 5, 722, 748, 523, 421, 15, 502, 193, 347, 468, 388, 1735, 172, 117, 587, 501, 282, 110, 104, 378, 1407, 738, 70, 904, 336, 238, 585, 68, 1713, 218, 661, 566, 136, 160, 44, 792, 73, 90, 346, 192, 682, 651, 405, 350, 36, 389, 3025, 219, 427, 533, 19, 819, 278, 617, 34, 668, 75, 146, 356, 251, 352, 184, 568, 260, 447, 426, 174, 284, 428, 237, 1031, 700, 590, 43, 27, 1181, 122, 307, 770, 767, 232, 986, 66, 158, 306, 559, 183, 631, 1282, 1199, 244, 55, 290, 385, 133, 91, 25, 275, 632, 100, 41, 446, 304, 335, 276, 42, 614, 557, 1663, 510, 1259, 225, 404, 1015, 761, 464, 206, 667, 143, 717, 38, 254, 882, 957, 299, 167, 500, 177, 457, 460, 1028, 315, 381, 643, 508, 128, 492, 257, 241, 536, 601, 1168, 277, 364, 229, 402, 175, 255, 820, 116, 463, 603, 191, 2087, 754, 303, 288, 891, 558, 228, 353, 296, 432, 1130, 305, 274, 860, 420, 756, 968, 408, 13, 763, 316, 50, 4, 78, 286, 766, 648, 688, 21, 593, 407, 563, 52, 803, 396, 637, 945, 1178, 506, 409, 327, 618, 936, 329, 179, 731, 670, 318, 415, 137, 349, 263, 671, 452, 163, 586, 650, 610, 747, 252, 883, 684, 686, 1060, 724, 424, 712, 753, 1081, 376, 433, 411, 1083, 757, 524, 653, 93, 503, 217, 475, 340, 242, 530, 23, 935, 773, 423, 626, 578, 248, 528, 785, 952, 1174, 915, 937, 129, 1063, 758, 574, 847, 1558, 789, 1441, 322, 1504, 537, 611, 26, 12, 235, 796, 1126, 697, 931, 1034, 362, 410, 570, 633, 659, 302, 727, 214, 173, 635, 540, 1210, 486, 646, 326, 414, 716, 449, 580, 399, 1029, 755, 619, 606, 971, 348, 594, 1275, 379, 1032, 393, 808, 923, 413, 541, 602, 762, 360, 310, 311, 638, 355, 300, 417, 308, 657, 434, 488, 1309, 1056, 908, 401, 827, 735, 691, 461, 669, 1473, 1386, 294, 910, 550, 1366, 1532, 955, 513, 1236, 809, 482, 1164, 674, 709, 436, 374, 309, 363, 422, 358, 640, 439, 476, 480, 517, 993, 33, 730, 636, 750, 334, 868, 351, 1689, 607, 485, 1021, 732, 577, 733, 788, 863, 1073, 525, 696, 535, 370, 465, 338, 956, 546, 470, 836, 544, 443, 1149, 707, 1451, 1143, 477, 450, 467, 292, 806, 560, 759, 1183, 598, 466, 431, 269, 542, 562, 515, 1165, 547, 780, 916, 474, 509, 679, 1472, 965, 1139, 504, 672, 749, 454, 531, 479, 384, 973, 728, 656, 998, 320, 615, 612, 664, 394, 877, 1971, 1258, 599, 655, 1994, 743, 924, 929, 491, 719, 565, 1529, 390, 1467, 1007, 665, 990, 582, 458, 775, 497, 698, 702, 520, 1156, 884, 1521, 359, 527, 994, 1579, 437, 1225, 865, 569, 1011, 814, 984, 392, 595, 1448, 529, 1006, 622, 494, 1022, 1044, 781, 1124, 400, 516, 1516, 978, 720, 495, 798, 876, 875, 481, 793, 1117, 1223, 1101, 744, 2769, 561, 715, 639, 538, 1721, 1608, 725, 519, 490, 907, 680, 977, 959, 693, 2029, 1009, 718, 805, 623, 976, 600, 469, 1010, 634, 1531, 764, 532, 825, 539, 816, 821, 1231, 742, 2456, 721, 777, 548, 830, 645, 723, 746, 869, 1173, 624, 518, 815, 857, 921, 627, 800, 366, 1088, 812, 866, 1151, 873, 592, 663, 576, 1476, 951, 1234, 1263, 660]\n",
        "all of them are integers\n"
       ]
      }
     ],
     "prompt_number": 332
    },
    {
     "cell_type": "code",
     "collapsed": false,
     "input": [
      "unique_campaign=list(pd.unique(df['campaign'].values.ravel()))\n",
      "print 'List of unique values for campaign are = %s' % unique_campaign\n",
      "print 'all of them are integers, and this data is continious'"
     ],
     "language": "python",
     "metadata": {},
     "outputs": [
      {
       "output_type": "stream",
       "stream": "stdout",
       "text": [
        "List of unique values for campaign are = [1, 4, 2, 5, 3, 6, 18, 10, 9, 7, 12, 14, 13, 24, 11, 8, 29, 32, 16, 22, 15, 30, 25, 21, 17, 19, 23, 20, 50, 28, 31, 44]\n",
        "all of them are integers, and this data is continious\n"
       ]
      }
     ],
     "prompt_number": 333
    },
    {
     "cell_type": "code",
     "collapsed": false,
     "input": [
      "unique_pdays=list(pd.unique(df['pdays'].values.ravel()))\n",
      "print 'List of unique values for pdays are = %s' % unique_pdays\n",
      "print 'all of them are integers, and this data is continious'"
     ],
     "language": "python",
     "metadata": {},
     "outputs": [
      {
       "output_type": "stream",
       "stream": "stdout",
       "text": [
        "List of unique values for pdays are = [-1, 339, 330, 176, 147, 241, 152, 105, 342, 101, 5, 92, 56, 170, 182, 297, 196, 460, 137, 367, 145, 169, 207, 266, 288, 168, 345, 436, 90, 183, 146, 335, 347, 119, 7, 271, 181, 88, 141, 126, 61, 373, 351, 242, 62, 91, 308, 250, 172, 265, 78, 28, 79, 1, 188, 167, 89, 164, 462, 209, 321, 254, 94, 364, 96, 356, 149, 363, 275, 325, 341, 260, 358, 87, 303, 98, 327, 337, 322, 102, 99, 370, 84, 212, 63, 81, 191, 360, 332, 80, 85, 247, 150, 175, 382, 261, 336, 58, 206, 112, 199, 133, 208, 253, 135, 278, 140, 298, 273, 124, 281, 162, 323, 349, 117, 2, 256, 333, 116, 268, 136, 198, 357, 259, 353, 174, 371, 205, 246, 69, 315, 110, 461, 184, 270, 127, 187, 64, 130, 346, 100, 352, 808, 113, 378, 292, 287, 107, 293, 139, 138, 193, 274, 97, 103, 359, 185, 674, 211, 300, 334, 280, 479, 95, 262, 362, 225, 3, 366, 60, 190, 368, 122, 343, 131, 365, 299, 115, 316, 180, 154, 313, 264, 350, 73, 232, 204, 143, 375, 186, 344, 210, 248, 177, 221, 189, 104, 258, 305, 171, 120, 317, 178, 386, 118, 404, 374, 282, 179, 284, 227, 291, 173, 871, 238, 294, 222, 435, 340, 426, 239, 83, 111, 415, 255, 235, 244, 38, 683, 329, 59, 151, 192, 158, 338, 388, 165, 348, 197, 295, 109, 484, 326, 369, 397, 414, 319, 474, 93, 249, 272, 355, 195, 82, 541, 231, 153, 201, 761, 114, 385, 267, 161, 467, 75, 106, 223, 312, 148, 309, 283, 86, 166, 160, 450, 500, 311, 123, 159, 687, 224, 361, 74, 76, 286, 77, 57, 219, 331, 804, 144, 234]\n",
        "all of them are integers, and this data is continious\n"
       ]
      }
     ],
     "prompt_number": 334
    },
    {
     "cell_type": "code",
     "collapsed": false,
     "input": [
      "unique_previous=list(pd.unique(df['previous'].values.ravel()))\n",
      "print 'List of unique values for previous are = %s' % unique_previous\n",
      "print 'all of them are integers, and this data is continious'"
     ],
     "language": "python",
     "metadata": {},
     "outputs": [
      {
       "output_type": "stream",
       "stream": "stdout",
       "text": [
        "List of unique values for previous are = [0, 4, 1, 3, 2, 5, 20, 7, 6, 10, 9, 8, 18, 19, 12, 13, 11, 14, 15, 24, 17, 22, 23, 25]\n",
        "all of them are integers, and this data is continious\n"
       ]
      }
     ],
     "prompt_number": 335
    },
    {
     "cell_type": "code",
     "collapsed": false,
     "input": [
      "unique_poutcome=list(pd.unique(df['poutcome'].values.ravel()))\n",
      "print 'List of unique values for poutcome are = %s' % unique_poutcome\n",
      "print 'all of them are strings'"
     ],
     "language": "python",
     "metadata": {},
     "outputs": [
      {
       "output_type": "stream",
       "stream": "stdout",
       "text": [
        "List of unique values for poutcome are = ['unknown', 'failure', 'other', 'success']\n",
        "all of them are strings\n"
       ]
      }
     ],
     "prompt_number": 336
    },
    {
     "cell_type": "code",
     "collapsed": false,
     "input": [
      "unique_y=list(pd.unique(df['y'].values.ravel()))\n",
      "print 'List of unique values for y are = %s' % unique_y\n",
      "print 'It is string datatype which can be converted into binary data'"
     ],
     "language": "python",
     "metadata": {},
     "outputs": [
      {
       "output_type": "stream",
       "stream": "stdout",
       "text": [
        "List of unique values for y are = ['no', 'yes']\n",
        "It is string datatype which can be converted into binary data\n"
       ]
      }
     ],
     "prompt_number": 337
    },
    {
     "cell_type": "heading",
     "level": 6,
     "metadata": {},
     "source": [
      "2. Learn about label encoders here: http://scikit- learn.org/stable/modules/preprocessing.html#encoding-categorical-features and transform the features to numerical features"
     ]
    },
    {
     "cell_type": "raw",
     "metadata": {},
     "source": [
      "I am going to assign labels to following features:\n",
      "    job          \n",
      "    marital      \n",
      "    education    \n",
      "    default      \n",
      "    housing      \n",
      "    loan         \n",
      "    contact      \n",
      "    month        \n",
      "    poutcome     \n",
      "    y            "
     ]
    },
    {
     "cell_type": "code",
     "collapsed": false,
     "input": [
      "from sklearn import preprocessing\n",
      "\n",
      "def relabeling(df):\n",
      "\n",
      "    job_le = preprocessing.LabelEncoder().fit(df['job'])\n",
      "    df['job_num'] = job_le.transform(df['job'])\n",
      "\n",
      "    marital_le = preprocessing.LabelEncoder().fit(df[\"marital\"])\n",
      "    df['marital_num'] = marital_le.transform(df[\"marital\"])\n",
      "\n",
      "    education_le = preprocessing.LabelEncoder().fit(df[\"education\"])\n",
      "    df['education_num'] = education_le.transform(df[\"education\"])\n",
      "\n",
      "    default_le = preprocessing.LabelEncoder().fit(df[\"default\"])\n",
      "    df['default_num'] = default_le.transform(df[\"default\"])\n",
      "\n",
      "    housing_le = preprocessing.LabelEncoder().fit(df[\"housing\"])\n",
      "    df['housing_num'] = housing_le.transform(df[\"housing\"])\n",
      "\n",
      "    loan_le = preprocessing.LabelEncoder().fit(df[\"loan\"])\n",
      "    df['loan_num'] = loan_le.transform(df[\"loan\"])\n",
      "\n",
      "    contact_le = preprocessing.LabelEncoder().fit(df[\"contact\"])\n",
      "    df['contact_num'] = contact_le.transform(df[\"contact\"])\n",
      "\n",
      "    month_le = preprocessing.LabelEncoder().fit(df[\"month\"])\n",
      "    df['month_num'] = month_le.transform(df[\"month\"])\n",
      "\n",
      "    poutcome_le = preprocessing.LabelEncoder().fit(df[\"poutcome\"])\n",
      "    df['poutcome_num'] = poutcome_le.transform(df[\"poutcome\"])\n",
      "\n",
      "    y_le = preprocessing.LabelEncoder().fit(df[\"y\"])\n",
      "    df['y_num'] = y_le.transform(df[\"y\"])\n",
      "    \n",
      "    return df\n",
      "\n",
      "df=relabeling(df)"
     ],
     "language": "python",
     "metadata": {},
     "outputs": [],
     "prompt_number": 338
    },
    {
     "cell_type": "code",
     "collapsed": false,
     "input": [
      "df.head()"
     ],
     "language": "python",
     "metadata": {},
     "outputs": [
      {
       "html": [
        "<div style=\"max-height:1000px;max-width:1500px;overflow:auto;\">\n",
        "<table border=\"1\" class=\"dataframe\">\n",
        "  <thead>\n",
        "    <tr style=\"text-align: right;\">\n",
        "      <th></th>\n",
        "      <th>age</th>\n",
        "      <th>job</th>\n",
        "      <th>marital</th>\n",
        "      <th>education</th>\n",
        "      <th>default</th>\n",
        "      <th>balance</th>\n",
        "      <th>housing</th>\n",
        "      <th>loan</th>\n",
        "      <th>contact</th>\n",
        "      <th>day</th>\n",
        "      <th>...</th>\n",
        "      <th>job_num</th>\n",
        "      <th>marital_num</th>\n",
        "      <th>education_num</th>\n",
        "      <th>default_num</th>\n",
        "      <th>housing_num</th>\n",
        "      <th>loan_num</th>\n",
        "      <th>contact_num</th>\n",
        "      <th>month_num</th>\n",
        "      <th>poutcome_num</th>\n",
        "      <th>y_num</th>\n",
        "    </tr>\n",
        "  </thead>\n",
        "  <tbody>\n",
        "    <tr>\n",
        "      <th>0</th>\n",
        "      <td> 30</td>\n",
        "      <td>  unemployed</td>\n",
        "      <td> married</td>\n",
        "      <td>   primary</td>\n",
        "      <td> no</td>\n",
        "      <td> 1787</td>\n",
        "      <td>  no</td>\n",
        "      <td>  no</td>\n",
        "      <td> cellular</td>\n",
        "      <td> 19</td>\n",
        "      <td>...</td>\n",
        "      <td> 10</td>\n",
        "      <td> 1</td>\n",
        "      <td> 0</td>\n",
        "      <td> 0</td>\n",
        "      <td> 0</td>\n",
        "      <td> 0</td>\n",
        "      <td> 0</td>\n",
        "      <td> 10</td>\n",
        "      <td> 3</td>\n",
        "      <td> 0</td>\n",
        "    </tr>\n",
        "    <tr>\n",
        "      <th>1</th>\n",
        "      <td> 33</td>\n",
        "      <td>    services</td>\n",
        "      <td> married</td>\n",
        "      <td> secondary</td>\n",
        "      <td> no</td>\n",
        "      <td> 4789</td>\n",
        "      <td> yes</td>\n",
        "      <td> yes</td>\n",
        "      <td> cellular</td>\n",
        "      <td> 11</td>\n",
        "      <td>...</td>\n",
        "      <td>  7</td>\n",
        "      <td> 1</td>\n",
        "      <td> 1</td>\n",
        "      <td> 0</td>\n",
        "      <td> 1</td>\n",
        "      <td> 1</td>\n",
        "      <td> 0</td>\n",
        "      <td>  8</td>\n",
        "      <td> 0</td>\n",
        "      <td> 0</td>\n",
        "    </tr>\n",
        "    <tr>\n",
        "      <th>2</th>\n",
        "      <td> 35</td>\n",
        "      <td>  management</td>\n",
        "      <td>  single</td>\n",
        "      <td>  tertiary</td>\n",
        "      <td> no</td>\n",
        "      <td> 1350</td>\n",
        "      <td> yes</td>\n",
        "      <td>  no</td>\n",
        "      <td> cellular</td>\n",
        "      <td> 16</td>\n",
        "      <td>...</td>\n",
        "      <td>  4</td>\n",
        "      <td> 2</td>\n",
        "      <td> 2</td>\n",
        "      <td> 0</td>\n",
        "      <td> 1</td>\n",
        "      <td> 0</td>\n",
        "      <td> 0</td>\n",
        "      <td>  0</td>\n",
        "      <td> 0</td>\n",
        "      <td> 0</td>\n",
        "    </tr>\n",
        "    <tr>\n",
        "      <th>3</th>\n",
        "      <td> 30</td>\n",
        "      <td>  management</td>\n",
        "      <td> married</td>\n",
        "      <td>  tertiary</td>\n",
        "      <td> no</td>\n",
        "      <td> 1476</td>\n",
        "      <td> yes</td>\n",
        "      <td> yes</td>\n",
        "      <td>  unknown</td>\n",
        "      <td>  3</td>\n",
        "      <td>...</td>\n",
        "      <td>  4</td>\n",
        "      <td> 1</td>\n",
        "      <td> 2</td>\n",
        "      <td> 0</td>\n",
        "      <td> 1</td>\n",
        "      <td> 1</td>\n",
        "      <td> 2</td>\n",
        "      <td>  6</td>\n",
        "      <td> 3</td>\n",
        "      <td> 0</td>\n",
        "    </tr>\n",
        "    <tr>\n",
        "      <th>4</th>\n",
        "      <td> 59</td>\n",
        "      <td> blue-collar</td>\n",
        "      <td> married</td>\n",
        "      <td> secondary</td>\n",
        "      <td> no</td>\n",
        "      <td>    0</td>\n",
        "      <td> yes</td>\n",
        "      <td>  no</td>\n",
        "      <td>  unknown</td>\n",
        "      <td>  5</td>\n",
        "      <td>...</td>\n",
        "      <td>  1</td>\n",
        "      <td> 1</td>\n",
        "      <td> 1</td>\n",
        "      <td> 0</td>\n",
        "      <td> 1</td>\n",
        "      <td> 0</td>\n",
        "      <td> 2</td>\n",
        "      <td>  8</td>\n",
        "      <td> 3</td>\n",
        "      <td> 0</td>\n",
        "    </tr>\n",
        "  </tbody>\n",
        "</table>\n",
        "<p>5 rows \u00d7 27 columns</p>\n",
        "</div>"
       ],
       "metadata": {},
       "output_type": "pyout",
       "prompt_number": 339,
       "text": [
        "   age          job  marital  education default  balance housing loan  \\\n",
        "0   30   unemployed  married    primary      no     1787      no   no   \n",
        "1   33     services  married  secondary      no     4789     yes  yes   \n",
        "2   35   management   single   tertiary      no     1350     yes   no   \n",
        "3   30   management  married   tertiary      no     1476     yes  yes   \n",
        "4   59  blue-collar  married  secondary      no        0     yes   no   \n",
        "\n",
        "    contact  day ...  job_num  marital_num  education_num  default_num  \\\n",
        "0  cellular   19 ...       10            1              0            0   \n",
        "1  cellular   11 ...        7            1              1            0   \n",
        "2  cellular   16 ...        4            2              2            0   \n",
        "3   unknown    3 ...        4            1              2            0   \n",
        "4   unknown    5 ...        1            1              1            0   \n",
        "\n",
        "   housing_num loan_num contact_num  month_num  poutcome_num  y_num  \n",
        "0            0        0           0         10             3      0  \n",
        "1            1        1           0          8             0      0  \n",
        "2            1        0           0          0             0      0  \n",
        "3            1        1           2          6             3      0  \n",
        "4            1        0           2          8             3      0  \n",
        "\n",
        "[5 rows x 27 columns]"
       ]
      }
     ],
     "prompt_number": 339
    },
    {
     "cell_type": "heading",
     "level": 6,
     "metadata": {},
     "source": [
      "3. Build a simple decision tree model to predict the classification goal."
     ]
    },
    {
     "cell_type": "code",
     "collapsed": false,
     "input": [
      "from sklearn import tree\n",
      "\n",
      "df1 = df[['age', 'balance', 'day', 'duration', 'campaign', 'pdays', 'previous', 'job_num', 'marital_num', 'education_num', 'default_num', 'housing_num', 'loan_num', 'contact_num', 'month_num', 'poutcome_num']]\n",
      "features_list=list(df1.columns.values)\n",
      "\n",
      "target=df['y_num']\n",
      "\n",
      "print features_list\n",
      "model = tree.DecisionTreeClassifier(random_state=0)\n",
      "model.fit(df[features_list], target)\n",
      "\n",
      "df['y_predicted']=model.predict(df1)\n",
      "\n",
      "df.head()"
     ],
     "language": "python",
     "metadata": {},
     "outputs": [
      {
       "output_type": "stream",
       "stream": "stdout",
       "text": [
        "['age', 'balance', 'day', 'duration', 'campaign', 'pdays', 'previous', 'job_num', 'marital_num', 'education_num', 'default_num', 'housing_num', 'loan_num', 'contact_num', 'month_num', 'poutcome_num']\n"
       ]
      },
      {
       "html": [
        "<div style=\"max-height:1000px;max-width:1500px;overflow:auto;\">\n",
        "<table border=\"1\" class=\"dataframe\">\n",
        "  <thead>\n",
        "    <tr style=\"text-align: right;\">\n",
        "      <th></th>\n",
        "      <th>age</th>\n",
        "      <th>job</th>\n",
        "      <th>marital</th>\n",
        "      <th>education</th>\n",
        "      <th>default</th>\n",
        "      <th>balance</th>\n",
        "      <th>housing</th>\n",
        "      <th>loan</th>\n",
        "      <th>contact</th>\n",
        "      <th>day</th>\n",
        "      <th>...</th>\n",
        "      <th>marital_num</th>\n",
        "      <th>education_num</th>\n",
        "      <th>default_num</th>\n",
        "      <th>housing_num</th>\n",
        "      <th>loan_num</th>\n",
        "      <th>contact_num</th>\n",
        "      <th>month_num</th>\n",
        "      <th>poutcome_num</th>\n",
        "      <th>y_num</th>\n",
        "      <th>y_predicted</th>\n",
        "    </tr>\n",
        "  </thead>\n",
        "  <tbody>\n",
        "    <tr>\n",
        "      <th>0</th>\n",
        "      <td> 30</td>\n",
        "      <td>  unemployed</td>\n",
        "      <td> married</td>\n",
        "      <td>   primary</td>\n",
        "      <td> no</td>\n",
        "      <td> 1787</td>\n",
        "      <td>  no</td>\n",
        "      <td>  no</td>\n",
        "      <td> cellular</td>\n",
        "      <td> 19</td>\n",
        "      <td>...</td>\n",
        "      <td> 1</td>\n",
        "      <td> 0</td>\n",
        "      <td> 0</td>\n",
        "      <td> 0</td>\n",
        "      <td> 0</td>\n",
        "      <td> 0</td>\n",
        "      <td> 10</td>\n",
        "      <td> 3</td>\n",
        "      <td> 0</td>\n",
        "      <td> 0</td>\n",
        "    </tr>\n",
        "    <tr>\n",
        "      <th>1</th>\n",
        "      <td> 33</td>\n",
        "      <td>    services</td>\n",
        "      <td> married</td>\n",
        "      <td> secondary</td>\n",
        "      <td> no</td>\n",
        "      <td> 4789</td>\n",
        "      <td> yes</td>\n",
        "      <td> yes</td>\n",
        "      <td> cellular</td>\n",
        "      <td> 11</td>\n",
        "      <td>...</td>\n",
        "      <td> 1</td>\n",
        "      <td> 1</td>\n",
        "      <td> 0</td>\n",
        "      <td> 1</td>\n",
        "      <td> 1</td>\n",
        "      <td> 0</td>\n",
        "      <td>  8</td>\n",
        "      <td> 0</td>\n",
        "      <td> 0</td>\n",
        "      <td> 0</td>\n",
        "    </tr>\n",
        "    <tr>\n",
        "      <th>2</th>\n",
        "      <td> 35</td>\n",
        "      <td>  management</td>\n",
        "      <td>  single</td>\n",
        "      <td>  tertiary</td>\n",
        "      <td> no</td>\n",
        "      <td> 1350</td>\n",
        "      <td> yes</td>\n",
        "      <td>  no</td>\n",
        "      <td> cellular</td>\n",
        "      <td> 16</td>\n",
        "      <td>...</td>\n",
        "      <td> 2</td>\n",
        "      <td> 2</td>\n",
        "      <td> 0</td>\n",
        "      <td> 1</td>\n",
        "      <td> 0</td>\n",
        "      <td> 0</td>\n",
        "      <td>  0</td>\n",
        "      <td> 0</td>\n",
        "      <td> 0</td>\n",
        "      <td> 0</td>\n",
        "    </tr>\n",
        "    <tr>\n",
        "      <th>3</th>\n",
        "      <td> 30</td>\n",
        "      <td>  management</td>\n",
        "      <td> married</td>\n",
        "      <td>  tertiary</td>\n",
        "      <td> no</td>\n",
        "      <td> 1476</td>\n",
        "      <td> yes</td>\n",
        "      <td> yes</td>\n",
        "      <td>  unknown</td>\n",
        "      <td>  3</td>\n",
        "      <td>...</td>\n",
        "      <td> 1</td>\n",
        "      <td> 2</td>\n",
        "      <td> 0</td>\n",
        "      <td> 1</td>\n",
        "      <td> 1</td>\n",
        "      <td> 2</td>\n",
        "      <td>  6</td>\n",
        "      <td> 3</td>\n",
        "      <td> 0</td>\n",
        "      <td> 0</td>\n",
        "    </tr>\n",
        "    <tr>\n",
        "      <th>4</th>\n",
        "      <td> 59</td>\n",
        "      <td> blue-collar</td>\n",
        "      <td> married</td>\n",
        "      <td> secondary</td>\n",
        "      <td> no</td>\n",
        "      <td>    0</td>\n",
        "      <td> yes</td>\n",
        "      <td>  no</td>\n",
        "      <td>  unknown</td>\n",
        "      <td>  5</td>\n",
        "      <td>...</td>\n",
        "      <td> 1</td>\n",
        "      <td> 1</td>\n",
        "      <td> 0</td>\n",
        "      <td> 1</td>\n",
        "      <td> 0</td>\n",
        "      <td> 2</td>\n",
        "      <td>  8</td>\n",
        "      <td> 3</td>\n",
        "      <td> 0</td>\n",
        "      <td> 0</td>\n",
        "    </tr>\n",
        "  </tbody>\n",
        "</table>\n",
        "<p>5 rows \u00d7 28 columns</p>\n",
        "</div>"
       ],
       "metadata": {},
       "output_type": "pyout",
       "prompt_number": 340,
       "text": [
        "   age          job  marital  education default  balance housing loan  \\\n",
        "0   30   unemployed  married    primary      no     1787      no   no   \n",
        "1   33     services  married  secondary      no     4789     yes  yes   \n",
        "2   35   management   single   tertiary      no     1350     yes   no   \n",
        "3   30   management  married   tertiary      no     1476     yes  yes   \n",
        "4   59  blue-collar  married  secondary      no        0     yes   no   \n",
        "\n",
        "    contact  day ...  marital_num  education_num  default_num  housing_num  \\\n",
        "0  cellular   19 ...            1              0            0            0   \n",
        "1  cellular   11 ...            1              1            0            1   \n",
        "2  cellular   16 ...            2              2            0            1   \n",
        "3   unknown    3 ...            1              2            0            1   \n",
        "4   unknown    5 ...            1              1            0            1   \n",
        "\n",
        "   loan_num contact_num month_num  poutcome_num  y_num  y_predicted  \n",
        "0         0           0        10             3      0            0  \n",
        "1         1           0         8             0      0            0  \n",
        "2         0           0         0             0      0            0  \n",
        "3         1           2         6             3      0            0  \n",
        "4         0           2         8             3      0            0  \n",
        "\n",
        "[5 rows x 28 columns]"
       ]
      }
     ],
     "prompt_number": 340
    },
    {
     "cell_type": "heading",
     "level": 6,
     "metadata": {},
     "source": [
      "4. Evaluate the result of the classification with cross-validation."
     ]
    },
    {
     "cell_type": "code",
     "collapsed": false,
     "input": [
      "# Cross validation function\n",
      "from sklearn.cross_validation import KFold\n",
      "\n",
      "def cross_validate(X, y, classifier, k_fold) :\n",
      "\n",
      "    # derive a set of (random) training and testing indices\n",
      "    k_fold_indices = KFold(len(X), n_folds=k_fold,\n",
      "                           shuffle=True, random_state=0)\n",
      "\n",
      "    k_score_total = 0\n",
      "    # for each training and testing slices run the classifier, and score the results\n",
      "    for train_slice, test_slice in k_fold_indices :\n",
      "\n",
      "        model = classifier(X[ train_slice  ],\n",
      "                         y[ train_slice  ])\n",
      "\n",
      "        k_score = model.score(X[ test_slice ],\n",
      "                              y[ test_slice ])\n",
      "\n",
      "        k_score_total += k_score\n",
      "\n",
      "    # return the average accuracy\n",
      "    return k_score_total/k_fold"
     ],
     "language": "python",
     "metadata": {},
     "outputs": [],
     "prompt_number": 341
    },
    {
     "cell_type": "code",
     "collapsed": false,
     "input": [
      "CV_DT=cross_validate(df1[features_list].values, target.values, model.fit, 10)"
     ],
     "language": "python",
     "metadata": {},
     "outputs": [],
     "prompt_number": 342
    },
    {
     "cell_type": "heading",
     "level": 6,
     "metadata": {},
     "source": [
      "5. Extend the analysis and cross-validation to bank-additional-full.csv. How does the performance change?"
     ]
    },
    {
     "cell_type": "code",
     "collapsed": false,
     "input": [
      "dft=pd.read_csv('bank-additional-full.csv', delimiter=\";\")\n",
      "dft.info()"
     ],
     "language": "python",
     "metadata": {},
     "outputs": [
      {
       "output_type": "stream",
       "stream": "stdout",
       "text": [
        "<class 'pandas.core.frame.DataFrame'>\n",
        "Int64Index: 41188 entries, 0 to 41187\n",
        "Data columns (total 21 columns):\n",
        "age               41188 non-null int64\n",
        "job               41188 non-null object\n",
        "marital           41188 non-null object\n",
        "education         41188 non-null object\n",
        "default           41188 non-null object\n",
        "housing           41188 non-null object\n",
        "loan              41188 non-null object\n",
        "contact           41188 non-null object\n",
        "month             41188 non-null object\n",
        "day_of_week       41188 non-null object\n",
        "duration          41188 non-null int64\n",
        "campaign          41188 non-null int64\n",
        "pdays             41188 non-null int64\n",
        "previous          41188 non-null int64\n",
        "poutcome          41188 non-null object\n",
        "emp.var.rate      41188 non-null float64\n",
        "cons.price.idx    41188 non-null float64\n",
        "cons.conf.idx     41188 non-null float64\n",
        "euribor3m         41188 non-null float64\n",
        "nr.employed       41188 non-null float64\n",
        "y                 41188 non-null object\n",
        "dtypes: float64(5), int64(5), object(11)"
       ]
      }
     ],
     "prompt_number": 343
    },
    {
     "cell_type": "markdown",
     "metadata": {},
     "source": [
      "There is no feature 'balance' and 'day' as in initial dataset. \n",
      "But instead there are new variables: day_of_week, emp.var.rate, cons.price.idx, cons.conf.idx, euribor3m, nr.employed\n",
      "The new variables except of day_of_week dont need to be transformed"
     ]
    },
    {
     "cell_type": "code",
     "collapsed": false,
     "input": [
      "dft=relabeling(dft)\n",
      "day_of_week_le = preprocessing.LabelEncoder().fit(dft[\"day_of_week\"])\n",
      "dft['day_of_week_num'] = day_of_week_le.transform(dft[\"day_of_week\"])\n",
      "dft.head()\n",
      "dft.info()"
     ],
     "language": "python",
     "metadata": {},
     "outputs": [
      {
       "output_type": "stream",
       "stream": "stdout",
       "text": [
        "<class 'pandas.core.frame.DataFrame'>\n",
        "Int64Index: 41188 entries, 0 to 41187\n",
        "Data columns (total 32 columns):\n",
        "age                41188 non-null int64\n",
        "job                41188 non-null object\n",
        "marital            41188 non-null object\n",
        "education          41188 non-null object\n",
        "default            41188 non-null object\n",
        "housing            41188 non-null object\n",
        "loan               41188 non-null object\n",
        "contact            41188 non-null object\n",
        "month              41188 non-null object\n",
        "day_of_week        41188 non-null object\n",
        "duration           41188 non-null int64\n",
        "campaign           41188 non-null int64\n",
        "pdays              41188 non-null int64\n",
        "previous           41188 non-null int64\n",
        "poutcome           41188 non-null object\n",
        "emp.var.rate       41188 non-null float64\n",
        "cons.price.idx     41188 non-null float64\n",
        "cons.conf.idx      41188 non-null float64\n",
        "euribor3m          41188 non-null float64\n",
        "nr.employed        41188 non-null float64\n",
        "y                  41188 non-null object\n",
        "job_num            41188 non-null int64\n",
        "marital_num        41188 non-null int64\n",
        "education_num      41188 non-null int64\n",
        "default_num        41188 non-null int64\n",
        "housing_num        41188 non-null int64\n",
        "loan_num           41188 non-null int64\n",
        "contact_num        41188 non-null int64\n",
        "month_num          41188 non-null int64\n",
        "poutcome_num       41188 non-null int64\n",
        "y_num              41188 non-null int64\n",
        "day_of_week_num    41188 non-null int64\n",
        "dtypes: float64(5), int64(16), object(11)"
       ]
      }
     ],
     "prompt_number": 344
    },
    {
     "cell_type": "code",
     "collapsed": false,
     "input": [
      "dft1 = dft[['age', 'duration', 'campaign', 'pdays', 'previous', 'job_num', 'marital_num', \\\n",
      "          'education_num', 'default_num', 'housing_num', 'loan_num', 'contact_num', 'month_num', 'poutcome_num',\\\n",
      "          'emp.var.rate', 'cons.price.idx', 'cons.conf.idx', 'euribor3m', 'nr.employed']]\n",
      "\n",
      "features_listt=list(dft1.columns.values)\n",
      "\n",
      "targett=dft['y_num']\n",
      "\n",
      "print features_list\n",
      "model = tree.DecisionTreeClassifier(random_state=0)\n",
      "model.fit(dft[features_listt], targett)\n",
      "\n",
      "dft['y_predicted']=model.predict(dft1)\n",
      "\n",
      "dft.head()"
     ],
     "language": "python",
     "metadata": {},
     "outputs": [
      {
       "output_type": "stream",
       "stream": "stdout",
       "text": [
        "['age', 'balance', 'day', 'duration', 'campaign', 'pdays', 'previous', 'job_num', 'marital_num', 'education_num', 'default_num', 'housing_num', 'loan_num', 'contact_num', 'month_num', 'poutcome_num']\n"
       ]
      },
      {
       "html": [
        "<div style=\"max-height:1000px;max-width:1500px;overflow:auto;\">\n",
        "<table border=\"1\" class=\"dataframe\">\n",
        "  <thead>\n",
        "    <tr style=\"text-align: right;\">\n",
        "      <th></th>\n",
        "      <th>age</th>\n",
        "      <th>job</th>\n",
        "      <th>marital</th>\n",
        "      <th>education</th>\n",
        "      <th>default</th>\n",
        "      <th>housing</th>\n",
        "      <th>loan</th>\n",
        "      <th>contact</th>\n",
        "      <th>month</th>\n",
        "      <th>day_of_week</th>\n",
        "      <th>...</th>\n",
        "      <th>education_num</th>\n",
        "      <th>default_num</th>\n",
        "      <th>housing_num</th>\n",
        "      <th>loan_num</th>\n",
        "      <th>contact_num</th>\n",
        "      <th>month_num</th>\n",
        "      <th>poutcome_num</th>\n",
        "      <th>y_num</th>\n",
        "      <th>day_of_week_num</th>\n",
        "      <th>y_predicted</th>\n",
        "    </tr>\n",
        "  </thead>\n",
        "  <tbody>\n",
        "    <tr>\n",
        "      <th>0</th>\n",
        "      <td> 56</td>\n",
        "      <td> housemaid</td>\n",
        "      <td> married</td>\n",
        "      <td>    basic.4y</td>\n",
        "      <td>      no</td>\n",
        "      <td>  no</td>\n",
        "      <td>  no</td>\n",
        "      <td> telephone</td>\n",
        "      <td> may</td>\n",
        "      <td> mon</td>\n",
        "      <td>...</td>\n",
        "      <td> 0</td>\n",
        "      <td> 0</td>\n",
        "      <td> 0</td>\n",
        "      <td> 0</td>\n",
        "      <td> 1</td>\n",
        "      <td> 6</td>\n",
        "      <td> 1</td>\n",
        "      <td> 0</td>\n",
        "      <td> 1</td>\n",
        "      <td> 0</td>\n",
        "    </tr>\n",
        "    <tr>\n",
        "      <th>1</th>\n",
        "      <td> 57</td>\n",
        "      <td>  services</td>\n",
        "      <td> married</td>\n",
        "      <td> high.school</td>\n",
        "      <td> unknown</td>\n",
        "      <td>  no</td>\n",
        "      <td>  no</td>\n",
        "      <td> telephone</td>\n",
        "      <td> may</td>\n",
        "      <td> mon</td>\n",
        "      <td>...</td>\n",
        "      <td> 3</td>\n",
        "      <td> 1</td>\n",
        "      <td> 0</td>\n",
        "      <td> 0</td>\n",
        "      <td> 1</td>\n",
        "      <td> 6</td>\n",
        "      <td> 1</td>\n",
        "      <td> 0</td>\n",
        "      <td> 1</td>\n",
        "      <td> 0</td>\n",
        "    </tr>\n",
        "    <tr>\n",
        "      <th>2</th>\n",
        "      <td> 37</td>\n",
        "      <td>  services</td>\n",
        "      <td> married</td>\n",
        "      <td> high.school</td>\n",
        "      <td>      no</td>\n",
        "      <td> yes</td>\n",
        "      <td>  no</td>\n",
        "      <td> telephone</td>\n",
        "      <td> may</td>\n",
        "      <td> mon</td>\n",
        "      <td>...</td>\n",
        "      <td> 3</td>\n",
        "      <td> 0</td>\n",
        "      <td> 2</td>\n",
        "      <td> 0</td>\n",
        "      <td> 1</td>\n",
        "      <td> 6</td>\n",
        "      <td> 1</td>\n",
        "      <td> 0</td>\n",
        "      <td> 1</td>\n",
        "      <td> 0</td>\n",
        "    </tr>\n",
        "    <tr>\n",
        "      <th>3</th>\n",
        "      <td> 40</td>\n",
        "      <td>    admin.</td>\n",
        "      <td> married</td>\n",
        "      <td>    basic.6y</td>\n",
        "      <td>      no</td>\n",
        "      <td>  no</td>\n",
        "      <td>  no</td>\n",
        "      <td> telephone</td>\n",
        "      <td> may</td>\n",
        "      <td> mon</td>\n",
        "      <td>...</td>\n",
        "      <td> 1</td>\n",
        "      <td> 0</td>\n",
        "      <td> 0</td>\n",
        "      <td> 0</td>\n",
        "      <td> 1</td>\n",
        "      <td> 6</td>\n",
        "      <td> 1</td>\n",
        "      <td> 0</td>\n",
        "      <td> 1</td>\n",
        "      <td> 0</td>\n",
        "    </tr>\n",
        "    <tr>\n",
        "      <th>4</th>\n",
        "      <td> 56</td>\n",
        "      <td>  services</td>\n",
        "      <td> married</td>\n",
        "      <td> high.school</td>\n",
        "      <td>      no</td>\n",
        "      <td>  no</td>\n",
        "      <td> yes</td>\n",
        "      <td> telephone</td>\n",
        "      <td> may</td>\n",
        "      <td> mon</td>\n",
        "      <td>...</td>\n",
        "      <td> 3</td>\n",
        "      <td> 0</td>\n",
        "      <td> 0</td>\n",
        "      <td> 2</td>\n",
        "      <td> 1</td>\n",
        "      <td> 6</td>\n",
        "      <td> 1</td>\n",
        "      <td> 0</td>\n",
        "      <td> 1</td>\n",
        "      <td> 0</td>\n",
        "    </tr>\n",
        "  </tbody>\n",
        "</table>\n",
        "<p>5 rows \u00d7 33 columns</p>\n",
        "</div>"
       ],
       "metadata": {},
       "output_type": "pyout",
       "prompt_number": 345,
       "text": [
        "   age        job  marital    education  default housing loan    contact  \\\n",
        "0   56  housemaid  married     basic.4y       no      no   no  telephone   \n",
        "1   57   services  married  high.school  unknown      no   no  telephone   \n",
        "2   37   services  married  high.school       no     yes   no  telephone   \n",
        "3   40     admin.  married     basic.6y       no      no   no  telephone   \n",
        "4   56   services  married  high.school       no      no  yes  telephone   \n",
        "\n",
        "  month day_of_week     ...      education_num  default_num  housing_num  \\\n",
        "0   may         mon     ...                  0            0            0   \n",
        "1   may         mon     ...                  3            1            0   \n",
        "2   may         mon     ...                  3            0            2   \n",
        "3   may         mon     ...                  1            0            0   \n",
        "4   may         mon     ...                  3            0            0   \n",
        "\n",
        "   loan_num contact_num  month_num  poutcome_num  y_num  day_of_week_num  \\\n",
        "0         0           1          6             1      0                1   \n",
        "1         0           1          6             1      0                1   \n",
        "2         0           1          6             1      0                1   \n",
        "3         0           1          6             1      0                1   \n",
        "4         2           1          6             1      0                1   \n",
        "\n",
        "   y_predicted  \n",
        "0            0  \n",
        "1            0  \n",
        "2            0  \n",
        "3            0  \n",
        "4            0  \n",
        "\n",
        "[5 rows x 33 columns]"
       ]
      }
     ],
     "prompt_number": 345
    },
    {
     "cell_type": "code",
     "collapsed": false,
     "input": [
      "CV_DT_T=cross_validate(dft1[features_listt].values, targett.values, model.fit, 10)\n",
      "print CV_DT,CV_DT_T"
     ],
     "language": "python",
     "metadata": {},
     "outputs": [
      {
       "output_type": "stream",
       "stream": "stdout",
       "text": [
        "0.871930492879 0.887710194327\n"
       ]
      }
     ],
     "prompt_number": 346
    },
    {
     "cell_type": "markdown",
     "metadata": {},
     "source": [
      "the cross validation score for a an extended dataset is  higher (0.89 vs 0.87), so model with more records is performing better"
     ]
    },
    {
     "cell_type": "heading",
     "level": 6,
     "metadata": {},
     "source": [
      "6. Improve your model by using an ensemble method (RandomForest or ExtraTrees). How does the cross-validation performance improve?"
     ]
    },
    {
     "cell_type": "code",
     "collapsed": false,
     "input": [
      "from sklearn.ensemble import RandomForestClassifier\n",
      "model_RF = RandomForestClassifier(random_state=0)\n",
      "CV_RF=cross_validate(df[features_list].values,target, model_RF.fit, 20)\n",
      "CV_RF_T=cross_validate(dft[features_listt].values,targett, model_RF.fit, 20)\n",
      "print CV_RF,CV_RF_T\n"
     ],
     "language": "python",
     "metadata": {},
     "outputs": [
      {
       "output_type": "stream",
       "stream": "stdout",
       "text": [
        "0.891178706483 0.909244885112\n"
       ]
      }
     ],
     "prompt_number": 347
    },
    {
     "cell_type": "markdown",
     "metadata": {},
     "source": [
      "The scores for both datasets are higher for RandomForest than for DecisionTrees\n",
      "And the scores for an extended dataset are highes than for an initial one."
     ]
    },
    {
     "cell_type": "code",
     "collapsed": false,
     "input": [],
     "language": "python",
     "metadata": {},
     "outputs": []
    }
   ],
   "metadata": {}
  }
 ]
}