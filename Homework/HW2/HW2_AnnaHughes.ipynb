{
 "metadata": {
  "name": "",
  "signature": "sha256:f7eb66362ac7d46c7ce7fcfc0c631d2e8fa6d53046ced36b7095f4adb85269ca"
 },
 "nbformat": 3,
 "nbformat_minor": 0,
 "worksheets": [
  {
   "cells": [
    {
     "cell_type": "heading",
     "level": 1,
     "metadata": {},
     "source": [
      "Anna Hughes Homework 2"
     ]
    },
    {
     "cell_type": "heading",
     "level": 2,
     "metadata": {},
     "source": [
      "Importing the csv file and initial data cleanup"
     ]
    },
    {
     "cell_type": "code",
     "collapsed": false,
     "input": [
      "import pandas as pd\n",
      "import numpy as np\n",
      "\n",
      "# Defining headers\n",
      "feature_names = ['sepal length','sepal width', 'petal length', 'petal width']\n",
      "target = 'iris_type'\n",
      "header = list(feature_names)\n",
      "header.append(target)\n",
      "\n",
      "# Loading csv file\n",
      "iris=pd.read_csv('iris.csv', names=header)\n",
      "iris.dropna(how='all', inplace='True')\n",
      "#print iris[:5]\n",
      "\n",
      "# X as an input\n",
      "X=iris[feature_names]\n",
      "#print X[:5]\n",
      "\n",
      "# y as an output \n",
      "# getting all unique names for labels and add them to the list\n",
      "iris_names=list(pd.unique(iris[target].values.ravel()))\n",
      "print 'List of unique values is = %s' % iris_names\n",
      "# Assigning numerical labels to all unique values\n",
      "y=iris[target].replace(iris_names, [1,2,3])\n",
      "#print y[:5]"
     ],
     "language": "python",
     "metadata": {},
     "outputs": [
      {
       "output_type": "stream",
       "stream": "stdout",
       "text": [
        "List of unique values is = ['Iris-setosa', 'Iris-versicolor', 'Iris-virginica']\n"
       ]
      }
     ],
     "prompt_number": 23
    },
    {
     "cell_type": "heading",
     "level": 2,
     "metadata": {},
     "source": [
      "Question 1. Implement KNN classification"
     ]
    },
    {
     "cell_type": "code",
     "collapsed": false,
     "input": [
      "#splitting the set into training and test set (80/20)\n",
      "from sklearn.cross_validation import train_test_split\n",
      "X_train, X_test, y_train, y_test = train_test_split( X.values, y, test_size=0.2, random_state=0)\n",
      "\n",
      "#Using KKNeighboursclassifier\n",
      "from sklearn.neighbors import KNeighborsClassifier\n",
      "myknn = KNeighborsClassifier(3).fit(X_train,y_train)\n",
      "print 'KNN classification score is %s' % myknn.score(X_test, y_test)"
     ],
     "language": "python",
     "metadata": {},
     "outputs": [
      {
       "output_type": "stream",
       "stream": "stdout",
       "text": [
        "KNN classification score is 0.966666666667\n"
       ]
      }
     ],
     "prompt_number": 24
    },
    {
     "cell_type": "heading",
     "level": 2,
     "metadata": {},
     "source": [
      "Question 2. Implement cross-validation"
     ]
    },
    {
     "cell_type": "code",
     "collapsed": false,
     "input": [
      "from sklearn.cross_validation import KFold\n",
      "import numpy as np\n",
      "from sklearn.neighbors import KNeighborsClassifier\n",
      "X=np.asarray(X)\n",
      "y=np.asarray(y)\n",
      "\n",
      "# Defining the function (same as in the class)\n",
      "def cross_validate(X, y, classifier, k_fold) :\n",
      "\n",
      "    # derive a set of (random) training and testing indices\n",
      "    k_fold_indices = KFold( len(X), n_folds=k_fold,\n",
      "                            shuffle=True,\n",
      "                           random_state=0)\n",
      "\n",
      "    k_score_total = 0\n",
      "    # for each training and testing slices run the classifier, and score the results\n",
      "    for train_slice, test_slice in k_fold_indices :\n",
      "\n",
      "        model = classifier(X[ train_slice  ],\n",
      "                         y[ train_slice  ])\n",
      "\n",
      "        k_score = model.score(X[ test_slice ],\n",
      "                              y[ test_slice ])\n",
      "        k_score_total += k_score\n",
      "\n",
      "    # return the average accuracy\n",
      "    return k_score_total/k_fold\n",
      "Score1=cross_validate(X, y, KNeighborsClassifier(3).fit, 5)\n",
      "print \"Cross validation score (5 folds) is %s\" % Score1"
     ],
     "language": "python",
     "metadata": {},
     "outputs": [
      {
       "output_type": "stream",
       "stream": "stdout",
       "text": [
        "Cross validation score (5 folds) is 0.953333333333\n"
       ]
      }
     ],
     "prompt_number": 25
    },
    {
     "cell_type": "code",
     "collapsed": false,
     "input": [
      "#those are notes to myself\n",
      "# indices=True, when I have it as parameter of KFold, it gives me this\n",
      "#/Users/annabachurina/anaconda/lib/python2.7/site-packages/sklearn/cross_validation.py:65: \n",
      "#DeprecationWarning: The indices parameter is deprecated and will be removed (assumed True) in 0.17\n",
      "#  stacklevel=1)\n",
      "# I just removed it, but in class we have this parameter set"
     ],
     "language": "python",
     "metadata": {},
     "outputs": [],
     "prompt_number": 26
    },
    {
     "cell_type": "heading",
     "level": 2,
     "metadata": {},
     "source": [
      "Question 3. \n",
      "Determine the optimal value of K (using KNN claffisier and cross-validation code)"
     ]
    },
    {
     "cell_type": "code",
     "collapsed": false,
     "input": [
      "# What are the criteria to get an optimal value of K?\n",
      "# We need to seek balance between overfitting and underfitting\n",
      "# I am going to plot the Cross validation scores and see where the optimal one can fall in\n",
      "\n",
      "AllScores=[]\n",
      "for i in range(1, 120):\n",
      "    Score={'K':i}\n",
      "    \n",
      "    validation=cross_validate(X, y, KNeighborsClassifier(i).fit, 5)\n",
      "    Score['Validation']=validation\n",
      "    knn=KNeighborsClassifier(i).fit(X_train,y_train)\n",
      "    Score['KNN']=knn.score(X_test, y_test)\n",
      "    \n",
      "    AllScores.append(Score)\n",
      "    \n",
      "    \n",
      "DFScores=pd.DataFrame(AllScores)\n",
      "print DFScores[:20]"
     ],
     "language": "python",
     "metadata": {},
     "outputs": [
      {
       "output_type": "stream",
       "stream": "stdout",
       "text": [
        "     K       KNN  Validation\n",
        "0    1  1.000000    0.960000\n",
        "1    2  0.966667    0.940000\n",
        "2    3  0.966667    0.953333\n",
        "3    4  1.000000    0.960000\n",
        "4    5  0.966667    0.960000\n",
        "5    6  1.000000    0.953333\n",
        "6    7  1.000000    0.953333\n",
        "7    8  1.000000    0.960000\n",
        "8    9  1.000000    0.960000\n",
        "9   10  1.000000    0.960000\n",
        "10  11  1.000000    0.966667\n",
        "11  12  1.000000    0.960000\n",
        "12  13  1.000000    0.960000\n",
        "13  14  1.000000    0.953333\n",
        "14  15  1.000000    0.966667\n",
        "15  16  1.000000    0.946667\n",
        "16  17  1.000000    0.946667\n",
        "17  18  1.000000    0.940000\n",
        "18  19  1.000000    0.946667\n",
        "19  20  1.000000    0.946667\n"
       ]
      }
     ],
     "prompt_number": 29
    },
    {
     "cell_type": "markdown",
     "metadata": {},
     "source": [
      "I don't think KNN score matters in this context, since we already have a cross-validation accuracy score. Those two are different only due to how the data is structured in the iris.csv file.\n",
      "\n",
      "We can see that we reach the highest accuracy while cross-validation when K = 11. \n",
      "\n",
      "However, the accuracy is very good from the very beginning my answer is that the optimal value of K is 1. \n",
      "\n",
      "Its a bit counterintuitive (relying on just one closest neighbour!) but numbers show K = 1 is enough."
     ]
    },
    {
     "cell_type": "heading",
     "level": 2,
     "metadata": {},
     "source": [
      "Question 4. Plot classifier accuracy versus the hyperparameter K"
     ]
    },
    {
     "cell_type": "code",
     "collapsed": true,
     "input": [
      "%matplotlib inline\n",
      "from matplotlib import pyplot as plt\n",
      "from pylab import *"
     ],
     "language": "python",
     "metadata": {},
     "outputs": [],
     "prompt_number": 30
    },
    {
     "cell_type": "heading",
     "level": 6,
     "metadata": {},
     "source": [
      "I plotted the graph two times: K = 1 to 120 (to see a bigger picture) and K = 1 to 20 (reasonable values)"
     ]
    },
    {
     "cell_type": "code",
     "collapsed": true,
     "input": [
      "plt.xlabel('K - number of neighbours')\n",
      "plt.ylabel('Accuracy')\n",
      "plt.title('Classifier accuracy VS the number of neighbours K')\n",
      "plt.ylim(0.2,1)\n",
      "plt.xlim(0,120)\n",
      "plt.plot(DFScores['K'],DFScores ['Validation'])\n",
      "plt.show()"
     ],
     "language": "python",
     "metadata": {},
     "outputs": [
      {
       "metadata": {},
       "output_type": "display_data",
       "png": "[encoded data removed]",
       "text": [
        "<matplotlib.figure.Figure at 0x109532410>"
       ]
      }
     ],
     "prompt_number": 31
    },
    {
     "cell_type": "markdown",
     "metadata": {},
     "source": [
      "When K is below 60, the accuracy gradually decreases, between 60 and 80 it drops significantly, and after 80 stays on stably low level (0.5) before it drops again. "
     ]
    },
    {
     "cell_type": "code",
     "collapsed": false,
     "input": [
      "plt.xlabel('K - number of neighbours')\n",
      "plt.ylabel('Accuracy')\n",
      "plt.title('Classifier accuracy VS the number of neighbours K')\n",
      "plt.ylim(0.9,1)\n",
      "plt.xlim(0,20)\n",
      "plt.plot(DFScores['K'],DFScores ['Validation'])\n",
      "plt.show()"
     ],
     "language": "python",
     "metadata": {},
     "outputs": [
      {
       "metadata": {},
       "output_type": "display_data",
       "png": "[encoded data removed]",
       "text": [
        "<matplotlib.figure.Figure at 0x109605dd0>"
       ]
      }
     ],
     "prompt_number": 32
    },
    {
     "cell_type": "heading",
     "level": 2,
     "metadata": {},
     "source": [
      "Question 5. Using the value of K obtained before, vary the number of folds"
     ]
    },
    {
     "cell_type": "code",
     "collapsed": false,
     "input": [
      "AllScoresF=[]\n",
      "for f in range(2,150):\n",
      "    ScoreF={'K':f}\n",
      "    ScoreF['Fscore']=cross_validate(X, y, KNeighborsClassifier(1).fit, f)\n",
      "    AllScoresF.append(ScoreF)\n",
      "    #print ScoreF\n",
      "DFFScores=pd.DataFrame(AllScoresF)\n",
      "print DFFScores[:15]"
     ],
     "language": "python",
     "metadata": {},
     "outputs": [
      {
       "output_type": "stream",
       "stream": "stdout",
       "text": [
        "      Fscore   K\n",
        "0   0.933333   2\n",
        "1   0.960000   3\n",
        "2   0.960171   4\n",
        "3   0.960000   5\n",
        "4   0.960000   6\n",
        "5   0.960421   7\n",
        "6   0.959795   8\n",
        "7   0.959967   9\n",
        "8   0.960000  10\n",
        "9   0.960040  11\n",
        "10  0.960470  12\n",
        "11  0.960373  13\n",
        "12  0.959740  14\n",
        "13  0.960000  15\n",
        "14  0.961111  16\n"
       ]
      }
     ],
     "prompt_number": 37
    },
    {
     "cell_type": "markdown",
     "metadata": {},
     "source": [
      "How does classified accuracy vary with the number of folds used?\n",
      "Do you think there is an optimal number of folds to use for this particular problem?"
     ]
    },
    {
     "cell_type": "code",
     "collapsed": false,
     "input": [
      "#Printing only first 30 ways to fold\n",
      "plt.xlabel('F - number of folds')\n",
      "plt.ylabel('Accuracy')\n",
      "plt.title('Classifier Accuracy VS Number of Folds')\n",
      "plt.ylim(0.95,0.98)\n",
      "plt.xlim(1,150)\n",
      "plt.plot(DFFScores['K'],DFFScores ['Fscore'])\n",
      "plt.show()"
     ],
     "language": "python",
     "metadata": {},
     "outputs": [
      {
       "metadata": {},
       "output_type": "display_data",
       "png": "[encoded data removed]",
       "text": [
        "<matplotlib.figure.Figure at 0x108987b10>"
       ]
      }
     ],
     "prompt_number": 38
    },
    {
     "cell_type": "code",
     "collapsed": false,
     "input": [
      "DFFScores ['Fscore'].describe()"
     ],
     "language": "python",
     "metadata": {},
     "outputs": [
      {
       "metadata": {},
       "output_type": "pyout",
       "prompt_number": 39,
       "text": [
        "count    148.000000\n",
        "mean       0.959332\n",
        "std        0.003525\n",
        "min        0.933333\n",
        "25%        0.957707\n",
        "50%        0.959459\n",
        "75%        0.960732\n",
        "max        0.966942\n",
        "dtype: float64"
       ]
      }
     ],
     "prompt_number": 39
    },
    {
     "cell_type": "markdown",
     "metadata": {},
     "source": [
      "The accuracy varies unsignificantly depending on the number of folds. I don't see how I can optimise the number of folds for this particular task: it looks very random. \n",
      "I would minimise the number of folds to minimise my need in computational power. \n",
      "Number of folds=3 is good enough. "
     ]
    },
    {
     "cell_type": "code",
     "collapsed": false,
     "input": [],
     "language": "python",
     "metadata": {},
     "outputs": []
    }
   ],
   "metadata": {}
  }
 ]
}