{
 "metadata": {
  "name": "",
  "signature": "sha256:a782a2836f1bde46d6a001fa609132d5fdada920e2177a61248952ae93a58f8e"
 },
 "nbformat": 3,
 "nbformat_minor": 0,
 "worksheets": []
}