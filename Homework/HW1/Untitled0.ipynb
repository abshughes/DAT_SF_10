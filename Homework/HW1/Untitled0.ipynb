{
 "metadata": {
  "name": "",
  "signature": "sha256:3c98e34c4f9a48782b6dc456e650e7ee2fef4893666f6f75b1390f30b78444ef"
 },
 "nbformat": 3,
 "nbformat_minor": 0,
 "worksheets": [
  {
   "cells": [
    {
     "cell_type": "code",
     "collapsed": false,
     "input": [
      "import json\n",
      "json_data=open('ga_hw_logins.json')\n",
      "data=json.load(json_data)\n",
      "json_data.close()\n",
      "import time, datetime\n",
      "from datetime import datetime\n",
      "\n",
      "import sqlite3\n",
      "\n",
      "conn = sqlite3.connect(r\"idata.db\")\n",
      "c = conn.cursor()\n",
      "# Create table\n",
      "c.execute('''CREATE TABLE dates\n",
      "            (DBdata,DBHour)''')"
     ],
     "language": "python",
     "metadata": {},
     "outputs": [
      {
       "metadata": {},
       "output_type": "pyout",
       "prompt_number": 39,
       "text": [
        "<sqlite3.Cursor at 0x103464260>"
       ]
      }
     ],
     "prompt_number": 39
    },
    {
     "cell_type": "code",
     "collapsed": false,
     "input": [
      "HW_dates = []\n",
      "for i in data:\n",
      "    #print i\n",
      "    inew=datetime.strptime(i, '%Y-%m-%d %H:%M:%S')\n",
      "    #print inew\n",
      "    iday=inew.strftime('%Y-%m-%d')\n",
      "    ihour=inew.strftime('%H')\n",
      "    #print iday\n",
      "    #print inew_conv\n",
      "    c.execute('INSERT INTO dates VALUES (?,?)',(iday,ihour,))"
     ],
     "language": "python",
     "metadata": {},
     "outputs": [],
     "prompt_number": 40
    },
    {
     "cell_type": "code",
     "collapsed": false,
     "input": [
      "# Insert a row of data\n",
      "\n",
      "# Save (commit) the changes\n",
      "#conn.commit()\n",
      "\n",
      "# We can also close the connection if we are done with it.\n",
      "# Just be sure any changes have been committed or they will be lost.\n",
      "#conn.close()"
     ],
     "language": "python",
     "metadata": {},
     "outputs": [],
     "prompt_number": 41
    },
    {
     "cell_type": "code",
     "collapsed": false,
     "input": [
      "for date in c.execute('SELECT DBdata FROM dates GROUP BY DBdata ORDER BY COUNT(*) DESC LIMIT 1'):\n",
      "        print \"The date with the most logins\"\n",
      "        print date   \n",
      "        "
     ],
     "language": "python",
     "metadata": {},
     "outputs": [
      {
       "output_type": "stream",
       "stream": "stdout",
       "text": [
        "The date with the most logins\n",
        "(u'2014-01-22',)\n"
       ]
      }
     ],
     "prompt_number": 42
    },
    {
     "cell_type": "code",
     "collapsed": false,
     "input": [
      "for hour in c.execute('SELECT DBhour FROM dates GROUP BY DBhour ORDER BY COUNT(*) DESC LIMIT 1'):\n",
      "        print \"The hour with the most logins\"\n",
      "        print hour   \n",
      "        "
     ],
     "language": "python",
     "metadata": {},
     "outputs": [
      {
       "output_type": "stream",
       "stream": "stdout",
       "text": [
        "The hour with the most logins\n",
        "(u'01',)\n"
       ]
      }
     ],
     "prompt_number": 44
    },
    {
     "cell_type": "code",
     "collapsed": false,
     "input": [],
     "language": "python",
     "metadata": {},
     "outputs": []
    }
   ],
   "metadata": {}
  }
 ]
}