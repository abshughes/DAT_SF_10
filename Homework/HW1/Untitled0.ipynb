{
 "metadata": {
  "name": "",
  "signature": "sha256:fed13b54f20b16574d50d51960edf0c3fae2cf4df7019b69ce2043dfdaac3990"
 },
 "nbformat": 3,
 "nbformat_minor": 0,
 "worksheets": [
  {
   "cells": [
    {
     "cell_type": "code",
     "collapsed": false,
     "input": [
      "import json\n",
      "json_data=open('ga_hw_logins.json')\n",
      "data=json.load(json_data)\n",
      "json_data.close()\n",
      "\n",
      "from datetime import datetime\n",
      "\n",
      "import sqlite3\n",
      "\n",
      "conn = sqlite3.connect(r\"idata.db\")\n",
      "c = conn.cursor()\n",
      "# Create table\n",
      "c.execute('''CREATE TABLE dates\n",
      "            (DBdata,DBHour)''')"
     ],
     "language": "python",
     "metadata": {},
     "outputs": [
      {
       "metadata": {},
       "output_type": "pyout",
       "prompt_number": 8,
       "text": [
        "<sqlite3.Cursor at 0x102028ab0>"
       ]
      }
     ],
     "prompt_number": 8
    },
    {
     "cell_type": "code",
     "collapsed": false,
     "input": [
      "HW_dates = []\n",
      "for i in data:\n",
      "    #Converting the string to datetime\n",
      "    inew=datetime.strptime(i, '%Y-%m-%d %H:%M:%S')\n",
      "    #Getting days and hours for sql query\n",
      "    iday=inew.strftime('%Y-%m-%d')\n",
      "    ihour=inew.strftime('%H')\n",
      "    #Inserting days and hours into the sql db\n",
      "    c.execute('INSERT INTO dates VALUES (?,?)',(iday,ihour,))"
     ],
     "language": "python",
     "metadata": {},
     "outputs": [],
     "prompt_number": 10
    },
    {
     "cell_type": "code",
     "collapsed": false,
     "input": [
      "#Save changes in db\n",
      "conn.commit()"
     ],
     "language": "python",
     "metadata": {},
     "outputs": [],
     "prompt_number": 11
    },
    {
     "cell_type": "code",
     "collapsed": false,
     "input": [
      "for date in c.execute('SELECT DBdata FROM dates GROUP BY DBdata ORDER BY COUNT(*) DESC LIMIT 1'):\n",
      "        print \"The date with the most logins\"\n",
      "        print date   \n",
      "        "
     ],
     "language": "python",
     "metadata": {},
     "outputs": [
      {
       "output_type": "stream",
       "stream": "stdout",
       "text": [
        "The date with the most logins\n",
        "(u'2014-01-22',)\n"
       ]
      }
     ],
     "prompt_number": 12
    },
    {
     "cell_type": "code",
     "collapsed": false,
     "input": [
      "for hour in c.execute('SELECT DBhour FROM dates GROUP BY DBhour ORDER BY COUNT(*) DESC LIMIT 1'):\n",
      "        print \"The hour with the most logins\"\n",
      "        print hour   \n",
      "        "
     ],
     "language": "python",
     "metadata": {},
     "outputs": [
      {
       "output_type": "stream",
       "stream": "stdout",
       "text": [
        "The hour with the most logins\n",
        "(u'01',)\n"
       ]
      }
     ],
     "prompt_number": 13
    },
    {
     "cell_type": "code",
     "collapsed": false,
     "input": [
      "# Closing the connection\n",
      "conn.close()"
     ],
     "language": "python",
     "metadata": {},
     "outputs": [],
     "prompt_number": 14
    },
    {
     "cell_type": "code",
     "collapsed": false,
     "input": [],
     "language": "python",
     "metadata": {},
     "outputs": []
    }
   ],
   "metadata": {}
  }
 ]
}