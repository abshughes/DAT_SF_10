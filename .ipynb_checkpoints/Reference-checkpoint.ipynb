{
 "metadata": {
  "name": "",
  "signature": "sha256:939b32838d0292f69fcf5c632ba367830ca471a2b17050852ccec6d99c380af7"
 },
 "nbformat": 3,
 "nbformat_minor": 0,
 "worksheets": [
  {
   "cells": [
    {
     "cell_type": "heading",
     "level": 6,
     "metadata": {},
     "source": [
      "Converting dataframe into array"
     ]
    },
    {
     "cell_type": "raw",
     "metadata": {},
     "source": [
      "import numpy as np\n",
      "a=np.array(df)"
     ]
    },
    {
     "cell_type": "code",
     "collapsed": false,
     "input": [],
     "language": "python",
     "metadata": {},
     "outputs": []
    }
   ],
   "metadata": {}
  }
 ]
}