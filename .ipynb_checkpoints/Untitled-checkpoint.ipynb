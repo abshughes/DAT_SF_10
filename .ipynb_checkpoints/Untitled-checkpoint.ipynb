{
 "cells": [
  {
   "cell_type": "code",
   "execution_count": 7,
   "metadata": {
    "collapsed": false
   },
   "outputs": [],
   "source": [
    "import pandas as pd\n",
    "!cd IHA"
   ]
  },
  {
   "cell_type": "code",
   "execution_count": 8,
   "metadata": {
    "collapsed": false
   },
   "outputs": [
    {
     "name": "stdout",
     "output_type": "stream",
     "text": [
      "\u001b[34mFinal_Project\u001b[m\u001b[m\r\n",
      "HW3-Logistic-Regression-RH-v3_multMdl.ipynb\r\n",
      "\u001b[34mHomework\u001b[m\u001b[m\r\n",
      "\u001b[34mIHA\u001b[m\u001b[m\r\n",
      "\u001b[34mLabs\u001b[m\u001b[m\r\n",
      "\u001b[34mLectures\u001b[m\u001b[m\r\n",
      "\u001b[34mMisc\u001b[m\u001b[m\r\n",
      "\u001b[34mPapers\u001b[m\u001b[m\r\n",
      "README.md\r\n",
      "Reference.ipynb\r\n",
      "Untitled.ipynb\r\n",
      "Untitled0.ipynb\r\n",
      "test.csv\r\n",
      "train.csv\r\n"
     ]
    }
   ],
   "source": [
    "!ls\n"
   ]
  },
  {
   "cell_type": "code",
   "execution_count": 9,
   "metadata": {
    "collapsed": false
   },
   "outputs": [],
   "source": [
    "df=pd.read_csv('IHA/APM.csv')"
   ]
  },
  {
   "cell_type": "code",
   "execution_count": 10,
   "metadata": {
    "collapsed": false
   },
   "outputs": [
    {
     "data": {
      "text/html": [
       "<div style=\"max-height:1000px;max-width:1500px;overflow:auto;\">\n",
       "<table border=\"1\" class=\"dataframe\">\n",
       "  <thead>\n",
       "    <tr style=\"text-align: right;\">\n",
       "      <th></th>\n",
       "      <th>Type</th>\n",
       "      <th>Id</th>\n",
       "      <th>Status</th>\n",
       "      <th>Severity</th>\n",
       "      <th>Summary</th>\n",
       "      <th>Owned By</th>\n",
       "      <th>Created By</th>\n",
       "      <th>Category</th>\n",
       "      <th>Creation Date</th>\n",
       "      <th>Feature</th>\n",
       "      <th>...</th>\n",
       "      <th>Classification</th>\n",
       "      <th>Detected By</th>\n",
       "      <th>Resolution Date</th>\n",
       "      <th>Resolved By</th>\n",
       "      <th>Tags</th>\n",
       "      <th>Quarter Opened</th>\n",
       "      <th>CY_Year_Opened</th>\n",
       "      <th>CY_qtr_open</th>\n",
       "      <th>DaysToClose</th>\n",
       "      <th>Backlog</th>\n",
       "    </tr>\n",
       "  </thead>\n",
       "  <tbody>\n",
       "    <tr>\n",
       "      <th>0</th>\n",
       "      <td> Defect</td>\n",
       "      <td> 229456</td>\n",
       "      <td> Resolved</td>\n",
       "      <td>        4 - Minor</td>\n",
       "      <td> TT50494: We can see unwanted ^M in .xml files ...</td>\n",
       "      <td>          Desai, Neil</td>\n",
       "      <td> Bhadra, Santak</td>\n",
       "      <td>             APM</td>\n",
       "      <td>  1/23/2009 15:26</td>\n",
       "      <td>     Installer</td>\n",
       "      <td>...</td>\n",
       "      <td>                                NaN</td>\n",
       "      <td> Quality Assurance</td>\n",
       "      <td>  10/15/2014 9:56</td>\n",
       "      <td>     Harasta, Patricia A</td>\n",
       "      <td> scrub-close-fixed97, scrub-bill's, tt_apm, tar...</td>\n",
       "      <td>  Older</td>\n",
       "      <td> 2009</td>\n",
       "      <td> 2009Q1</td>\n",
       "      <td> 2090.770833</td>\n",
       "      <td> 0</td>\n",
       "    </tr>\n",
       "    <tr>\n",
       "      <th>1</th>\n",
       "      <td> Defect</td>\n",
       "      <td> 250634</td>\n",
       "      <td> Resolved</td>\n",
       "      <td> 3 - Non-Critical</td>\n",
       "      <td> TT55747: Owner information is not displayed in...</td>\n",
       "      <td>       Wong, Alfred K</td>\n",
       "      <td>        Kucra03</td>\n",
       "      <td>             APM</td>\n",
       "      <td>   10/5/2009 9:07</td>\n",
       "      <td>        Client</td>\n",
       "      <td>...</td>\n",
       "      <td>                                NaN</td>\n",
       "      <td> Quality Assurance</td>\n",
       "      <td>   9/9/2014 19:47</td>\n",
       "      <td>          Wong, Alfred K</td>\n",
       "      <td> scrub-tobeclosed-debris, tt_apm, update_tt_sub...</td>\n",
       "      <td>  Older</td>\n",
       "      <td> 2009</td>\n",
       "      <td> 2009Q4</td>\n",
       "      <td> 1800.444444</td>\n",
       "      <td> 0</td>\n",
       "    </tr>\n",
       "    <tr>\n",
       "      <th>2</th>\n",
       "      <td> Defect</td>\n",
       "      <td> 228195</td>\n",
       "      <td> Resolved</td>\n",
       "      <td>        4 - Minor</td>\n",
       "      <td> TT56717: The New Access Policies doesn't follo...</td>\n",
       "      <td>      Wilson, Russell</td>\n",
       "      <td>   Jbrendlinger</td>\n",
       "      <td>             APM</td>\n",
       "      <td>  11/2/2009 13:11</td>\n",
       "      <td>      Platform</td>\n",
       "      <td>...</td>\n",
       "      <td>     DefectClassification.Usability</td>\n",
       "      <td> Quality Assurance</td>\n",
       "      <td> 10/17/2014 16:26</td>\n",
       "      <td> Rayanapati, Sai Krishna</td>\n",
       "      <td> scrub-gabriel, scrub-close-fixed97, tt_apm, ta...</td>\n",
       "      <td>  Older</td>\n",
       "      <td> 2009</td>\n",
       "      <td> 2009Q4</td>\n",
       "      <td> 1810.135417</td>\n",
       "      <td> 0</td>\n",
       "    </tr>\n",
       "    <tr>\n",
       "      <th>3</th>\n",
       "      <td> Defect</td>\n",
       "      <td> 228199</td>\n",
       "      <td> Resolved</td>\n",
       "      <td> 3 - Non-Critical</td>\n",
       "      <td> TT58767: Create KnowledgeBase article for SQL ...</td>\n",
       "      <td> Krishnamurthy, Anand</td>\n",
       "      <td>    Kur, Marina</td>\n",
       "      <td> APM/Agent Tiger</td>\n",
       "      <td> 12/15/2009 19:30</td>\n",
       "      <td> Data Gatherer</td>\n",
       "      <td>...</td>\n",
       "      <td> DefectClassification.Documentation</td>\n",
       "      <td> Quality Assurance</td>\n",
       "      <td>  4/16/2014 14:07</td>\n",
       "      <td>         Withers, Wren A</td>\n",
       "      <td>             tt_apm, targetedrelease=0.0_(unknown)</td>\n",
       "      <td>  Older</td>\n",
       "      <td> 2009</td>\n",
       "      <td> 2009Q4</td>\n",
       "      <td> 1582.775694</td>\n",
       "      <td> 0</td>\n",
       "    </tr>\n",
       "    <tr>\n",
       "      <th>4</th>\n",
       "      <td> Defect</td>\n",
       "      <td> 229463</td>\n",
       "      <td> Resolved</td>\n",
       "      <td> 3 - Non-Critical</td>\n",
       "      <td>       TT59300: Duplicate tracer found in j2ee.pbd</td>\n",
       "      <td>      Bhadra, Abhijit</td>\n",
       "      <td>        Mehro01</td>\n",
       "      <td>             APM</td>\n",
       "      <td> 12/29/2009 23:54</td>\n",
       "      <td> Data Gatherer</td>\n",
       "      <td>...</td>\n",
       "      <td>                                NaN</td>\n",
       "      <td> Quality Assurance</td>\n",
       "      <td>  10/16/2014 8:45</td>\n",
       "      <td>         Bhadra, Abhijit</td>\n",
       "      <td> targetedrelease=deprecated_9.2.0.0_(sierra), s...</td>\n",
       "      <td>  Older</td>\n",
       "      <td> 2009</td>\n",
       "      <td> 2009Q4</td>\n",
       "      <td> 1751.368750</td>\n",
       "      <td> 0</td>\n",
       "    </tr>\n",
       "  </tbody>\n",
       "</table>\n",
       "<p>5 rows × 22 columns</p>\n",
       "</div>"
      ],
      "text/plain": [
       "     Type      Id    Status          Severity  \\\n",
       "0  Defect  229456  Resolved         4 - Minor   \n",
       "1  Defect  250634  Resolved  3 - Non-Critical   \n",
       "2  Defect  228195  Resolved         4 - Minor   \n",
       "3  Defect  228199  Resolved  3 - Non-Critical   \n",
       "4  Defect  229463  Resolved  3 - Non-Critical   \n",
       "\n",
       "                                             Summary              Owned By  \\\n",
       "0  TT50494: We can see unwanted ^M in .xml files ...           Desai, Neil   \n",
       "1  TT55747: Owner information is not displayed in...        Wong, Alfred K   \n",
       "2  TT56717: The New Access Policies doesn't follo...       Wilson, Russell   \n",
       "3  TT58767: Create KnowledgeBase article for SQL ...  Krishnamurthy, Anand   \n",
       "4        TT59300: Duplicate tracer found in j2ee.pbd       Bhadra, Abhijit   \n",
       "\n",
       "       Created By         Category     Creation Date        Feature  \\\n",
       "0  Bhadra, Santak              APM   1/23/2009 15:26      Installer   \n",
       "1         Kucra03              APM    10/5/2009 9:07         Client   \n",
       "2    Jbrendlinger              APM   11/2/2009 13:11       Platform   \n",
       "3     Kur, Marina  APM/Agent Tiger  12/15/2009 19:30  Data Gatherer   \n",
       "4         Mehro01              APM  12/29/2009 23:54  Data Gatherer   \n",
       "\n",
       "       ...                            Classification        Detected By  \\\n",
       "0      ...                                       NaN  Quality Assurance   \n",
       "1      ...                                       NaN  Quality Assurance   \n",
       "2      ...            DefectClassification.Usability  Quality Assurance   \n",
       "3      ...        DefectClassification.Documentation  Quality Assurance   \n",
       "4      ...                                       NaN  Quality Assurance   \n",
       "\n",
       "    Resolution Date              Resolved By  \\\n",
       "0   10/15/2014 9:56      Harasta, Patricia A   \n",
       "1    9/9/2014 19:47           Wong, Alfred K   \n",
       "2  10/17/2014 16:26  Rayanapati, Sai Krishna   \n",
       "3   4/16/2014 14:07          Withers, Wren A   \n",
       "4   10/16/2014 8:45          Bhadra, Abhijit   \n",
       "\n",
       "                                                Tags Quarter Opened  \\\n",
       "0  scrub-close-fixed97, scrub-bill's, tt_apm, tar...          Older   \n",
       "1  scrub-tobeclosed-debris, tt_apm, update_tt_sub...          Older   \n",
       "2  scrub-gabriel, scrub-close-fixed97, tt_apm, ta...          Older   \n",
       "3              tt_apm, targetedrelease=0.0_(unknown)          Older   \n",
       "4  targetedrelease=deprecated_9.2.0.0_(sierra), s...          Older   \n",
       "\n",
       "  CY_Year_Opened CY_qtr_open  DaysToClose Backlog  \n",
       "0           2009      2009Q1  2090.770833       0  \n",
       "1           2009      2009Q4  1800.444444       0  \n",
       "2           2009      2009Q4  1810.135417       0  \n",
       "3           2009      2009Q4  1582.775694       0  \n",
       "4           2009      2009Q4  1751.368750       0  \n",
       "\n",
       "[5 rows x 22 columns]"
      ]
     },
     "execution_count": 10,
     "metadata": {},
     "output_type": "execute_result"
    }
   ],
   "source": [
    "df.head()"
   ]
  },
  {
   "cell_type": "code",
   "execution_count": 11,
   "metadata": {
    "collapsed": false
   },
   "outputs": [
    {
     "data": {
      "text/plain": [
       "Index([u'Type', u'Id', u'Status', u'Severity', u'Summary', u'Owned By', u'Created By', u'Category', u'Creation Date', u'Feature', u'Found In', u'Found In Release', u'Classification', u'Detected By', u'Resolution Date', u'Resolved By', u'Tags', u'Quarter Opened', u'CY_Year_Opened', u'CY_qtr_open', u'DaysToClose', u'Backlog'], dtype='object')"
      ]
     },
     "execution_count": 11,
     "metadata": {},
     "output_type": "execute_result"
    }
   ],
   "source": [
    "df.columns"
   ]
  },
  {
   "cell_type": "code",
   "execution_count": 20,
   "metadata": {
    "collapsed": false
   },
   "outputs": [
    {
     "data": {
      "text/plain": [
       "0           APM 9.1.0.0 (Trinidad)\n",
       "1           APM 9.1.0.0 (Trinidad)\n",
       "2     Introscope 9.0.0.0 (Deckard)\n",
       "3           APM 9.1.0.0 (Trinidad)\n",
       "4          APM 9.1.1.0 (9.1-SPK-A)\n",
       "5           APM 9.1.0.0 (Trinidad)\n",
       "6     Introscope 9.0.0.0 (Deckard)\n",
       "7           APM 9.1.0.0 (Trinidad)\n",
       "8           APM 9.1.0.0 (Trinidad)\n",
       "9          APM 9.1.1.0 (9.1-SPK-A)\n",
       "10          APM 9.1.0.0 (Trinidad)\n",
       "11          APM 9.1.0.0 (Trinidad)\n",
       "12          APM 9.1.0.0 (Trinidad)\n",
       "13          APM 9.1.0.0 (Trinidad)\n",
       "14          APM 9.1.0.0 (Trinidad)\n",
       "...\n",
       "5509                          APM 9.7.1.0\n",
       "5510    APM 9.6.0.0 (from Release branch)\n",
       "5511                APM 9.5.2.0 (9.5.2.0)\n",
       "5512            APM 9.1.7.0 (9.1.7.0-SPK)\n",
       "5513                APM 9.7.0.0 (9.7.0.0)\n",
       "5514                APM 9.7.0.0 (9.7.0.0)\n",
       "5515                APM 9.7.0.0 (9.7.0.0)\n",
       "5516                        PLEASE UPDATE\n",
       "5517                APM 9.5.0.0 (9.5.0.0)\n",
       "5518              APM 9.1.4.0 (9.1-SPK-C)\n",
       "5519                APM 9.5.3.0 (9.5.3.0)\n",
       "5520                APM 9.0.8.0 (9.0.8.0)\n",
       "5521                        PLEASE UPDATE\n",
       "5522         APM 9.6.0.0 (from QA branch)\n",
       "5523                        PLEASE UPDATE\n",
       "Name: Found In Release, Length: 5524, dtype: object"
      ]
     },
     "execution_count": 20,
     "metadata": {},
     "output_type": "execute_result"
    }
   ],
   "source": [
    "df.ix[:,'Found In Release']"
   ]
  },
  {
   "cell_type": "code",
   "execution_count": 18,
   "metadata": {
    "collapsed": false
   },
   "outputs": [
    {
     "name": "stdout",
     "output_type": "stream",
     "text": [
      "<class 'pandas.core.frame.DataFrame'>\n",
      "Int64Index: 5524 entries, 0 to 5523\n",
      "Data columns (total 23 columns):\n",
      "Type                5524 non-null object\n",
      "Id                  5524 non-null int64\n",
      "Status              5524 non-null object\n",
      "Severity            5524 non-null object\n",
      "Summary             5524 non-null object\n",
      "Owned By            5524 non-null object\n",
      "Created By          5524 non-null object\n",
      "Category            5524 non-null object\n",
      "Creation Date       5524 non-null object\n",
      "Feature             5524 non-null object\n",
      "Found In            5524 non-null object\n",
      "Found In Release    5524 non-null object\n",
      "Classification      2167 non-null object\n",
      "Detected By         5524 non-null object\n",
      "Resolution Date     4522 non-null object\n",
      "Resolved By         5524 non-null object\n",
      "Tags                4497 non-null object\n",
      "Quarter Opened      5524 non-null object\n",
      "CY_Year_Opened      5524 non-null int64\n",
      "CY_qtr_open         5524 non-null object\n",
      "DaysToClose         4522 non-null float64\n",
      "Backlog             5524 non-null int64\n",
      "Severity_num        5524 non-null object\n",
      "dtypes: float64(1), int64(3), object(19)"
     ]
    }
   ],
   "source": [
    "for i in df.index:\n",
    "    df.ix[i,'Severity_num']=df.ix[i,'Severity']\n",
    "df.info()"
   ]
  },
  {
   "cell_type": "code",
   "execution_count": 21,
   "metadata": {
    "collapsed": true
   },
   "outputs": [],
   "source": [
    "import numpy as np"
   ]
  },
  {
   "cell_type": "code",
   "execution_count": 34,
   "metadata": {
    "collapsed": false
   },
   "outputs": [
    {
     "data": {
      "text/plain": [
       "array([['Defect', 229456, 'Resolved', ..., 2090.770833, 0, '4'],\n",
       "       ['Defect', 250634, 'Resolved', ..., 1800.4444440000002, 0, '3'],\n",
       "       ['Defect', 228195, 'Resolved', ..., 1810.1354170000002, 0, '4'],\n",
       "       ..., \n",
       "       ['Defect', 347464, 'New', ..., nan, 1000, '2'],\n",
       "       ['Defect', 347505, 'New', ..., nan, 1001, '3'],\n",
       "       ['Defect', 347511, 'New', ..., nan, 1002, '2']], dtype=object)"
      ]
     },
     "execution_count": 34,
     "metadata": {},
     "output_type": "execute_result"
    }
   ],
   "source": [
    "df1=df.as_matrix()\n",
    "df1\n",
    "#np.histogram(df1[21])"
   ]
  },
  {
   "cell_type": "code",
   "execution_count": 35,
   "metadata": {
    "collapsed": true
   },
   "outputs": [],
   "source": [
    "import matplotlib.pyplot as plt"
   ]
  },
  {
   "cell_type": "code",
   "execution_count": 49,
   "metadata": {
    "collapsed": false
   },
   "outputs": [
    {
     "data": {
      "text/plain": [
       "array([0, 0, 0, ..., 1000, 1001, 1002], dtype=object)"
      ]
     },
     "execution_count": 49,
     "metadata": {},
     "output_type": "execute_result"
    }
   ],
   "source": [
    "df1[:,21]"
   ]
  },
  {
   "cell_type": "code",
   "execution_count": 55,
   "metadata": {
    "collapsed": false
   },
   "outputs": [],
   "source": [
    "n_bins=5\n",
    "%matplotlib inline  "
   ]
  },
  {
   "cell_type": "code",
   "execution_count": 56,
   "metadata": {
    "collapsed": false
   },
   "outputs": [
    {
     "data": {
      "text/plain": [
       "(array([  585.,   808.,  1629.,  1908.,   594.]),\n",
       " array([    0. ,   200.4,   400.8,   601.2,   801.6,  1002. ]),\n",
       " <a list of 5 Patch objects>)"
      ]
     },
     "execution_count": 56,
     "metadata": {},
     "output_type": "execute_result"
    },
    {
     "data": {
      "image/png": "[encoded data removed]",
      "text/plain": [
       "<matplotlib.figure.Figure at 0x1094933d0>"
      ]
     },
     "metadata": {},
     "output_type": "display_data"
    }
   ],
   "source": [
    "plt.hist(df1[:,21],n_bins)\n"
   ]
  },
  {
   "cell_type": "code",
   "execution_count": 61,
   "metadata": {
    "collapsed": false
   },
   "outputs": [
    {
     "data": {
      "text/html": [
       "<div style=\"max-height:1000px;max-width:1500px;overflow:auto;\">\n",
       "<table border=\"1\" class=\"dataframe\">\n",
       "  <thead>\n",
       "    <tr style=\"text-align: right;\">\n",
       "      <th></th>\n",
       "      <th>DaysToClose</th>\n",
       "      <th>Severity</th>\n",
       "      <th>Found In Release</th>\n",
       "    </tr>\n",
       "  </thead>\n",
       "  <tbody>\n",
       "    <tr>\n",
       "      <th>0</th>\n",
       "      <td> 2090.770833</td>\n",
       "      <td>        4 - Minor</td>\n",
       "      <td>       APM 9.1.0.0 (Trinidad)</td>\n",
       "    </tr>\n",
       "    <tr>\n",
       "      <th>1</th>\n",
       "      <td> 1800.444444</td>\n",
       "      <td> 3 - Non-Critical</td>\n",
       "      <td>       APM 9.1.0.0 (Trinidad)</td>\n",
       "    </tr>\n",
       "    <tr>\n",
       "      <th>2</th>\n",
       "      <td> 1810.135417</td>\n",
       "      <td>        4 - Minor</td>\n",
       "      <td> Introscope 9.0.0.0 (Deckard)</td>\n",
       "    </tr>\n",
       "    <tr>\n",
       "      <th>3</th>\n",
       "      <td> 1582.775694</td>\n",
       "      <td> 3 - Non-Critical</td>\n",
       "      <td>       APM 9.1.0.0 (Trinidad)</td>\n",
       "    </tr>\n",
       "    <tr>\n",
       "      <th>4</th>\n",
       "      <td> 1751.368750</td>\n",
       "      <td> 3 - Non-Critical</td>\n",
       "      <td>      APM 9.1.1.0 (9.1-SPK-A)</td>\n",
       "    </tr>\n",
       "  </tbody>\n",
       "</table>\n",
       "</div>"
      ],
      "text/plain": [
       "   DaysToClose          Severity              Found In Release\n",
       "0  2090.770833         4 - Minor        APM 9.1.0.0 (Trinidad)\n",
       "1  1800.444444  3 - Non-Critical        APM 9.1.0.0 (Trinidad)\n",
       "2  1810.135417         4 - Minor  Introscope 9.0.0.0 (Deckard)\n",
       "3  1582.775694  3 - Non-Critical        APM 9.1.0.0 (Trinidad)\n",
       "4  1751.368750  3 - Non-Critical       APM 9.1.1.0 (9.1-SPK-A)"
      ]
     },
     "execution_count": 61,
     "metadata": {},
     "output_type": "execute_result"
    }
   ],
   "source": [
    "dfx=df[['DaysToClose', 'Severity', 'Found In Release']]\n",
    "dfx.head()"
   ]
  },
  {
   "cell_type": "code",
   "execution_count": 59,
   "metadata": {
    "collapsed": true
   },
   "outputs": [],
   "source": [
    "N=5\n",
    "#calculating average DaysToClose for each release"
   ]
  },
  {
   "cell_type": "code",
   "execution_count": 87,
   "metadata": {
    "collapsed": false
   },
   "outputs": [],
   "source": [
    "sev=np.unique(df[['Severity']].values.ravel())"
   ]
  },
  {
   "cell_type": "code",
   "execution_count": 88,
   "metadata": {
    "collapsed": false
   },
   "outputs": [
    {
     "name": "stdout",
     "output_type": "stream",
     "text": [
      "4\n"
     ]
    }
   ],
   "source": [
    "print len(sev)"
   ]
  },
  {
   "cell_type": "code",
   "execution_count": 89,
   "metadata": {
    "collapsed": false
   },
   "outputs": [],
   "source": [
    "#dfx.plot(kind='bar')"
   ]
  },
  {
   "cell_type": "code",
   "execution_count": 90,
   "metadata": {
    "collapsed": false
   },
   "outputs": [
    {
     "data": {
      "text/plain": [
       "[<matplotlib.text.Text at 0x1535ef710>,\n",
       " <matplotlib.text.Text at 0x153b94f50>,\n",
       " <matplotlib.text.Text at 0x153d5c0d0>,\n",
       " <matplotlib.text.Text at 0x153d92950>]"
      ]
     },
     "execution_count": 90,
     "metadata": {},
     "output_type": "execute_result"
    },
    {
     "data": {
      "image/png": "[encoded data removed]",
      "text/plain": [
       "<matplotlib.figure.Figure at 0x1526c5050>"
      ]
     },
     "metadata": {},
     "output_type": "display_data"
    }
   ],
   "source": [
    "fig, ax = plt.subplots()\n",
    "ax.set_xticklabels(sev)"
   ]
  },
  {
   "cell_type": "code",
   "execution_count": null,
   "metadata": {
    "collapsed": true
   },
   "outputs": [],
   "source": []
  }
 ],
 "metadata": {
  "kernelspec": {
   "display_name": "Python 2",
   "language": "python",
   "name": "python2"
  },
  "language_info": {
   "codemirror_mode": {
    "name": "ipython",
    "version": 2
   },
   "file_extension": ".py",
   "mimetype": "text/x-python",
   "name": "python",
   "nbconvert_exporter": "python",
   "pygments_lexer": "ipython2",
   "version": "2.7.9"
  }
 },
 "nbformat": 4,
 "nbformat_minor": 0
}
