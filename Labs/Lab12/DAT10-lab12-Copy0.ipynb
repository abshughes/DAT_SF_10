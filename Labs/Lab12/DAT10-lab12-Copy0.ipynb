{
 "metadata": {
  "name": "",
  "signature": "sha256:35212cb6292c4db35fe6e5d8f2dcb6b6a557b8c805c78dd2ca270d85644941e3"
 },
 "nbformat": 3,
 "nbformat_minor": 0,
 "worksheets": [
  {
   "cells": [
    {
     "cell_type": "markdown",
     "metadata": {},
     "source": [
      "# GA Data Science 10 (DAT10) - Lab 12\n",
      "\n",
      "### Recommendation Systems\n",
      "\n",
      "Francesco Mosconi\n",
      "\n",
      "### Today\n",
      "\n",
      "1. Simple similarity based recommendation system\n",
      "2. Recsys\n",
      "3. Optional (yhat)"
     ]
    },
    {
     "cell_type": "markdown",
     "metadata": {},
     "source": [
      "## Similarity based Recommendation System: Beers"
     ]
    },
    {
     "cell_type": "markdown",
     "metadata": {},
     "source": [
      "Usual imports (numpy, pandas)"
     ]
    },
    {
     "cell_type": "code",
     "collapsed": false,
     "input": [
      "import pandas as pd\n",
      "import numpy as np"
     ],
     "language": "python",
     "metadata": {},
     "outputs": [],
     "prompt_number": 1
    },
    {
     "cell_type": "markdown",
     "metadata": {},
     "source": [
      "First of all let's get the data"
     ]
    },
    {
     "cell_type": "code",
     "collapsed": false,
     "input": [
      "! curl -O https://s3.amazonaws.com/demo-datasets/beer_reviews.tar.gz"
     ],
     "language": "python",
     "metadata": {},
     "outputs": [
      {
       "output_type": "stream",
       "stream": "stdout",
       "text": [
        "  % Total    % Received % Xferd  Average Speed   Time    Time     Time  Current\r\n",
        "                                 Dload  Upload   Total   Spent    Left  Speed\r\n",
        "\r",
        "  0     0    0     0    0     0      0      0 --:--:-- --:--:-- --:--:--     0"
       ]
      },
      {
       "output_type": "stream",
       "stream": "stdout",
       "text": [
        "\r",
        "  0 27.3M    0  8642    0     0   8973      0  0:53:19 --:--:--  0:53:19 15108"
       ]
      },
      {
       "output_type": "stream",
       "stream": "stdout",
       "text": [
        "\r",
        "  1 27.3M    1  439k    0     0   223k      0  0:02:05  0:00:01  0:02:04  279k"
       ]
      },
      {
       "output_type": "stream",
       "stream": "stdout",
       "text": [
        "\r",
        "  3 27.3M    3  909k    0     0   306k      0  0:01:31  0:00:02  0:01:29  353k"
       ]
      },
      {
       "output_type": "stream",
       "stream": "stdout",
       "text": [
        "\r",
        "  4 27.3M    4 1385k    0     0   349k      0  0:01:20  0:00:03  0:01:17  387k"
       ]
      },
      {
       "output_type": "stream",
       "stream": "stdout",
       "text": [
        "\r",
        "  6 27.3M    6 1877k    0     0   378k      0  0:01:14  0:00:04  0:01:10  410k"
       ]
      },
      {
       "output_type": "stream",
       "stream": "stdout",
       "text": [
        "\r",
        "  8 27.3M    8 2354k    0     0   394k      0  0:01:11  0:00:05  0:01:06  469k"
       ]
      },
      {
       "output_type": "stream",
       "stream": "stdout",
       "text": [
        "\r",
        " 10 27.3M   10 2830k    0     0   406k      0  0:01:08  0:00:06  0:01:02  478k"
       ]
      },
      {
       "output_type": "stream",
       "stream": "stdout",
       "text": [
        "\r",
        " 11 27.3M   11 3306k    0     0   415k      0  0:01:07  0:00:07  0:01:00  479k"
       ]
      },
      {
       "output_type": "stream",
       "stream": "stdout",
       "text": [
        "\r",
        " 13 27.3M   13 3782k    0     0   422k      0  0:01:06  0:00:08  0:00:58  479k"
       ]
      },
      {
       "output_type": "stream",
       "stream": "stdout",
       "text": [
        "\r",
        " 15 27.3M   15 4258k    0     0   427k      0  0:01:05  0:00:09  0:00:56  476k"
       ]
      },
      {
       "output_type": "stream",
       "stream": "stdout",
       "text": [
        "\r",
        " 16 27.3M   16 4717k    0     0   429k      0  0:01:05  0:00:10  0:00:55  469k"
       ]
      },
      {
       "output_type": "stream",
       "stream": "stdout",
       "text": [
        "\r",
        " 18 27.3M   18 5210k    0     0   435k      0  0:01:04  0:00:11  0:00:53  476k"
       ]
      },
      {
       "output_type": "stream",
       "stream": "stdout",
       "text": [
        "\r",
        " 20 27.3M   20 5686k    0     0   438k      0  0:01:03  0:00:12  0:00:51  476k"
       ]
      },
      {
       "output_type": "stream",
       "stream": "stdout",
       "text": [
        "\r",
        " 21 27.3M   21 6162k    0     0   441k      0  0:01:03  0:00:13  0:00:50  476k"
       ]
      },
      {
       "output_type": "stream",
       "stream": "stdout",
       "text": [
        "\r",
        " 23 27.3M   23 6552k    0     0   437k      0  0:01:04  0:00:14  0:00:50  458k"
       ]
      },
      {
       "output_type": "stream",
       "stream": "stdout",
       "text": [
        "\r",
        " 24 27.3M   24 6876k    0     0   430k      0  0:01:05  0:00:15  0:00:50  432k"
       ]
      },
      {
       "output_type": "stream",
       "stream": "stdout",
       "text": [
        "\r",
        " 26 27.3M   26 7505k    0     0   442k      0  0:01:03  0:00:16  0:00:47  458k"
       ]
      },
      {
       "output_type": "stream",
       "stream": "stdout",
       "text": [
        "\r",
        " 28 27.3M   28 7997k    0     0   445k      0  0:01:02  0:00:17  0:00:45  462k"
       ]
      },
      {
       "output_type": "stream",
       "stream": "stdout",
       "text": [
        "\r",
        " 29 27.3M   29 8286k    0     0   436k      0  0:01:04  0:00:18  0:00:46  424k"
       ]
      },
      {
       "output_type": "stream",
       "stream": "stdout",
       "text": [
        "\r",
        " 31 27.3M   31 8831k    0     0   430k      0  0:01:05  0:00:20  0:00:45  411k"
       ]
      },
      {
       "output_type": "stream",
       "stream": "stdout",
       "text": [
        "\r",
        " 31 27.3M   31 8881k    0     0   422k      0  0:01:06  0:00:21  0:00:45  398k"
       ]
      },
      {
       "output_type": "stream",
       "stream": "stdout",
       "text": [
        "\r",
        " 32 27.3M   32 9239k    0     0   420k      0  0:01:06  0:00:21  0:00:45  346k"
       ]
      },
      {
       "output_type": "stream",
       "stream": "stdout",
       "text": [
        "\r",
        " 34 27.3M   34 9664k    0     0   419k      0  0:01:06  0:00:23  0:00:43  327k"
       ]
      },
      {
       "output_type": "stream",
       "stream": "stdout",
       "text": [
        "\r",
        " 34 27.3M   34 9732k    0     0   405k      0  0:01:09  0:00:23  0:00:46  288k"
       ]
      },
      {
       "output_type": "stream",
       "stream": "stdout",
       "text": [
        "\r",
        " 35 27.3M   35  9.8M    0     0   402k      0  0:01:09  0:00:24  0:00:45  274k"
       ]
      },
      {
       "output_type": "stream",
       "stream": "stdout",
       "text": [
        "\r",
        " 37 27.3M   37 10.2M    0     0   405k      0  0:01:09  0:00:25  0:00:44  333k"
       ]
      },
      {
       "output_type": "stream",
       "stream": "stdout",
       "text": [
        "\r",
        " 39 27.3M   39 10.7M    0     0   408k      0  0:01:08  0:00:26  0:00:42  353k"
       ]
      },
      {
       "output_type": "stream",
       "stream": "stdout",
       "text": [
        "\r",
        " 40 27.3M   40 11.2M    0     0   410k      0  0:01:08  0:00:27  0:00:41  370k"
       ]
      },
      {
       "output_type": "stream",
       "stream": "stdout",
       "text": [
        "\r",
        " 42 27.3M   42 11.6M    0     0   412k      0  0:01:07  0:00:28  0:00:39  447k"
       ]
      },
      {
       "output_type": "stream",
       "stream": "stdout",
       "text": [
        "\r",
        " 44 27.3M   44 12.1M    0     0   415k      0  0:01:07  0:00:29  0:00:38  475k"
       ]
      },
      {
       "output_type": "stream",
       "stream": "stdout",
       "text": [
        "\r",
        " 46 27.3M   46 12.6M    0     0   416k      0  0:01:07  0:00:30  0:00:37  474k"
       ]
      },
      {
       "output_type": "stream",
       "stream": "stdout",
       "text": [
        "\r",
        " 47 27.3M   47 13.0M    0     0   418k      0  0:01:06  0:00:31  0:00:35  475k"
       ]
      },
      {
       "output_type": "stream",
       "stream": "stdout",
       "text": [
        "\r",
        " 48 27.3M   48 13.4M    0     0   415k      0  0:01:07  0:00:33  0:00:34  439k"
       ]
      },
      {
       "output_type": "stream",
       "stream": "stdout",
       "text": [
        "\r",
        " 51 27.3M   51 14.0M    0     0   422k      0  0:01:06  0:00:33  0:00:33  476k"
       ]
      },
      {
       "output_type": "stream",
       "stream": "stdout",
       "text": [
        "\r",
        " 52 27.3M   52 14.3M    0     0   421k      0  0:01:06  0:00:34  0:00:32  458k"
       ]
      },
      {
       "output_type": "stream",
       "stream": "stdout",
       "text": [
        "\r",
        " 54 27.3M   54 14.8M    0     0   422k      0  0:01:06  0:00:35  0:00:31  457k"
       ]
      },
      {
       "output_type": "stream",
       "stream": "stdout",
       "text": [
        "\r",
        " 55 27.3M   55 15.2M    0     0   423k      0  0:01:06  0:00:36  0:00:30  455k"
       ]
      },
      {
       "output_type": "stream",
       "stream": "stdout",
       "text": [
        "\r",
        " 57 27.3M   57 15.7M    0     0   425k      0  0:01:05  0:00:37  0:00:28  493k"
       ]
      },
      {
       "output_type": "stream",
       "stream": "stdout",
       "text": [
        "\r",
        " 59 27.3M   59 16.2M    0     0   426k      0  0:01:05  0:00:38  0:00:27  455k"
       ]
      },
      {
       "output_type": "stream",
       "stream": "stdout",
       "text": [
        "\r",
        " 60 27.3M   60 16.6M    0     0   427k      0  0:01:05  0:00:39  0:00:26  472k"
       ]
      },
      {
       "output_type": "stream",
       "stream": "stdout",
       "text": [
        "\r",
        " 62 27.3M   62 17.1M    0     0   428k      0  0:01:05  0:00:40  0:00:25  475k"
       ]
      },
      {
       "output_type": "stream",
       "stream": "stdout",
       "text": [
        "\r",
        " 64 27.3M   64 17.6M    0     0   430k      0  0:01:05  0:00:41  0:00:24  479k"
       ]
      },
      {
       "output_type": "stream",
       "stream": "stdout",
       "text": [
        "\r",
        " 66 27.3M   66 18.1M    0     0   431k      0  0:01:04  0:00:42  0:00:22  479k"
       ]
      },
      {
       "output_type": "stream",
       "stream": "stdout",
       "text": [
        "\r",
        " 67 27.3M   67 18.5M    0     0   432k      0  0:01:04  0:00:43  0:00:21  479k"
       ]
      },
      {
       "output_type": "stream",
       "stream": "stdout",
       "text": [
        "\r",
        " 69 27.3M   69 18.9M    0     0   430k      0  0:01:05  0:00:45  0:00:20  456k"
       ]
      },
      {
       "output_type": "stream",
       "stream": "stdout",
       "text": [
        "\r",
        " 71 27.3M   71 19.4M    0     0   433k      0  0:01:04  0:00:45  0:00:19  472k"
       ]
      },
      {
       "output_type": "stream",
       "stream": "stdout",
       "text": [
        "\r",
        " 72 27.3M   72 19.9M    0     0   434k      0  0:01:04  0:00:46  0:00:18  472k"
       ]
      },
      {
       "output_type": "stream",
       "stream": "stdout",
       "text": [
        "\r",
        " 74 27.3M   74 20.4M    0     0   435k      0  0:01:04  0:00:47  0:00:17  472k"
       ]
      },
      {
       "output_type": "stream",
       "stream": "stdout",
       "text": [
        "\r",
        " 76 27.3M   76 20.8M    0     0   436k      0  0:01:04  0:00:48  0:00:16  472k"
       ]
      },
      {
       "output_type": "stream",
       "stream": "stdout",
       "text": [
        "\r",
        " 77 27.3M   77 21.3M    0     0   437k      0  0:01:04  0:00:49  0:00:15  495k"
       ]
      },
      {
       "output_type": "stream",
       "stream": "stdout",
       "text": [
        "\r",
        " 79 27.3M   79 21.8M    0     0   438k      0  0:01:03  0:00:50  0:00:13  479k"
       ]
      },
      {
       "output_type": "stream",
       "stream": "stdout",
       "text": [
        "\r",
        " 81 27.3M   81 22.2M    0     0   438k      0  0:01:03  0:00:51  0:00:12  476k"
       ]
      },
      {
       "output_type": "stream",
       "stream": "stdout",
       "text": [
        "\r",
        " 83 27.3M   83 22.7M    0     0   439k      0  0:01:03  0:00:52  0:00:11  476k"
       ]
      },
      {
       "output_type": "stream",
       "stream": "stdout",
       "text": [
        "\r",
        " 84 27.3M   84 23.2M    0     0   440k      0  0:01:03  0:00:53  0:00:10  476k"
       ]
      },
      {
       "output_type": "stream",
       "stream": "stdout",
       "text": [
        "\r",
        " 86 27.3M   86 23.6M    0     0   440k      0  0:01:03  0:00:54  0:00:09  469k"
       ]
      },
      {
       "output_type": "stream",
       "stream": "stdout",
       "text": [
        "\r",
        " 88 27.3M   88 24.0M    0     0   440k      0  0:01:03  0:00:55  0:00:08  469k"
       ]
      },
      {
       "output_type": "stream",
       "stream": "stdout",
       "text": [
        "\r",
        " 89 27.3M   89 24.5M    0     0   441k      0  0:01:03  0:00:56  0:00:07  469k"
       ]
      },
      {
       "output_type": "stream",
       "stream": "stdout",
       "text": [
        "\r",
        " 91 27.3M   91 25.0M    0     0   442k      0  0:01:03  0:00:57  0:00:06  469k"
       ]
      },
      {
       "output_type": "stream",
       "stream": "stdout",
       "text": [
        "\r",
        " 93 27.3M   93 25.4M    0     0   442k      0  0:01:03  0:00:58  0:00:05  469k"
       ]
      },
      {
       "output_type": "stream",
       "stream": "stdout",
       "text": [
        "\r",
        " 94 27.3M   94 25.9M    0     0   443k      0  0:01:03  0:00:59  0:00:04  475k"
       ]
      },
      {
       "output_type": "stream",
       "stream": "stdout",
       "text": [
        "\r",
        " 96 27.3M   96 26.3M    0     0   443k      0  0:01:03  0:01:00  0:00:03  467k"
       ]
      },
      {
       "output_type": "stream",
       "stream": "stdout",
       "text": [
        "\r",
        " 98 27.3M   98 26.8M    0     0   444k      0  0:01:03  0:01:01  0:00:02  475k"
       ]
      },
      {
       "output_type": "stream",
       "stream": "stdout",
       "text": [
        "\r",
        " 99 27.3M   99 27.3M    0     0   444k      0  0:01:03  0:01:02  0:00:01  476k\r",
        "100 27.3M  100 27.3M    0     0   445"
       ]
      },
      {
       "output_type": "stream",
       "stream": "stdout",
       "text": [
        "k      0  0:01:02  0:01:02 --:--:--  479k\r\n"
       ]
      }
     ],
     "prompt_number": 3
    },
    {
     "cell_type": "markdown",
     "metadata": {},
     "source": [
      "Import data in pandas dataframe"
     ]
    },
    {
     "cell_type": "code",
     "collapsed": false,
     "input": [
      "df = pd.read_csv(\"beer_reviews.tar.gz\", compression='gzip')"
     ],
     "language": "python",
     "metadata": {},
     "outputs": [
      {
       "output_type": "stream",
       "stream": "stderr",
       "text": [
        "/Users/annabachurina/anaconda/lib/python2.7/site-packages/pandas/io/parsers.py:1139: DtypeWarning: Columns (0) have mixed types. Specify dtype option on import or set low_memory=False.\n",
        "  data = self._reader.read(nrows)\n"
       ]
      }
     ],
     "prompt_number": 4
    },
    {
     "cell_type": "markdown",
     "metadata": {},
     "source": [
      "Let's look at the data"
     ]
    },
    {
     "cell_type": "code",
     "collapsed": false,
     "input": [
      "df.head()"
     ],
     "language": "python",
     "metadata": {},
     "outputs": [
      {
       "html": [
        "<div style=\"max-height:1000px;max-width:1500px;overflow:auto;\">\n",
        "<table border=\"1\" class=\"dataframe\">\n",
        "  <thead>\n",
        "    <tr style=\"text-align: right;\">\n",
        "      <th></th>\n",
        "      <th>beer_reviews/</th>\n",
        "      <th>brewery_name</th>\n",
        "      <th>review_time</th>\n",
        "      <th>review_overall</th>\n",
        "      <th>review_aroma</th>\n",
        "      <th>review_appearance</th>\n",
        "      <th>review_profilename</th>\n",
        "      <th>beer_style</th>\n",
        "      <th>review_palate</th>\n",
        "      <th>review_taste</th>\n",
        "      <th>beer_name</th>\n",
        "      <th>beer_abv</th>\n",
        "      <th>beer_beerid</th>\n",
        "    </tr>\n",
        "  </thead>\n",
        "  <tbody>\n",
        "    <tr>\n",
        "      <th>0</th>\n",
        "      <td> 10325</td>\n",
        "      <td>         Vecchio Birraio</td>\n",
        "      <td> 1234817823</td>\n",
        "      <td> 1.5</td>\n",
        "      <td> 2.0</td>\n",
        "      <td> 2.5</td>\n",
        "      <td>        stcules</td>\n",
        "      <td>                     Hefeweizen</td>\n",
        "      <td> 1.5</td>\n",
        "      <td> 1.5</td>\n",
        "      <td>           Sausa Weizen</td>\n",
        "      <td> 5.0</td>\n",
        "      <td> 47986</td>\n",
        "    </tr>\n",
        "    <tr>\n",
        "      <th>1</th>\n",
        "      <td> 10325</td>\n",
        "      <td>         Vecchio Birraio</td>\n",
        "      <td> 1235915097</td>\n",
        "      <td> 3.0</td>\n",
        "      <td> 2.5</td>\n",
        "      <td> 3.0</td>\n",
        "      <td>        stcules</td>\n",
        "      <td>             English Strong Ale</td>\n",
        "      <td> 3.0</td>\n",
        "      <td> 3.0</td>\n",
        "      <td>               Red Moon</td>\n",
        "      <td> 6.2</td>\n",
        "      <td> 48213</td>\n",
        "    </tr>\n",
        "    <tr>\n",
        "      <th>2</th>\n",
        "      <td> 10325</td>\n",
        "      <td>         Vecchio Birraio</td>\n",
        "      <td> 1235916604</td>\n",
        "      <td> 3.0</td>\n",
        "      <td> 2.5</td>\n",
        "      <td> 3.0</td>\n",
        "      <td>        stcules</td>\n",
        "      <td>         Foreign / Export Stout</td>\n",
        "      <td> 3.0</td>\n",
        "      <td> 3.0</td>\n",
        "      <td> Black Horse Black Beer</td>\n",
        "      <td> 6.5</td>\n",
        "      <td> 48215</td>\n",
        "    </tr>\n",
        "    <tr>\n",
        "      <th>3</th>\n",
        "      <td> 10325</td>\n",
        "      <td>         Vecchio Birraio</td>\n",
        "      <td> 1234725145</td>\n",
        "      <td> 3.0</td>\n",
        "      <td> 3.0</td>\n",
        "      <td> 3.5</td>\n",
        "      <td>        stcules</td>\n",
        "      <td>                German Pilsener</td>\n",
        "      <td> 2.5</td>\n",
        "      <td> 3.0</td>\n",
        "      <td>             Sausa Pils</td>\n",
        "      <td> 5.0</td>\n",
        "      <td> 47969</td>\n",
        "    </tr>\n",
        "    <tr>\n",
        "      <th>4</th>\n",
        "      <td>  1075</td>\n",
        "      <td> Caldera Brewing Company</td>\n",
        "      <td> 1293735206</td>\n",
        "      <td> 4.0</td>\n",
        "      <td> 4.5</td>\n",
        "      <td> 4.0</td>\n",
        "      <td> johnmichaelsen</td>\n",
        "      <td> American Double / Imperial IPA</td>\n",
        "      <td> 4.0</td>\n",
        "      <td> 4.5</td>\n",
        "      <td>          Cauldron DIPA</td>\n",
        "      <td> 7.7</td>\n",
        "      <td> 64883</td>\n",
        "    </tr>\n",
        "  </tbody>\n",
        "</table>\n",
        "</div>"
       ],
       "metadata": {},
       "output_type": "pyout",
       "prompt_number": 82,
       "text": [
        "  beer_reviews/             brewery_name  review_time  review_overall  \\\n",
        "0         10325          Vecchio Birraio   1234817823             1.5   \n",
        "1         10325          Vecchio Birraio   1235915097             3.0   \n",
        "2         10325          Vecchio Birraio   1235916604             3.0   \n",
        "3         10325          Vecchio Birraio   1234725145             3.0   \n",
        "4          1075  Caldera Brewing Company   1293735206             4.0   \n",
        "\n",
        "   review_aroma  review_appearance review_profilename  \\\n",
        "0           2.0                2.5            stcules   \n",
        "1           2.5                3.0            stcules   \n",
        "2           2.5                3.0            stcules   \n",
        "3           3.0                3.5            stcules   \n",
        "4           4.5                4.0     johnmichaelsen   \n",
        "\n",
        "                       beer_style  review_palate  review_taste  \\\n",
        "0                      Hefeweizen            1.5           1.5   \n",
        "1              English Strong Ale            3.0           3.0   \n",
        "2          Foreign / Export Stout            3.0           3.0   \n",
        "3                 German Pilsener            2.5           3.0   \n",
        "4  American Double / Imperial IPA            4.0           4.5   \n",
        "\n",
        "                beer_name  beer_abv  beer_beerid  \n",
        "0            Sausa Weizen       5.0        47986  \n",
        "1                Red Moon       6.2        48213  \n",
        "2  Black Horse Black Beer       6.5        48215  \n",
        "3              Sausa Pils       5.0        47969  \n",
        "4           Cauldron DIPA       7.7        64883  "
       ]
      }
     ],
     "prompt_number": 82
    },
    {
     "cell_type": "markdown",
     "metadata": {},
     "source": [
      "Let's restrict this to the top 250 beers. Use the value_counts() method"
     ]
    },
    {
     "cell_type": "code",
     "collapsed": false,
     "input": [
      "n=10000\n",
      "top_n=df.beer_name.value_counts().index[:n]\n",
      "df1=df[df.beer_name.isin(top_n)]\n",
      "df1"
     ],
     "language": "python",
     "metadata": {},
     "outputs": [
      {
       "html": [
        "<div style=\"max-height:1000px;max-width:1500px;overflow:auto;\">\n",
        "<table border=\"1\" class=\"dataframe\">\n",
        "  <thead>\n",
        "    <tr style=\"text-align: right;\">\n",
        "      <th></th>\n",
        "      <th>beer_reviews/</th>\n",
        "      <th>brewery_name</th>\n",
        "      <th>review_time</th>\n",
        "      <th>review_overall</th>\n",
        "      <th>review_aroma</th>\n",
        "      <th>review_appearance</th>\n",
        "      <th>review_profilename</th>\n",
        "      <th>beer_style</th>\n",
        "      <th>review_palate</th>\n",
        "      <th>review_taste</th>\n",
        "      <th>beer_name</th>\n",
        "      <th>beer_abv</th>\n",
        "      <th>beer_beerid</th>\n",
        "    </tr>\n",
        "  </thead>\n",
        "  <tbody>\n",
        "    <tr>\n",
        "      <th>10     </th>\n",
        "      <td>   163</td>\n",
        "      <td>      Amstel Brouwerij B. V.</td>\n",
        "      <td> 1010963392</td>\n",
        "      <td> 3.0</td>\n",
        "      <td> 2.0</td>\n",
        "      <td> 3.0</td>\n",
        "      <td>          fodeeoz</td>\n",
        "      <td>                    Light Lager</td>\n",
        "      <td> 2.5</td>\n",
        "      <td> 2.5</td>\n",
        "      <td>     Amstel Light</td>\n",
        "      <td> 3.5</td>\n",
        "      <td>   436</td>\n",
        "    </tr>\n",
        "    <tr>\n",
        "      <th>18     </th>\n",
        "      <td>   163</td>\n",
        "      <td>      Amstel Brouwerij B. V.</td>\n",
        "      <td> 1010861086</td>\n",
        "      <td> 2.5</td>\n",
        "      <td> 3.0</td>\n",
        "      <td> 3.0</td>\n",
        "      <td>           jdhilt</td>\n",
        "      <td>                    Light Lager</td>\n",
        "      <td> 2.0</td>\n",
        "      <td> 2.0</td>\n",
        "      <td>     Amstel Light</td>\n",
        "      <td> 3.5</td>\n",
        "      <td>   436</td>\n",
        "    </tr>\n",
        "    <tr>\n",
        "      <th>19     </th>\n",
        "      <td>  1075</td>\n",
        "      <td>     Caldera Brewing Company</td>\n",
        "      <td> 1325478004</td>\n",
        "      <td> 4.5</td>\n",
        "      <td> 4.5</td>\n",
        "      <td> 3.0</td>\n",
        "      <td>      UCLABrewN84</td>\n",
        "      <td>                      Rauchbier</td>\n",
        "      <td> 4.0</td>\n",
        "      <td> 4.5</td>\n",
        "      <td>    Rauch \u00dcr Bock</td>\n",
        "      <td> 7.4</td>\n",
        "      <td> 58046</td>\n",
        "    </tr>\n",
        "    <tr>\n",
        "      <th>20     </th>\n",
        "      <td>  1075</td>\n",
        "      <td>     Caldera Brewing Company</td>\n",
        "      <td> 1325360812</td>\n",
        "      <td> 4.0</td>\n",
        "      <td> 4.0</td>\n",
        "      <td> 4.0</td>\n",
        "      <td>       zaphodchak</td>\n",
        "      <td>                      Rauchbier</td>\n",
        "      <td> 3.0</td>\n",
        "      <td> 4.0</td>\n",
        "      <td>    Rauch \u00dcr Bock</td>\n",
        "      <td> 7.4</td>\n",
        "      <td> 58046</td>\n",
        "    </tr>\n",
        "    <tr>\n",
        "      <th>21     </th>\n",
        "      <td>  1075</td>\n",
        "      <td>     Caldera Brewing Company</td>\n",
        "      <td> 1322506304</td>\n",
        "      <td> 4.0</td>\n",
        "      <td> 4.5</td>\n",
        "      <td> 4.0</td>\n",
        "      <td>          Tilley4</td>\n",
        "      <td>                      Rauchbier</td>\n",
        "      <td> 3.5</td>\n",
        "      <td> 4.0</td>\n",
        "      <td>    Rauch \u00dcr Bock</td>\n",
        "      <td> 7.4</td>\n",
        "      <td> 58046</td>\n",
        "    </tr>\n",
        "    <tr>\n",
        "      <th>22     </th>\n",
        "      <td>  1075</td>\n",
        "      <td>     Caldera Brewing Company</td>\n",
        "      <td> 1320494397</td>\n",
        "      <td> 4.5</td>\n",
        "      <td> 5.0</td>\n",
        "      <td> 4.5</td>\n",
        "      <td>  mikedrinksbeer2</td>\n",
        "      <td>                      Rauchbier</td>\n",
        "      <td> 4.0</td>\n",
        "      <td> 4.5</td>\n",
        "      <td>    Rauch \u00dcr Bock</td>\n",
        "      <td> 7.4</td>\n",
        "      <td> 58046</td>\n",
        "    </tr>\n",
        "    <tr>\n",
        "      <th>23     </th>\n",
        "      <td>  1075</td>\n",
        "      <td>     Caldera Brewing Company</td>\n",
        "      <td> 1320140421</td>\n",
        "      <td> 4.0</td>\n",
        "      <td> 4.5</td>\n",
        "      <td> 4.0</td>\n",
        "      <td>       dbmernin83</td>\n",
        "      <td>                      Rauchbier</td>\n",
        "      <td> 4.0</td>\n",
        "      <td> 4.5</td>\n",
        "      <td>    Rauch \u00dcr Bock</td>\n",
        "      <td> 7.4</td>\n",
        "      <td> 58046</td>\n",
        "    </tr>\n",
        "    <tr>\n",
        "      <th>24     </th>\n",
        "      <td>  1075</td>\n",
        "      <td>     Caldera Brewing Company</td>\n",
        "      <td> 1319847514</td>\n",
        "      <td> 4.5</td>\n",
        "      <td> 4.5</td>\n",
        "      <td> 4.0</td>\n",
        "      <td>   titosupertramp</td>\n",
        "      <td>                      Rauchbier</td>\n",
        "      <td> 4.0</td>\n",
        "      <td> 4.5</td>\n",
        "      <td>    Rauch \u00dcr Bock</td>\n",
        "      <td> 7.4</td>\n",
        "      <td> 58046</td>\n",
        "    </tr>\n",
        "    <tr>\n",
        "      <th>25     </th>\n",
        "      <td>  1075</td>\n",
        "      <td>     Caldera Brewing Company</td>\n",
        "      <td> 1318802642</td>\n",
        "      <td> 5.0</td>\n",
        "      <td> 5.0</td>\n",
        "      <td> 3.5</td>\n",
        "      <td>      optimator13</td>\n",
        "      <td>                      Rauchbier</td>\n",
        "      <td> 3.5</td>\n",
        "      <td> 5.0</td>\n",
        "      <td>    Rauch \u00dcr Bock</td>\n",
        "      <td> 7.4</td>\n",
        "      <td> 58046</td>\n",
        "    </tr>\n",
        "    <tr>\n",
        "      <th>26     </th>\n",
        "      <td>  1075</td>\n",
        "      <td>     Caldera Brewing Company</td>\n",
        "      <td> 1318290101</td>\n",
        "      <td> 4.5</td>\n",
        "      <td> 4.5</td>\n",
        "      <td> 4.0</td>\n",
        "      <td>        Blakaeris</td>\n",
        "      <td>                      Rauchbier</td>\n",
        "      <td> 4.0</td>\n",
        "      <td> 4.5</td>\n",
        "      <td>    Rauch \u00dcr Bock</td>\n",
        "      <td> 7.4</td>\n",
        "      <td> 58046</td>\n",
        "    </tr>\n",
        "    <tr>\n",
        "      <th>27     </th>\n",
        "      <td>  1075</td>\n",
        "      <td>     Caldera Brewing Company</td>\n",
        "      <td> 1318289482</td>\n",
        "      <td> 4.5</td>\n",
        "      <td> 5.0</td>\n",
        "      <td> 4.0</td>\n",
        "      <td>          bashiba</td>\n",
        "      <td>                      Rauchbier</td>\n",
        "      <td> 4.0</td>\n",
        "      <td> 4.0</td>\n",
        "      <td>    Rauch \u00dcr Bock</td>\n",
        "      <td> 7.4</td>\n",
        "      <td> 58046</td>\n",
        "    </tr>\n",
        "    <tr>\n",
        "      <th>28     </th>\n",
        "      <td>  1075</td>\n",
        "      <td>     Caldera Brewing Company</td>\n",
        "      <td> 1316405909</td>\n",
        "      <td> 4.5</td>\n",
        "      <td> 4.5</td>\n",
        "      <td> 3.5</td>\n",
        "      <td>             Klym</td>\n",
        "      <td>                      Rauchbier</td>\n",
        "      <td> 4.0</td>\n",
        "      <td> 4.5</td>\n",
        "      <td>    Rauch \u00dcr Bock</td>\n",
        "      <td> 7.4</td>\n",
        "      <td> 58046</td>\n",
        "    </tr>\n",
        "    <tr>\n",
        "      <th>29     </th>\n",
        "      <td>  1075</td>\n",
        "      <td>     Caldera Brewing Company</td>\n",
        "      <td> 1315696563</td>\n",
        "      <td> 4.5</td>\n",
        "      <td> 4.5</td>\n",
        "      <td> 4.0</td>\n",
        "      <td>        flexabull</td>\n",
        "      <td>                      Rauchbier</td>\n",
        "      <td> 4.0</td>\n",
        "      <td> 4.0</td>\n",
        "      <td>    Rauch \u00dcr Bock</td>\n",
        "      <td> 7.4</td>\n",
        "      <td> 58046</td>\n",
        "    </tr>\n",
        "    <tr>\n",
        "      <th>30     </th>\n",
        "      <td>   163</td>\n",
        "      <td>      Amstel Brouwerij B. V.</td>\n",
        "      <td> 1002109880</td>\n",
        "      <td> 3.0</td>\n",
        "      <td> 2.0</td>\n",
        "      <td> 2.0</td>\n",
        "      <td>        xXTequila</td>\n",
        "      <td>                    Light Lager</td>\n",
        "      <td> 2.0</td>\n",
        "      <td> 3.0</td>\n",
        "      <td>     Amstel Light</td>\n",
        "      <td> 3.5</td>\n",
        "      <td>   436</td>\n",
        "    </tr>\n",
        "    <tr>\n",
        "      <th>31     </th>\n",
        "      <td>  1075</td>\n",
        "      <td>     Caldera Brewing Company</td>\n",
        "      <td> 1315014054</td>\n",
        "      <td> 5.0</td>\n",
        "      <td> 4.5</td>\n",
        "      <td> 4.0</td>\n",
        "      <td>             Bung</td>\n",
        "      <td>                      Rauchbier</td>\n",
        "      <td> 4.0</td>\n",
        "      <td> 5.0</td>\n",
        "      <td>    Rauch \u00dcr Bock</td>\n",
        "      <td> 7.4</td>\n",
        "      <td> 58046</td>\n",
        "    </tr>\n",
        "    <tr>\n",
        "      <th>32     </th>\n",
        "      <td>  1075</td>\n",
        "      <td>     Caldera Brewing Company</td>\n",
        "      <td> 1314752229</td>\n",
        "      <td> 4.0</td>\n",
        "      <td> 4.0</td>\n",
        "      <td> 4.5</td>\n",
        "      <td>           oberon</td>\n",
        "      <td>                      Rauchbier</td>\n",
        "      <td> 4.0</td>\n",
        "      <td> 4.0</td>\n",
        "      <td>    Rauch \u00dcr Bock</td>\n",
        "      <td> 7.4</td>\n",
        "      <td> 58046</td>\n",
        "    </tr>\n",
        "    <tr>\n",
        "      <th>33     </th>\n",
        "      <td>  1075</td>\n",
        "      <td>     Caldera Brewing Company</td>\n",
        "      <td> 1312403394</td>\n",
        "      <td> 4.5</td>\n",
        "      <td> 4.5</td>\n",
        "      <td> 4.0</td>\n",
        "      <td>            t420o</td>\n",
        "      <td>                      Rauchbier</td>\n",
        "      <td> 4.0</td>\n",
        "      <td> 4.0</td>\n",
        "      <td>    Rauch \u00dcr Bock</td>\n",
        "      <td> 7.4</td>\n",
        "      <td> 58046</td>\n",
        "    </tr>\n",
        "    <tr>\n",
        "      <th>34     </th>\n",
        "      <td>  1075</td>\n",
        "      <td>     Caldera Brewing Company</td>\n",
        "      <td> 1312162337</td>\n",
        "      <td> 4.0</td>\n",
        "      <td> 4.0</td>\n",
        "      <td> 4.0</td>\n",
        "      <td>   DarthKostrizer</td>\n",
        "      <td>                      Rauchbier</td>\n",
        "      <td> 4.0</td>\n",
        "      <td> 4.0</td>\n",
        "      <td>    Rauch \u00dcr Bock</td>\n",
        "      <td> 7.4</td>\n",
        "      <td> 58046</td>\n",
        "    </tr>\n",
        "    <tr>\n",
        "      <th>35     </th>\n",
        "      <td>  1075</td>\n",
        "      <td>     Caldera Brewing Company</td>\n",
        "      <td> 1312070406</td>\n",
        "      <td> 4.0</td>\n",
        "      <td> 4.0</td>\n",
        "      <td> 3.0</td>\n",
        "      <td>      MrVonzipper</td>\n",
        "      <td>                      Rauchbier</td>\n",
        "      <td> 4.0</td>\n",
        "      <td> 4.0</td>\n",
        "      <td>    Rauch \u00dcr Bock</td>\n",
        "      <td> 7.4</td>\n",
        "      <td> 58046</td>\n",
        "    </tr>\n",
        "    <tr>\n",
        "      <th>36     </th>\n",
        "      <td>  1075</td>\n",
        "      <td>     Caldera Brewing Company</td>\n",
        "      <td> 1311558510</td>\n",
        "      <td> 3.0</td>\n",
        "      <td> 4.5</td>\n",
        "      <td> 3.0</td>\n",
        "      <td> Beerandraiderfan</td>\n",
        "      <td>                      Rauchbier</td>\n",
        "      <td> 2.0</td>\n",
        "      <td> 3.0</td>\n",
        "      <td>    Rauch \u00dcr Bock</td>\n",
        "      <td> 7.4</td>\n",
        "      <td> 58046</td>\n",
        "    </tr>\n",
        "    <tr>\n",
        "      <th>37     </th>\n",
        "      <td>  1075</td>\n",
        "      <td>     Caldera Brewing Company</td>\n",
        "      <td> 1309310508</td>\n",
        "      <td> 4.0</td>\n",
        "      <td> 4.5</td>\n",
        "      <td> 4.5</td>\n",
        "      <td> TheWhiskerReview</td>\n",
        "      <td>                      Rauchbier</td>\n",
        "      <td> 4.0</td>\n",
        "      <td> 3.5</td>\n",
        "      <td>    Rauch \u00dcr Bock</td>\n",
        "      <td> 7.4</td>\n",
        "      <td> 58046</td>\n",
        "    </tr>\n",
        "    <tr>\n",
        "      <th>38     </th>\n",
        "      <td>  1075</td>\n",
        "      <td>     Caldera Brewing Company</td>\n",
        "      <td> 1307850875</td>\n",
        "      <td> 3.5</td>\n",
        "      <td> 3.5</td>\n",
        "      <td> 4.5</td>\n",
        "      <td>      Elimination</td>\n",
        "      <td>                      Rauchbier</td>\n",
        "      <td> 4.0</td>\n",
        "      <td> 3.5</td>\n",
        "      <td>    Rauch \u00dcr Bock</td>\n",
        "      <td> 7.4</td>\n",
        "      <td> 58046</td>\n",
        "    </tr>\n",
        "    <tr>\n",
        "      <th>39     </th>\n",
        "      <td>  1075</td>\n",
        "      <td>     Caldera Brewing Company</td>\n",
        "      <td> 1283136243</td>\n",
        "      <td> 4.5</td>\n",
        "      <td> 5.0</td>\n",
        "      <td> 3.5</td>\n",
        "      <td>            Jason</td>\n",
        "      <td>                      Rauchbier</td>\n",
        "      <td> 4.5</td>\n",
        "      <td> 4.5</td>\n",
        "      <td>    Rauch \u00dcr Bock</td>\n",
        "      <td> 7.4</td>\n",
        "      <td> 58046</td>\n",
        "    </tr>\n",
        "    <tr>\n",
        "      <th>40     </th>\n",
        "      <td>   163</td>\n",
        "      <td>      Amstel Brouwerij B. V.</td>\n",
        "      <td>  988202869</td>\n",
        "      <td> 3.0</td>\n",
        "      <td> 3.0</td>\n",
        "      <td> 3.0</td>\n",
        "      <td>            Brent</td>\n",
        "      <td>                    Light Lager</td>\n",
        "      <td> 2.0</td>\n",
        "      <td> 2.0</td>\n",
        "      <td>     Amstel Light</td>\n",
        "      <td> 3.5</td>\n",
        "      <td>   436</td>\n",
        "    </tr>\n",
        "    <tr>\n",
        "      <th>41     </th>\n",
        "      <td>  1075</td>\n",
        "      <td>     Caldera Brewing Company</td>\n",
        "      <td> 1306128988</td>\n",
        "      <td> 4.5</td>\n",
        "      <td> 4.0</td>\n",
        "      <td> 4.0</td>\n",
        "      <td>          DoubleJ</td>\n",
        "      <td>                      Rauchbier</td>\n",
        "      <td> 4.5</td>\n",
        "      <td> 4.5</td>\n",
        "      <td>    Rauch \u00dcr Bock</td>\n",
        "      <td> 7.4</td>\n",
        "      <td> 58046</td>\n",
        "    </tr>\n",
        "    <tr>\n",
        "      <th>42     </th>\n",
        "      <td>  1075</td>\n",
        "      <td>     Caldera Brewing Company</td>\n",
        "      <td> 1305926255</td>\n",
        "      <td> 5.0</td>\n",
        "      <td> 4.5</td>\n",
        "      <td> 3.5</td>\n",
        "      <td>           Deuane</td>\n",
        "      <td>                      Rauchbier</td>\n",
        "      <td> 4.0</td>\n",
        "      <td> 5.0</td>\n",
        "      <td>    Rauch \u00dcr Bock</td>\n",
        "      <td> 7.4</td>\n",
        "      <td> 58046</td>\n",
        "    </tr>\n",
        "    <tr>\n",
        "      <th>43     </th>\n",
        "      <td>  1075</td>\n",
        "      <td>     Caldera Brewing Company</td>\n",
        "      <td> 1305856857</td>\n",
        "      <td> 4.0</td>\n",
        "      <td> 4.0</td>\n",
        "      <td> 4.0</td>\n",
        "      <td>     Mattybeerguy</td>\n",
        "      <td>                      Rauchbier</td>\n",
        "      <td> 4.0</td>\n",
        "      <td> 4.0</td>\n",
        "      <td>    Rauch \u00dcr Bock</td>\n",
        "      <td> 7.4</td>\n",
        "      <td> 58046</td>\n",
        "    </tr>\n",
        "    <tr>\n",
        "      <th>44     </th>\n",
        "      <td>  1075</td>\n",
        "      <td>     Caldera Brewing Company</td>\n",
        "      <td> 1305469906</td>\n",
        "      <td> 4.0</td>\n",
        "      <td> 4.0</td>\n",
        "      <td> 3.5</td>\n",
        "      <td>   micromaniac129</td>\n",
        "      <td>                      Rauchbier</td>\n",
        "      <td> 4.0</td>\n",
        "      <td> 4.0</td>\n",
        "      <td>    Rauch \u00dcr Bock</td>\n",
        "      <td> 7.4</td>\n",
        "      <td> 58046</td>\n",
        "    </tr>\n",
        "    <tr>\n",
        "      <th>45     </th>\n",
        "      <td>  1075</td>\n",
        "      <td>     Caldera Brewing Company</td>\n",
        "      <td> 1305329412</td>\n",
        "      <td> 3.5</td>\n",
        "      <td> 5.0</td>\n",
        "      <td> 3.5</td>\n",
        "      <td>         beagle75</td>\n",
        "      <td>                      Rauchbier</td>\n",
        "      <td> 3.5</td>\n",
        "      <td> 4.0</td>\n",
        "      <td>    Rauch \u00dcr Bock</td>\n",
        "      <td> 7.4</td>\n",
        "      <td> 58046</td>\n",
        "    </tr>\n",
        "    <tr>\n",
        "      <th>46     </th>\n",
        "      <td>  1075</td>\n",
        "      <td>     Caldera Brewing Company</td>\n",
        "      <td> 1302401846</td>\n",
        "      <td> 4.0</td>\n",
        "      <td> 4.0</td>\n",
        "      <td> 3.5</td>\n",
        "      <td>   northyorksammy</td>\n",
        "      <td>                      Rauchbier</td>\n",
        "      <td> 4.0</td>\n",
        "      <td> 4.0</td>\n",
        "      <td>    Rauch \u00dcr Bock</td>\n",
        "      <td> 7.4</td>\n",
        "      <td> 58046</td>\n",
        "    </tr>\n",
        "    <tr>\n",
        "      <th>...</th>\n",
        "      <td>...</td>\n",
        "      <td>...</td>\n",
        "      <td>...</td>\n",
        "      <td>...</td>\n",
        "      <td>...</td>\n",
        "      <td>...</td>\n",
        "      <td>...</td>\n",
        "      <td>...</td>\n",
        "      <td>...</td>\n",
        "      <td>...</td>\n",
        "      <td>...</td>\n",
        "      <td>...</td>\n",
        "      <td>...</td>\n",
        "    </tr>\n",
        "    <tr>\n",
        "      <th>1586523</th>\n",
        "      <td> 14359</td>\n",
        "      <td> The Defiant Brewing Company</td>\n",
        "      <td> 1305152317</td>\n",
        "      <td> 4.0</td>\n",
        "      <td> 4.0</td>\n",
        "      <td> 4.0</td>\n",
        "      <td>          plaid75</td>\n",
        "      <td>                American Porter</td>\n",
        "      <td> 4.0</td>\n",
        "      <td> 4.0</td>\n",
        "      <td>           Porter</td>\n",
        "      <td> 5.8</td>\n",
        "      <td> 32985</td>\n",
        "    </tr>\n",
        "    <tr>\n",
        "      <th>1586524</th>\n",
        "      <td> 14359</td>\n",
        "      <td> The Defiant Brewing Company</td>\n",
        "      <td> 1273710553</td>\n",
        "      <td> 4.5</td>\n",
        "      <td> 3.5</td>\n",
        "      <td> 4.0</td>\n",
        "      <td>         metter98</td>\n",
        "      <td>                American Porter</td>\n",
        "      <td> 4.0</td>\n",
        "      <td> 4.0</td>\n",
        "      <td>           Porter</td>\n",
        "      <td> 5.8</td>\n",
        "      <td> 32985</td>\n",
        "    </tr>\n",
        "    <tr>\n",
        "      <th>1586525</th>\n",
        "      <td> 14359</td>\n",
        "      <td> The Defiant Brewing Company</td>\n",
        "      <td> 1248800355</td>\n",
        "      <td> 3.5</td>\n",
        "      <td> 3.5</td>\n",
        "      <td> 3.5</td>\n",
        "      <td>         Kegatron</td>\n",
        "      <td>                American Porter</td>\n",
        "      <td> 3.5</td>\n",
        "      <td> 3.0</td>\n",
        "      <td>           Porter</td>\n",
        "      <td> 5.8</td>\n",
        "      <td> 32985</td>\n",
        "    </tr>\n",
        "    <tr>\n",
        "      <th>1586526</th>\n",
        "      <td> 14359</td>\n",
        "      <td> The Defiant Brewing Company</td>\n",
        "      <td> 1235404698</td>\n",
        "      <td> 4.0</td>\n",
        "      <td> 4.5</td>\n",
        "      <td> 4.5</td>\n",
        "      <td>    njthebestofme</td>\n",
        "      <td>                American Porter</td>\n",
        "      <td> 4.5</td>\n",
        "      <td> 5.0</td>\n",
        "      <td>           Porter</td>\n",
        "      <td> 5.8</td>\n",
        "      <td> 32985</td>\n",
        "    </tr>\n",
        "    <tr>\n",
        "      <th>1586527</th>\n",
        "      <td> 14359</td>\n",
        "      <td> The Defiant Brewing Company</td>\n",
        "      <td> 1221009911</td>\n",
        "      <td> 4.0</td>\n",
        "      <td> 4.0</td>\n",
        "      <td> 4.0</td>\n",
        "      <td> barleywinebrewer</td>\n",
        "      <td>                American Porter</td>\n",
        "      <td> 4.0</td>\n",
        "      <td> 4.0</td>\n",
        "      <td>           Porter</td>\n",
        "      <td> 5.8</td>\n",
        "      <td> 32985</td>\n",
        "    </tr>\n",
        "    <tr>\n",
        "      <th>1586528</th>\n",
        "      <td> 14359</td>\n",
        "      <td> The Defiant Brewing Company</td>\n",
        "      <td> 1209864792</td>\n",
        "      <td> 4.5</td>\n",
        "      <td> 4.0</td>\n",
        "      <td> 4.5</td>\n",
        "      <td>       RblWthACoz</td>\n",
        "      <td>                American Porter</td>\n",
        "      <td> 4.0</td>\n",
        "      <td> 4.0</td>\n",
        "      <td>           Porter</td>\n",
        "      <td> 5.8</td>\n",
        "      <td> 32985</td>\n",
        "    </tr>\n",
        "    <tr>\n",
        "      <th>1586529</th>\n",
        "      <td> 14359</td>\n",
        "      <td> The Defiant Brewing Company</td>\n",
        "      <td> 1208218681</td>\n",
        "      <td> 4.5</td>\n",
        "      <td> 4.0</td>\n",
        "      <td> 3.5</td>\n",
        "      <td>        Lenny2884</td>\n",
        "      <td>                American Porter</td>\n",
        "      <td> 2.5</td>\n",
        "      <td> 4.0</td>\n",
        "      <td>           Porter</td>\n",
        "      <td> 5.8</td>\n",
        "      <td> 32985</td>\n",
        "    </tr>\n",
        "    <tr>\n",
        "      <th>1586530</th>\n",
        "      <td> 14359</td>\n",
        "      <td> The Defiant Brewing Company</td>\n",
        "      <td> 1163292413</td>\n",
        "      <td> 4.0</td>\n",
        "      <td> 5.0</td>\n",
        "      <td> 5.0</td>\n",
        "      <td>       NyackNicky</td>\n",
        "      <td>                American Porter</td>\n",
        "      <td> 4.0</td>\n",
        "      <td> 5.0</td>\n",
        "      <td>           Porter</td>\n",
        "      <td> 5.8</td>\n",
        "      <td> 32985</td>\n",
        "    </tr>\n",
        "    <tr>\n",
        "      <th>1586531</th>\n",
        "      <td> 14359</td>\n",
        "      <td> The Defiant Brewing Company</td>\n",
        "      <td> 1162687838</td>\n",
        "      <td> 5.0</td>\n",
        "      <td> 4.0</td>\n",
        "      <td> 4.0</td>\n",
        "      <td>       maddogruss</td>\n",
        "      <td>                American Porter</td>\n",
        "      <td> 5.0</td>\n",
        "      <td> 3.5</td>\n",
        "      <td>           Porter</td>\n",
        "      <td> 5.8</td>\n",
        "      <td> 32985</td>\n",
        "    </tr>\n",
        "    <tr>\n",
        "      <th>1586532</th>\n",
        "      <td> 14359</td>\n",
        "      <td> The Defiant Brewing Company</td>\n",
        "      <td> 1160006819</td>\n",
        "      <td> 4.5</td>\n",
        "      <td> 4.0</td>\n",
        "      <td> 4.0</td>\n",
        "      <td>         TongoRad</td>\n",
        "      <td>                American Porter</td>\n",
        "      <td> 4.5</td>\n",
        "      <td> 4.0</td>\n",
        "      <td>           Porter</td>\n",
        "      <td> 5.8</td>\n",
        "      <td> 32985</td>\n",
        "    </tr>\n",
        "    <tr>\n",
        "      <th>1586533</th>\n",
        "      <td> 14359</td>\n",
        "      <td> The Defiant Brewing Company</td>\n",
        "      <td> 1159679803</td>\n",
        "      <td> 4.0</td>\n",
        "      <td> 4.0</td>\n",
        "      <td> 4.5</td>\n",
        "      <td>         dherling</td>\n",
        "      <td>                American Porter</td>\n",
        "      <td> 3.5</td>\n",
        "      <td> 4.5</td>\n",
        "      <td>           Porter</td>\n",
        "      <td> 5.8</td>\n",
        "      <td> 32985</td>\n",
        "    </tr>\n",
        "    <tr>\n",
        "      <th>1586534</th>\n",
        "      <td> 14359</td>\n",
        "      <td> The Defiant Brewing Company</td>\n",
        "      <td> 1159585112</td>\n",
        "      <td> 4.5</td>\n",
        "      <td> 4.0</td>\n",
        "      <td> 3.5</td>\n",
        "      <td>             cbl2</td>\n",
        "      <td>                American Porter</td>\n",
        "      <td> 4.5</td>\n",
        "      <td> 4.0</td>\n",
        "      <td>           Porter</td>\n",
        "      <td> 5.8</td>\n",
        "      <td> 32985</td>\n",
        "    </tr>\n",
        "    <tr>\n",
        "      <th>1586537</th>\n",
        "      <td> 14359</td>\n",
        "      <td> The Defiant Brewing Company</td>\n",
        "      <td> 1177039998</td>\n",
        "      <td> 4.5</td>\n",
        "      <td> 4.0</td>\n",
        "      <td> 3.0</td>\n",
        "      <td>         dherling</td>\n",
        "      <td>                           Bock</td>\n",
        "      <td> 3.0</td>\n",
        "      <td> 4.0</td>\n",
        "      <td>             Bock</td>\n",
        "      <td> NaN</td>\n",
        "      <td> 36424</td>\n",
        "    </tr>\n",
        "    <tr>\n",
        "      <th>1586551</th>\n",
        "      <td> 14359</td>\n",
        "      <td> The Defiant Brewing Company</td>\n",
        "      <td> 1200262976</td>\n",
        "      <td> 4.5</td>\n",
        "      <td> 3.5</td>\n",
        "      <td> 4.0</td>\n",
        "      <td>        Slatetank</td>\n",
        "      <td>                 Lambic - Fruit</td>\n",
        "      <td> 3.5</td>\n",
        "      <td> 4.0</td>\n",
        "      <td> Raspberry Lambic</td>\n",
        "      <td> NaN</td>\n",
        "      <td> 40553</td>\n",
        "    </tr>\n",
        "    <tr>\n",
        "      <th>1586552</th>\n",
        "      <td> 14359</td>\n",
        "      <td> The Defiant Brewing Company</td>\n",
        "      <td> 1295828317</td>\n",
        "      <td> 4.5</td>\n",
        "      <td> 4.5</td>\n",
        "      <td> 4.0</td>\n",
        "      <td>          tempest</td>\n",
        "      <td>                   American IPA</td>\n",
        "      <td> 4.0</td>\n",
        "      <td> 4.0</td>\n",
        "      <td>   India Pale Ale</td>\n",
        "      <td> 6.2</td>\n",
        "      <td> 35185</td>\n",
        "    </tr>\n",
        "    <tr>\n",
        "      <th>1586553</th>\n",
        "      <td> 14359</td>\n",
        "      <td> The Defiant Brewing Company</td>\n",
        "      <td> 1293123200</td>\n",
        "      <td> 3.5</td>\n",
        "      <td> 3.0</td>\n",
        "      <td> 4.0</td>\n",
        "      <td>    LilBeerDoctor</td>\n",
        "      <td>                   American IPA</td>\n",
        "      <td> 3.5</td>\n",
        "      <td> 3.5</td>\n",
        "      <td>   India Pale Ale</td>\n",
        "      <td> 6.2</td>\n",
        "      <td> 35185</td>\n",
        "    </tr>\n",
        "    <tr>\n",
        "      <th>1586554</th>\n",
        "      <td> 14359</td>\n",
        "      <td> The Defiant Brewing Company</td>\n",
        "      <td> 1278856990</td>\n",
        "      <td> 4.0</td>\n",
        "      <td> 4.0</td>\n",
        "      <td> 4.0</td>\n",
        "      <td>          david18</td>\n",
        "      <td>                   American IPA</td>\n",
        "      <td> 4.0</td>\n",
        "      <td> 4.0</td>\n",
        "      <td>   India Pale Ale</td>\n",
        "      <td> 6.2</td>\n",
        "      <td> 35185</td>\n",
        "    </tr>\n",
        "    <tr>\n",
        "      <th>1586555</th>\n",
        "      <td> 14359</td>\n",
        "      <td> The Defiant Brewing Company</td>\n",
        "      <td> 1263326408</td>\n",
        "      <td> 4.5</td>\n",
        "      <td> 4.0</td>\n",
        "      <td> 4.0</td>\n",
        "      <td>         samyoung</td>\n",
        "      <td>                   American IPA</td>\n",
        "      <td> 4.0</td>\n",
        "      <td> 3.5</td>\n",
        "      <td>   India Pale Ale</td>\n",
        "      <td> 6.2</td>\n",
        "      <td> 35185</td>\n",
        "    </tr>\n",
        "    <tr>\n",
        "      <th>1586556</th>\n",
        "      <td> 14359</td>\n",
        "      <td> The Defiant Brewing Company</td>\n",
        "      <td> 1249352525</td>\n",
        "      <td> 4.0</td>\n",
        "      <td> 4.0</td>\n",
        "      <td> 4.0</td>\n",
        "      <td>           Nickls</td>\n",
        "      <td>                   American IPA</td>\n",
        "      <td> 4.0</td>\n",
        "      <td> 3.5</td>\n",
        "      <td>   India Pale Ale</td>\n",
        "      <td> 6.2</td>\n",
        "      <td> 35185</td>\n",
        "    </tr>\n",
        "    <tr>\n",
        "      <th>1586557</th>\n",
        "      <td> 14359</td>\n",
        "      <td> The Defiant Brewing Company</td>\n",
        "      <td> 1238475299</td>\n",
        "      <td> 4.0</td>\n",
        "      <td> 4.0</td>\n",
        "      <td> 4.0</td>\n",
        "      <td>    njthebestofme</td>\n",
        "      <td>                   American IPA</td>\n",
        "      <td> 4.0</td>\n",
        "      <td> 4.0</td>\n",
        "      <td>   India Pale Ale</td>\n",
        "      <td> 6.2</td>\n",
        "      <td> 35185</td>\n",
        "    </tr>\n",
        "    <tr>\n",
        "      <th>1586558</th>\n",
        "      <td> 14359</td>\n",
        "      <td> The Defiant Brewing Company</td>\n",
        "      <td> 1217965775</td>\n",
        "      <td> 3.0</td>\n",
        "      <td> 3.0</td>\n",
        "      <td> 3.5</td>\n",
        "      <td>         frankld2</td>\n",
        "      <td>                   American IPA</td>\n",
        "      <td> 2.0</td>\n",
        "      <td> 2.0</td>\n",
        "      <td>   India Pale Ale</td>\n",
        "      <td> 6.2</td>\n",
        "      <td> 35185</td>\n",
        "    </tr>\n",
        "    <tr>\n",
        "      <th>1586559</th>\n",
        "      <td> 14359</td>\n",
        "      <td> The Defiant Brewing Company</td>\n",
        "      <td> 1185464001</td>\n",
        "      <td> 3.0</td>\n",
        "      <td> 3.5</td>\n",
        "      <td> 4.0</td>\n",
        "      <td>         madmanjf</td>\n",
        "      <td>                   American IPA</td>\n",
        "      <td> 3.0</td>\n",
        "      <td> 3.0</td>\n",
        "      <td>   India Pale Ale</td>\n",
        "      <td> 6.2</td>\n",
        "      <td> 35185</td>\n",
        "    </tr>\n",
        "    <tr>\n",
        "      <th>1586560</th>\n",
        "      <td> 14359</td>\n",
        "      <td> The Defiant Brewing Company</td>\n",
        "      <td> 1180784758</td>\n",
        "      <td> 4.0</td>\n",
        "      <td> 4.0</td>\n",
        "      <td> 4.0</td>\n",
        "      <td>        Billolick</td>\n",
        "      <td>                   American IPA</td>\n",
        "      <td> 4.0</td>\n",
        "      <td> 4.0</td>\n",
        "      <td>   India Pale Ale</td>\n",
        "      <td> 6.2</td>\n",
        "      <td> 35185</td>\n",
        "    </tr>\n",
        "    <tr>\n",
        "      <th>1586561</th>\n",
        "      <td> 14359</td>\n",
        "      <td> The Defiant Brewing Company</td>\n",
        "      <td> 1179537000</td>\n",
        "      <td> 4.0</td>\n",
        "      <td> 3.5</td>\n",
        "      <td> 4.5</td>\n",
        "      <td>           EPseja</td>\n",
        "      <td>                   American IPA</td>\n",
        "      <td> 4.5</td>\n",
        "      <td> 3.5</td>\n",
        "      <td>   India Pale Ale</td>\n",
        "      <td> 6.2</td>\n",
        "      <td> 35185</td>\n",
        "    </tr>\n",
        "    <tr>\n",
        "      <th>1586562</th>\n",
        "      <td> 14359</td>\n",
        "      <td> The Defiant Brewing Company</td>\n",
        "      <td> 1175746381</td>\n",
        "      <td> 3.5</td>\n",
        "      <td> 4.0</td>\n",
        "      <td> 4.0</td>\n",
        "      <td>       maddogruss</td>\n",
        "      <td>                   American IPA</td>\n",
        "      <td> 4.0</td>\n",
        "      <td> 4.0</td>\n",
        "      <td>   India Pale Ale</td>\n",
        "      <td> 6.2</td>\n",
        "      <td> 35185</td>\n",
        "    </tr>\n",
        "    <tr>\n",
        "      <th>1586563</th>\n",
        "      <td> 14359</td>\n",
        "      <td> The Defiant Brewing Company</td>\n",
        "      <td> 1171081089</td>\n",
        "      <td> 4.0</td>\n",
        "      <td> 4.5</td>\n",
        "      <td> 4.0</td>\n",
        "      <td>         dherling</td>\n",
        "      <td>                   American IPA</td>\n",
        "      <td> 4.0</td>\n",
        "      <td> 4.5</td>\n",
        "      <td>   India Pale Ale</td>\n",
        "      <td> 6.2</td>\n",
        "      <td> 35185</td>\n",
        "    </tr>\n",
        "    <tr>\n",
        "      <th>1586564</th>\n",
        "      <td> 14359</td>\n",
        "      <td> The Defiant Brewing Company</td>\n",
        "      <td> 1170979828</td>\n",
        "      <td> 4.0</td>\n",
        "      <td> 4.0</td>\n",
        "      <td> 4.5</td>\n",
        "      <td>             cbl2</td>\n",
        "      <td>                   American IPA</td>\n",
        "      <td> 4.0</td>\n",
        "      <td> 4.0</td>\n",
        "      <td>   India Pale Ale</td>\n",
        "      <td> 6.2</td>\n",
        "      <td> 35185</td>\n",
        "    </tr>\n",
        "    <tr>\n",
        "      <th>1586568</th>\n",
        "      <td> 14359</td>\n",
        "      <td> The Defiant Brewing Company</td>\n",
        "      <td> 1187052567</td>\n",
        "      <td> 4.0</td>\n",
        "      <td> 3.5</td>\n",
        "      <td> 4.0</td>\n",
        "      <td>       maddogruss</td>\n",
        "      <td>                           Bock</td>\n",
        "      <td> 4.0</td>\n",
        "      <td> 4.0</td>\n",
        "      <td>             Bock</td>\n",
        "      <td> NaN</td>\n",
        "      <td> 36424</td>\n",
        "    </tr>\n",
        "    <tr>\n",
        "      <th>1586587</th>\n",
        "      <td> 14359</td>\n",
        "      <td> The Defiant Brewing Company</td>\n",
        "      <td> 1177842168</td>\n",
        "      <td> 3.5</td>\n",
        "      <td> 4.5</td>\n",
        "      <td> 4.0</td>\n",
        "      <td>              BBM</td>\n",
        "      <td>          Maibock / Helles Bock</td>\n",
        "      <td> 4.5</td>\n",
        "      <td> 4.0</td>\n",
        "      <td>          Maibock</td>\n",
        "      <td> NaN</td>\n",
        "      <td> 36555</td>\n",
        "    </tr>\n",
        "    <tr>\n",
        "      <th>1586599</th>\n",
        "      <td> 14359</td>\n",
        "      <td> The Defiant Brewing Company</td>\n",
        "      <td> 1213497070</td>\n",
        "      <td> 3.5</td>\n",
        "      <td> 4.5</td>\n",
        "      <td> 4.0</td>\n",
        "      <td>        Lenny2884</td>\n",
        "      <td> American Double / Imperial IPA</td>\n",
        "      <td> 4.0</td>\n",
        "      <td> 4.0</td>\n",
        "      <td>       Double IPA</td>\n",
        "      <td> 9.0</td>\n",
        "      <td> 43233</td>\n",
        "    </tr>\n",
        "  </tbody>\n",
        "</table>\n",
        "<p>1426212 rows \u00d7 13 columns</p>\n",
        "</div>"
       ],
       "metadata": {},
       "output_type": "pyout",
       "prompt_number": 83,
       "text": [
        "        beer_reviews/                 brewery_name  review_time  \\\n",
        "10                163       Amstel Brouwerij B. V.   1010963392   \n",
        "18                163       Amstel Brouwerij B. V.   1010861086   \n",
        "19               1075      Caldera Brewing Company   1325478004   \n",
        "20               1075      Caldera Brewing Company   1325360812   \n",
        "21               1075      Caldera Brewing Company   1322506304   \n",
        "22               1075      Caldera Brewing Company   1320494397   \n",
        "23               1075      Caldera Brewing Company   1320140421   \n",
        "24               1075      Caldera Brewing Company   1319847514   \n",
        "25               1075      Caldera Brewing Company   1318802642   \n",
        "26               1075      Caldera Brewing Company   1318290101   \n",
        "27               1075      Caldera Brewing Company   1318289482   \n",
        "28               1075      Caldera Brewing Company   1316405909   \n",
        "29               1075      Caldera Brewing Company   1315696563   \n",
        "30                163       Amstel Brouwerij B. V.   1002109880   \n",
        "31               1075      Caldera Brewing Company   1315014054   \n",
        "32               1075      Caldera Brewing Company   1314752229   \n",
        "33               1075      Caldera Brewing Company   1312403394   \n",
        "34               1075      Caldera Brewing Company   1312162337   \n",
        "35               1075      Caldera Brewing Company   1312070406   \n",
        "36               1075      Caldera Brewing Company   1311558510   \n",
        "37               1075      Caldera Brewing Company   1309310508   \n",
        "38               1075      Caldera Brewing Company   1307850875   \n",
        "39               1075      Caldera Brewing Company   1283136243   \n",
        "40                163       Amstel Brouwerij B. V.    988202869   \n",
        "41               1075      Caldera Brewing Company   1306128988   \n",
        "42               1075      Caldera Brewing Company   1305926255   \n",
        "43               1075      Caldera Brewing Company   1305856857   \n",
        "44               1075      Caldera Brewing Company   1305469906   \n",
        "45               1075      Caldera Brewing Company   1305329412   \n",
        "46               1075      Caldera Brewing Company   1302401846   \n",
        "...               ...                          ...          ...   \n",
        "1586523         14359  The Defiant Brewing Company   1305152317   \n",
        "1586524         14359  The Defiant Brewing Company   1273710553   \n",
        "1586525         14359  The Defiant Brewing Company   1248800355   \n",
        "1586526         14359  The Defiant Brewing Company   1235404698   \n",
        "1586527         14359  The Defiant Brewing Company   1221009911   \n",
        "1586528         14359  The Defiant Brewing Company   1209864792   \n",
        "1586529         14359  The Defiant Brewing Company   1208218681   \n",
        "1586530         14359  The Defiant Brewing Company   1163292413   \n",
        "1586531         14359  The Defiant Brewing Company   1162687838   \n",
        "1586532         14359  The Defiant Brewing Company   1160006819   \n",
        "1586533         14359  The Defiant Brewing Company   1159679803   \n",
        "1586534         14359  The Defiant Brewing Company   1159585112   \n",
        "1586537         14359  The Defiant Brewing Company   1177039998   \n",
        "1586551         14359  The Defiant Brewing Company   1200262976   \n",
        "1586552         14359  The Defiant Brewing Company   1295828317   \n",
        "1586553         14359  The Defiant Brewing Company   1293123200   \n",
        "1586554         14359  The Defiant Brewing Company   1278856990   \n",
        "1586555         14359  The Defiant Brewing Company   1263326408   \n",
        "1586556         14359  The Defiant Brewing Company   1249352525   \n",
        "1586557         14359  The Defiant Brewing Company   1238475299   \n",
        "1586558         14359  The Defiant Brewing Company   1217965775   \n",
        "1586559         14359  The Defiant Brewing Company   1185464001   \n",
        "1586560         14359  The Defiant Brewing Company   1180784758   \n",
        "1586561         14359  The Defiant Brewing Company   1179537000   \n",
        "1586562         14359  The Defiant Brewing Company   1175746381   \n",
        "1586563         14359  The Defiant Brewing Company   1171081089   \n",
        "1586564         14359  The Defiant Brewing Company   1170979828   \n",
        "1586568         14359  The Defiant Brewing Company   1187052567   \n",
        "1586587         14359  The Defiant Brewing Company   1177842168   \n",
        "1586599         14359  The Defiant Brewing Company   1213497070   \n",
        "\n",
        "         review_overall  review_aroma  review_appearance review_profilename  \\\n",
        "10                  3.0           2.0                3.0            fodeeoz   \n",
        "18                  2.5           3.0                3.0             jdhilt   \n",
        "19                  4.5           4.5                3.0        UCLABrewN84   \n",
        "20                  4.0           4.0                4.0         zaphodchak   \n",
        "21                  4.0           4.5                4.0            Tilley4   \n",
        "22                  4.5           5.0                4.5    mikedrinksbeer2   \n",
        "23                  4.0           4.5                4.0         dbmernin83   \n",
        "24                  4.5           4.5                4.0     titosupertramp   \n",
        "25                  5.0           5.0                3.5        optimator13   \n",
        "26                  4.5           4.5                4.0          Blakaeris   \n",
        "27                  4.5           5.0                4.0            bashiba   \n",
        "28                  4.5           4.5                3.5               Klym   \n",
        "29                  4.5           4.5                4.0          flexabull   \n",
        "30                  3.0           2.0                2.0          xXTequila   \n",
        "31                  5.0           4.5                4.0               Bung   \n",
        "32                  4.0           4.0                4.5             oberon   \n",
        "33                  4.5           4.5                4.0              t420o   \n",
        "34                  4.0           4.0                4.0     DarthKostrizer   \n",
        "35                  4.0           4.0                3.0        MrVonzipper   \n",
        "36                  3.0           4.5                3.0   Beerandraiderfan   \n",
        "37                  4.0           4.5                4.5   TheWhiskerReview   \n",
        "38                  3.5           3.5                4.5        Elimination   \n",
        "39                  4.5           5.0                3.5              Jason   \n",
        "40                  3.0           3.0                3.0              Brent   \n",
        "41                  4.5           4.0                4.0            DoubleJ   \n",
        "42                  5.0           4.5                3.5             Deuane   \n",
        "43                  4.0           4.0                4.0       Mattybeerguy   \n",
        "44                  4.0           4.0                3.5     micromaniac129   \n",
        "45                  3.5           5.0                3.5           beagle75   \n",
        "46                  4.0           4.0                3.5     northyorksammy   \n",
        "...                 ...           ...                ...                ...   \n",
        "1586523             4.0           4.0                4.0            plaid75   \n",
        "1586524             4.5           3.5                4.0           metter98   \n",
        "1586525             3.5           3.5                3.5           Kegatron   \n",
        "1586526             4.0           4.5                4.5      njthebestofme   \n",
        "1586527             4.0           4.0                4.0   barleywinebrewer   \n",
        "1586528             4.5           4.0                4.5         RblWthACoz   \n",
        "1586529             4.5           4.0                3.5          Lenny2884   \n",
        "1586530             4.0           5.0                5.0         NyackNicky   \n",
        "1586531             5.0           4.0                4.0         maddogruss   \n",
        "1586532             4.5           4.0                4.0           TongoRad   \n",
        "1586533             4.0           4.0                4.5           dherling   \n",
        "1586534             4.5           4.0                3.5               cbl2   \n",
        "1586537             4.5           4.0                3.0           dherling   \n",
        "1586551             4.5           3.5                4.0          Slatetank   \n",
        "1586552             4.5           4.5                4.0            tempest   \n",
        "1586553             3.5           3.0                4.0      LilBeerDoctor   \n",
        "1586554             4.0           4.0                4.0            david18   \n",
        "1586555             4.5           4.0                4.0           samyoung   \n",
        "1586556             4.0           4.0                4.0             Nickls   \n",
        "1586557             4.0           4.0                4.0      njthebestofme   \n",
        "1586558             3.0           3.0                3.5           frankld2   \n",
        "1586559             3.0           3.5                4.0           madmanjf   \n",
        "1586560             4.0           4.0                4.0          Billolick   \n",
        "1586561             4.0           3.5                4.5             EPseja   \n",
        "1586562             3.5           4.0                4.0         maddogruss   \n",
        "1586563             4.0           4.5                4.0           dherling   \n",
        "1586564             4.0           4.0                4.5               cbl2   \n",
        "1586568             4.0           3.5                4.0         maddogruss   \n",
        "1586587             3.5           4.5                4.0                BBM   \n",
        "1586599             3.5           4.5                4.0          Lenny2884   \n",
        "\n",
        "                             beer_style  review_palate  review_taste  \\\n",
        "10                          Light Lager            2.5           2.5   \n",
        "18                          Light Lager            2.0           2.0   \n",
        "19                            Rauchbier            4.0           4.5   \n",
        "20                            Rauchbier            3.0           4.0   \n",
        "21                            Rauchbier            3.5           4.0   \n",
        "22                            Rauchbier            4.0           4.5   \n",
        "23                            Rauchbier            4.0           4.5   \n",
        "24                            Rauchbier            4.0           4.5   \n",
        "25                            Rauchbier            3.5           5.0   \n",
        "26                            Rauchbier            4.0           4.5   \n",
        "27                            Rauchbier            4.0           4.0   \n",
        "28                            Rauchbier            4.0           4.5   \n",
        "29                            Rauchbier            4.0           4.0   \n",
        "30                          Light Lager            2.0           3.0   \n",
        "31                            Rauchbier            4.0           5.0   \n",
        "32                            Rauchbier            4.0           4.0   \n",
        "33                            Rauchbier            4.0           4.0   \n",
        "34                            Rauchbier            4.0           4.0   \n",
        "35                            Rauchbier            4.0           4.0   \n",
        "36                            Rauchbier            2.0           3.0   \n",
        "37                            Rauchbier            4.0           3.5   \n",
        "38                            Rauchbier            4.0           3.5   \n",
        "39                            Rauchbier            4.5           4.5   \n",
        "40                          Light Lager            2.0           2.0   \n",
        "41                            Rauchbier            4.5           4.5   \n",
        "42                            Rauchbier            4.0           5.0   \n",
        "43                            Rauchbier            4.0           4.0   \n",
        "44                            Rauchbier            4.0           4.0   \n",
        "45                            Rauchbier            3.5           4.0   \n",
        "46                            Rauchbier            4.0           4.0   \n",
        "...                                 ...            ...           ...   \n",
        "1586523                 American Porter            4.0           4.0   \n",
        "1586524                 American Porter            4.0           4.0   \n",
        "1586525                 American Porter            3.5           3.0   \n",
        "1586526                 American Porter            4.5           5.0   \n",
        "1586527                 American Porter            4.0           4.0   \n",
        "1586528                 American Porter            4.0           4.0   \n",
        "1586529                 American Porter            2.5           4.0   \n",
        "1586530                 American Porter            4.0           5.0   \n",
        "1586531                 American Porter            5.0           3.5   \n",
        "1586532                 American Porter            4.5           4.0   \n",
        "1586533                 American Porter            3.5           4.5   \n",
        "1586534                 American Porter            4.5           4.0   \n",
        "1586537                            Bock            3.0           4.0   \n",
        "1586551                  Lambic - Fruit            3.5           4.0   \n",
        "1586552                    American IPA            4.0           4.0   \n",
        "1586553                    American IPA            3.5           3.5   \n",
        "1586554                    American IPA            4.0           4.0   \n",
        "1586555                    American IPA            4.0           3.5   \n",
        "1586556                    American IPA            4.0           3.5   \n",
        "1586557                    American IPA            4.0           4.0   \n",
        "1586558                    American IPA            2.0           2.0   \n",
        "1586559                    American IPA            3.0           3.0   \n",
        "1586560                    American IPA            4.0           4.0   \n",
        "1586561                    American IPA            4.5           3.5   \n",
        "1586562                    American IPA            4.0           4.0   \n",
        "1586563                    American IPA            4.0           4.5   \n",
        "1586564                    American IPA            4.0           4.0   \n",
        "1586568                            Bock            4.0           4.0   \n",
        "1586587           Maibock / Helles Bock            4.5           4.0   \n",
        "1586599  American Double / Imperial IPA            4.0           4.0   \n",
        "\n",
        "                beer_name  beer_abv  beer_beerid  \n",
        "10           Amstel Light       3.5          436  \n",
        "18           Amstel Light       3.5          436  \n",
        "19          Rauch \u00dcr Bock       7.4        58046  \n",
        "20          Rauch \u00dcr Bock       7.4        58046  \n",
        "21          Rauch \u00dcr Bock       7.4        58046  \n",
        "22          Rauch \u00dcr Bock       7.4        58046  \n",
        "23          Rauch \u00dcr Bock       7.4        58046  \n",
        "24          Rauch \u00dcr Bock       7.4        58046  \n",
        "25          Rauch \u00dcr Bock       7.4        58046  \n",
        "26          Rauch \u00dcr Bock       7.4        58046  \n",
        "27          Rauch \u00dcr Bock       7.4        58046  \n",
        "28          Rauch \u00dcr Bock       7.4        58046  \n",
        "29          Rauch \u00dcr Bock       7.4        58046  \n",
        "30           Amstel Light       3.5          436  \n",
        "31          Rauch \u00dcr Bock       7.4        58046  \n",
        "32          Rauch \u00dcr Bock       7.4        58046  \n",
        "33          Rauch \u00dcr Bock       7.4        58046  \n",
        "34          Rauch \u00dcr Bock       7.4        58046  \n",
        "35          Rauch \u00dcr Bock       7.4        58046  \n",
        "36          Rauch \u00dcr Bock       7.4        58046  \n",
        "37          Rauch \u00dcr Bock       7.4        58046  \n",
        "38          Rauch \u00dcr Bock       7.4        58046  \n",
        "39          Rauch \u00dcr Bock       7.4        58046  \n",
        "40           Amstel Light       3.5          436  \n",
        "41          Rauch \u00dcr Bock       7.4        58046  \n",
        "42          Rauch \u00dcr Bock       7.4        58046  \n",
        "43          Rauch \u00dcr Bock       7.4        58046  \n",
        "44          Rauch \u00dcr Bock       7.4        58046  \n",
        "45          Rauch \u00dcr Bock       7.4        58046  \n",
        "46          Rauch \u00dcr Bock       7.4        58046  \n",
        "...                   ...       ...          ...  \n",
        "1586523            Porter       5.8        32985  \n",
        "1586524            Porter       5.8        32985  \n",
        "1586525            Porter       5.8        32985  \n",
        "1586526            Porter       5.8        32985  \n",
        "1586527            Porter       5.8        32985  \n",
        "1586528            Porter       5.8        32985  \n",
        "1586529            Porter       5.8        32985  \n",
        "1586530            Porter       5.8        32985  \n",
        "1586531            Porter       5.8        32985  \n",
        "1586532            Porter       5.8        32985  \n",
        "1586533            Porter       5.8        32985  \n",
        "1586534            Porter       5.8        32985  \n",
        "1586537              Bock       NaN        36424  \n",
        "1586551  Raspberry Lambic       NaN        40553  \n",
        "1586552    India Pale Ale       6.2        35185  \n",
        "1586553    India Pale Ale       6.2        35185  \n",
        "1586554    India Pale Ale       6.2        35185  \n",
        "1586555    India Pale Ale       6.2        35185  \n",
        "1586556    India Pale Ale       6.2        35185  \n",
        "1586557    India Pale Ale       6.2        35185  \n",
        "1586558    India Pale Ale       6.2        35185  \n",
        "1586559    India Pale Ale       6.2        35185  \n",
        "1586560    India Pale Ale       6.2        35185  \n",
        "1586561    India Pale Ale       6.2        35185  \n",
        "1586562    India Pale Ale       6.2        35185  \n",
        "1586563    India Pale Ale       6.2        35185  \n",
        "1586564    India Pale Ale       6.2        35185  \n",
        "1586568              Bock       NaN        36424  \n",
        "1586587           Maibock       NaN        36555  \n",
        "1586599        Double IPA       9.0        43233  \n",
        "\n",
        "[1426212 rows x 13 columns]"
       ]
      }
     ],
     "prompt_number": 83
    },
    {
     "cell_type": "markdown",
     "metadata": {},
     "source": [
      "How big is this dataset?"
     ]
    },
    {
     "cell_type": "code",
     "collapsed": false,
     "input": [
      "df.info()"
     ],
     "language": "python",
     "metadata": {},
     "outputs": [
      {
       "output_type": "stream",
       "stream": "stdout",
       "text": [
        "<class 'pandas.core.frame.DataFrame'>\n",
        "Int64Index: 1586630 entries, 0 to 1586629\n",
        "Data columns (total 13 columns):\n",
        "beer_reviews/         1586629 non-null object\n",
        "brewery_name          1586611 non-null object\n",
        "review_time           1586614 non-null float64\n",
        "review_overall        1586614 non-null float64\n",
        "review_aroma          1586614 non-null float64\n",
        "review_appearance     1586614 non-null float64\n",
        "review_profilename    1586266 non-null object\n",
        "beer_style            1586614 non-null object\n",
        "review_palate         1586614 non-null float64\n",
        "review_taste          1586614 non-null float64\n",
        "beer_name             1586614 non-null object\n",
        "beer_abv              1518829 non-null float64\n",
        "beer_beerid           1586614 non-null float64\n",
        "dtypes: float64(8), object(5)"
       ]
      }
     ],
     "prompt_number": 84
    },
    {
     "cell_type": "markdown",
     "metadata": {},
     "source": [
      "Aggregate the data in a pivot table using the pivot_table method. Display the mean review_overall for each beer_name aggregating the review_overall values by review_profilename. Use the mean as aggregator."
     ]
    },
    {
     "cell_type": "code",
     "collapsed": false,
     "input": [
      "df_wide = pd.pivot_table(df1, values=[\"review_overall\"],\n",
      "        rows=[\"beer_name\", \"review_profilename\"],\n",
      "        aggfunc=np.mean).unstack()\n",
      "df_wide.shape"
     ],
     "language": "python",
     "metadata": {},
     "outputs": [
      {
       "metadata": {},
       "output_type": "pyout",
       "prompt_number": 88,
       "text": [
        "(10000, 32181)"
       ]
      }
     ],
     "prompt_number": 88
    },
    {
     "cell_type": "markdown",
     "metadata": {},
     "source": [
      "Display the head of the pivot table, but only for 5 users (columns are users)"
     ]
    },
    {
     "cell_type": "code",
     "collapsed": false,
     "input": [
      "df_wide.ix[0:5, 0:5]"
     ],
     "language": "python",
     "metadata": {},
     "outputs": [
      {
       "html": [
        "<div style=\"max-height:1000px;max-width:1500px;overflow:auto;\">\n",
        "<table border=\"1\" class=\"dataframe\">\n",
        "  <thead>\n",
        "    <tr>\n",
        "      <th></th>\n",
        "      <th colspan=\"5\" halign=\"left\">review_overall</th>\n",
        "    </tr>\n",
        "    <tr>\n",
        "      <th>review_profilename</th>\n",
        "      <th>0110x011</th>\n",
        "      <th>01Ryan10</th>\n",
        "      <th>02maxima</th>\n",
        "      <th>03SVTCobra</th>\n",
        "      <th>04101Brewer</th>\n",
        "    </tr>\n",
        "    <tr>\n",
        "      <th>beer_name</th>\n",
        "      <th></th>\n",
        "      <th></th>\n",
        "      <th></th>\n",
        "      <th></th>\n",
        "      <th></th>\n",
        "    </tr>\n",
        "  </thead>\n",
        "  <tbody>\n",
        "    <tr>\n",
        "      <th>\"400\" Ale</th>\n",
        "      <td>NaN</td>\n",
        "      <td>NaN</td>\n",
        "      <td>NaN</td>\n",
        "      <td>NaN</td>\n",
        "      <td>NaN</td>\n",
        "    </tr>\n",
        "    <tr>\n",
        "      <th>\"Hop Obama\" Ale</th>\n",
        "      <td>NaN</td>\n",
        "      <td>NaN</td>\n",
        "      <td>NaN</td>\n",
        "      <td>NaN</td>\n",
        "      <td>NaN</td>\n",
        "    </tr>\n",
        "    <tr>\n",
        "      <th>\"Old Yeltsin\" Imperial Stout</th>\n",
        "      <td>NaN</td>\n",
        "      <td>NaN</td>\n",
        "      <td>NaN</td>\n",
        "      <td>NaN</td>\n",
        "      <td>NaN</td>\n",
        "    </tr>\n",
        "    <tr>\n",
        "      <th>\"Shabadoo\" Black &amp; Tan Ale</th>\n",
        "      <td>NaN</td>\n",
        "      <td>NaN</td>\n",
        "      <td>NaN</td>\n",
        "      <td>NaN</td>\n",
        "      <td>NaN</td>\n",
        "    </tr>\n",
        "    <tr>\n",
        "      <th>\"The Wind Cried Mari...\" Scottish Heather Ale</th>\n",
        "      <td>NaN</td>\n",
        "      <td>NaN</td>\n",
        "      <td>NaN</td>\n",
        "      <td>NaN</td>\n",
        "      <td>NaN</td>\n",
        "    </tr>\n",
        "  </tbody>\n",
        "</table>\n",
        "</div>"
       ],
       "metadata": {},
       "output_type": "pyout",
       "prompt_number": 89,
       "text": [
        "                                               review_overall            \\\n",
        "review_profilename                                   0110x011  01Ryan10   \n",
        "beer_name                                                                 \n",
        "\"400\" Ale                                                 NaN       NaN   \n",
        "\"Hop Obama\" Ale                                           NaN       NaN   \n",
        "\"Old Yeltsin\" Imperial Stout                              NaN       NaN   \n",
        "\"Shabadoo\" Black & Tan Ale                                NaN       NaN   \n",
        "\"The Wind Cried Mari...\" Scottish Heather Ale             NaN       NaN   \n",
        "\n",
        "                                                                     \\\n",
        "review_profilename                             02maxima  03SVTCobra   \n",
        "beer_name                                                             \n",
        "\"400\" Ale                                           NaN         NaN   \n",
        "\"Hop Obama\" Ale                                     NaN         NaN   \n",
        "\"Old Yeltsin\" Imperial Stout                        NaN         NaN   \n",
        "\"Shabadoo\" Black & Tan Ale                          NaN         NaN   \n",
        "\"The Wind Cried Mari...\" Scottish Heather Ale       NaN         NaN   \n",
        "\n",
        "                                                            \n",
        "review_profilename                             04101Brewer  \n",
        "beer_name                                                   \n",
        "\"400\" Ale                                              NaN  \n",
        "\"Hop Obama\" Ale                                        NaN  \n",
        "\"Old Yeltsin\" Imperial Stout                           NaN  \n",
        "\"Shabadoo\" Black & Tan Ale                             NaN  \n",
        "\"The Wind Cried Mari...\" Scottish Heather Ale          NaN  "
       ]
      }
     ],
     "prompt_number": 89
    },
    {
     "cell_type": "markdown",
     "metadata": {},
     "source": [
      "### Discussion: what do you notice in this table?"
     ]
    },
    {
     "cell_type": "markdown",
     "metadata": {},
     "source": [
      "Set Nans to zero"
     ]
    },
    {
     "cell_type": "code",
     "collapsed": false,
     "input": [
      "df_wide=df_wide.fillna(0)\n",
      "df_wide.ix[0:5, 0:5]"
     ],
     "language": "python",
     "metadata": {},
     "outputs": [
      {
       "html": [
        "<div style=\"max-height:1000px;max-width:1500px;overflow:auto;\">\n",
        "<table border=\"1\" class=\"dataframe\">\n",
        "  <thead>\n",
        "    <tr>\n",
        "      <th></th>\n",
        "      <th colspan=\"5\" halign=\"left\">review_overall</th>\n",
        "    </tr>\n",
        "    <tr>\n",
        "      <th>review_profilename</th>\n",
        "      <th>0110x011</th>\n",
        "      <th>01Ryan10</th>\n",
        "      <th>02maxima</th>\n",
        "      <th>03SVTCobra</th>\n",
        "      <th>04101Brewer</th>\n",
        "    </tr>\n",
        "    <tr>\n",
        "      <th>beer_name</th>\n",
        "      <th></th>\n",
        "      <th></th>\n",
        "      <th></th>\n",
        "      <th></th>\n",
        "      <th></th>\n",
        "    </tr>\n",
        "  </thead>\n",
        "  <tbody>\n",
        "    <tr>\n",
        "      <th>\"400\" Ale</th>\n",
        "      <td> 0</td>\n",
        "      <td> 0</td>\n",
        "      <td> 0</td>\n",
        "      <td> 0</td>\n",
        "      <td> 0</td>\n",
        "    </tr>\n",
        "    <tr>\n",
        "      <th>\"Hop Obama\" Ale</th>\n",
        "      <td> 0</td>\n",
        "      <td> 0</td>\n",
        "      <td> 0</td>\n",
        "      <td> 0</td>\n",
        "      <td> 0</td>\n",
        "    </tr>\n",
        "    <tr>\n",
        "      <th>\"Old Yeltsin\" Imperial Stout</th>\n",
        "      <td> 0</td>\n",
        "      <td> 0</td>\n",
        "      <td> 0</td>\n",
        "      <td> 0</td>\n",
        "      <td> 0</td>\n",
        "    </tr>\n",
        "    <tr>\n",
        "      <th>\"Shabadoo\" Black &amp; Tan Ale</th>\n",
        "      <td> 0</td>\n",
        "      <td> 0</td>\n",
        "      <td> 0</td>\n",
        "      <td> 0</td>\n",
        "      <td> 0</td>\n",
        "    </tr>\n",
        "    <tr>\n",
        "      <th>\"The Wind Cried Mari...\" Scottish Heather Ale</th>\n",
        "      <td> 0</td>\n",
        "      <td> 0</td>\n",
        "      <td> 0</td>\n",
        "      <td> 0</td>\n",
        "      <td> 0</td>\n",
        "    </tr>\n",
        "  </tbody>\n",
        "</table>\n",
        "</div>"
       ],
       "metadata": {},
       "output_type": "pyout",
       "prompt_number": 90,
       "text": [
        "                                               review_overall            \\\n",
        "review_profilename                                   0110x011  01Ryan10   \n",
        "beer_name                                                                 \n",
        "\"400\" Ale                                                   0         0   \n",
        "\"Hop Obama\" Ale                                             0         0   \n",
        "\"Old Yeltsin\" Imperial Stout                                0         0   \n",
        "\"Shabadoo\" Black & Tan Ale                                  0         0   \n",
        "\"The Wind Cried Mari...\" Scottish Heather Ale               0         0   \n",
        "\n",
        "                                                                     \\\n",
        "review_profilename                             02maxima  03SVTCobra   \n",
        "beer_name                                                             \n",
        "\"400\" Ale                                             0           0   \n",
        "\"Hop Obama\" Ale                                       0           0   \n",
        "\"Old Yeltsin\" Imperial Stout                          0           0   \n",
        "\"Shabadoo\" Black & Tan Ale                            0           0   \n",
        "\"The Wind Cried Mari...\" Scottish Heather Ale         0           0   \n",
        "\n",
        "                                                            \n",
        "review_profilename                             04101Brewer  \n",
        "beer_name                                                   \n",
        "\"400\" Ale                                                0  \n",
        "\"Hop Obama\" Ale                                          0  \n",
        "\"Old Yeltsin\" Imperial Stout                             0  \n",
        "\"Shabadoo\" Black & Tan Ale                               0  \n",
        "\"The Wind Cried Mari...\" Scottish Heather Ale            0  "
       ]
      }
     ],
     "prompt_number": 90
    },
    {
     "cell_type": "markdown",
     "metadata": {},
     "source": [
      "Check that columns are users"
     ]
    },
    {
     "cell_type": "code",
     "collapsed": false,
     "input": [
      "df_wide.columns[:10]"
     ],
     "language": "python",
     "metadata": {},
     "outputs": [
      {
       "metadata": {},
       "output_type": "pyout",
       "prompt_number": 91,
       "text": [
        "MultiIndex(levels=[[u'review_overall'], [u'0110x011', u'01Ryan10', u'02maxima', u'03SVTCobra', u'04101Brewer', u'05Harley', u'0Naught0', u'0beerguy0', u'0runkp0s', u'0to15', u'0tt0', u'0xFF', u'1000Bottles', u'1001111.0', u'100floods', u'100proof', u'103stiga', u'104bob', u'1050Sudz', u'108Dragons', u'1099.0', u'10bear', u'10shb', u'1100.0', u'110toyourleft', u'1121987.0', u'11millsown113', u'11osixBrew', u'11soccer11', u'11thFloorBrewing', u'1229design', u'12647summerfield', u'12NattiBottles', u'12ouncecurls', u'12percent', u'12puebloyankee', u'12vUnion', u'12vman', u'130guy', u'13aphomet', u'13smurrf', u'159beerrunner', u'160Shillings', u'16ozSampler', u'17202826.0', u'1759Girl', u'1759dallas', u'17Guinness59', u'1844original', u'187.0', u'18alpha', u'18todrink', u'18tony', u'196osh', u'1993Heel', u'1996StrokerKid', u'1Adam12', u'1BeerLeague', u'1MiltonWaddams', u'1PA', u'1Paradisebrew', u'1after909', u'1badcableguy', u'1bigwoody', u'1brbn1sctch1beer', u'1fastz28', u'1inamill', u'1joeyjojo', u'1lastcast', u'1morebeer', u'1noa', u'1p3261', u'1quiks10', u'1realbeer', u'1santore', u'1thinmint', u'1whiskey', u'1zacmatt', u'2002sportside', u'20ozmonkey', u'214beernuts', u'21mmer', u'220emaple', u'22ozStone', u'2369.0', u'2378GCGTG', u'23fyerfyter', u'2408bwk', u'245Trioxin', u'24Beer92', u'25santurce', u'27Tripping', u'289extrajoss', u'28Rock', u'2BDChicago', u'2Cruzy', u'2DaMtns', u'2KHokie', u'2LBrew', u'2LCrew', ...]],\n",
        "           labels=[[0, 0, 0, 0, 0, 0, 0, 0, 0, 0], [0, 1, 2, 3, 4, 5, 6, 7, 8, 9]],\n",
        "           names=[None, u'review_profilename'])"
       ]
      }
     ],
     "prompt_number": 91
    },
    {
     "cell_type": "markdown",
     "metadata": {},
     "source": [
      "Check that rows are beers"
     ]
    },
    {
     "cell_type": "code",
     "collapsed": false,
     "input": [
      "pd.Series(df_wide.index[:5])"
     ],
     "language": "python",
     "metadata": {},
     "outputs": [
      {
       "metadata": {},
       "output_type": "pyout",
       "prompt_number": 95,
       "text": [
        "0                                        \"400\" Ale\n",
        "1                                  \"Hop Obama\" Ale\n",
        "2                     \"Old Yeltsin\" Imperial Stout\n",
        "3                       \"Shabadoo\" Black & Tan Ale\n",
        "4    \"The Wind Cried Mari...\" Scottish Heather Ale\n",
        "Name: beer_name, dtype: object"
       ]
      }
     ],
     "prompt_number": 95
    },
    {
     "cell_type": "markdown",
     "metadata": {},
     "source": [
      "### Calculate distance between beers\n",
      "\n",
      "This is the key. we're going to use cosine_similarity from scikit-learn to compute the distance between all beers"
     ]
    },
    {
     "cell_type": "markdown",
     "metadata": {},
     "source": [
      "Imports"
     ]
    },
    {
     "cell_type": "code",
     "collapsed": false,
     "input": [
      "from sklearn.metrics.pairwise import cosine_similarity\n",
      "from sklearn.metrics.pairwise import manhattan_distances\n",
      "from sklearn.metrics.pairwise import euclidean_distances"
     ],
     "language": "python",
     "metadata": {},
     "outputs": [],
     "prompt_number": 96
    },
    {
     "cell_type": "markdown",
     "metadata": {},
     "source": [
      "Apply cosine similarity to df_wide to calculate pairwise distances"
     ]
    },
    {
     "cell_type": "code",
     "collapsed": false,
     "input": [
      "dists = cosine_similarity(df_wide)\n",
      "dists"
     ],
     "language": "python",
     "metadata": {},
     "outputs": []
    },
    {
     "cell_type": "markdown",
     "metadata": {},
     "source": [
      "### Discussion: what type of object is dists?"
     ]
    },
    {
     "cell_type": "markdown",
     "metadata": {},
     "source": [
      "Convert dists to a Pandas DataFrame, use the index as column index as well (distances are a square matrix)."
     ]
    },
    {
     "cell_type": "code",
     "collapsed": false,
     "input": [
      "dists=pd.DataFrame(dists, columns=df_wide.index)\n",
      "dists.index = dists.columns\n",
      "dists.ix[0:10, 0:10]"
     ],
     "language": "python",
     "metadata": {},
     "outputs": []
    },
    {
     "cell_type": "markdown",
     "metadata": {},
     "source": [
      "Select some beers and look their distances to other beers"
     ]
    },
    {
     "cell_type": "code",
     "collapsed": false,
     "input": [
      "beers_i_like = ['Sierra Nevada Celebration Ale', '90 Minute IPA', 'Two Hearted Ale']\n",
      "dists[beers_i_like].head()"
     ],
     "language": "python",
     "metadata": {},
     "outputs": []
    },
    {
     "cell_type": "markdown",
     "metadata": {},
     "source": [
      "Sum the distances of my favourite beers by row, to have one distance from each beer in the sample"
     ]
    },
    {
     "cell_type": "code",
     "collapsed": false,
     "input": [
      "beers_summed=np.sum(dists[beers_i_like])\n",
      "beers_summed"
     ],
     "language": "python",
     "metadata": {},
     "outputs": []
    },
    {
     "cell_type": "markdown",
     "metadata": {},
     "source": [
      "Optional: which one is faster? use ```%timeit``` to check"
     ]
    },
    {
     "cell_type": "code",
     "collapsed": false,
     "input": [
      "beers_summed = dists[beers_i_like].apply(lambda row: np.sum(row), axis=1)\n",
      "#beers_summed = np.sum(dists[beers_i_like], axis=1)"
     ],
     "language": "python",
     "metadata": {},
     "outputs": [],
     "prompt_number": 58
    },
    {
     "cell_type": "markdown",
     "metadata": {},
     "source": [
      "Sort summed beers from best to worse"
     ]
    },
    {
     "cell_type": "code",
     "collapsed": false,
     "input": [
      "beers_summed = beers_summed.order(ascending=False)\n",
      "beers_summed"
     ],
     "language": "python",
     "metadata": {},
     "outputs": [
      {
       "metadata": {},
       "output_type": "pyout",
       "prompt_number": 59,
       "text": [
        "beer_name\n",
        "Sierra Nevada Celebration Ale                 1.986368\n",
        "90 Minute IPA                                 1.975500\n",
        "Two Hearted Ale                               1.973304\n",
        "Stone IPA (India Pale Ale)                    1.525716\n",
        "Stone Ruination IPA                           1.519115\n",
        "Sierra Nevada Bigfoot Barleywine Style Ale    1.513440\n",
        "HopDevil Ale                                  1.488303\n",
        "60 Minute IPA                                 1.479940\n",
        "Storm King Stout                              1.477022\n",
        "Old Rasputin Russian Imperial Stout           1.463704\n",
        "Brooklyn Black Chocolate Stout                1.454053\n",
        "Arrogant Bastard Ale                          1.434349\n",
        "Hop Wallop                                    1.421170\n",
        "Hop Rod Rye                                   1.418669\n",
        "Racer 5 India Pale Ale                        1.404248\n",
        "...\n",
        "Fat Tire Amber Ale               1.099129\n",
        "Chimay Premi\u00e8re (Red)            1.078961\n",
        "#9                               1.070052\n",
        "Franziskaner Hefe-Weisse         1.063079\n",
        "Delirium Tremens                 1.063079\n",
        "Guinness Draught                 1.046326\n",
        "Porter                           1.044615\n",
        "IPA                              1.037843\n",
        "Oktoberfest                      1.012674\n",
        "Hoegaarden Original White Ale    0.980265\n",
        "Yuengling Traditional Lager      0.942077\n",
        "Blue Moon Belgian White          0.909899\n",
        "Newcastle Brown Ale              0.885119\n",
        "Pabst Blue Ribbon (PBR)          0.843137\n",
        "Budweiser                        0.822952\n",
        "Length: 100, dtype: float64"
       ]
      }
     ],
     "prompt_number": 59
    },
    {
     "cell_type": "markdown",
     "metadata": {},
     "source": [
      "Filter out the beers used as input and transform to list"
     ]
    },
    {
     "cell_type": "code",
     "collapsed": false,
     "input": [
      "ranked_beers = beers_summed.index[beers_summed.index.isin(beers_i_like)==False]\n",
      "ranked_beers = ranked_beers.tolist()\n",
      "ranked_beers"
     ],
     "language": "python",
     "metadata": {},
     "outputs": [
      {
       "metadata": {},
       "output_type": "pyout",
       "prompt_number": 78,
       "text": [
        "['Stone IPA (India Pale Ale)',\n",
        " 'Stone Ruination IPA',\n",
        " 'Sierra Nevada Bigfoot Barleywine Style Ale',\n",
        " 'HopDevil Ale',\n",
        " '60 Minute IPA',\n",
        " 'Storm King Stout',\n",
        " 'Old Rasputin Russian Imperial Stout',\n",
        " 'Brooklyn Black Chocolate Stout',\n",
        " 'Arrogant Bastard Ale',\n",
        " 'Hop Wallop',\n",
        " 'Hop Rod Rye',\n",
        " 'Racer 5 India Pale Ale',\n",
        " 'Prima Pils',\n",
        " \"Bell's Expedition Stout\",\n",
        " 'Stone Imperial Russian Stout',\n",
        " 'Double Bastard Ale',\n",
        " 'Ayinger Celebrator Doppelbock',\n",
        " 'Sierra Nevada Pale Ale',\n",
        " 'St. Bernardus Abt 12',\n",
        " 'Founders Breakfast Stout',\n",
        " 'India Pale Ale',\n",
        " 'Hennepin (Farmhouse Saison)',\n",
        " 'La Fin Du Monde',\n",
        " 'Oaked Arrogant Bastard Ale',\n",
        " 'Alpha King Pale Ale',\n",
        " \"Bell's Hopslam Ale\",\n",
        " 'Samuel Adams Boston Lager',\n",
        " 'Sierra Nevada Torpedo Extra IPA',\n",
        " 'Duvel',\n",
        " 'Chocolate Stout',\n",
        " 'Weihenstephaner Hefeweissbier',\n",
        " 'Schneider Aventinus',\n",
        " 'Indian Brown Ale',\n",
        " 'Great Lakes Edmund Fitzgerald Porter',\n",
        " 'Dreadnaught IPA',\n",
        " 'ApriHop',\n",
        " 'Punkin Ale',\n",
        " 'Trappistes Rochefort 10',\n",
        " 'Tr\\xc3\\xb6egs Nugget Nectar',\n",
        " 'Stone Smoked Porter',\n",
        " 'Shakespeare Oatmeal Stout',\n",
        " 'Dead Guy Ale',\n",
        " 'Ten FIDY',\n",
        " 'Smuttynose IPA \"Finest Kind\"',\n",
        " 'Maharaja',\n",
        " \"Raison D'etre\",\n",
        " \"Bell's Oberon Ale\",\n",
        " 'Oak Aged Yeti Imperial Stout',\n",
        " 'Yeti Imperial Stout',\n",
        " \"Samuel Smith's Imperial Stout\",\n",
        " 'Samuel Adams Winter Lager',\n",
        " 'Stone Sublimely Self-Righteous Ale',\n",
        " 'Trois Pistoles',\n",
        " 'Maudite',\n",
        " 'Samuel Adams Octoberfest',\n",
        " \"Samuel Smith's Oatmeal Stout\",\n",
        " 'Burton Baton',\n",
        " 'Three Philosophers Belgian Style Blend (Quadrupel)',\n",
        " 'Golden Monkey',\n",
        " \"Dale's Pale Ale\",\n",
        " 'Hop Stoopid',\n",
        " 'Imperial Stout',\n",
        " 'Anchor Steam Beer',\n",
        " 'Orval Trappist Ale',\n",
        " 'Trappistes Rochefort 8',\n",
        " 'Chimay Grande R\\xc3\\xa9serve (Blue)',\n",
        " 'Founders KBS (Kentucky Breakfast Stout)',\n",
        " 'Palo Santo Marron',\n",
        " 'P\\xc3\\xa9ch\\xc3\\xa9 Mortel (Imperial Stout Au Cafe)',\n",
        " \"Young's Double Chocolate Stout\",\n",
        " 'Pliny The Elder',\n",
        " 'Bourbon County Brand Stout',\n",
        " 'Ommegang (Abbey Ale)',\n",
        " 'Midas Touch Golden Elixir',\n",
        " 'World Wide Stout',\n",
        " 'Pale Ale',\n",
        " '120 Minute IPA',\n",
        " 'Samuel Adams Summer Ale',\n",
        " 'Westmalle Trappist Tripel',\n",
        " 'Samuel Adams Black Lager',\n",
        " 'Chimay Tripel (White)',\n",
        " 'Oatmeal Stout',\n",
        " 'Fat Tire Amber Ale',\n",
        " 'Chimay Premi\\xc3\\xa8re (Red)',\n",
        " '#9',\n",
        " 'Franziskaner Hefe-Weisse',\n",
        " 'Delirium Tremens',\n",
        " 'Guinness Draught',\n",
        " 'Porter',\n",
        " 'IPA',\n",
        " 'Oktoberfest',\n",
        " 'Hoegaarden Original White Ale',\n",
        " 'Yuengling Traditional Lager',\n",
        " 'Blue Moon Belgian White',\n",
        " 'Newcastle Brown Ale',\n",
        " 'Pabst Blue Ribbon (PBR)',\n",
        " 'Budweiser']"
       ]
      }
     ],
     "prompt_number": 78
    },
    {
     "cell_type": "markdown",
     "metadata": {},
     "source": [
      "Define a function that does what we just did for an arbitrary input list of beers. it should also receive the maximum number of beers requested n as optional parameter."
     ]
    },
    {
     "cell_type": "code",
     "collapsed": false,
     "input": [
      "def get_similar(beers, n=None):\n",
      "    \"\"\"\n",
      "    calculates which beers are most similar to the beers provided. Does not return\n",
      "    the beers that were provided\n",
      "    \n",
      "    Parameters\n",
      "    ----------\n",
      "    beers: list\n",
      "        some beers!\n",
      "    \n",
      "    Returns\n",
      "    -------\n",
      "    ranked_beers: list\n",
      "        rank ordered beers\n",
      "    \"\"\"\n",
      "    beers = [beer for beer in beers if beer in dists.columns]\n",
      "    beers_summed = dists[beers].apply(lambda row: np.sum(row), axis=1)\n",
      "    beers_summed = beers_summed.order(ascending=False)\n",
      "    ranked_beers = beers_summed.index[beers_summed.index.isin(beers)==False]\n",
      "    ranked_beers = ranked_beers.tolist()\n",
      "    if n is None:\n",
      "        return ranked_beers\n",
      "    else:\n",
      "        return ranked_beers[:n]"
     ],
     "language": "python",
     "metadata": {},
     "outputs": [],
     "prompt_number": 73
    },
    {
     "cell_type": "markdown",
     "metadata": {},
     "source": [
      "Test your function. Find the 10 beers most similar to \"120 Minute IPA\""
     ]
    },
    {
     "cell_type": "code",
     "collapsed": false,
     "input": [
      "for beer in get_similar([\"120 Minute IPA\"], 10):\n",
      "    print beer"
     ],
     "language": "python",
     "metadata": {},
     "outputs": [
      {
       "output_type": "stream",
       "stream": "stdout",
       "text": [
        "World Wide Stout\n",
        "90 Minute IPA\n",
        "Double Bastard Ale\n",
        "Stone Ruination IPA\n",
        "Stone Imperial Russian Stout\n",
        "Storm King Stout\n",
        "60 Minute IPA\n",
        "Oaked Arrogant Bastard Ale\n",
        "Sierra Nevada Bigfoot Barleywine Style Ale\n",
        "Brooklyn Black Chocolate Stout\n"
       ]
      }
     ],
     "prompt_number": 77
    },
    {
     "cell_type": "markdown",
     "metadata": {},
     "source": [
      "Cool, let's try again with the 10 beers most similar to [\"Coors Light\", \"Bud Light\", \"Amstel Light\"]"
     ]
    },
    {
     "cell_type": "code",
     "collapsed": false,
     "input": [
      "for i, beer in enumerate(get_similar([\"Coors Light\", \"Bud Light\", \"Amstel Light\"], 10)):\n",
      "    print \"%d) %s\" % (i+1, beer)"
     ],
     "language": "python",
     "metadata": {},
     "outputs": [
      {
       "output_type": "stream",
       "stream": "stdout",
       "text": [
        "1) #9\n",
        "2) 120 Minute IPA\n",
        "3) 60 Minute IPA\n",
        "4) 90 Minute IPA\n",
        "5) Alpha King Pale Ale\n",
        "6) Anchor Steam Beer\n",
        "7) ApriHop\n",
        "8) Arrogant Bastard Ale\n",
        "9) Ayinger Celebrator Doppelbock\n",
        "10) Bell's Expedition Stout\n"
       ]
      }
     ],
     "prompt_number": 72
    },
    {
     "cell_type": "markdown",
     "metadata": {},
     "source": [
      "Optional: register an account on yhat and deploy your model following the instructions [here](https://docs.yhathq.com/python/examples/beer-recommender) and [here](http://nbviewer.ipython.org/gist/glamp/20a18d52c539b87de2af)"
     ]
    },
    {
     "cell_type": "markdown",
     "metadata": {},
     "source": [
      "## Recsys\n",
      "\n",
      "A python library for implementing a recommender system"
     ]
    },
    {
     "cell_type": "code",
     "collapsed": false,
     "input": [
      "\"\"\"\n",
      "##install python-recsys\n",
      "\n",
      "### first install dependencies\n",
      "\n",
      "pip install csc-pysparse networkx divisi2\n",
      "\n",
      "### then install recsys\n",
      "git clone https://github.com/python-recsys/python-recsys.git\n",
      "cd python-recsys/\n",
      "\n",
      "python setup.py install\n",
      "\"\"\""
     ],
     "language": "python",
     "metadata": {},
     "outputs": []
    },
    {
     "cell_type": "markdown",
     "metadata": {},
     "source": [
      "Load recsys.algotihm, set VERBOSE = True import SVD class"
     ]
    },
    {
     "cell_type": "code",
     "collapsed": false,
     "input": [
      "import recsys.algorithm\n",
      "recsys.algorithm.VERBOSE = True\n",
      "from recsys.algorithm.factorize import SVD"
     ],
     "language": "python",
     "metadata": {},
     "outputs": []
    },
    {
     "cell_type": "markdown",
     "metadata": {},
     "source": [
      "Let's look at the files"
     ]
    },
    {
     "cell_type": "code",
     "collapsed": false,
     "input": [
      "! ls movielens"
     ],
     "language": "python",
     "metadata": {},
     "outputs": []
    },
    {
     "cell_type": "code",
     "collapsed": false,
     "input": [
      "movies = pd.read_table('movielens/movies.dat', sep='::', names= ['ITEMID', 'Title', 'Genres'], index_col= 'ITEMID')"
     ],
     "language": "python",
     "metadata": {},
     "outputs": []
    },
    {
     "cell_type": "code",
     "collapsed": false,
     "input": [
      "movies.head()"
     ],
     "language": "python",
     "metadata": {},
     "outputs": []
    },
    {
     "cell_type": "code",
     "collapsed": false,
     "input": [
      "ratings = pd.read_table('movielens/ratings.dat', sep='::', names= ['UserID','MovieID','Rating','Timestamp'])"
     ],
     "language": "python",
     "metadata": {},
     "outputs": []
    },
    {
     "cell_type": "code",
     "collapsed": false,
     "input": [
      "ratings.head()"
     ],
     "language": "python",
     "metadata": {},
     "outputs": []
    },
    {
     "cell_type": "markdown",
     "metadata": {},
     "source": [
      "Initialize an SVD instance"
     ]
    },
    {
     "cell_type": "code",
     "collapsed": false,
     "input": [
      "svd = SVD()"
     ],
     "language": "python",
     "metadata": {},
     "outputs": []
    },
    {
     "cell_type": "markdown",
     "metadata": {},
     "source": [
      "Populate it with the data from the ratings dataset, using the built in load_data method"
     ]
    },
    {
     "cell_type": "code",
     "collapsed": false,
     "input": [
      "svd.load_data(filename='./movielens/ratings.dat', sep='::', format={'col':0, 'row':1, 'value':2, 'ids': int})"
     ],
     "language": "python",
     "metadata": {},
     "outputs": []
    },
    {
     "cell_type": "markdown",
     "metadata": {},
     "source": [
      "Compute SVD\n",
      "\n",
      "$M=U \\Sigma V^T$:"
     ]
    },
    {
     "cell_type": "code",
     "collapsed": false,
     "input": [
      "k = 100\n",
      "svd.compute(k=k, min_values=10, pre_normalize=None, mean_center=True, post_normalize=True)"
     ],
     "language": "python",
     "metadata": {},
     "outputs": []
    },
    {
     "cell_type": "markdown",
     "metadata": {},
     "source": [
      "you can also save the output SVD model (in a zip file)"
     ]
    },
    {
     "cell_type": "code",
     "collapsed": false,
     "input": [
      "# svd.compute(k=k, min_values=10, pre_normalize=None, mean_center=True, post_normalize=True, savefile='/tmp/movielens')"
     ],
     "language": "python",
     "metadata": {},
     "outputs": []
    },
    {
     "cell_type": "markdown",
     "metadata": {},
     "source": [
      "Reload a saved model:"
     ]
    },
    {
     "cell_type": "code",
     "collapsed": false,
     "input": [
      "# svd2 = SVD(filename='/tmp/movielens')"
     ],
     "language": "python",
     "metadata": {},
     "outputs": []
    },
    {
     "cell_type": "markdown",
     "metadata": {},
     "source": [
      "Compute similarity between two movies"
     ]
    },
    {
     "cell_type": "code",
     "collapsed": false,
     "input": [
      "movies[movies.Title == \"Toy Story (1995)\"]"
     ],
     "language": "python",
     "metadata": {},
     "outputs": []
    },
    {
     "cell_type": "code",
     "collapsed": false,
     "input": [
      "movies[movies.Title == \"Bug's Life, A (1998)\"]"
     ],
     "language": "python",
     "metadata": {},
     "outputs": []
    },
    {
     "cell_type": "code",
     "collapsed": false,
     "input": [
      "ITEMID1 = 1    # Toy Story (1995)\n",
      "ITEMID2 = 2355 # A bug's life (1998)\n",
      "print svd.similarity(ITEMID1, ITEMID2)\n",
      "# print svd2.similarity(ITEMID1, ITEMID2) to check"
     ],
     "language": "python",
     "metadata": {},
     "outputs": []
    },
    {
     "cell_type": "markdown",
     "metadata": {},
     "source": [
      "Get movies similar to Toy Story"
     ]
    },
    {
     "cell_type": "code",
     "collapsed": false,
     "input": [
      "svd.similar(ITEMID1)"
     ],
     "language": "python",
     "metadata": {},
     "outputs": []
    },
    {
     "cell_type": "markdown",
     "metadata": {},
     "source": [
      "Predict rating for a given user and movie, $\\hat{r}_{ui}$"
     ]
    },
    {
     "cell_type": "code",
     "collapsed": false,
     "input": [
      "MIN_RATING = 0.0\n",
      "MAX_RATING = 5.0\n",
      "ITEMID = 1\n",
      "USERID = 1\n",
      "svd.predict(ITEMID, USERID, MIN_RATING, MAX_RATING)"
     ],
     "language": "python",
     "metadata": {},
     "outputs": []
    },
    {
     "cell_type": "code",
     "collapsed": false,
     "input": [
      "svd.get_matrix().value(ITEMID, USERID)"
     ],
     "language": "python",
     "metadata": {},
     "outputs": []
    },
    {
     "cell_type": "markdown",
     "metadata": {},
     "source": [
      "Recommend non rated movies to a user"
     ]
    },
    {
     "cell_type": "code",
     "collapsed": false,
     "input": [
      "svd.recommend(USERID, is_row=False)"
     ],
     "language": "python",
     "metadata": {},
     "outputs": []
    },
    {
     "cell_type": "markdown",
     "metadata": {},
     "source": [
      "Which users should see Toy Story? (e.g. which users -that have not rated Toy Story- would give it a high rating?)"
     ]
    },
    {
     "cell_type": "code",
     "collapsed": false,
     "input": [
      "svd.recommend(ITEMID)"
     ],
     "language": "python",
     "metadata": {},
     "outputs": []
    },
    {
     "cell_type": "markdown",
     "metadata": {},
     "source": [
      "Find out more here: [https://github.com/ocelma/python-recsys](https://github.com/ocelma/python-recsys)"
     ]
    }
   ],
   "metadata": {}
  }
 ]
}