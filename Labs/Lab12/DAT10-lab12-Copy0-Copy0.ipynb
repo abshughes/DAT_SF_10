{
 "metadata": {
  "name": "",
  "signature": "sha256:e4fd9b48cd59cd52c1f7ba337950c39cdc36367e290136c5dbe3bbb7266f64d2"
 },
 "nbformat": 3,
 "nbformat_minor": 0,
 "worksheets": [
  {
   "cells": [
    {
     "cell_type": "markdown",
     "metadata": {},
     "source": [
      "# GA Data Science 10 (DAT10) - Lab 12\n",
      "\n",
      "### Recommendation Systems\n",
      "\n",
      "Francesco Mosconi\n",
      "\n",
      "### Today\n",
      "\n",
      "1. Simple similarity based recommendation system\n",
      "2. Recsys\n",
      "3. Optional (yhat)"
     ]
    },
    {
     "cell_type": "markdown",
     "metadata": {},
     "source": [
      "## Similarity based Recommendation System: Beers"
     ]
    },
    {
     "cell_type": "markdown",
     "metadata": {},
     "source": [
      "Usual imports (numpy, pandas)"
     ]
    },
    {
     "cell_type": "code",
     "collapsed": false,
     "input": [
      "import pandas as pd\n",
      "import numpy as np"
     ],
     "language": "python",
     "metadata": {},
     "outputs": [],
     "prompt_number": 3
    },
    {
     "cell_type": "markdown",
     "metadata": {},
     "source": [
      "First of all let's get the data"
     ]
    },
    {
     "cell_type": "code",
     "collapsed": false,
     "input": [
      "! curl -O https://s3.amazonaws.com/demo-datasets/beer_reviews.tar.gz"
     ],
     "language": "python",
     "metadata": {},
     "outputs": [
      {
       "output_type": "stream",
       "stream": "stdout",
       "text": [
        "  % Total    % Received % Xferd  Average Speed   Time    Time     Time  Current\r\n",
        "                                 Dload  Upload   Total   Spent    Left  Speed\r\n",
        "\r",
        "  0     0    0     0    0     0      0      0 --:--:-- --:--:-- --:--:--     0"
       ]
      },
      {
       "output_type": "stream",
       "stream": "stdout",
       "text": [
        "\r",
        "  0 27.3M    0  8642    0     0   8973      0  0:53:19 --:--:--  0:53:19 15108"
       ]
      },
      {
       "output_type": "stream",
       "stream": "stdout",
       "text": [
        "\r",
        "  1 27.3M    1  439k    0     0   223k      0  0:02:05  0:00:01  0:02:04  279k"
       ]
      },
      {
       "output_type": "stream",
       "stream": "stdout",
       "text": [
        "\r",
        "  3 27.3M    3  909k    0     0   306k      0  0:01:31  0:00:02  0:01:29  353k"
       ]
      },
      {
       "output_type": "stream",
       "stream": "stdout",
       "text": [
        "\r",
        "  4 27.3M    4 1385k    0     0   349k      0  0:01:20  0:00:03  0:01:17  387k"
       ]
      },
      {
       "output_type": "stream",
       "stream": "stdout",
       "text": [
        "\r",
        "  6 27.3M    6 1877k    0     0   378k      0  0:01:14  0:00:04  0:01:10  410k"
       ]
      },
      {
       "output_type": "stream",
       "stream": "stdout",
       "text": [
        "\r",
        "  8 27.3M    8 2354k    0     0   394k      0  0:01:11  0:00:05  0:01:06  469k"
       ]
      },
      {
       "output_type": "stream",
       "stream": "stdout",
       "text": [
        "\r",
        " 10 27.3M   10 2830k    0     0   406k      0  0:01:08  0:00:06  0:01:02  478k"
       ]
      },
      {
       "output_type": "stream",
       "stream": "stdout",
       "text": [
        "\r",
        " 11 27.3M   11 3306k    0     0   415k      0  0:01:07  0:00:07  0:01:00  479k"
       ]
      },
      {
       "output_type": "stream",
       "stream": "stdout",
       "text": [
        "\r",
        " 13 27.3M   13 3782k    0     0   422k      0  0:01:06  0:00:08  0:00:58  479k"
       ]
      },
      {
       "output_type": "stream",
       "stream": "stdout",
       "text": [
        "\r",
        " 15 27.3M   15 4258k    0     0   427k      0  0:01:05  0:00:09  0:00:56  476k"
       ]
      },
      {
       "output_type": "stream",
       "stream": "stdout",
       "text": [
        "\r",
        " 16 27.3M   16 4717k    0     0   429k      0  0:01:05  0:00:10  0:00:55  469k"
       ]
      },
      {
       "output_type": "stream",
       "stream": "stdout",
       "text": [
        "\r",
        " 18 27.3M   18 5210k    0     0   435k      0  0:01:04  0:00:11  0:00:53  476k"
       ]
      },
      {
       "output_type": "stream",
       "stream": "stdout",
       "text": [
        "\r",
        " 20 27.3M   20 5686k    0     0   438k      0  0:01:03  0:00:12  0:00:51  476k"
       ]
      },
      {
       "output_type": "stream",
       "stream": "stdout",
       "text": [
        "\r",
        " 21 27.3M   21 6162k    0     0   441k      0  0:01:03  0:00:13  0:00:50  476k"
       ]
      },
      {
       "output_type": "stream",
       "stream": "stdout",
       "text": [
        "\r",
        " 23 27.3M   23 6552k    0     0   437k      0  0:01:04  0:00:14  0:00:50  458k"
       ]
      },
      {
       "output_type": "stream",
       "stream": "stdout",
       "text": [
        "\r",
        " 24 27.3M   24 6876k    0     0   430k      0  0:01:05  0:00:15  0:00:50  432k"
       ]
      },
      {
       "output_type": "stream",
       "stream": "stdout",
       "text": [
        "\r",
        " 26 27.3M   26 7505k    0     0   442k      0  0:01:03  0:00:16  0:00:47  458k"
       ]
      },
      {
       "output_type": "stream",
       "stream": "stdout",
       "text": [
        "\r",
        " 28 27.3M   28 7997k    0     0   445k      0  0:01:02  0:00:17  0:00:45  462k"
       ]
      },
      {
       "output_type": "stream",
       "stream": "stdout",
       "text": [
        "\r",
        " 29 27.3M   29 8286k    0     0   436k      0  0:01:04  0:00:18  0:00:46  424k"
       ]
      },
      {
       "output_type": "stream",
       "stream": "stdout",
       "text": [
        "\r",
        " 31 27.3M   31 8831k    0     0   430k      0  0:01:05  0:00:20  0:00:45  411k"
       ]
      },
      {
       "output_type": "stream",
       "stream": "stdout",
       "text": [
        "\r",
        " 31 27.3M   31 8881k    0     0   422k      0  0:01:06  0:00:21  0:00:45  398k"
       ]
      },
      {
       "output_type": "stream",
       "stream": "stdout",
       "text": [
        "\r",
        " 32 27.3M   32 9239k    0     0   420k      0  0:01:06  0:00:21  0:00:45  346k"
       ]
      },
      {
       "output_type": "stream",
       "stream": "stdout",
       "text": [
        "\r",
        " 34 27.3M   34 9664k    0     0   419k      0  0:01:06  0:00:23  0:00:43  327k"
       ]
      },
      {
       "output_type": "stream",
       "stream": "stdout",
       "text": [
        "\r",
        " 34 27.3M   34 9732k    0     0   405k      0  0:01:09  0:00:23  0:00:46  288k"
       ]
      },
      {
       "output_type": "stream",
       "stream": "stdout",
       "text": [
        "\r",
        " 35 27.3M   35  9.8M    0     0   402k      0  0:01:09  0:00:24  0:00:45  274k"
       ]
      },
      {
       "output_type": "stream",
       "stream": "stdout",
       "text": [
        "\r",
        " 37 27.3M   37 10.2M    0     0   405k      0  0:01:09  0:00:25  0:00:44  333k"
       ]
      },
      {
       "output_type": "stream",
       "stream": "stdout",
       "text": [
        "\r",
        " 39 27.3M   39 10.7M    0     0   408k      0  0:01:08  0:00:26  0:00:42  353k"
       ]
      },
      {
       "output_type": "stream",
       "stream": "stdout",
       "text": [
        "\r",
        " 40 27.3M   40 11.2M    0     0   410k      0  0:01:08  0:00:27  0:00:41  370k"
       ]
      },
      {
       "output_type": "stream",
       "stream": "stdout",
       "text": [
        "\r",
        " 42 27.3M   42 11.6M    0     0   412k      0  0:01:07  0:00:28  0:00:39  447k"
       ]
      },
      {
       "output_type": "stream",
       "stream": "stdout",
       "text": [
        "\r",
        " 44 27.3M   44 12.1M    0     0   415k      0  0:01:07  0:00:29  0:00:38  475k"
       ]
      },
      {
       "output_type": "stream",
       "stream": "stdout",
       "text": [
        "\r",
        " 46 27.3M   46 12.6M    0     0   416k      0  0:01:07  0:00:30  0:00:37  474k"
       ]
      },
      {
       "output_type": "stream",
       "stream": "stdout",
       "text": [
        "\r",
        " 47 27.3M   47 13.0M    0     0   418k      0  0:01:06  0:00:31  0:00:35  475k"
       ]
      },
      {
       "output_type": "stream",
       "stream": "stdout",
       "text": [
        "\r",
        " 48 27.3M   48 13.4M    0     0   415k      0  0:01:07  0:00:33  0:00:34  439k"
       ]
      },
      {
       "output_type": "stream",
       "stream": "stdout",
       "text": [
        "\r",
        " 51 27.3M   51 14.0M    0     0   422k      0  0:01:06  0:00:33  0:00:33  476k"
       ]
      },
      {
       "output_type": "stream",
       "stream": "stdout",
       "text": [
        "\r",
        " 52 27.3M   52 14.3M    0     0   421k      0  0:01:06  0:00:34  0:00:32  458k"
       ]
      },
      {
       "output_type": "stream",
       "stream": "stdout",
       "text": [
        "\r",
        " 54 27.3M   54 14.8M    0     0   422k      0  0:01:06  0:00:35  0:00:31  457k"
       ]
      },
      {
       "output_type": "stream",
       "stream": "stdout",
       "text": [
        "\r",
        " 55 27.3M   55 15.2M    0     0   423k      0  0:01:06  0:00:36  0:00:30  455k"
       ]
      },
      {
       "output_type": "stream",
       "stream": "stdout",
       "text": [
        "\r",
        " 57 27.3M   57 15.7M    0     0   425k      0  0:01:05  0:00:37  0:00:28  493k"
       ]
      },
      {
       "output_type": "stream",
       "stream": "stdout",
       "text": [
        "\r",
        " 59 27.3M   59 16.2M    0     0   426k      0  0:01:05  0:00:38  0:00:27  455k"
       ]
      },
      {
       "output_type": "stream",
       "stream": "stdout",
       "text": [
        "\r",
        " 60 27.3M   60 16.6M    0     0   427k      0  0:01:05  0:00:39  0:00:26  472k"
       ]
      },
      {
       "output_type": "stream",
       "stream": "stdout",
       "text": [
        "\r",
        " 62 27.3M   62 17.1M    0     0   428k      0  0:01:05  0:00:40  0:00:25  475k"
       ]
      },
      {
       "output_type": "stream",
       "stream": "stdout",
       "text": [
        "\r",
        " 64 27.3M   64 17.6M    0     0   430k      0  0:01:05  0:00:41  0:00:24  479k"
       ]
      },
      {
       "output_type": "stream",
       "stream": "stdout",
       "text": [
        "\r",
        " 66 27.3M   66 18.1M    0     0   431k      0  0:01:04  0:00:42  0:00:22  479k"
       ]
      },
      {
       "output_type": "stream",
       "stream": "stdout",
       "text": [
        "\r",
        " 67 27.3M   67 18.5M    0     0   432k      0  0:01:04  0:00:43  0:00:21  479k"
       ]
      },
      {
       "output_type": "stream",
       "stream": "stdout",
       "text": [
        "\r",
        " 69 27.3M   69 18.9M    0     0   430k      0  0:01:05  0:00:45  0:00:20  456k"
       ]
      },
      {
       "output_type": "stream",
       "stream": "stdout",
       "text": [
        "\r",
        " 71 27.3M   71 19.4M    0     0   433k      0  0:01:04  0:00:45  0:00:19  472k"
       ]
      },
      {
       "output_type": "stream",
       "stream": "stdout",
       "text": [
        "\r",
        " 72 27.3M   72 19.9M    0     0   434k      0  0:01:04  0:00:46  0:00:18  472k"
       ]
      },
      {
       "output_type": "stream",
       "stream": "stdout",
       "text": [
        "\r",
        " 74 27.3M   74 20.4M    0     0   435k      0  0:01:04  0:00:47  0:00:17  472k"
       ]
      },
      {
       "output_type": "stream",
       "stream": "stdout",
       "text": [
        "\r",
        " 76 27.3M   76 20.8M    0     0   436k      0  0:01:04  0:00:48  0:00:16  472k"
       ]
      },
      {
       "output_type": "stream",
       "stream": "stdout",
       "text": [
        "\r",
        " 77 27.3M   77 21.3M    0     0   437k      0  0:01:04  0:00:49  0:00:15  495k"
       ]
      },
      {
       "output_type": "stream",
       "stream": "stdout",
       "text": [
        "\r",
        " 79 27.3M   79 21.8M    0     0   438k      0  0:01:03  0:00:50  0:00:13  479k"
       ]
      },
      {
       "output_type": "stream",
       "stream": "stdout",
       "text": [
        "\r",
        " 81 27.3M   81 22.2M    0     0   438k      0  0:01:03  0:00:51  0:00:12  476k"
       ]
      },
      {
       "output_type": "stream",
       "stream": "stdout",
       "text": [
        "\r",
        " 83 27.3M   83 22.7M    0     0   439k      0  0:01:03  0:00:52  0:00:11  476k"
       ]
      },
      {
       "output_type": "stream",
       "stream": "stdout",
       "text": [
        "\r",
        " 84 27.3M   84 23.2M    0     0   440k      0  0:01:03  0:00:53  0:00:10  476k"
       ]
      },
      {
       "output_type": "stream",
       "stream": "stdout",
       "text": [
        "\r",
        " 86 27.3M   86 23.6M    0     0   440k      0  0:01:03  0:00:54  0:00:09  469k"
       ]
      },
      {
       "output_type": "stream",
       "stream": "stdout",
       "text": [
        "\r",
        " 88 27.3M   88 24.0M    0     0   440k      0  0:01:03  0:00:55  0:00:08  469k"
       ]
      },
      {
       "output_type": "stream",
       "stream": "stdout",
       "text": [
        "\r",
        " 89 27.3M   89 24.5M    0     0   441k      0  0:01:03  0:00:56  0:00:07  469k"
       ]
      },
      {
       "output_type": "stream",
       "stream": "stdout",
       "text": [
        "\r",
        " 91 27.3M   91 25.0M    0     0   442k      0  0:01:03  0:00:57  0:00:06  469k"
       ]
      },
      {
       "output_type": "stream",
       "stream": "stdout",
       "text": [
        "\r",
        " 93 27.3M   93 25.4M    0     0   442k      0  0:01:03  0:00:58  0:00:05  469k"
       ]
      },
      {
       "output_type": "stream",
       "stream": "stdout",
       "text": [
        "\r",
        " 94 27.3M   94 25.9M    0     0   443k      0  0:01:03  0:00:59  0:00:04  475k"
       ]
      },
      {
       "output_type": "stream",
       "stream": "stdout",
       "text": [
        "\r",
        " 96 27.3M   96 26.3M    0     0   443k      0  0:01:03  0:01:00  0:00:03  467k"
       ]
      },
      {
       "output_type": "stream",
       "stream": "stdout",
       "text": [
        "\r",
        " 98 27.3M   98 26.8M    0     0   444k      0  0:01:03  0:01:01  0:00:02  475k"
       ]
      },
      {
       "output_type": "stream",
       "stream": "stdout",
       "text": [
        "\r",
        " 99 27.3M   99 27.3M    0     0   444k      0  0:01:03  0:01:02  0:00:01  476k\r",
        "100 27.3M  100 27.3M    0     0   445"
       ]
      },
      {
       "output_type": "stream",
       "stream": "stdout",
       "text": [
        "k      0  0:01:02  0:01:02 --:--:--  479k\r\n"
       ]
      }
     ],
     "prompt_number": 3
    },
    {
     "cell_type": "markdown",
     "metadata": {},
     "source": [
      "Import data in pandas dataframe"
     ]
    },
    {
     "cell_type": "code",
     "collapsed": false,
     "input": [
      "df = pd.read_csv(\"beer_reviews.tar.gz\", compression='gzip')"
     ],
     "language": "python",
     "metadata": {},
     "outputs": [
      {
       "output_type": "stream",
       "stream": "stderr",
       "text": [
        "/Users/annabachurina/anaconda/lib/python2.7/site-packages/pandas/io/parsers.py:1139: DtypeWarning: Columns (0) have mixed types. Specify dtype option on import or set low_memory=False.\n",
        "  data = self._reader.read(nrows)\n"
       ]
      }
     ],
     "prompt_number": 4
    },
    {
     "cell_type": "markdown",
     "metadata": {},
     "source": [
      "Let's look at the data"
     ]
    },
    {
     "cell_type": "code",
     "collapsed": false,
     "input": [
      "df.head()"
     ],
     "language": "python",
     "metadata": {},
     "outputs": [
      {
       "html": [
        "<div style=\"max-height:1000px;max-width:1500px;overflow:auto;\">\n",
        "<table border=\"1\" class=\"dataframe\">\n",
        "  <thead>\n",
        "    <tr style=\"text-align: right;\">\n",
        "      <th></th>\n",
        "      <th>beer_reviews/</th>\n",
        "      <th>brewery_name</th>\n",
        "      <th>review_time</th>\n",
        "      <th>review_overall</th>\n",
        "      <th>review_aroma</th>\n",
        "      <th>review_appearance</th>\n",
        "      <th>review_profilename</th>\n",
        "      <th>beer_style</th>\n",
        "      <th>review_palate</th>\n",
        "      <th>review_taste</th>\n",
        "      <th>beer_name</th>\n",
        "      <th>beer_abv</th>\n",
        "      <th>beer_beerid</th>\n",
        "    </tr>\n",
        "  </thead>\n",
        "  <tbody>\n",
        "    <tr>\n",
        "      <th>0</th>\n",
        "      <td> 10325</td>\n",
        "      <td>         Vecchio Birraio</td>\n",
        "      <td> 1234817823</td>\n",
        "      <td> 1.5</td>\n",
        "      <td> 2.0</td>\n",
        "      <td> 2.5</td>\n",
        "      <td>        stcules</td>\n",
        "      <td>                     Hefeweizen</td>\n",
        "      <td> 1.5</td>\n",
        "      <td> 1.5</td>\n",
        "      <td>           Sausa Weizen</td>\n",
        "      <td> 5.0</td>\n",
        "      <td> 47986</td>\n",
        "    </tr>\n",
        "    <tr>\n",
        "      <th>1</th>\n",
        "      <td> 10325</td>\n",
        "      <td>         Vecchio Birraio</td>\n",
        "      <td> 1235915097</td>\n",
        "      <td> 3.0</td>\n",
        "      <td> 2.5</td>\n",
        "      <td> 3.0</td>\n",
        "      <td>        stcules</td>\n",
        "      <td>             English Strong Ale</td>\n",
        "      <td> 3.0</td>\n",
        "      <td> 3.0</td>\n",
        "      <td>               Red Moon</td>\n",
        "      <td> 6.2</td>\n",
        "      <td> 48213</td>\n",
        "    </tr>\n",
        "    <tr>\n",
        "      <th>2</th>\n",
        "      <td> 10325</td>\n",
        "      <td>         Vecchio Birraio</td>\n",
        "      <td> 1235916604</td>\n",
        "      <td> 3.0</td>\n",
        "      <td> 2.5</td>\n",
        "      <td> 3.0</td>\n",
        "      <td>        stcules</td>\n",
        "      <td>         Foreign / Export Stout</td>\n",
        "      <td> 3.0</td>\n",
        "      <td> 3.0</td>\n",
        "      <td> Black Horse Black Beer</td>\n",
        "      <td> 6.5</td>\n",
        "      <td> 48215</td>\n",
        "    </tr>\n",
        "    <tr>\n",
        "      <th>3</th>\n",
        "      <td> 10325</td>\n",
        "      <td>         Vecchio Birraio</td>\n",
        "      <td> 1234725145</td>\n",
        "      <td> 3.0</td>\n",
        "      <td> 3.0</td>\n",
        "      <td> 3.5</td>\n",
        "      <td>        stcules</td>\n",
        "      <td>                German Pilsener</td>\n",
        "      <td> 2.5</td>\n",
        "      <td> 3.0</td>\n",
        "      <td>             Sausa Pils</td>\n",
        "      <td> 5.0</td>\n",
        "      <td> 47969</td>\n",
        "    </tr>\n",
        "    <tr>\n",
        "      <th>4</th>\n",
        "      <td>  1075</td>\n",
        "      <td> Caldera Brewing Company</td>\n",
        "      <td> 1293735206</td>\n",
        "      <td> 4.0</td>\n",
        "      <td> 4.5</td>\n",
        "      <td> 4.0</td>\n",
        "      <td> johnmichaelsen</td>\n",
        "      <td> American Double / Imperial IPA</td>\n",
        "      <td> 4.0</td>\n",
        "      <td> 4.5</td>\n",
        "      <td>          Cauldron DIPA</td>\n",
        "      <td> 7.7</td>\n",
        "      <td> 64883</td>\n",
        "    </tr>\n",
        "  </tbody>\n",
        "</table>\n",
        "</div>"
       ],
       "metadata": {},
       "output_type": "pyout",
       "prompt_number": 5,
       "text": [
        "  beer_reviews/             brewery_name  review_time  review_overall  \\\n",
        "0         10325          Vecchio Birraio   1234817823             1.5   \n",
        "1         10325          Vecchio Birraio   1235915097             3.0   \n",
        "2         10325          Vecchio Birraio   1235916604             3.0   \n",
        "3         10325          Vecchio Birraio   1234725145             3.0   \n",
        "4          1075  Caldera Brewing Company   1293735206             4.0   \n",
        "\n",
        "   review_aroma  review_appearance review_profilename  \\\n",
        "0           2.0                2.5            stcules   \n",
        "1           2.5                3.0            stcules   \n",
        "2           2.5                3.0            stcules   \n",
        "3           3.0                3.5            stcules   \n",
        "4           4.5                4.0     johnmichaelsen   \n",
        "\n",
        "                       beer_style  review_palate  review_taste  \\\n",
        "0                      Hefeweizen            1.5           1.5   \n",
        "1              English Strong Ale            3.0           3.0   \n",
        "2          Foreign / Export Stout            3.0           3.0   \n",
        "3                 German Pilsener            2.5           3.0   \n",
        "4  American Double / Imperial IPA            4.0           4.5   \n",
        "\n",
        "                beer_name  beer_abv  beer_beerid  \n",
        "0            Sausa Weizen       5.0        47986  \n",
        "1                Red Moon       6.2        48213  \n",
        "2  Black Horse Black Beer       6.5        48215  \n",
        "3              Sausa Pils       5.0        47969  \n",
        "4           Cauldron DIPA       7.7        64883  "
       ]
      }
     ],
     "prompt_number": 5
    },
    {
     "cell_type": "markdown",
     "metadata": {},
     "source": [
      "Let's restrict this to the top 250 beers. Use the value_counts() method"
     ]
    },
    {
     "cell_type": "code",
     "collapsed": false,
     "input": [
      "n=10\n",
      "top_n=df.beer_name.value_counts().index[:n]\n",
      "df1=df[df.beer_name.isin(top_n)]\n",
      "df1"
     ],
     "language": "python",
     "metadata": {},
     "outputs": [
      {
       "html": [
        "<div style=\"max-height:1000px;max-width:1500px;overflow:auto;\">\n",
        "<table border=\"1\" class=\"dataframe\">\n",
        "  <thead>\n",
        "    <tr style=\"text-align: right;\">\n",
        "      <th></th>\n",
        "      <th>beer_reviews/</th>\n",
        "      <th>brewery_name</th>\n",
        "      <th>review_time</th>\n",
        "      <th>review_overall</th>\n",
        "      <th>review_aroma</th>\n",
        "      <th>review_appearance</th>\n",
        "      <th>review_profilename</th>\n",
        "      <th>beer_style</th>\n",
        "      <th>review_palate</th>\n",
        "      <th>review_taste</th>\n",
        "      <th>beer_name</th>\n",
        "      <th>beer_abv</th>\n",
        "      <th>beer_beerid</th>\n",
        "    </tr>\n",
        "  </thead>\n",
        "  <tbody>\n",
        "    <tr>\n",
        "      <th>8269   </th>\n",
        "      <td>   395</td>\n",
        "      <td> Bluegrass Brewing Co. - East St. Matthew's</td>\n",
        "      <td> 1210451652</td>\n",
        "      <td> 3.0</td>\n",
        "      <td> 4.0</td>\n",
        "      <td> 4.0</td>\n",
        "      <td>          jkrich</td>\n",
        "      <td>                 American IPA</td>\n",
        "      <td> 3.0</td>\n",
        "      <td> 3.0</td>\n",
        "      <td> India Pale Ale</td>\n",
        "      <td> NaN</td>\n",
        "      <td> 42583</td>\n",
        "    </tr>\n",
        "    <tr>\n",
        "      <th>12569  </th>\n",
        "      <td>  1289</td>\n",
        "      <td>                               The Ship Inn</td>\n",
        "      <td> 1086927453</td>\n",
        "      <td> 4.0</td>\n",
        "      <td> 4.0</td>\n",
        "      <td> 4.0</td>\n",
        "      <td>       Billolick</td>\n",
        "      <td> English India Pale Ale (IPA)</td>\n",
        "      <td> 4.5</td>\n",
        "      <td> 4.5</td>\n",
        "      <td> India Pale Ale</td>\n",
        "      <td> 5.1</td>\n",
        "      <td> 17737</td>\n",
        "    </tr>\n",
        "    <tr>\n",
        "      <th>12838  </th>\n",
        "      <td>  1289</td>\n",
        "      <td>                               The Ship Inn</td>\n",
        "      <td> 1085963165</td>\n",
        "      <td> 4.5</td>\n",
        "      <td> 4.0</td>\n",
        "      <td> 4.5</td>\n",
        "      <td>     NeroFiddled</td>\n",
        "      <td> English India Pale Ale (IPA)</td>\n",
        "      <td> 4.5</td>\n",
        "      <td> 4.5</td>\n",
        "      <td> India Pale Ale</td>\n",
        "      <td> 5.1</td>\n",
        "      <td> 17737</td>\n",
        "    </tr>\n",
        "    <tr>\n",
        "      <th>13731  </th>\n",
        "      <td>  5321</td>\n",
        "      <td>                 McMenamins Queen Anne Hill</td>\n",
        "      <td> 1088738915</td>\n",
        "      <td> 4.5</td>\n",
        "      <td> 4.5</td>\n",
        "      <td> 4.0</td>\n",
        "      <td>    Globetrotter</td>\n",
        "      <td>                 American IPA</td>\n",
        "      <td> 4.0</td>\n",
        "      <td> 4.5</td>\n",
        "      <td> India Pale Ale</td>\n",
        "      <td> NaN</td>\n",
        "      <td> 18451</td>\n",
        "    </tr>\n",
        "    <tr>\n",
        "      <th>47616  </th>\n",
        "      <td>  2810</td>\n",
        "      <td>       Streets Of New York / Uptown Brewery</td>\n",
        "      <td> 1120963260</td>\n",
        "      <td> 3.5</td>\n",
        "      <td> 3.5</td>\n",
        "      <td> 4.0</td>\n",
        "      <td>      Gueuzedude</td>\n",
        "      <td>                 American IPA</td>\n",
        "      <td> 3.5</td>\n",
        "      <td> 3.5</td>\n",
        "      <td> India Pale Ale</td>\n",
        "      <td> 6.2</td>\n",
        "      <td> 11641</td>\n",
        "    </tr>\n",
        "    <tr>\n",
        "      <th>57279  </th>\n",
        "      <td>  1930</td>\n",
        "      <td>                       Alcatraz Brewing Co.</td>\n",
        "      <td> 1219326748</td>\n",
        "      <td> 3.5</td>\n",
        "      <td> 3.0</td>\n",
        "      <td> 3.0</td>\n",
        "      <td>    thekevlarkid</td>\n",
        "      <td>                 American IPA</td>\n",
        "      <td> 4.5</td>\n",
        "      <td> 3.0</td>\n",
        "      <td> India Pale Ale</td>\n",
        "      <td> NaN</td>\n",
        "      <td> 44466</td>\n",
        "    </tr>\n",
        "    <tr>\n",
        "      <th>57280  </th>\n",
        "      <td>  1930</td>\n",
        "      <td>                       Alcatraz Brewing Co.</td>\n",
        "      <td> 1146115140</td>\n",
        "      <td> 4.0</td>\n",
        "      <td> 4.0</td>\n",
        "      <td> 4.0</td>\n",
        "      <td>     SwillinBrew</td>\n",
        "      <td>                 American IPA</td>\n",
        "      <td> 4.0</td>\n",
        "      <td> 4.0</td>\n",
        "      <td> India Pale Ale</td>\n",
        "      <td> NaN</td>\n",
        "      <td> 44466</td>\n",
        "    </tr>\n",
        "    <tr>\n",
        "      <th>68814  </th>\n",
        "      <td>  3717</td>\n",
        "      <td>               Micro-Brasserie L'Alchimiste</td>\n",
        "      <td> 1322607448</td>\n",
        "      <td> 4.5</td>\n",
        "      <td> 4.0</td>\n",
        "      <td> 4.5</td>\n",
        "      <td>   greenengineer</td>\n",
        "      <td> English India Pale Ale (IPA)</td>\n",
        "      <td> 4.0</td>\n",
        "      <td> 4.5</td>\n",
        "      <td> India Pale Ale</td>\n",
        "      <td> 5.5</td>\n",
        "      <td> 36312</td>\n",
        "    </tr>\n",
        "    <tr>\n",
        "      <th>68815  </th>\n",
        "      <td>  3717</td>\n",
        "      <td>               Micro-Brasserie L'Alchimiste</td>\n",
        "      <td> 1315861185</td>\n",
        "      <td> 4.0</td>\n",
        "      <td> 4.0</td>\n",
        "      <td> 3.5</td>\n",
        "      <td>         chefelf</td>\n",
        "      <td> English India Pale Ale (IPA)</td>\n",
        "      <td> 4.0</td>\n",
        "      <td> 3.5</td>\n",
        "      <td> India Pale Ale</td>\n",
        "      <td> 5.5</td>\n",
        "      <td> 36312</td>\n",
        "    </tr>\n",
        "    <tr>\n",
        "      <th>68816  </th>\n",
        "      <td>  3717</td>\n",
        "      <td>               Micro-Brasserie L'Alchimiste</td>\n",
        "      <td> 1313089671</td>\n",
        "      <td> 3.5</td>\n",
        "      <td> 3.0</td>\n",
        "      <td> 3.5</td>\n",
        "      <td>           ctgui</td>\n",
        "      <td> English India Pale Ale (IPA)</td>\n",
        "      <td> 3.5</td>\n",
        "      <td> 3.5</td>\n",
        "      <td> India Pale Ale</td>\n",
        "      <td> 5.5</td>\n",
        "      <td> 36312</td>\n",
        "    </tr>\n",
        "    <tr>\n",
        "      <th>68817  </th>\n",
        "      <td>  3717</td>\n",
        "      <td>               Micro-Brasserie L'Alchimiste</td>\n",
        "      <td> 1311215895</td>\n",
        "      <td> 4.0</td>\n",
        "      <td> 3.5</td>\n",
        "      <td> 4.5</td>\n",
        "      <td>        tbeckett</td>\n",
        "      <td> English India Pale Ale (IPA)</td>\n",
        "      <td> 4.0</td>\n",
        "      <td> 4.0</td>\n",
        "      <td> India Pale Ale</td>\n",
        "      <td> 5.5</td>\n",
        "      <td> 36312</td>\n",
        "    </tr>\n",
        "    <tr>\n",
        "      <th>68818  </th>\n",
        "      <td>  3717</td>\n",
        "      <td>               Micro-Brasserie L'Alchimiste</td>\n",
        "      <td> 1310838107</td>\n",
        "      <td> 3.0</td>\n",
        "      <td> 3.5</td>\n",
        "      <td> 4.0</td>\n",
        "      <td>         Jwale73</td>\n",
        "      <td> English India Pale Ale (IPA)</td>\n",
        "      <td> 3.5</td>\n",
        "      <td> 3.0</td>\n",
        "      <td> India Pale Ale</td>\n",
        "      <td> 5.5</td>\n",
        "      <td> 36312</td>\n",
        "    </tr>\n",
        "    <tr>\n",
        "      <th>68819  </th>\n",
        "      <td>  3717</td>\n",
        "      <td>               Micro-Brasserie L'Alchimiste</td>\n",
        "      <td> 1309135983</td>\n",
        "      <td> 3.5</td>\n",
        "      <td> 3.5</td>\n",
        "      <td> 4.0</td>\n",
        "      <td>     hopsolutely</td>\n",
        "      <td> English India Pale Ale (IPA)</td>\n",
        "      <td> 3.5</td>\n",
        "      <td> 3.0</td>\n",
        "      <td> India Pale Ale</td>\n",
        "      <td> 5.5</td>\n",
        "      <td> 36312</td>\n",
        "    </tr>\n",
        "    <tr>\n",
        "      <th>68820  </th>\n",
        "      <td>  3717</td>\n",
        "      <td>               Micro-Brasserie L'Alchimiste</td>\n",
        "      <td> 1292461557</td>\n",
        "      <td> 3.5</td>\n",
        "      <td> 3.5</td>\n",
        "      <td> 3.5</td>\n",
        "      <td>            kwjd</td>\n",
        "      <td> English India Pale Ale (IPA)</td>\n",
        "      <td> 3.0</td>\n",
        "      <td> 3.5</td>\n",
        "      <td> India Pale Ale</td>\n",
        "      <td> 5.5</td>\n",
        "      <td> 36312</td>\n",
        "    </tr>\n",
        "    <tr>\n",
        "      <th>68821  </th>\n",
        "      <td>  3717</td>\n",
        "      <td>               Micro-Brasserie L'Alchimiste</td>\n",
        "      <td> 1291168224</td>\n",
        "      <td> 4.0</td>\n",
        "      <td> 4.0</td>\n",
        "      <td> 4.0</td>\n",
        "      <td>     Yoonisaykul</td>\n",
        "      <td> English India Pale Ale (IPA)</td>\n",
        "      <td> 4.5</td>\n",
        "      <td> 3.5</td>\n",
        "      <td> India Pale Ale</td>\n",
        "      <td> 5.5</td>\n",
        "      <td> 36312</td>\n",
        "    </tr>\n",
        "    <tr>\n",
        "      <th>68822  </th>\n",
        "      <td>  3717</td>\n",
        "      <td>               Micro-Brasserie L'Alchimiste</td>\n",
        "      <td> 1288829812</td>\n",
        "      <td> 3.0</td>\n",
        "      <td> 3.0</td>\n",
        "      <td> 3.0</td>\n",
        "      <td>         spinrsx</td>\n",
        "      <td> English India Pale Ale (IPA)</td>\n",
        "      <td> 3.0</td>\n",
        "      <td> 3.0</td>\n",
        "      <td> India Pale Ale</td>\n",
        "      <td> 5.5</td>\n",
        "      <td> 36312</td>\n",
        "    </tr>\n",
        "    <tr>\n",
        "      <th>68823  </th>\n",
        "      <td>  3717</td>\n",
        "      <td>               Micro-Brasserie L'Alchimiste</td>\n",
        "      <td> 1288309629</td>\n",
        "      <td> 3.5</td>\n",
        "      <td> 3.5</td>\n",
        "      <td> 4.0</td>\n",
        "      <td>        Swedes21</td>\n",
        "      <td> English India Pale Ale (IPA)</td>\n",
        "      <td> 3.0</td>\n",
        "      <td> 4.0</td>\n",
        "      <td> India Pale Ale</td>\n",
        "      <td> 5.5</td>\n",
        "      <td> 36312</td>\n",
        "    </tr>\n",
        "    <tr>\n",
        "      <th>68824  </th>\n",
        "      <td>  3717</td>\n",
        "      <td>               Micro-Brasserie L'Alchimiste</td>\n",
        "      <td> 1286299013</td>\n",
        "      <td> 4.0</td>\n",
        "      <td> 4.0</td>\n",
        "      <td> 4.0</td>\n",
        "      <td>        rarbring</td>\n",
        "      <td> English India Pale Ale (IPA)</td>\n",
        "      <td> 4.0</td>\n",
        "      <td> 4.0</td>\n",
        "      <td> India Pale Ale</td>\n",
        "      <td> 5.5</td>\n",
        "      <td> 36312</td>\n",
        "    </tr>\n",
        "    <tr>\n",
        "      <th>68825  </th>\n",
        "      <td>  3717</td>\n",
        "      <td>               Micro-Brasserie L'Alchimiste</td>\n",
        "      <td> 1264295459</td>\n",
        "      <td> 4.0</td>\n",
        "      <td> 4.0</td>\n",
        "      <td> 4.0</td>\n",
        "      <td>     kingcrowing</td>\n",
        "      <td> English India Pale Ale (IPA)</td>\n",
        "      <td> 4.0</td>\n",
        "      <td> 4.0</td>\n",
        "      <td> India Pale Ale</td>\n",
        "      <td> 5.5</td>\n",
        "      <td> 36312</td>\n",
        "    </tr>\n",
        "    <tr>\n",
        "      <th>68826  </th>\n",
        "      <td>  3717</td>\n",
        "      <td>               Micro-Brasserie L'Alchimiste</td>\n",
        "      <td> 1258991281</td>\n",
        "      <td> 3.0</td>\n",
        "      <td> 3.0</td>\n",
        "      <td> 3.0</td>\n",
        "      <td>       mrmanning</td>\n",
        "      <td> English India Pale Ale (IPA)</td>\n",
        "      <td> 3.0</td>\n",
        "      <td> 3.0</td>\n",
        "      <td> India Pale Ale</td>\n",
        "      <td> 5.5</td>\n",
        "      <td> 36312</td>\n",
        "    </tr>\n",
        "    <tr>\n",
        "      <th>68827  </th>\n",
        "      <td>  3717</td>\n",
        "      <td>               Micro-Brasserie L'Alchimiste</td>\n",
        "      <td> 1249085314</td>\n",
        "      <td> 3.5</td>\n",
        "      <td> 3.5</td>\n",
        "      <td> 4.0</td>\n",
        "      <td>     biboergosum</td>\n",
        "      <td> English India Pale Ale (IPA)</td>\n",
        "      <td> 4.0</td>\n",
        "      <td> 3.5</td>\n",
        "      <td> India Pale Ale</td>\n",
        "      <td> 5.5</td>\n",
        "      <td> 36312</td>\n",
        "    </tr>\n",
        "    <tr>\n",
        "      <th>68828  </th>\n",
        "      <td>  3717</td>\n",
        "      <td>               Micro-Brasserie L'Alchimiste</td>\n",
        "      <td> 1247746709</td>\n",
        "      <td> 3.5</td>\n",
        "      <td> 3.5</td>\n",
        "      <td> 3.5</td>\n",
        "      <td>          Deuane</td>\n",
        "      <td> English India Pale Ale (IPA)</td>\n",
        "      <td> 3.0</td>\n",
        "      <td> 3.0</td>\n",
        "      <td> India Pale Ale</td>\n",
        "      <td> 5.5</td>\n",
        "      <td> 36312</td>\n",
        "    </tr>\n",
        "    <tr>\n",
        "      <th>68829  </th>\n",
        "      <td>  3717</td>\n",
        "      <td>               Micro-Brasserie L'Alchimiste</td>\n",
        "      <td> 1246580491</td>\n",
        "      <td> 3.5</td>\n",
        "      <td> 3.5</td>\n",
        "      <td> 4.0</td>\n",
        "      <td>           Derek</td>\n",
        "      <td> English India Pale Ale (IPA)</td>\n",
        "      <td> 3.5</td>\n",
        "      <td> 3.5</td>\n",
        "      <td> India Pale Ale</td>\n",
        "      <td> 5.5</td>\n",
        "      <td> 36312</td>\n",
        "    </tr>\n",
        "    <tr>\n",
        "      <th>68830  </th>\n",
        "      <td>  3717</td>\n",
        "      <td>               Micro-Brasserie L'Alchimiste</td>\n",
        "      <td> 1246395899</td>\n",
        "      <td> 2.5</td>\n",
        "      <td> 4.0</td>\n",
        "      <td> 4.0</td>\n",
        "      <td>             eat</td>\n",
        "      <td> English India Pale Ale (IPA)</td>\n",
        "      <td> 3.0</td>\n",
        "      <td> 2.5</td>\n",
        "      <td> India Pale Ale</td>\n",
        "      <td> 5.5</td>\n",
        "      <td> 36312</td>\n",
        "    </tr>\n",
        "    <tr>\n",
        "      <th>68831  </th>\n",
        "      <td>  3717</td>\n",
        "      <td>               Micro-Brasserie L'Alchimiste</td>\n",
        "      <td> 1245977136</td>\n",
        "      <td> 3.0</td>\n",
        "      <td> 3.0</td>\n",
        "      <td> 3.0</td>\n",
        "      <td>   MeisterBurger</td>\n",
        "      <td> English India Pale Ale (IPA)</td>\n",
        "      <td> 3.5</td>\n",
        "      <td> 2.5</td>\n",
        "      <td> India Pale Ale</td>\n",
        "      <td> 5.5</td>\n",
        "      <td> 36312</td>\n",
        "    </tr>\n",
        "    <tr>\n",
        "      <th>68832  </th>\n",
        "      <td>  3717</td>\n",
        "      <td>               Micro-Brasserie L'Alchimiste</td>\n",
        "      <td> 1238717506</td>\n",
        "      <td> 3.5</td>\n",
        "      <td> 3.5</td>\n",
        "      <td> 3.5</td>\n",
        "      <td>     NightINgale</td>\n",
        "      <td> English India Pale Ale (IPA)</td>\n",
        "      <td> 3.0</td>\n",
        "      <td> 3.5</td>\n",
        "      <td> India Pale Ale</td>\n",
        "      <td> 5.5</td>\n",
        "      <td> 36312</td>\n",
        "    </tr>\n",
        "    <tr>\n",
        "      <th>68833  </th>\n",
        "      <td>  3717</td>\n",
        "      <td>               Micro-Brasserie L'Alchimiste</td>\n",
        "      <td> 1230347395</td>\n",
        "      <td> 4.0</td>\n",
        "      <td> 4.0</td>\n",
        "      <td> 4.0</td>\n",
        "      <td>         plaid75</td>\n",
        "      <td> English India Pale Ale (IPA)</td>\n",
        "      <td> 4.0</td>\n",
        "      <td> 4.0</td>\n",
        "      <td> India Pale Ale</td>\n",
        "      <td> 5.5</td>\n",
        "      <td> 36312</td>\n",
        "    </tr>\n",
        "    <tr>\n",
        "      <th>68834  </th>\n",
        "      <td>  3717</td>\n",
        "      <td>               Micro-Brasserie L'Alchimiste</td>\n",
        "      <td> 1221108323</td>\n",
        "      <td> 4.0</td>\n",
        "      <td> 3.5</td>\n",
        "      <td> 4.0</td>\n",
        "      <td>     irishkyle21</td>\n",
        "      <td> English India Pale Ale (IPA)</td>\n",
        "      <td> 3.5</td>\n",
        "      <td> 3.5</td>\n",
        "      <td> India Pale Ale</td>\n",
        "      <td> 5.5</td>\n",
        "      <td> 36312</td>\n",
        "    </tr>\n",
        "    <tr>\n",
        "      <th>68835  </th>\n",
        "      <td>  3717</td>\n",
        "      <td>               Micro-Brasserie L'Alchimiste</td>\n",
        "      <td> 1219024805</td>\n",
        "      <td> 3.0</td>\n",
        "      <td> 3.5</td>\n",
        "      <td> 4.0</td>\n",
        "      <td>        sstackho</td>\n",
        "      <td> English India Pale Ale (IPA)</td>\n",
        "      <td> 3.0</td>\n",
        "      <td> 3.5</td>\n",
        "      <td> India Pale Ale</td>\n",
        "      <td> 5.5</td>\n",
        "      <td> 36312</td>\n",
        "    </tr>\n",
        "    <tr>\n",
        "      <th>68836  </th>\n",
        "      <td>  3717</td>\n",
        "      <td>               Micro-Brasserie L'Alchimiste</td>\n",
        "      <td> 1218774065</td>\n",
        "      <td> 3.0</td>\n",
        "      <td> 3.5</td>\n",
        "      <td> 3.0</td>\n",
        "      <td>         3Vandoo</td>\n",
        "      <td> English India Pale Ale (IPA)</td>\n",
        "      <td> 3.0</td>\n",
        "      <td> 2.0</td>\n",
        "      <td> India Pale Ale</td>\n",
        "      <td> 5.5</td>\n",
        "      <td> 36312</td>\n",
        "    </tr>\n",
        "    <tr>\n",
        "      <th>...</th>\n",
        "      <td>...</td>\n",
        "      <td>...</td>\n",
        "      <td>...</td>\n",
        "      <td>...</td>\n",
        "      <td>...</td>\n",
        "      <td>...</td>\n",
        "      <td>...</td>\n",
        "      <td>...</td>\n",
        "      <td>...</td>\n",
        "      <td>...</td>\n",
        "      <td>...</td>\n",
        "      <td>...</td>\n",
        "      <td>...</td>\n",
        "    </tr>\n",
        "    <tr>\n",
        "      <th>1574308</th>\n",
        "      <td>   391</td>\n",
        "      <td>                           Big Rock Brewery</td>\n",
        "      <td> 1130989493</td>\n",
        "      <td> 3.5</td>\n",
        "      <td> 3.0</td>\n",
        "      <td> 3.0</td>\n",
        "      <td>       Noxious26</td>\n",
        "      <td> English India Pale Ale (IPA)</td>\n",
        "      <td> 3.0</td>\n",
        "      <td> 3.0</td>\n",
        "      <td> India Pale Ale</td>\n",
        "      <td> 5.0</td>\n",
        "      <td>  5084</td>\n",
        "    </tr>\n",
        "    <tr>\n",
        "      <th>1574309</th>\n",
        "      <td>   391</td>\n",
        "      <td>                           Big Rock Brewery</td>\n",
        "      <td> 1126902553</td>\n",
        "      <td> 3.0</td>\n",
        "      <td> 2.5</td>\n",
        "      <td> 3.5</td>\n",
        "      <td>     fisherman34</td>\n",
        "      <td> English India Pale Ale (IPA)</td>\n",
        "      <td> 2.5</td>\n",
        "      <td> 3.0</td>\n",
        "      <td> India Pale Ale</td>\n",
        "      <td> 5.0</td>\n",
        "      <td>  5084</td>\n",
        "    </tr>\n",
        "    <tr>\n",
        "      <th>1574311</th>\n",
        "      <td>   391</td>\n",
        "      <td>                           Big Rock Brewery</td>\n",
        "      <td> 1113164565</td>\n",
        "      <td> 3.0</td>\n",
        "      <td> 2.5</td>\n",
        "      <td> 3.0</td>\n",
        "      <td>          BigBry</td>\n",
        "      <td> English India Pale Ale (IPA)</td>\n",
        "      <td> 3.0</td>\n",
        "      <td> 2.5</td>\n",
        "      <td> India Pale Ale</td>\n",
        "      <td> 5.0</td>\n",
        "      <td>  5084</td>\n",
        "    </tr>\n",
        "    <tr>\n",
        "      <th>1574312</th>\n",
        "      <td>   391</td>\n",
        "      <td>                           Big Rock Brewery</td>\n",
        "      <td> 1109824687</td>\n",
        "      <td> 3.0</td>\n",
        "      <td> 3.0</td>\n",
        "      <td> 2.0</td>\n",
        "      <td>         3Vandoo</td>\n",
        "      <td> English India Pale Ale (IPA)</td>\n",
        "      <td> 3.0</td>\n",
        "      <td> 3.0</td>\n",
        "      <td> India Pale Ale</td>\n",
        "      <td> 5.0</td>\n",
        "      <td>  5084</td>\n",
        "    </tr>\n",
        "    <tr>\n",
        "      <th>1574313</th>\n",
        "      <td>   391</td>\n",
        "      <td>                           Big Rock Brewery</td>\n",
        "      <td> 1102130134</td>\n",
        "      <td> 2.5</td>\n",
        "      <td> 1.0</td>\n",
        "      <td> 3.5</td>\n",
        "      <td>  CAMRAhardliner</td>\n",
        "      <td> English India Pale Ale (IPA)</td>\n",
        "      <td> 2.0</td>\n",
        "      <td> 2.5</td>\n",
        "      <td> India Pale Ale</td>\n",
        "      <td> 5.0</td>\n",
        "      <td>  5084</td>\n",
        "    </tr>\n",
        "    <tr>\n",
        "      <th>1574314</th>\n",
        "      <td>   391</td>\n",
        "      <td>                           Big Rock Brewery</td>\n",
        "      <td> 1099458531</td>\n",
        "      <td> 3.0</td>\n",
        "      <td> 2.5</td>\n",
        "      <td> 3.5</td>\n",
        "      <td>      rajendra82</td>\n",
        "      <td> English India Pale Ale (IPA)</td>\n",
        "      <td> 3.0</td>\n",
        "      <td> 3.0</td>\n",
        "      <td> India Pale Ale</td>\n",
        "      <td> 5.0</td>\n",
        "      <td>  5084</td>\n",
        "    </tr>\n",
        "    <tr>\n",
        "      <th>1574315</th>\n",
        "      <td>   391</td>\n",
        "      <td>                           Big Rock Brewery</td>\n",
        "      <td> 1098996944</td>\n",
        "      <td> 3.0</td>\n",
        "      <td> 1.5</td>\n",
        "      <td> 3.5</td>\n",
        "      <td>         Saccian</td>\n",
        "      <td> English India Pale Ale (IPA)</td>\n",
        "      <td> 4.0</td>\n",
        "      <td> 2.5</td>\n",
        "      <td> India Pale Ale</td>\n",
        "      <td> 5.0</td>\n",
        "      <td>  5084</td>\n",
        "    </tr>\n",
        "    <tr>\n",
        "      <th>1574316</th>\n",
        "      <td>   391</td>\n",
        "      <td>                           Big Rock Brewery</td>\n",
        "      <td> 1097548131</td>\n",
        "      <td> 3.5</td>\n",
        "      <td> 3.0</td>\n",
        "      <td> 2.5</td>\n",
        "      <td>     slitherySOB</td>\n",
        "      <td> English India Pale Ale (IPA)</td>\n",
        "      <td> 3.0</td>\n",
        "      <td> 3.0</td>\n",
        "      <td> India Pale Ale</td>\n",
        "      <td> 5.0</td>\n",
        "      <td>  5084</td>\n",
        "    </tr>\n",
        "    <tr>\n",
        "      <th>1574317</th>\n",
        "      <td>   391</td>\n",
        "      <td>                           Big Rock Brewery</td>\n",
        "      <td> 1088608556</td>\n",
        "      <td> 3.0</td>\n",
        "      <td> 3.0</td>\n",
        "      <td> 3.0</td>\n",
        "      <td>  the42ndtourist</td>\n",
        "      <td> English India Pale Ale (IPA)</td>\n",
        "      <td> 3.0</td>\n",
        "      <td> 2.0</td>\n",
        "      <td> India Pale Ale</td>\n",
        "      <td> 5.0</td>\n",
        "      <td>  5084</td>\n",
        "    </tr>\n",
        "    <tr>\n",
        "      <th>1574318</th>\n",
        "      <td>   391</td>\n",
        "      <td>                           Big Rock Brewery</td>\n",
        "      <td> 1085511743</td>\n",
        "      <td> 2.5</td>\n",
        "      <td> 2.0</td>\n",
        "      <td> 3.5</td>\n",
        "      <td>         Popsinc</td>\n",
        "      <td> English India Pale Ale (IPA)</td>\n",
        "      <td> 3.0</td>\n",
        "      <td> 2.0</td>\n",
        "      <td> India Pale Ale</td>\n",
        "      <td> 5.0</td>\n",
        "      <td>  5084</td>\n",
        "    </tr>\n",
        "    <tr>\n",
        "      <th>1574319</th>\n",
        "      <td>   391</td>\n",
        "      <td>                           Big Rock Brewery</td>\n",
        "      <td> 1078635381</td>\n",
        "      <td> 3.5</td>\n",
        "      <td> 2.5</td>\n",
        "      <td> 3.0</td>\n",
        "      <td>    stephenlouis</td>\n",
        "      <td> English India Pale Ale (IPA)</td>\n",
        "      <td> 3.0</td>\n",
        "      <td> 2.0</td>\n",
        "      <td> India Pale Ale</td>\n",
        "      <td> 5.0</td>\n",
        "      <td>  5084</td>\n",
        "    </tr>\n",
        "    <tr>\n",
        "      <th>1574321</th>\n",
        "      <td>   391</td>\n",
        "      <td>                           Big Rock Brewery</td>\n",
        "      <td> 1058212286</td>\n",
        "      <td> 2.0</td>\n",
        "      <td> 2.0</td>\n",
        "      <td> 3.5</td>\n",
        "      <td> TheLongBeachBum</td>\n",
        "      <td> English India Pale Ale (IPA)</td>\n",
        "      <td> 2.0</td>\n",
        "      <td> 2.0</td>\n",
        "      <td> India Pale Ale</td>\n",
        "      <td> 5.0</td>\n",
        "      <td>  5084</td>\n",
        "    </tr>\n",
        "    <tr>\n",
        "      <th>1574322</th>\n",
        "      <td>   391</td>\n",
        "      <td>                           Big Rock Brewery</td>\n",
        "      <td> 1055089850</td>\n",
        "      <td> 2.5</td>\n",
        "      <td> 2.5</td>\n",
        "      <td> 4.0</td>\n",
        "      <td>       tavernjef</td>\n",
        "      <td> English India Pale Ale (IPA)</td>\n",
        "      <td> 2.5</td>\n",
        "      <td> 3.0</td>\n",
        "      <td> India Pale Ale</td>\n",
        "      <td> 5.0</td>\n",
        "      <td>  5084</td>\n",
        "    </tr>\n",
        "    <tr>\n",
        "      <th>1574323</th>\n",
        "      <td>   391</td>\n",
        "      <td>                           Big Rock Brewery</td>\n",
        "      <td> 1054071717</td>\n",
        "      <td> 2.5</td>\n",
        "      <td> 2.5</td>\n",
        "      <td> 3.5</td>\n",
        "      <td>       IronDjinn</td>\n",
        "      <td> English India Pale Ale (IPA)</td>\n",
        "      <td> 3.0</td>\n",
        "      <td> 2.5</td>\n",
        "      <td> India Pale Ale</td>\n",
        "      <td> 5.0</td>\n",
        "      <td>  5084</td>\n",
        "    </tr>\n",
        "    <tr>\n",
        "      <th>1574324</th>\n",
        "      <td>   391</td>\n",
        "      <td>                           Big Rock Brewery</td>\n",
        "      <td> 1042392015</td>\n",
        "      <td> 2.5</td>\n",
        "      <td> 3.0</td>\n",
        "      <td> 2.5</td>\n",
        "      <td>          Shiloh</td>\n",
        "      <td> English India Pale Ale (IPA)</td>\n",
        "      <td> 3.0</td>\n",
        "      <td> 2.5</td>\n",
        "      <td> India Pale Ale</td>\n",
        "      <td> 5.0</td>\n",
        "      <td>  5084</td>\n",
        "    </tr>\n",
        "    <tr>\n",
        "      <th>1574325</th>\n",
        "      <td>   391</td>\n",
        "      <td>                           Big Rock Brewery</td>\n",
        "      <td> 1031343787</td>\n",
        "      <td> 1.5</td>\n",
        "      <td> 1.5</td>\n",
        "      <td> 2.0</td>\n",
        "      <td>          Jordan</td>\n",
        "      <td> English India Pale Ale (IPA)</td>\n",
        "      <td> 1.5</td>\n",
        "      <td> 1.5</td>\n",
        "      <td> India Pale Ale</td>\n",
        "      <td> 5.0</td>\n",
        "      <td>  5084</td>\n",
        "    </tr>\n",
        "    <tr>\n",
        "      <th>1574326</th>\n",
        "      <td>   391</td>\n",
        "      <td>                           Big Rock Brewery</td>\n",
        "      <td> 1027766403</td>\n",
        "      <td> 2.0</td>\n",
        "      <td> 2.0</td>\n",
        "      <td> 3.0</td>\n",
        "      <td> MississaugaMatt</td>\n",
        "      <td> English India Pale Ale (IPA)</td>\n",
        "      <td> 2.0</td>\n",
        "      <td> 2.5</td>\n",
        "      <td> India Pale Ale</td>\n",
        "      <td> 5.0</td>\n",
        "      <td>  5084</td>\n",
        "    </tr>\n",
        "    <tr>\n",
        "      <th>1586552</th>\n",
        "      <td> 14359</td>\n",
        "      <td>                The Defiant Brewing Company</td>\n",
        "      <td> 1295828317</td>\n",
        "      <td> 4.5</td>\n",
        "      <td> 4.5</td>\n",
        "      <td> 4.0</td>\n",
        "      <td>         tempest</td>\n",
        "      <td>                 American IPA</td>\n",
        "      <td> 4.0</td>\n",
        "      <td> 4.0</td>\n",
        "      <td> India Pale Ale</td>\n",
        "      <td> 6.2</td>\n",
        "      <td> 35185</td>\n",
        "    </tr>\n",
        "    <tr>\n",
        "      <th>1586553</th>\n",
        "      <td> 14359</td>\n",
        "      <td>                The Defiant Brewing Company</td>\n",
        "      <td> 1293123200</td>\n",
        "      <td> 3.5</td>\n",
        "      <td> 3.0</td>\n",
        "      <td> 4.0</td>\n",
        "      <td>   LilBeerDoctor</td>\n",
        "      <td>                 American IPA</td>\n",
        "      <td> 3.5</td>\n",
        "      <td> 3.5</td>\n",
        "      <td> India Pale Ale</td>\n",
        "      <td> 6.2</td>\n",
        "      <td> 35185</td>\n",
        "    </tr>\n",
        "    <tr>\n",
        "      <th>1586554</th>\n",
        "      <td> 14359</td>\n",
        "      <td>                The Defiant Brewing Company</td>\n",
        "      <td> 1278856990</td>\n",
        "      <td> 4.0</td>\n",
        "      <td> 4.0</td>\n",
        "      <td> 4.0</td>\n",
        "      <td>         david18</td>\n",
        "      <td>                 American IPA</td>\n",
        "      <td> 4.0</td>\n",
        "      <td> 4.0</td>\n",
        "      <td> India Pale Ale</td>\n",
        "      <td> 6.2</td>\n",
        "      <td> 35185</td>\n",
        "    </tr>\n",
        "    <tr>\n",
        "      <th>1586555</th>\n",
        "      <td> 14359</td>\n",
        "      <td>                The Defiant Brewing Company</td>\n",
        "      <td> 1263326408</td>\n",
        "      <td> 4.5</td>\n",
        "      <td> 4.0</td>\n",
        "      <td> 4.0</td>\n",
        "      <td>        samyoung</td>\n",
        "      <td>                 American IPA</td>\n",
        "      <td> 4.0</td>\n",
        "      <td> 3.5</td>\n",
        "      <td> India Pale Ale</td>\n",
        "      <td> 6.2</td>\n",
        "      <td> 35185</td>\n",
        "    </tr>\n",
        "    <tr>\n",
        "      <th>1586556</th>\n",
        "      <td> 14359</td>\n",
        "      <td>                The Defiant Brewing Company</td>\n",
        "      <td> 1249352525</td>\n",
        "      <td> 4.0</td>\n",
        "      <td> 4.0</td>\n",
        "      <td> 4.0</td>\n",
        "      <td>          Nickls</td>\n",
        "      <td>                 American IPA</td>\n",
        "      <td> 4.0</td>\n",
        "      <td> 3.5</td>\n",
        "      <td> India Pale Ale</td>\n",
        "      <td> 6.2</td>\n",
        "      <td> 35185</td>\n",
        "    </tr>\n",
        "    <tr>\n",
        "      <th>1586557</th>\n",
        "      <td> 14359</td>\n",
        "      <td>                The Defiant Brewing Company</td>\n",
        "      <td> 1238475299</td>\n",
        "      <td> 4.0</td>\n",
        "      <td> 4.0</td>\n",
        "      <td> 4.0</td>\n",
        "      <td>   njthebestofme</td>\n",
        "      <td>                 American IPA</td>\n",
        "      <td> 4.0</td>\n",
        "      <td> 4.0</td>\n",
        "      <td> India Pale Ale</td>\n",
        "      <td> 6.2</td>\n",
        "      <td> 35185</td>\n",
        "    </tr>\n",
        "    <tr>\n",
        "      <th>1586558</th>\n",
        "      <td> 14359</td>\n",
        "      <td>                The Defiant Brewing Company</td>\n",
        "      <td> 1217965775</td>\n",
        "      <td> 3.0</td>\n",
        "      <td> 3.0</td>\n",
        "      <td> 3.5</td>\n",
        "      <td>        frankld2</td>\n",
        "      <td>                 American IPA</td>\n",
        "      <td> 2.0</td>\n",
        "      <td> 2.0</td>\n",
        "      <td> India Pale Ale</td>\n",
        "      <td> 6.2</td>\n",
        "      <td> 35185</td>\n",
        "    </tr>\n",
        "    <tr>\n",
        "      <th>1586559</th>\n",
        "      <td> 14359</td>\n",
        "      <td>                The Defiant Brewing Company</td>\n",
        "      <td> 1185464001</td>\n",
        "      <td> 3.0</td>\n",
        "      <td> 3.5</td>\n",
        "      <td> 4.0</td>\n",
        "      <td>        madmanjf</td>\n",
        "      <td>                 American IPA</td>\n",
        "      <td> 3.0</td>\n",
        "      <td> 3.0</td>\n",
        "      <td> India Pale Ale</td>\n",
        "      <td> 6.2</td>\n",
        "      <td> 35185</td>\n",
        "    </tr>\n",
        "    <tr>\n",
        "      <th>1586560</th>\n",
        "      <td> 14359</td>\n",
        "      <td>                The Defiant Brewing Company</td>\n",
        "      <td> 1180784758</td>\n",
        "      <td> 4.0</td>\n",
        "      <td> 4.0</td>\n",
        "      <td> 4.0</td>\n",
        "      <td>       Billolick</td>\n",
        "      <td>                 American IPA</td>\n",
        "      <td> 4.0</td>\n",
        "      <td> 4.0</td>\n",
        "      <td> India Pale Ale</td>\n",
        "      <td> 6.2</td>\n",
        "      <td> 35185</td>\n",
        "    </tr>\n",
        "    <tr>\n",
        "      <th>1586561</th>\n",
        "      <td> 14359</td>\n",
        "      <td>                The Defiant Brewing Company</td>\n",
        "      <td> 1179537000</td>\n",
        "      <td> 4.0</td>\n",
        "      <td> 3.5</td>\n",
        "      <td> 4.5</td>\n",
        "      <td>          EPseja</td>\n",
        "      <td>                 American IPA</td>\n",
        "      <td> 4.5</td>\n",
        "      <td> 3.5</td>\n",
        "      <td> India Pale Ale</td>\n",
        "      <td> 6.2</td>\n",
        "      <td> 35185</td>\n",
        "    </tr>\n",
        "    <tr>\n",
        "      <th>1586562</th>\n",
        "      <td> 14359</td>\n",
        "      <td>                The Defiant Brewing Company</td>\n",
        "      <td> 1175746381</td>\n",
        "      <td> 3.5</td>\n",
        "      <td> 4.0</td>\n",
        "      <td> 4.0</td>\n",
        "      <td>      maddogruss</td>\n",
        "      <td>                 American IPA</td>\n",
        "      <td> 4.0</td>\n",
        "      <td> 4.0</td>\n",
        "      <td> India Pale Ale</td>\n",
        "      <td> 6.2</td>\n",
        "      <td> 35185</td>\n",
        "    </tr>\n",
        "    <tr>\n",
        "      <th>1586563</th>\n",
        "      <td> 14359</td>\n",
        "      <td>                The Defiant Brewing Company</td>\n",
        "      <td> 1171081089</td>\n",
        "      <td> 4.0</td>\n",
        "      <td> 4.5</td>\n",
        "      <td> 4.0</td>\n",
        "      <td>        dherling</td>\n",
        "      <td>                 American IPA</td>\n",
        "      <td> 4.0</td>\n",
        "      <td> 4.5</td>\n",
        "      <td> India Pale Ale</td>\n",
        "      <td> 6.2</td>\n",
        "      <td> 35185</td>\n",
        "    </tr>\n",
        "    <tr>\n",
        "      <th>1586564</th>\n",
        "      <td> 14359</td>\n",
        "      <td>                The Defiant Brewing Company</td>\n",
        "      <td> 1170979828</td>\n",
        "      <td> 4.0</td>\n",
        "      <td> 4.0</td>\n",
        "      <td> 4.5</td>\n",
        "      <td>            cbl2</td>\n",
        "      <td>                 American IPA</td>\n",
        "      <td> 4.0</td>\n",
        "      <td> 4.0</td>\n",
        "      <td> India Pale Ale</td>\n",
        "      <td> 6.2</td>\n",
        "      <td> 35185</td>\n",
        "    </tr>\n",
        "  </tbody>\n",
        "</table>\n",
        "<p>28356 rows \u00d7 13 columns</p>\n",
        "</div>"
       ],
       "metadata": {},
       "output_type": "pyout",
       "prompt_number": 6,
       "text": [
        "        beer_reviews/                                brewery_name  \\\n",
        "8269              395  Bluegrass Brewing Co. - East St. Matthew's   \n",
        "12569            1289                                The Ship Inn   \n",
        "12838            1289                                The Ship Inn   \n",
        "13731            5321                  McMenamins Queen Anne Hill   \n",
        "47616            2810        Streets Of New York / Uptown Brewery   \n",
        "57279            1930                        Alcatraz Brewing Co.   \n",
        "57280            1930                        Alcatraz Brewing Co.   \n",
        "68814            3717                Micro-Brasserie L'Alchimiste   \n",
        "68815            3717                Micro-Brasserie L'Alchimiste   \n",
        "68816            3717                Micro-Brasserie L'Alchimiste   \n",
        "68817            3717                Micro-Brasserie L'Alchimiste   \n",
        "68818            3717                Micro-Brasserie L'Alchimiste   \n",
        "68819            3717                Micro-Brasserie L'Alchimiste   \n",
        "68820            3717                Micro-Brasserie L'Alchimiste   \n",
        "68821            3717                Micro-Brasserie L'Alchimiste   \n",
        "68822            3717                Micro-Brasserie L'Alchimiste   \n",
        "68823            3717                Micro-Brasserie L'Alchimiste   \n",
        "68824            3717                Micro-Brasserie L'Alchimiste   \n",
        "68825            3717                Micro-Brasserie L'Alchimiste   \n",
        "68826            3717                Micro-Brasserie L'Alchimiste   \n",
        "68827            3717                Micro-Brasserie L'Alchimiste   \n",
        "68828            3717                Micro-Brasserie L'Alchimiste   \n",
        "68829            3717                Micro-Brasserie L'Alchimiste   \n",
        "68830            3717                Micro-Brasserie L'Alchimiste   \n",
        "68831            3717                Micro-Brasserie L'Alchimiste   \n",
        "68832            3717                Micro-Brasserie L'Alchimiste   \n",
        "68833            3717                Micro-Brasserie L'Alchimiste   \n",
        "68834            3717                Micro-Brasserie L'Alchimiste   \n",
        "68835            3717                Micro-Brasserie L'Alchimiste   \n",
        "68836            3717                Micro-Brasserie L'Alchimiste   \n",
        "...               ...                                         ...   \n",
        "1574308           391                            Big Rock Brewery   \n",
        "1574309           391                            Big Rock Brewery   \n",
        "1574311           391                            Big Rock Brewery   \n",
        "1574312           391                            Big Rock Brewery   \n",
        "1574313           391                            Big Rock Brewery   \n",
        "1574314           391                            Big Rock Brewery   \n",
        "1574315           391                            Big Rock Brewery   \n",
        "1574316           391                            Big Rock Brewery   \n",
        "1574317           391                            Big Rock Brewery   \n",
        "1574318           391                            Big Rock Brewery   \n",
        "1574319           391                            Big Rock Brewery   \n",
        "1574321           391                            Big Rock Brewery   \n",
        "1574322           391                            Big Rock Brewery   \n",
        "1574323           391                            Big Rock Brewery   \n",
        "1574324           391                            Big Rock Brewery   \n",
        "1574325           391                            Big Rock Brewery   \n",
        "1574326           391                            Big Rock Brewery   \n",
        "1586552         14359                 The Defiant Brewing Company   \n",
        "1586553         14359                 The Defiant Brewing Company   \n",
        "1586554         14359                 The Defiant Brewing Company   \n",
        "1586555         14359                 The Defiant Brewing Company   \n",
        "1586556         14359                 The Defiant Brewing Company   \n",
        "1586557         14359                 The Defiant Brewing Company   \n",
        "1586558         14359                 The Defiant Brewing Company   \n",
        "1586559         14359                 The Defiant Brewing Company   \n",
        "1586560         14359                 The Defiant Brewing Company   \n",
        "1586561         14359                 The Defiant Brewing Company   \n",
        "1586562         14359                 The Defiant Brewing Company   \n",
        "1586563         14359                 The Defiant Brewing Company   \n",
        "1586564         14359                 The Defiant Brewing Company   \n",
        "\n",
        "         review_time  review_overall  review_aroma  review_appearance  \\\n",
        "8269      1210451652             3.0           4.0                4.0   \n",
        "12569     1086927453             4.0           4.0                4.0   \n",
        "12838     1085963165             4.5           4.0                4.5   \n",
        "13731     1088738915             4.5           4.5                4.0   \n",
        "47616     1120963260             3.5           3.5                4.0   \n",
        "57279     1219326748             3.5           3.0                3.0   \n",
        "57280     1146115140             4.0           4.0                4.0   \n",
        "68814     1322607448             4.5           4.0                4.5   \n",
        "68815     1315861185             4.0           4.0                3.5   \n",
        "68816     1313089671             3.5           3.0                3.5   \n",
        "68817     1311215895             4.0           3.5                4.5   \n",
        "68818     1310838107             3.0           3.5                4.0   \n",
        "68819     1309135983             3.5           3.5                4.0   \n",
        "68820     1292461557             3.5           3.5                3.5   \n",
        "68821     1291168224             4.0           4.0                4.0   \n",
        "68822     1288829812             3.0           3.0                3.0   \n",
        "68823     1288309629             3.5           3.5                4.0   \n",
        "68824     1286299013             4.0           4.0                4.0   \n",
        "68825     1264295459             4.0           4.0                4.0   \n",
        "68826     1258991281             3.0           3.0                3.0   \n",
        "68827     1249085314             3.5           3.5                4.0   \n",
        "68828     1247746709             3.5           3.5                3.5   \n",
        "68829     1246580491             3.5           3.5                4.0   \n",
        "68830     1246395899             2.5           4.0                4.0   \n",
        "68831     1245977136             3.0           3.0                3.0   \n",
        "68832     1238717506             3.5           3.5                3.5   \n",
        "68833     1230347395             4.0           4.0                4.0   \n",
        "68834     1221108323             4.0           3.5                4.0   \n",
        "68835     1219024805             3.0           3.5                4.0   \n",
        "68836     1218774065             3.0           3.5                3.0   \n",
        "...              ...             ...           ...                ...   \n",
        "1574308   1130989493             3.5           3.0                3.0   \n",
        "1574309   1126902553             3.0           2.5                3.5   \n",
        "1574311   1113164565             3.0           2.5                3.0   \n",
        "1574312   1109824687             3.0           3.0                2.0   \n",
        "1574313   1102130134             2.5           1.0                3.5   \n",
        "1574314   1099458531             3.0           2.5                3.5   \n",
        "1574315   1098996944             3.0           1.5                3.5   \n",
        "1574316   1097548131             3.5           3.0                2.5   \n",
        "1574317   1088608556             3.0           3.0                3.0   \n",
        "1574318   1085511743             2.5           2.0                3.5   \n",
        "1574319   1078635381             3.5           2.5                3.0   \n",
        "1574321   1058212286             2.0           2.0                3.5   \n",
        "1574322   1055089850             2.5           2.5                4.0   \n",
        "1574323   1054071717             2.5           2.5                3.5   \n",
        "1574324   1042392015             2.5           3.0                2.5   \n",
        "1574325   1031343787             1.5           1.5                2.0   \n",
        "1574326   1027766403             2.0           2.0                3.0   \n",
        "1586552   1295828317             4.5           4.5                4.0   \n",
        "1586553   1293123200             3.5           3.0                4.0   \n",
        "1586554   1278856990             4.0           4.0                4.0   \n",
        "1586555   1263326408             4.5           4.0                4.0   \n",
        "1586556   1249352525             4.0           4.0                4.0   \n",
        "1586557   1238475299             4.0           4.0                4.0   \n",
        "1586558   1217965775             3.0           3.0                3.5   \n",
        "1586559   1185464001             3.0           3.5                4.0   \n",
        "1586560   1180784758             4.0           4.0                4.0   \n",
        "1586561   1179537000             4.0           3.5                4.5   \n",
        "1586562   1175746381             3.5           4.0                4.0   \n",
        "1586563   1171081089             4.0           4.5                4.0   \n",
        "1586564   1170979828             4.0           4.0                4.5   \n",
        "\n",
        "        review_profilename                    beer_style  review_palate  \\\n",
        "8269                jkrich                  American IPA            3.0   \n",
        "12569            Billolick  English India Pale Ale (IPA)            4.5   \n",
        "12838          NeroFiddled  English India Pale Ale (IPA)            4.5   \n",
        "13731         Globetrotter                  American IPA            4.0   \n",
        "47616           Gueuzedude                  American IPA            3.5   \n",
        "57279         thekevlarkid                  American IPA            4.5   \n",
        "57280          SwillinBrew                  American IPA            4.0   \n",
        "68814        greenengineer  English India Pale Ale (IPA)            4.0   \n",
        "68815              chefelf  English India Pale Ale (IPA)            4.0   \n",
        "68816                ctgui  English India Pale Ale (IPA)            3.5   \n",
        "68817             tbeckett  English India Pale Ale (IPA)            4.0   \n",
        "68818              Jwale73  English India Pale Ale (IPA)            3.5   \n",
        "68819          hopsolutely  English India Pale Ale (IPA)            3.5   \n",
        "68820                 kwjd  English India Pale Ale (IPA)            3.0   \n",
        "68821          Yoonisaykul  English India Pale Ale (IPA)            4.5   \n",
        "68822              spinrsx  English India Pale Ale (IPA)            3.0   \n",
        "68823             Swedes21  English India Pale Ale (IPA)            3.0   \n",
        "68824             rarbring  English India Pale Ale (IPA)            4.0   \n",
        "68825          kingcrowing  English India Pale Ale (IPA)            4.0   \n",
        "68826            mrmanning  English India Pale Ale (IPA)            3.0   \n",
        "68827          biboergosum  English India Pale Ale (IPA)            4.0   \n",
        "68828               Deuane  English India Pale Ale (IPA)            3.0   \n",
        "68829                Derek  English India Pale Ale (IPA)            3.5   \n",
        "68830                  eat  English India Pale Ale (IPA)            3.0   \n",
        "68831        MeisterBurger  English India Pale Ale (IPA)            3.5   \n",
        "68832          NightINgale  English India Pale Ale (IPA)            3.0   \n",
        "68833              plaid75  English India Pale Ale (IPA)            4.0   \n",
        "68834          irishkyle21  English India Pale Ale (IPA)            3.5   \n",
        "68835             sstackho  English India Pale Ale (IPA)            3.0   \n",
        "68836              3Vandoo  English India Pale Ale (IPA)            3.0   \n",
        "...                    ...                           ...            ...   \n",
        "1574308          Noxious26  English India Pale Ale (IPA)            3.0   \n",
        "1574309        fisherman34  English India Pale Ale (IPA)            2.5   \n",
        "1574311             BigBry  English India Pale Ale (IPA)            3.0   \n",
        "1574312            3Vandoo  English India Pale Ale (IPA)            3.0   \n",
        "1574313     CAMRAhardliner  English India Pale Ale (IPA)            2.0   \n",
        "1574314         rajendra82  English India Pale Ale (IPA)            3.0   \n",
        "1574315            Saccian  English India Pale Ale (IPA)            4.0   \n",
        "1574316        slitherySOB  English India Pale Ale (IPA)            3.0   \n",
        "1574317     the42ndtourist  English India Pale Ale (IPA)            3.0   \n",
        "1574318            Popsinc  English India Pale Ale (IPA)            3.0   \n",
        "1574319       stephenlouis  English India Pale Ale (IPA)            3.0   \n",
        "1574321    TheLongBeachBum  English India Pale Ale (IPA)            2.0   \n",
        "1574322          tavernjef  English India Pale Ale (IPA)            2.5   \n",
        "1574323          IronDjinn  English India Pale Ale (IPA)            3.0   \n",
        "1574324             Shiloh  English India Pale Ale (IPA)            3.0   \n",
        "1574325             Jordan  English India Pale Ale (IPA)            1.5   \n",
        "1574326    MississaugaMatt  English India Pale Ale (IPA)            2.0   \n",
        "1586552            tempest                  American IPA            4.0   \n",
        "1586553      LilBeerDoctor                  American IPA            3.5   \n",
        "1586554            david18                  American IPA            4.0   \n",
        "1586555           samyoung                  American IPA            4.0   \n",
        "1586556             Nickls                  American IPA            4.0   \n",
        "1586557      njthebestofme                  American IPA            4.0   \n",
        "1586558           frankld2                  American IPA            2.0   \n",
        "1586559           madmanjf                  American IPA            3.0   \n",
        "1586560          Billolick                  American IPA            4.0   \n",
        "1586561             EPseja                  American IPA            4.5   \n",
        "1586562         maddogruss                  American IPA            4.0   \n",
        "1586563           dherling                  American IPA            4.0   \n",
        "1586564               cbl2                  American IPA            4.0   \n",
        "\n",
        "         review_taste       beer_name  beer_abv  beer_beerid  \n",
        "8269              3.0  India Pale Ale       NaN        42583  \n",
        "12569             4.5  India Pale Ale       5.1        17737  \n",
        "12838             4.5  India Pale Ale       5.1        17737  \n",
        "13731             4.5  India Pale Ale       NaN        18451  \n",
        "47616             3.5  India Pale Ale       6.2        11641  \n",
        "57279             3.0  India Pale Ale       NaN        44466  \n",
        "57280             4.0  India Pale Ale       NaN        44466  \n",
        "68814             4.5  India Pale Ale       5.5        36312  \n",
        "68815             3.5  India Pale Ale       5.5        36312  \n",
        "68816             3.5  India Pale Ale       5.5        36312  \n",
        "68817             4.0  India Pale Ale       5.5        36312  \n",
        "68818             3.0  India Pale Ale       5.5        36312  \n",
        "68819             3.0  India Pale Ale       5.5        36312  \n",
        "68820             3.5  India Pale Ale       5.5        36312  \n",
        "68821             3.5  India Pale Ale       5.5        36312  \n",
        "68822             3.0  India Pale Ale       5.5        36312  \n",
        "68823             4.0  India Pale Ale       5.5        36312  \n",
        "68824             4.0  India Pale Ale       5.5        36312  \n",
        "68825             4.0  India Pale Ale       5.5        36312  \n",
        "68826             3.0  India Pale Ale       5.5        36312  \n",
        "68827             3.5  India Pale Ale       5.5        36312  \n",
        "68828             3.0  India Pale Ale       5.5        36312  \n",
        "68829             3.5  India Pale Ale       5.5        36312  \n",
        "68830             2.5  India Pale Ale       5.5        36312  \n",
        "68831             2.5  India Pale Ale       5.5        36312  \n",
        "68832             3.5  India Pale Ale       5.5        36312  \n",
        "68833             4.0  India Pale Ale       5.5        36312  \n",
        "68834             3.5  India Pale Ale       5.5        36312  \n",
        "68835             3.5  India Pale Ale       5.5        36312  \n",
        "68836             2.0  India Pale Ale       5.5        36312  \n",
        "...               ...             ...       ...          ...  \n",
        "1574308           3.0  India Pale Ale       5.0         5084  \n",
        "1574309           3.0  India Pale Ale       5.0         5084  \n",
        "1574311           2.5  India Pale Ale       5.0         5084  \n",
        "1574312           3.0  India Pale Ale       5.0         5084  \n",
        "1574313           2.5  India Pale Ale       5.0         5084  \n",
        "1574314           3.0  India Pale Ale       5.0         5084  \n",
        "1574315           2.5  India Pale Ale       5.0         5084  \n",
        "1574316           3.0  India Pale Ale       5.0         5084  \n",
        "1574317           2.0  India Pale Ale       5.0         5084  \n",
        "1574318           2.0  India Pale Ale       5.0         5084  \n",
        "1574319           2.0  India Pale Ale       5.0         5084  \n",
        "1574321           2.0  India Pale Ale       5.0         5084  \n",
        "1574322           3.0  India Pale Ale       5.0         5084  \n",
        "1574323           2.5  India Pale Ale       5.0         5084  \n",
        "1574324           2.5  India Pale Ale       5.0         5084  \n",
        "1574325           1.5  India Pale Ale       5.0         5084  \n",
        "1574326           2.5  India Pale Ale       5.0         5084  \n",
        "1586552           4.0  India Pale Ale       6.2        35185  \n",
        "1586553           3.5  India Pale Ale       6.2        35185  \n",
        "1586554           4.0  India Pale Ale       6.2        35185  \n",
        "1586555           3.5  India Pale Ale       6.2        35185  \n",
        "1586556           3.5  India Pale Ale       6.2        35185  \n",
        "1586557           4.0  India Pale Ale       6.2        35185  \n",
        "1586558           2.0  India Pale Ale       6.2        35185  \n",
        "1586559           3.0  India Pale Ale       6.2        35185  \n",
        "1586560           4.0  India Pale Ale       6.2        35185  \n",
        "1586561           3.5  India Pale Ale       6.2        35185  \n",
        "1586562           4.0  India Pale Ale       6.2        35185  \n",
        "1586563           4.5  India Pale Ale       6.2        35185  \n",
        "1586564           4.0  India Pale Ale       6.2        35185  \n",
        "\n",
        "[28356 rows x 13 columns]"
       ]
      }
     ],
     "prompt_number": 6
    },
    {
     "cell_type": "markdown",
     "metadata": {},
     "source": [
      "How big is this dataset?"
     ]
    },
    {
     "cell_type": "code",
     "collapsed": false,
     "input": [
      "df.info()"
     ],
     "language": "python",
     "metadata": {},
     "outputs": [
      {
       "output_type": "stream",
       "stream": "stdout",
       "text": [
        "<class 'pandas.core.frame.DataFrame'>\n",
        "Int64Index: 1586630 entries, 0 to 1586629\n",
        "Data columns (total 13 columns):\n",
        "beer_reviews/         1586629 non-null object\n",
        "brewery_name          1586611 non-null object\n",
        "review_time           1586614 non-null float64\n",
        "review_overall        1586614 non-null float64\n",
        "review_aroma          1586614 non-null float64\n",
        "review_appearance     1586614 non-null float64\n",
        "review_profilename    1586266 non-null object\n",
        "beer_style            1586614 non-null object\n",
        "review_palate         1586614 non-null float64\n",
        "review_taste          1586614 non-null float64\n",
        "beer_name             1586614 non-null object\n",
        "beer_abv              1518829 non-null float64\n",
        "beer_beerid           1586614 non-null float64\n",
        "dtypes: float64(8), object(5)"
       ]
      }
     ],
     "prompt_number": 7
    },
    {
     "cell_type": "markdown",
     "metadata": {},
     "source": [
      "Aggregate the data in a pivot table using the pivot_table method. Display the mean review_overall for each beer_name aggregating the review_overall values by review_profilename. Use the mean as aggregator."
     ]
    },
    {
     "cell_type": "code",
     "collapsed": false,
     "input": [
      "df_wide = pd.pivot_table(df1, values=[\"review_overall\"],\n",
      "        rows=[\"beer_name\", \"review_profilename\"],\n",
      "        aggfunc=np.mean).unstack()\n",
      "df_wide.shape"
     ],
     "language": "python",
     "metadata": {},
     "outputs": [
      {
       "output_type": "stream",
       "stream": "stderr",
       "text": [
        "/Users/annabachurina/anaconda/lib/python2.7/site-packages/pandas/util/decorators.py:53: FutureWarning: rows is deprecated, use index instead\n",
        "  warnings.warn(msg, FutureWarning)\n"
       ]
      },
      {
       "metadata": {},
       "output_type": "pyout",
       "prompt_number": 8,
       "text": [
        "(10, 9022)"
       ]
      }
     ],
     "prompt_number": 8
    },
    {
     "cell_type": "markdown",
     "metadata": {},
     "source": [
      "Display the head of the pivot table, but only for 5 users (columns are users)"
     ]
    },
    {
     "cell_type": "code",
     "collapsed": false,
     "input": [
      "df_wide.ix[0:5, 0:5]"
     ],
     "language": "python",
     "metadata": {},
     "outputs": [
      {
       "html": [
        "<div style=\"max-height:1000px;max-width:1500px;overflow:auto;\">\n",
        "<table border=\"1\" class=\"dataframe\">\n",
        "  <thead>\n",
        "    <tr>\n",
        "      <th></th>\n",
        "      <th colspan=\"5\" halign=\"left\">review_overall</th>\n",
        "    </tr>\n",
        "    <tr>\n",
        "      <th>review_profilename</th>\n",
        "      <th>0110x011</th>\n",
        "      <th>05Harley</th>\n",
        "      <th>0tt0</th>\n",
        "      <th>100floods</th>\n",
        "      <th>11millsown113</th>\n",
        "    </tr>\n",
        "    <tr>\n",
        "      <th>beer_name</th>\n",
        "      <th></th>\n",
        "      <th></th>\n",
        "      <th></th>\n",
        "      <th></th>\n",
        "      <th></th>\n",
        "    </tr>\n",
        "  </thead>\n",
        "  <tbody>\n",
        "    <tr>\n",
        "      <th>90 Minute IPA</th>\n",
        "      <td>  5</td>\n",
        "      <td> 4.0</td>\n",
        "      <td>NaN</td>\n",
        "      <td>NaN</td>\n",
        "      <td> NaN</td>\n",
        "    </tr>\n",
        "    <tr>\n",
        "      <th>Arrogant Bastard Ale</th>\n",
        "      <td>NaN</td>\n",
        "      <td> NaN</td>\n",
        "      <td>NaN</td>\n",
        "      <td>NaN</td>\n",
        "      <td> NaN</td>\n",
        "    </tr>\n",
        "    <tr>\n",
        "      <th>India Pale Ale</th>\n",
        "      <td>NaN</td>\n",
        "      <td> NaN</td>\n",
        "      <td>NaN</td>\n",
        "      <td>NaN</td>\n",
        "      <td> NaN</td>\n",
        "    </tr>\n",
        "    <tr>\n",
        "      <th>Old Rasputin Russian Imperial Stout</th>\n",
        "      <td>NaN</td>\n",
        "      <td> 4.5</td>\n",
        "      <td>  4</td>\n",
        "      <td>  4</td>\n",
        "      <td> 4.5</td>\n",
        "    </tr>\n",
        "    <tr>\n",
        "      <th>Pliny The Elder</th>\n",
        "      <td>  5</td>\n",
        "      <td> 5.0</td>\n",
        "      <td>  5</td>\n",
        "      <td>NaN</td>\n",
        "      <td> NaN</td>\n",
        "    </tr>\n",
        "  </tbody>\n",
        "</table>\n",
        "</div>"
       ],
       "metadata": {},
       "output_type": "pyout",
       "prompt_number": 9,
       "text": [
        "                                     review_overall                  \\\n",
        "review_profilename                         0110x011  05Harley  0tt0   \n",
        "beer_name                                                             \n",
        "90 Minute IPA                                     5       4.0   NaN   \n",
        "Arrogant Bastard Ale                            NaN       NaN   NaN   \n",
        "India Pale Ale                                  NaN       NaN   NaN   \n",
        "Old Rasputin Russian Imperial Stout             NaN       4.5     4   \n",
        "Pliny The Elder                                   5       5.0     5   \n",
        "\n",
        "                                                               \n",
        "review_profilename                   100floods  11millsown113  \n",
        "beer_name                                                      \n",
        "90 Minute IPA                              NaN            NaN  \n",
        "Arrogant Bastard Ale                       NaN            NaN  \n",
        "India Pale Ale                             NaN            NaN  \n",
        "Old Rasputin Russian Imperial Stout          4            4.5  \n",
        "Pliny The Elder                            NaN            NaN  "
       ]
      }
     ],
     "prompt_number": 9
    },
    {
     "cell_type": "markdown",
     "metadata": {},
     "source": [
      "### Discussion: what do you notice in this table?"
     ]
    },
    {
     "cell_type": "markdown",
     "metadata": {},
     "source": [
      "Set Nans to zero"
     ]
    },
    {
     "cell_type": "code",
     "collapsed": false,
     "input": [
      "df_wide=df_wide.fillna(0)\n",
      "df_wide.ix[0:5, 0:5]"
     ],
     "language": "python",
     "metadata": {},
     "outputs": [
      {
       "html": [
        "<div style=\"max-height:1000px;max-width:1500px;overflow:auto;\">\n",
        "<table border=\"1\" class=\"dataframe\">\n",
        "  <thead>\n",
        "    <tr>\n",
        "      <th></th>\n",
        "      <th colspan=\"5\" halign=\"left\">review_overall</th>\n",
        "    </tr>\n",
        "    <tr>\n",
        "      <th>review_profilename</th>\n",
        "      <th>0110x011</th>\n",
        "      <th>05Harley</th>\n",
        "      <th>0tt0</th>\n",
        "      <th>100floods</th>\n",
        "      <th>11millsown113</th>\n",
        "    </tr>\n",
        "    <tr>\n",
        "      <th>beer_name</th>\n",
        "      <th></th>\n",
        "      <th></th>\n",
        "      <th></th>\n",
        "      <th></th>\n",
        "      <th></th>\n",
        "    </tr>\n",
        "  </thead>\n",
        "  <tbody>\n",
        "    <tr>\n",
        "      <th>90 Minute IPA</th>\n",
        "      <td> 5</td>\n",
        "      <td> 4.0</td>\n",
        "      <td> 0</td>\n",
        "      <td> 0</td>\n",
        "      <td> 0.0</td>\n",
        "    </tr>\n",
        "    <tr>\n",
        "      <th>Arrogant Bastard Ale</th>\n",
        "      <td> 0</td>\n",
        "      <td> 0.0</td>\n",
        "      <td> 0</td>\n",
        "      <td> 0</td>\n",
        "      <td> 0.0</td>\n",
        "    </tr>\n",
        "    <tr>\n",
        "      <th>India Pale Ale</th>\n",
        "      <td> 0</td>\n",
        "      <td> 0.0</td>\n",
        "      <td> 0</td>\n",
        "      <td> 0</td>\n",
        "      <td> 0.0</td>\n",
        "    </tr>\n",
        "    <tr>\n",
        "      <th>Old Rasputin Russian Imperial Stout</th>\n",
        "      <td> 0</td>\n",
        "      <td> 4.5</td>\n",
        "      <td> 4</td>\n",
        "      <td> 4</td>\n",
        "      <td> 4.5</td>\n",
        "    </tr>\n",
        "    <tr>\n",
        "      <th>Pliny The Elder</th>\n",
        "      <td> 5</td>\n",
        "      <td> 5.0</td>\n",
        "      <td> 5</td>\n",
        "      <td> 0</td>\n",
        "      <td> 0.0</td>\n",
        "    </tr>\n",
        "  </tbody>\n",
        "</table>\n",
        "</div>"
       ],
       "metadata": {},
       "output_type": "pyout",
       "prompt_number": 10,
       "text": [
        "                                     review_overall                  \\\n",
        "review_profilename                         0110x011  05Harley  0tt0   \n",
        "beer_name                                                             \n",
        "90 Minute IPA                                     5       4.0     0   \n",
        "Arrogant Bastard Ale                              0       0.0     0   \n",
        "India Pale Ale                                    0       0.0     0   \n",
        "Old Rasputin Russian Imperial Stout               0       4.5     4   \n",
        "Pliny The Elder                                   5       5.0     5   \n",
        "\n",
        "                                                               \n",
        "review_profilename                   100floods  11millsown113  \n",
        "beer_name                                                      \n",
        "90 Minute IPA                                0            0.0  \n",
        "Arrogant Bastard Ale                         0            0.0  \n",
        "India Pale Ale                               0            0.0  \n",
        "Old Rasputin Russian Imperial Stout          4            4.5  \n",
        "Pliny The Elder                              0            0.0  "
       ]
      }
     ],
     "prompt_number": 10
    },
    {
     "cell_type": "markdown",
     "metadata": {},
     "source": [
      "Check that columns are users"
     ]
    },
    {
     "cell_type": "code",
     "collapsed": false,
     "input": [
      "df_wide.columns[:10]"
     ],
     "language": "python",
     "metadata": {},
     "outputs": [
      {
       "metadata": {},
       "output_type": "pyout",
       "prompt_number": 11,
       "text": [
        "MultiIndex(levels=[[u'review_overall'], [u'0110x011', u'05Harley', u'0tt0', u'100floods', u'11millsown113', u'11osixBrew', u'12NattiBottles', u'12percent', u'12vUnion', u'130guy', u'1759Girl', u'18alpha', u'1Adam12', u'1PA', u'1fastz28', u'1morebeer', u'1santore', u'1whiskey', u'22ozStone', u'23fyerfyter', u'28Rock', u'2DaMtns', u'2LBrew', u'2Stout4u', u'2beerdogs', u'2girls1hop', u'2late2brew', u'2oose', u'2wheeledpirate', u'2xHops', u'321jeff', u'32hoss32', u'33nickadams', u'3HovsepiansBrews', u'3Vandoo', u'3leggeddub', u'3rdRowTailgater', u'4000qtrap', u'404UGA', u'420.0', u'484dan', u'49degrees', u'4DAloveofSTOUT', u'51mmz0rz', u'57md', u'6993bc', u'6stringfunk', u'6thomas3', u'7ate9', u'7thInningSuds', u'7thstreetbrewery', u'7ways', u'815Sox', u'86MonteSS', u'86sportster883', u'88blkiroc', u'89Vision', u'8Punisher8', u'908carson', u'90minipalvr', u'99bottles', u'9InchNails', u'ABCJiugui', u'ABHatter', u'ABO1', u'ABOWMan', u'AChamberlain', u'ADR', u'ADTaber', u'ADWnyc', u'ADZA', u'AEK', u'AJPainter', u'AJacob81', u'AKBeerGuy', u'AKBelgianBeast', u'ALESwhatCURESya', u'AMo', u'AMoceri7', u'APNumber3', u'ARJaeger381', u'ASymon13', u'ATGHomebrewer', u'ATLbeerDog', u'ATPete', u'ATSJer', u'ATraurig', u'AVDeuph', u'AWolfAtTheDoor', u'AZTEX', u'AaronHomoya', u'AaronRed', u'AbePhroman', u'AbiesIrishRose', u'About2Crash', u'Absumaster', u'Abyssmal', u'AccidentalKate', u'ActualAir', u'Adam2200', ...]],\n",
        "           labels=[[0, 0, 0, 0, 0, 0, 0, 0, 0, 0], [0, 1, 2, 3, 4, 5, 6, 7, 8, 9]],\n",
        "           names=[None, u'review_profilename'])"
       ]
      }
     ],
     "prompt_number": 11
    },
    {
     "cell_type": "markdown",
     "metadata": {},
     "source": [
      "Check that rows are beers"
     ]
    },
    {
     "cell_type": "code",
     "collapsed": false,
     "input": [
      "pd.Series(df_wide.index[:5])"
     ],
     "language": "python",
     "metadata": {},
     "outputs": [
      {
       "metadata": {},
       "output_type": "pyout",
       "prompt_number": 12,
       "text": [
        "0                          90 Minute IPA\n",
        "1                   Arrogant Bastard Ale\n",
        "2                         India Pale Ale\n",
        "3    Old Rasputin Russian Imperial Stout\n",
        "4                        Pliny The Elder\n",
        "Name: beer_name, dtype: object"
       ]
      }
     ],
     "prompt_number": 12
    },
    {
     "cell_type": "markdown",
     "metadata": {},
     "source": [
      "### Calculate distance between beers\n",
      "\n",
      "This is the key. we're going to use cosine_similarity from scikit-learn to compute the distance between all beers"
     ]
    },
    {
     "cell_type": "markdown",
     "metadata": {},
     "source": [
      "Imports"
     ]
    },
    {
     "cell_type": "code",
     "collapsed": false,
     "input": [
      "from sklearn.metrics.pairwise import cosine_similarity\n",
      "from sklearn.metrics.pairwise import manhattan_distances\n",
      "from sklearn.metrics.pairwise import euclidean_distances"
     ],
     "language": "python",
     "metadata": {},
     "outputs": [],
     "prompt_number": 13
    },
    {
     "cell_type": "markdown",
     "metadata": {},
     "source": [
      "Apply cosine similarity to df_wide to calculate pairwise distances"
     ]
    },
    {
     "cell_type": "code",
     "collapsed": false,
     "input": [
      "dists = cosine_similarity(df_wide)\n",
      "dists"
     ],
     "language": "python",
     "metadata": {},
     "outputs": [
      {
       "metadata": {},
       "output_type": "pyout",
       "prompt_number": 14,
       "text": [
        "array([[ 1.        ,  0.49821597,  0.44121109,  0.50284282,  0.38606224,\n",
        "         0.49428215,  0.44118875,  0.5177489 ,  0.52142109,  0.48121822],\n",
        "       [ 0.49821597,  1.        ,  0.43399927,  0.47679937,  0.32367583,\n",
        "         0.49201401,  0.46950815,  0.56142113,  0.54392762,  0.44411913],\n",
        "       [ 0.44121109,  0.43399927,  1.        ,  0.41247387,  0.32053981,\n",
        "         0.45910182,  0.42059893,  0.45233449,  0.44403297,  0.45583149],\n",
        "       [ 0.50284282,  0.47679937,  0.41247387,  1.        ,  0.38752713,\n",
        "         0.49160075,  0.43741068,  0.48367422,  0.50370211,  0.46926078],\n",
        "       [ 0.38606224,  0.32367583,  0.32053981,  0.38752713,  1.        ,\n",
        "         0.38391208,  0.28208872,  0.36150625,  0.40588975,  0.40403501],\n",
        "       [ 0.49428215,  0.49201401,  0.45910182,  0.49160075,  0.38391208,\n",
        "         1.        ,  0.50521031,  0.51847233,  0.51056105,  0.49208618],\n",
        "       [ 0.44118875,  0.46950815,  0.42059893,  0.43741068,  0.28208872,\n",
        "         0.50521031,  1.        ,  0.47543525,  0.44452875,  0.41624092],\n",
        "       [ 0.5177489 ,  0.56142113,  0.45233449,  0.48367422,  0.36150625,\n",
        "         0.51847233,  0.47543525,  1.        ,  0.56382055,  0.48949455],\n",
        "       [ 0.52142109,  0.54392762,  0.44403297,  0.50370211,  0.40588975,\n",
        "         0.51056105,  0.44452875,  0.56382055,  1.        ,  0.48713329],\n",
        "       [ 0.48121822,  0.44411913,  0.45583149,  0.46926078,  0.40403501,\n",
        "         0.49208618,  0.41624092,  0.48949455,  0.48713329,  1.        ]])"
       ]
      }
     ],
     "prompt_number": 14
    },
    {
     "cell_type": "markdown",
     "metadata": {},
     "source": [
      "### Discussion: what type of object is dists?"
     ]
    },
    {
     "cell_type": "markdown",
     "metadata": {},
     "source": [
      "Convert dists to a Pandas DataFrame, use the index as column index as well (distances are a square matrix)."
     ]
    },
    {
     "cell_type": "code",
     "collapsed": false,
     "input": [
      "dists=pd.DataFrame(dists, columns=df_wide.index)\n",
      "dists.index = dists.columns\n",
      "dists.ix[0:10, 0:10]"
     ],
     "language": "python",
     "metadata": {},
     "outputs": [
      {
       "html": [
        "<div style=\"max-height:1000px;max-width:1500px;overflow:auto;\">\n",
        "<table border=\"1\" class=\"dataframe\">\n",
        "  <thead>\n",
        "    <tr style=\"text-align: right;\">\n",
        "      <th>beer_name</th>\n",
        "      <th>90 Minute IPA</th>\n",
        "      <th>Arrogant Bastard Ale</th>\n",
        "      <th>India Pale Ale</th>\n",
        "      <th>Old Rasputin Russian Imperial Stout</th>\n",
        "      <th>Pliny The Elder</th>\n",
        "      <th>Sierra Nevada Celebration Ale</th>\n",
        "      <th>Sierra Nevada Pale Ale</th>\n",
        "      <th>Stone IPA (India Pale Ale)</th>\n",
        "      <th>Stone Ruination IPA</th>\n",
        "      <th>Two Hearted Ale</th>\n",
        "    </tr>\n",
        "    <tr>\n",
        "      <th>beer_name</th>\n",
        "      <th></th>\n",
        "      <th></th>\n",
        "      <th></th>\n",
        "      <th></th>\n",
        "      <th></th>\n",
        "      <th></th>\n",
        "      <th></th>\n",
        "      <th></th>\n",
        "      <th></th>\n",
        "      <th></th>\n",
        "    </tr>\n",
        "  </thead>\n",
        "  <tbody>\n",
        "    <tr>\n",
        "      <th>90 Minute IPA</th>\n",
        "      <td> 1.000000</td>\n",
        "      <td> 0.498216</td>\n",
        "      <td> 0.441211</td>\n",
        "      <td> 0.502843</td>\n",
        "      <td> 0.386062</td>\n",
        "      <td> 0.494282</td>\n",
        "      <td> 0.441189</td>\n",
        "      <td> 0.517749</td>\n",
        "      <td> 0.521421</td>\n",
        "      <td> 0.481218</td>\n",
        "    </tr>\n",
        "    <tr>\n",
        "      <th>Arrogant Bastard Ale</th>\n",
        "      <td> 0.498216</td>\n",
        "      <td> 1.000000</td>\n",
        "      <td> 0.433999</td>\n",
        "      <td> 0.476799</td>\n",
        "      <td> 0.323676</td>\n",
        "      <td> 0.492014</td>\n",
        "      <td> 0.469508</td>\n",
        "      <td> 0.561421</td>\n",
        "      <td> 0.543928</td>\n",
        "      <td> 0.444119</td>\n",
        "    </tr>\n",
        "    <tr>\n",
        "      <th>India Pale Ale</th>\n",
        "      <td> 0.441211</td>\n",
        "      <td> 0.433999</td>\n",
        "      <td> 1.000000</td>\n",
        "      <td> 0.412474</td>\n",
        "      <td> 0.320540</td>\n",
        "      <td> 0.459102</td>\n",
        "      <td> 0.420599</td>\n",
        "      <td> 0.452334</td>\n",
        "      <td> 0.444033</td>\n",
        "      <td> 0.455831</td>\n",
        "    </tr>\n",
        "    <tr>\n",
        "      <th>Old Rasputin Russian Imperial Stout</th>\n",
        "      <td> 0.502843</td>\n",
        "      <td> 0.476799</td>\n",
        "      <td> 0.412474</td>\n",
        "      <td> 1.000000</td>\n",
        "      <td> 0.387527</td>\n",
        "      <td> 0.491601</td>\n",
        "      <td> 0.437411</td>\n",
        "      <td> 0.483674</td>\n",
        "      <td> 0.503702</td>\n",
        "      <td> 0.469261</td>\n",
        "    </tr>\n",
        "    <tr>\n",
        "      <th>Pliny The Elder</th>\n",
        "      <td> 0.386062</td>\n",
        "      <td> 0.323676</td>\n",
        "      <td> 0.320540</td>\n",
        "      <td> 0.387527</td>\n",
        "      <td> 1.000000</td>\n",
        "      <td> 0.383912</td>\n",
        "      <td> 0.282089</td>\n",
        "      <td> 0.361506</td>\n",
        "      <td> 0.405890</td>\n",
        "      <td> 0.404035</td>\n",
        "    </tr>\n",
        "    <tr>\n",
        "      <th>Sierra Nevada Celebration Ale</th>\n",
        "      <td> 0.494282</td>\n",
        "      <td> 0.492014</td>\n",
        "      <td> 0.459102</td>\n",
        "      <td> 0.491601</td>\n",
        "      <td> 0.383912</td>\n",
        "      <td> 1.000000</td>\n",
        "      <td> 0.505210</td>\n",
        "      <td> 0.518472</td>\n",
        "      <td> 0.510561</td>\n",
        "      <td> 0.492086</td>\n",
        "    </tr>\n",
        "    <tr>\n",
        "      <th>Sierra Nevada Pale Ale</th>\n",
        "      <td> 0.441189</td>\n",
        "      <td> 0.469508</td>\n",
        "      <td> 0.420599</td>\n",
        "      <td> 0.437411</td>\n",
        "      <td> 0.282089</td>\n",
        "      <td> 0.505210</td>\n",
        "      <td> 1.000000</td>\n",
        "      <td> 0.475435</td>\n",
        "      <td> 0.444529</td>\n",
        "      <td> 0.416241</td>\n",
        "    </tr>\n",
        "    <tr>\n",
        "      <th>Stone IPA (India Pale Ale)</th>\n",
        "      <td> 0.517749</td>\n",
        "      <td> 0.561421</td>\n",
        "      <td> 0.452334</td>\n",
        "      <td> 0.483674</td>\n",
        "      <td> 0.361506</td>\n",
        "      <td> 0.518472</td>\n",
        "      <td> 0.475435</td>\n",
        "      <td> 1.000000</td>\n",
        "      <td> 0.563821</td>\n",
        "      <td> 0.489495</td>\n",
        "    </tr>\n",
        "    <tr>\n",
        "      <th>Stone Ruination IPA</th>\n",
        "      <td> 0.521421</td>\n",
        "      <td> 0.543928</td>\n",
        "      <td> 0.444033</td>\n",
        "      <td> 0.503702</td>\n",
        "      <td> 0.405890</td>\n",
        "      <td> 0.510561</td>\n",
        "      <td> 0.444529</td>\n",
        "      <td> 0.563821</td>\n",
        "      <td> 1.000000</td>\n",
        "      <td> 0.487133</td>\n",
        "    </tr>\n",
        "    <tr>\n",
        "      <th>Two Hearted Ale</th>\n",
        "      <td> 0.481218</td>\n",
        "      <td> 0.444119</td>\n",
        "      <td> 0.455831</td>\n",
        "      <td> 0.469261</td>\n",
        "      <td> 0.404035</td>\n",
        "      <td> 0.492086</td>\n",
        "      <td> 0.416241</td>\n",
        "      <td> 0.489495</td>\n",
        "      <td> 0.487133</td>\n",
        "      <td> 1.000000</td>\n",
        "    </tr>\n",
        "  </tbody>\n",
        "</table>\n",
        "</div>"
       ],
       "metadata": {},
       "output_type": "pyout",
       "prompt_number": 15,
       "text": [
        "beer_name                            90 Minute IPA  Arrogant Bastard Ale  \\\n",
        "beer_name                                                                  \n",
        "90 Minute IPA                             1.000000              0.498216   \n",
        "Arrogant Bastard Ale                      0.498216              1.000000   \n",
        "India Pale Ale                            0.441211              0.433999   \n",
        "Old Rasputin Russian Imperial Stout       0.502843              0.476799   \n",
        "Pliny The Elder                           0.386062              0.323676   \n",
        "Sierra Nevada Celebration Ale             0.494282              0.492014   \n",
        "Sierra Nevada Pale Ale                    0.441189              0.469508   \n",
        "Stone IPA (India Pale Ale)                0.517749              0.561421   \n",
        "Stone Ruination IPA                       0.521421              0.543928   \n",
        "Two Hearted Ale                           0.481218              0.444119   \n",
        "\n",
        "beer_name                            India Pale Ale  \\\n",
        "beer_name                                             \n",
        "90 Minute IPA                              0.441211   \n",
        "Arrogant Bastard Ale                       0.433999   \n",
        "India Pale Ale                             1.000000   \n",
        "Old Rasputin Russian Imperial Stout        0.412474   \n",
        "Pliny The Elder                            0.320540   \n",
        "Sierra Nevada Celebration Ale              0.459102   \n",
        "Sierra Nevada Pale Ale                     0.420599   \n",
        "Stone IPA (India Pale Ale)                 0.452334   \n",
        "Stone Ruination IPA                        0.444033   \n",
        "Two Hearted Ale                            0.455831   \n",
        "\n",
        "beer_name                            Old Rasputin Russian Imperial Stout  \\\n",
        "beer_name                                                                  \n",
        "90 Minute IPA                                                   0.502843   \n",
        "Arrogant Bastard Ale                                            0.476799   \n",
        "India Pale Ale                                                  0.412474   \n",
        "Old Rasputin Russian Imperial Stout                             1.000000   \n",
        "Pliny The Elder                                                 0.387527   \n",
        "Sierra Nevada Celebration Ale                                   0.491601   \n",
        "Sierra Nevada Pale Ale                                          0.437411   \n",
        "Stone IPA (India Pale Ale)                                      0.483674   \n",
        "Stone Ruination IPA                                             0.503702   \n",
        "Two Hearted Ale                                                 0.469261   \n",
        "\n",
        "beer_name                            Pliny The Elder  \\\n",
        "beer_name                                              \n",
        "90 Minute IPA                               0.386062   \n",
        "Arrogant Bastard Ale                        0.323676   \n",
        "India Pale Ale                              0.320540   \n",
        "Old Rasputin Russian Imperial Stout         0.387527   \n",
        "Pliny The Elder                             1.000000   \n",
        "Sierra Nevada Celebration Ale               0.383912   \n",
        "Sierra Nevada Pale Ale                      0.282089   \n",
        "Stone IPA (India Pale Ale)                  0.361506   \n",
        "Stone Ruination IPA                         0.405890   \n",
        "Two Hearted Ale                             0.404035   \n",
        "\n",
        "beer_name                            Sierra Nevada Celebration Ale  \\\n",
        "beer_name                                                            \n",
        "90 Minute IPA                                             0.494282   \n",
        "Arrogant Bastard Ale                                      0.492014   \n",
        "India Pale Ale                                            0.459102   \n",
        "Old Rasputin Russian Imperial Stout                       0.491601   \n",
        "Pliny The Elder                                           0.383912   \n",
        "Sierra Nevada Celebration Ale                             1.000000   \n",
        "Sierra Nevada Pale Ale                                    0.505210   \n",
        "Stone IPA (India Pale Ale)                                0.518472   \n",
        "Stone Ruination IPA                                       0.510561   \n",
        "Two Hearted Ale                                           0.492086   \n",
        "\n",
        "beer_name                            Sierra Nevada Pale Ale  \\\n",
        "beer_name                                                     \n",
        "90 Minute IPA                                      0.441189   \n",
        "Arrogant Bastard Ale                               0.469508   \n",
        "India Pale Ale                                     0.420599   \n",
        "Old Rasputin Russian Imperial Stout                0.437411   \n",
        "Pliny The Elder                                    0.282089   \n",
        "Sierra Nevada Celebration Ale                      0.505210   \n",
        "Sierra Nevada Pale Ale                             1.000000   \n",
        "Stone IPA (India Pale Ale)                         0.475435   \n",
        "Stone Ruination IPA                                0.444529   \n",
        "Two Hearted Ale                                    0.416241   \n",
        "\n",
        "beer_name                            Stone IPA (India Pale Ale)  \\\n",
        "beer_name                                                         \n",
        "90 Minute IPA                                          0.517749   \n",
        "Arrogant Bastard Ale                                   0.561421   \n",
        "India Pale Ale                                         0.452334   \n",
        "Old Rasputin Russian Imperial Stout                    0.483674   \n",
        "Pliny The Elder                                        0.361506   \n",
        "Sierra Nevada Celebration Ale                          0.518472   \n",
        "Sierra Nevada Pale Ale                                 0.475435   \n",
        "Stone IPA (India Pale Ale)                             1.000000   \n",
        "Stone Ruination IPA                                    0.563821   \n",
        "Two Hearted Ale                                        0.489495   \n",
        "\n",
        "beer_name                            Stone Ruination IPA  Two Hearted Ale  \n",
        "beer_name                                                                  \n",
        "90 Minute IPA                                   0.521421         0.481218  \n",
        "Arrogant Bastard Ale                            0.543928         0.444119  \n",
        "India Pale Ale                                  0.444033         0.455831  \n",
        "Old Rasputin Russian Imperial Stout             0.503702         0.469261  \n",
        "Pliny The Elder                                 0.405890         0.404035  \n",
        "Sierra Nevada Celebration Ale                   0.510561         0.492086  \n",
        "Sierra Nevada Pale Ale                          0.444529         0.416241  \n",
        "Stone IPA (India Pale Ale)                      0.563821         0.489495  \n",
        "Stone Ruination IPA                             1.000000         0.487133  \n",
        "Two Hearted Ale                                 0.487133         1.000000  "
       ]
      }
     ],
     "prompt_number": 15
    },
    {
     "cell_type": "markdown",
     "metadata": {},
     "source": [
      "Select some beers and look their distances to other beers"
     ]
    },
    {
     "cell_type": "code",
     "collapsed": false,
     "input": [
      "beers_i_like = ['Sierra Nevada Celebration Ale', '90 Minute IPA', 'Two Hearted Ale']\n",
      "dists[beers_i_like].head()"
     ],
     "language": "python",
     "metadata": {},
     "outputs": [
      {
       "html": [
        "<div style=\"max-height:1000px;max-width:1500px;overflow:auto;\">\n",
        "<table border=\"1\" class=\"dataframe\">\n",
        "  <thead>\n",
        "    <tr style=\"text-align: right;\">\n",
        "      <th>beer_name</th>\n",
        "      <th>Sierra Nevada Celebration Ale</th>\n",
        "      <th>90 Minute IPA</th>\n",
        "      <th>Two Hearted Ale</th>\n",
        "    </tr>\n",
        "    <tr>\n",
        "      <th>beer_name</th>\n",
        "      <th></th>\n",
        "      <th></th>\n",
        "      <th></th>\n",
        "    </tr>\n",
        "  </thead>\n",
        "  <tbody>\n",
        "    <tr>\n",
        "      <th>90 Minute IPA</th>\n",
        "      <td> 0.494282</td>\n",
        "      <td> 1.000000</td>\n",
        "      <td> 0.481218</td>\n",
        "    </tr>\n",
        "    <tr>\n",
        "      <th>Arrogant Bastard Ale</th>\n",
        "      <td> 0.492014</td>\n",
        "      <td> 0.498216</td>\n",
        "      <td> 0.444119</td>\n",
        "    </tr>\n",
        "    <tr>\n",
        "      <th>India Pale Ale</th>\n",
        "      <td> 0.459102</td>\n",
        "      <td> 0.441211</td>\n",
        "      <td> 0.455831</td>\n",
        "    </tr>\n",
        "    <tr>\n",
        "      <th>Old Rasputin Russian Imperial Stout</th>\n",
        "      <td> 0.491601</td>\n",
        "      <td> 0.502843</td>\n",
        "      <td> 0.469261</td>\n",
        "    </tr>\n",
        "    <tr>\n",
        "      <th>Pliny The Elder</th>\n",
        "      <td> 0.383912</td>\n",
        "      <td> 0.386062</td>\n",
        "      <td> 0.404035</td>\n",
        "    </tr>\n",
        "  </tbody>\n",
        "</table>\n",
        "</div>"
       ],
       "metadata": {},
       "output_type": "pyout",
       "prompt_number": 16,
       "text": [
        "beer_name                            Sierra Nevada Celebration Ale  \\\n",
        "beer_name                                                            \n",
        "90 Minute IPA                                             0.494282   \n",
        "Arrogant Bastard Ale                                      0.492014   \n",
        "India Pale Ale                                            0.459102   \n",
        "Old Rasputin Russian Imperial Stout                       0.491601   \n",
        "Pliny The Elder                                           0.383912   \n",
        "\n",
        "beer_name                            90 Minute IPA  Two Hearted Ale  \n",
        "beer_name                                                            \n",
        "90 Minute IPA                             1.000000         0.481218  \n",
        "Arrogant Bastard Ale                      0.498216         0.444119  \n",
        "India Pale Ale                            0.441211         0.455831  \n",
        "Old Rasputin Russian Imperial Stout       0.502843         0.469261  \n",
        "Pliny The Elder                           0.386062         0.404035  "
       ]
      }
     ],
     "prompt_number": 16
    },
    {
     "cell_type": "markdown",
     "metadata": {},
     "source": [
      "Sum the distances of my favourite beers by row, to have one distance from each beer in the sample"
     ]
    },
    {
     "cell_type": "code",
     "collapsed": false,
     "input": [
      "beers_summed=np.sum(dists[beers_i_like])\n",
      "beers_summed"
     ],
     "language": "python",
     "metadata": {},
     "outputs": [
      {
       "metadata": {},
       "output_type": "pyout",
       "prompt_number": 17,
       "text": [
        "beer_name\n",
        "Sierra Nevada Celebration Ale    5.347241\n",
        "90 Minute IPA                    5.284191\n",
        "Two Hearted Ale                  5.139420\n",
        "dtype: float64"
       ]
      }
     ],
     "prompt_number": 17
    },
    {
     "cell_type": "markdown",
     "metadata": {},
     "source": [
      "Optional: which one is faster? use ```%timeit``` to check"
     ]
    },
    {
     "cell_type": "code",
     "collapsed": false,
     "input": [
      "beers_summed = dists[beers_i_like].apply(lambda row: np.sum(row), axis=1)\n",
      "#beers_summed = np.sum(dists[beers_i_like], axis=1)"
     ],
     "language": "python",
     "metadata": {},
     "outputs": [],
     "prompt_number": 18
    },
    {
     "cell_type": "markdown",
     "metadata": {},
     "source": [
      "Sort summed beers from best to worse"
     ]
    },
    {
     "cell_type": "code",
     "collapsed": false,
     "input": [
      "beers_summed = beers_summed.order(ascending=False)\n",
      "beers_summed"
     ],
     "language": "python",
     "metadata": {},
     "outputs": [
      {
       "metadata": {},
       "output_type": "pyout",
       "prompt_number": 19,
       "text": [
        "beer_name\n",
        "Sierra Nevada Celebration Ale          1.986368\n",
        "90 Minute IPA                          1.975500\n",
        "Two Hearted Ale                        1.973304\n",
        "Stone IPA (India Pale Ale)             1.525716\n",
        "Stone Ruination IPA                    1.519115\n",
        "Old Rasputin Russian Imperial Stout    1.463704\n",
        "Arrogant Bastard Ale                   1.434349\n",
        "Sierra Nevada Pale Ale                 1.362640\n",
        "India Pale Ale                         1.356144\n",
        "Pliny The Elder                        1.174009\n",
        "dtype: float64"
       ]
      }
     ],
     "prompt_number": 19
    },
    {
     "cell_type": "markdown",
     "metadata": {},
     "source": [
      "Filter out the beers used as input and transform to list"
     ]
    },
    {
     "cell_type": "code",
     "collapsed": false,
     "input": [
      "ranked_beers = beers_summed.index[beers_summed.index.isin(beers_i_like)==False]\n",
      "ranked_beers = ranked_beers.tolist()\n",
      "ranked_beers"
     ],
     "language": "python",
     "metadata": {},
     "outputs": [
      {
       "metadata": {},
       "output_type": "pyout",
       "prompt_number": 20,
       "text": [
        "['Stone IPA (India Pale Ale)',\n",
        " 'Stone Ruination IPA',\n",
        " 'Old Rasputin Russian Imperial Stout',\n",
        " 'Arrogant Bastard Ale',\n",
        " 'Sierra Nevada Pale Ale',\n",
        " 'India Pale Ale',\n",
        " 'Pliny The Elder']"
       ]
      }
     ],
     "prompt_number": 20
    },
    {
     "cell_type": "markdown",
     "metadata": {},
     "source": [
      "Define a function that does what we just did for an arbitrary input list of beers. it should also receive the maximum number of beers requested n as optional parameter."
     ]
    },
    {
     "cell_type": "code",
     "collapsed": false,
     "input": [
      "def get_similar(beers, n=None):\n",
      "    \"\"\"\n",
      "    calculates which beers are most similar to the beers provided. Does not return\n",
      "    the beers that were provided\n",
      "    \n",
      "    Parameters\n",
      "    ----------\n",
      "    beers: list\n",
      "        some beers!\n",
      "    \n",
      "    Returns\n",
      "    -------\n",
      "    ranked_beers: list\n",
      "        rank ordered beers\n",
      "    \"\"\"\n",
      "    beers = [beer for beer in beers if beer in dists.columns]\n",
      "    beers_summed = dists[beers].apply(lambda row: np.sum(row), axis=1)\n",
      "    beers_summed = beers_summed.order(ascending=False)\n",
      "    ranked_beers = beers_summed.index[beers_summed.index.isin(beers)==False]\n",
      "    ranked_beers = ranked_beers.tolist()\n",
      "    if n is None:\n",
      "        return ranked_beers\n",
      "    else:\n",
      "        return ranked_beers[:n]"
     ],
     "language": "python",
     "metadata": {},
     "outputs": [],
     "prompt_number": 21
    },
    {
     "cell_type": "markdown",
     "metadata": {},
     "source": [
      "Test your function. Find the 10 beers most similar to \"120 Minute IPA\""
     ]
    },
    {
     "cell_type": "code",
     "collapsed": false,
     "input": [
      "for beer in get_similar([\"120 Minute IPA\"], 10):\n",
      "    print beer"
     ],
     "language": "python",
     "metadata": {},
     "outputs": [
      {
       "output_type": "stream",
       "stream": "stdout",
       "text": [
        "90 Minute IPA\n",
        "Arrogant Bastard Ale\n",
        "India Pale Ale\n",
        "Old Rasputin Russian Imperial Stout\n",
        "Pliny The Elder\n",
        "Sierra Nevada Celebration Ale\n",
        "Sierra Nevada Pale Ale\n",
        "Stone IPA (India Pale Ale)\n",
        "Stone Ruination IPA\n",
        "Two Hearted Ale\n"
       ]
      }
     ],
     "prompt_number": 22
    },
    {
     "cell_type": "markdown",
     "metadata": {},
     "source": [
      "Cool, let's try again with the 10 beers most similar to [\"Coors Light\", \"Bud Light\", \"Amstel Light\"]"
     ]
    },
    {
     "cell_type": "code",
     "collapsed": false,
     "input": [
      "for i, beer in enumerate(get_similar([\"Coors Light\", \"Bud Light\", \"Amstel Light\"], 10)):\n",
      "    print \"%d) %s\" % (i+1, beer)"
     ],
     "language": "python",
     "metadata": {},
     "outputs": [
      {
       "output_type": "stream",
       "stream": "stdout",
       "text": [
        "1) 90 Minute IPA\n",
        "2) Arrogant Bastard Ale\n",
        "3) India Pale Ale\n",
        "4) Old Rasputin Russian Imperial Stout\n",
        "5) Pliny The Elder\n",
        "6) Sierra Nevada Celebration Ale\n",
        "7) Sierra Nevada Pale Ale\n",
        "8) Stone IPA (India Pale Ale)\n",
        "9) Stone Ruination IPA\n",
        "10) Two Hearted Ale\n"
       ]
      }
     ],
     "prompt_number": 23
    },
    {
     "cell_type": "markdown",
     "metadata": {},
     "source": [
      "Optional: register an account on yhat and deploy your model following the instructions [here](https://docs.yhathq.com/python/examples/beer-recommender) and [here](http://nbviewer.ipython.org/gist/glamp/20a18d52c539b87de2af)"
     ]
    },
    {
     "cell_type": "markdown",
     "metadata": {},
     "source": [
      "## Recsys\n",
      "\n",
      "A python library for implementing a recommender system"
     ]
    },
    {
     "cell_type": "code",
     "collapsed": false,
     "input": [
      "\"\"\"\n",
      "##install python-recsys\n",
      "\n",
      "### first install dependencies\n",
      "\n",
      "pip install csc-pysparse networkx divisi2\n",
      "\n",
      "### then install recsys\n",
      "git clone https://github.com/python-recsys/python-recsys.git\n",
      "cd python-recsys/\n",
      "\n",
      "python setup.py install\n",
      "\"\"\""
     ],
     "language": "python",
     "metadata": {},
     "outputs": [
      {
       "metadata": {},
       "output_type": "pyout",
       "prompt_number": 24,
       "text": [
        "'\\n##install python-recsys\\n\\n### first install dependencies\\n\\npip install csc-pysparse networkx divisi2\\n\\n### then install recsys\\ngit clone https://github.com/python-recsys/python-recsys.git\\ncd python-recsys/\\n\\npython setup.py install\\n'"
       ]
      }
     ],
     "prompt_number": 24
    },
    {
     "cell_type": "markdown",
     "metadata": {},
     "source": [
      "Load recsys.algotihm, set VERBOSE = True import SVD class"
     ]
    },
    {
     "cell_type": "code",
     "collapsed": false,
     "input": [
      "import recsys.algorithm\n",
      "recsys.algorithm.VERBOSE = True\n",
      "from recsys.algorithm.factorize import SVD"
     ],
     "language": "python",
     "metadata": {},
     "outputs": [
      {
       "ename": "ImportError",
       "evalue": "No module named csc",
       "output_type": "pyerr",
       "traceback": [
        "\u001b[0;31m---------------------------------------------------------------------------\u001b[0m\n\u001b[0;31mImportError\u001b[0m                               Traceback (most recent call last)",
        "\u001b[0;32m<ipython-input-3-c6ce7e40edc0>\u001b[0m in \u001b[0;36m<module>\u001b[0;34m()\u001b[0m\n\u001b[1;32m      1\u001b[0m \u001b[0;32mimport\u001b[0m \u001b[0mrecsys\u001b[0m\u001b[0;34m.\u001b[0m\u001b[0malgorithm\u001b[0m\u001b[0;34m\u001b[0m\u001b[0m\n\u001b[1;32m      2\u001b[0m \u001b[0mrecsys\u001b[0m\u001b[0;34m.\u001b[0m\u001b[0malgorithm\u001b[0m\u001b[0;34m.\u001b[0m\u001b[0mVERBOSE\u001b[0m \u001b[0;34m=\u001b[0m \u001b[0mTrue\u001b[0m\u001b[0;34m\u001b[0m\u001b[0m\n\u001b[0;32m----> 3\u001b[0;31m \u001b[0;32mfrom\u001b[0m \u001b[0mrecsys\u001b[0m\u001b[0;34m.\u001b[0m\u001b[0malgorithm\u001b[0m\u001b[0;34m.\u001b[0m\u001b[0mfactorize\u001b[0m \u001b[0;32mimport\u001b[0m \u001b[0mSVD\u001b[0m\u001b[0;34m\u001b[0m\u001b[0m\n\u001b[0m",
        "\u001b[0;32m/Users/annabachurina/DAT_SF_10/Labs/Lab12/build/bdist.macosx-10.5-x86_64/egg/recsys/algorithm/factorize.py\u001b[0m in \u001b[0;36m<module>\u001b[0;34m()\u001b[0m\n",
        "\u001b[0;31mImportError\u001b[0m: No module named csc"
       ]
      }
     ],
     "prompt_number": 3
    },
    {
     "cell_type": "markdown",
     "metadata": {},
     "source": [
      "Let's look at the files"
     ]
    },
    {
     "cell_type": "code",
     "collapsed": false,
     "input": [
      "! ls movielens"
     ],
     "language": "python",
     "metadata": {},
     "outputs": []
    },
    {
     "cell_type": "code",
     "collapsed": false,
     "input": [
      "movies = pd.read_table('movielens/movies.dat', sep='::', names= ['ITEMID', 'Title', 'Genres'], index_col= 'ITEMID')"
     ],
     "language": "python",
     "metadata": {},
     "outputs": []
    },
    {
     "cell_type": "code",
     "collapsed": false,
     "input": [
      "movies.head()"
     ],
     "language": "python",
     "metadata": {},
     "outputs": []
    },
    {
     "cell_type": "code",
     "collapsed": false,
     "input": [
      "ratings = pd.read_table('movielens/ratings.dat', sep='::', names= ['UserID','MovieID','Rating','Timestamp'])"
     ],
     "language": "python",
     "metadata": {},
     "outputs": []
    },
    {
     "cell_type": "code",
     "collapsed": false,
     "input": [
      "ratings.head()"
     ],
     "language": "python",
     "metadata": {},
     "outputs": []
    },
    {
     "cell_type": "markdown",
     "metadata": {},
     "source": [
      "Initialize an SVD instance"
     ]
    },
    {
     "cell_type": "code",
     "collapsed": false,
     "input": [
      "svd = SVD()"
     ],
     "language": "python",
     "metadata": {},
     "outputs": []
    },
    {
     "cell_type": "markdown",
     "metadata": {},
     "source": [
      "Populate it with the data from the ratings dataset, using the built in load_data method"
     ]
    },
    {
     "cell_type": "code",
     "collapsed": false,
     "input": [
      "svd.load_data(filename='./movielens/ratings.dat', sep='::', format={'col':0, 'row':1, 'value':2, 'ids': int})"
     ],
     "language": "python",
     "metadata": {},
     "outputs": []
    },
    {
     "cell_type": "markdown",
     "metadata": {},
     "source": [
      "Compute SVD\n",
      "\n",
      "$M=U \\Sigma V^T$:"
     ]
    },
    {
     "cell_type": "code",
     "collapsed": false,
     "input": [
      "k = 100\n",
      "svd.compute(k=k, min_values=10, pre_normalize=None, mean_center=True, post_normalize=True)"
     ],
     "language": "python",
     "metadata": {},
     "outputs": []
    },
    {
     "cell_type": "markdown",
     "metadata": {},
     "source": [
      "you can also save the output SVD model (in a zip file)"
     ]
    },
    {
     "cell_type": "code",
     "collapsed": false,
     "input": [
      "# svd.compute(k=k, min_values=10, pre_normalize=None, mean_center=True, post_normalize=True, savefile='/tmp/movielens')"
     ],
     "language": "python",
     "metadata": {},
     "outputs": []
    },
    {
     "cell_type": "markdown",
     "metadata": {},
     "source": [
      "Reload a saved model:"
     ]
    },
    {
     "cell_type": "code",
     "collapsed": false,
     "input": [
      "# svd2 = SVD(filename='/tmp/movielens')"
     ],
     "language": "python",
     "metadata": {},
     "outputs": []
    },
    {
     "cell_type": "markdown",
     "metadata": {},
     "source": [
      "Compute similarity between two movies"
     ]
    },
    {
     "cell_type": "code",
     "collapsed": false,
     "input": [
      "movies[movies.Title == \"Toy Story (1995)\"]"
     ],
     "language": "python",
     "metadata": {},
     "outputs": []
    },
    {
     "cell_type": "code",
     "collapsed": false,
     "input": [
      "movies[movies.Title == \"Bug's Life, A (1998)\"]"
     ],
     "language": "python",
     "metadata": {},
     "outputs": []
    },
    {
     "cell_type": "code",
     "collapsed": false,
     "input": [
      "ITEMID1 = 1    # Toy Story (1995)\n",
      "ITEMID2 = 2355 # A bug's life (1998)\n",
      "print svd.similarity(ITEMID1, ITEMID2)\n",
      "# print svd2.similarity(ITEMID1, ITEMID2) to check"
     ],
     "language": "python",
     "metadata": {},
     "outputs": []
    },
    {
     "cell_type": "markdown",
     "metadata": {},
     "source": [
      "Get movies similar to Toy Story"
     ]
    },
    {
     "cell_type": "code",
     "collapsed": false,
     "input": [
      "svd.similar(ITEMID1)"
     ],
     "language": "python",
     "metadata": {},
     "outputs": []
    },
    {
     "cell_type": "markdown",
     "metadata": {},
     "source": [
      "Predict rating for a given user and movie, $\\hat{r}_{ui}$"
     ]
    },
    {
     "cell_type": "code",
     "collapsed": false,
     "input": [
      "MIN_RATING = 0.0\n",
      "MAX_RATING = 5.0\n",
      "ITEMID = 1\n",
      "USERID = 1\n",
      "svd.predict(ITEMID, USERID, MIN_RATING, MAX_RATING)"
     ],
     "language": "python",
     "metadata": {},
     "outputs": []
    },
    {
     "cell_type": "code",
     "collapsed": false,
     "input": [
      "svd.get_matrix().value(ITEMID, USERID)"
     ],
     "language": "python",
     "metadata": {},
     "outputs": []
    },
    {
     "cell_type": "markdown",
     "metadata": {},
     "source": [
      "Recommend non rated movies to a user"
     ]
    },
    {
     "cell_type": "code",
     "collapsed": false,
     "input": [
      "svd.recommend(USERID, is_row=False)"
     ],
     "language": "python",
     "metadata": {},
     "outputs": []
    },
    {
     "cell_type": "markdown",
     "metadata": {},
     "source": [
      "Which users should see Toy Story? (e.g. which users -that have not rated Toy Story- would give it a high rating?)"
     ]
    },
    {
     "cell_type": "code",
     "collapsed": false,
     "input": [
      "svd.recommend(ITEMID)"
     ],
     "language": "python",
     "metadata": {},
     "outputs": []
    },
    {
     "cell_type": "markdown",
     "metadata": {},
     "source": [
      "Find out more here: [https://github.com/ocelma/python-recsys](https://github.com/ocelma/python-recsys)"
     ]
    }
   ],
   "metadata": {}
  }
 ]
}