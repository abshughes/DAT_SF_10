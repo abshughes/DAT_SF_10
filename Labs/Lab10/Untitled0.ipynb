{
 "metadata": {
  "name": "",
  "signature": "sha256:b7d4f68266b74d18c0858c8bab6e47abf72726e3a00761800d1b554821a11480"
 },
 "nbformat": 3,
 "nbformat_minor": 0,
 "worksheets": [
  {
   "cells": [
    {
     "cell_type": "code",
     "collapsed": false,
     "input": [
      "import sys\n",
      "datafile=load_\n",
      "# input comes from STDIN (standard input)\n",
      "for line in sys.stdin:\n",
      "    # remove leading and trailing whitespace\n",
      "    line = line.strip()\n",
      "    # split the line into words\n",
      "    words = line.split()\n",
      "    # increase counters\n",
      "    for word in words:\n",
      "        # write the results to STDOUT (standard output);\n",
      "        # what we output here will be the input for the\n",
      "        # Reduce step, i.e. the input for reducer.py\n",
      "        #\n",
      "        # tab-delimited; the trivial word count is 1\n",
      "        print '%s\\t%s' % (word, 1)"
     ],
     "language": "python",
     "metadata": {},
     "outputs": [],
     "prompt_number": 4
    },
    {
     "cell_type": "code",
     "collapsed": false,
     "input": [],
     "language": "python",
     "metadata": {},
     "outputs": []
    }
   ],
   "metadata": {}
  }
 ]
}