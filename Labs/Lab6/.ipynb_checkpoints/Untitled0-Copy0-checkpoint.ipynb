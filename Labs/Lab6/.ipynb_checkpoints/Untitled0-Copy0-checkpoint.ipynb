{
 "metadata": {
  "name": "",
  "signature": "sha256:eeff03a7ab6115e90e977b7a7e652d03ba842af220544cb64a0aa11406a0ca30"
 },
 "nbformat": 3,
 "nbformat_minor": 0,
 "worksheets": [
  {
   "cells": [
    {
     "cell_type": "heading",
     "level": 2,
     "metadata": {},
     "source": [
      "GOAL: Build a program that can predict the duration time of an online student"
     ]
    },
    {
     "cell_type": "code",
     "collapsed": false,
     "input": [
      "import pandas as pd\n",
      "import numpy as np\n",
      "data_log=pd.read_csv(\"student_logins.csv\")\n",
      "data_log[:5]"
     ],
     "language": "python",
     "metadata": {},
     "outputs": [
      {
       "html": [
        "<div style=\"max-height:1000px;max-width:1500px;overflow:auto;\">\n",
        "<table border=\"1\" class=\"dataframe\">\n",
        "  <thead>\n",
        "    <tr style=\"text-align: right;\">\n",
        "      <th></th>\n",
        "      <th>session_start_time</th>\n",
        "      <th>session_end_time</th>\n",
        "      <th>class_id</th>\n",
        "      <th>problems_completed</th>\n",
        "      <th>student_id</th>\n",
        "      <th>student_account_created</th>\n",
        "      <th>student_previous_logins_total</th>\n",
        "      <th>student_previous_class_logins</th>\n",
        "    </tr>\n",
        "  </thead>\n",
        "  <tbody>\n",
        "    <tr>\n",
        "      <th>0</th>\n",
        "      <td> 1/6/12 16:28</td>\n",
        "      <td> 1/6/12 16:55</td>\n",
        "      <td> e</td>\n",
        "      <td> 37</td>\n",
        "      <td>  91</td>\n",
        "      <td> 10/26/11 0:00</td>\n",
        "      <td>  76</td>\n",
        "      <td>  27</td>\n",
        "    </tr>\n",
        "    <tr>\n",
        "      <th>1</th>\n",
        "      <td> 1/7/12 11:00</td>\n",
        "      <td> 1/7/12 11:27</td>\n",
        "      <td> e</td>\n",
        "      <td> 24</td>\n",
        "      <td> 161</td>\n",
        "      <td>   1/6/12 0:00</td>\n",
        "      <td>   2</td>\n",
        "      <td>   0</td>\n",
        "    </tr>\n",
        "    <tr>\n",
        "      <th>2</th>\n",
        "      <td>  1/8/12 9:04</td>\n",
        "      <td>  1/8/12 9:31</td>\n",
        "      <td> e</td>\n",
        "      <td> 50</td>\n",
        "      <td> 141</td>\n",
        "      <td> 12/31/11 0:00</td>\n",
        "      <td>   8</td>\n",
        "      <td>   5</td>\n",
        "    </tr>\n",
        "    <tr>\n",
        "      <th>3</th>\n",
        "      <td> 1/9/12 12:41</td>\n",
        "      <td> 1/9/12 12:48</td>\n",
        "      <td> e</td>\n",
        "      <td> 26</td>\n",
        "      <td> 101</td>\n",
        "      <td> 11/16/11 0:00</td>\n",
        "      <td> 199</td>\n",
        "      <td> 104</td>\n",
        "    </tr>\n",
        "    <tr>\n",
        "      <th>4</th>\n",
        "      <td> 1/9/12 16:59</td>\n",
        "      <td> 1/9/12 17:43</td>\n",
        "      <td> m</td>\n",
        "      <td> 37</td>\n",
        "      <td> 103</td>\n",
        "      <td> 11/23/11 0:00</td>\n",
        "      <td> 100</td>\n",
        "      <td>  41</td>\n",
        "    </tr>\n",
        "  </tbody>\n",
        "</table>\n",
        "</div>"
       ],
       "metadata": {},
       "output_type": "pyout",
       "prompt_number": 30,
       "text": [
        "  session_start_time session_end_time class_id  problems_completed  \\\n",
        "0       1/6/12 16:28     1/6/12 16:55        e                  37   \n",
        "1       1/7/12 11:00     1/7/12 11:27        e                  24   \n",
        "2        1/8/12 9:04      1/8/12 9:31        e                  50   \n",
        "3       1/9/12 12:41     1/9/12 12:48        e                  26   \n",
        "4       1/9/12 16:59     1/9/12 17:43        m                  37   \n",
        "\n",
        "   student_id student_account_created  student_previous_logins_total  \\\n",
        "0          91           10/26/11 0:00                             76   \n",
        "1         161             1/6/12 0:00                              2   \n",
        "2         141           12/31/11 0:00                              8   \n",
        "3         101           11/16/11 0:00                            199   \n",
        "4         103           11/23/11 0:00                            100   \n",
        "\n",
        "   student_previous_class_logins  \n",
        "0                             27  \n",
        "1                              0  \n",
        "2                              5  \n",
        "3                            104  \n",
        "4                             41  "
       ]
      }
     ],
     "prompt_number": 30
    },
    {
     "cell_type": "code",
     "collapsed": false,
     "input": [
      "from datetime import datetime\n",
      "data_log['startdatetime'] = data_log['session_start_time'].map(lambda x: datetime.strptime(x, \"%m/%d/%y %H:%M\"))\n",
      "data_log['startdatetime'].head(5)  "
     ],
     "language": "python",
     "metadata": {},
     "outputs": [
      {
       "metadata": {},
       "output_type": "pyout",
       "prompt_number": 31,
       "text": [
        "0   2012-01-06 16:28:00\n",
        "1   2012-01-07 11:00:00\n",
        "2   2012-01-08 09:04:00\n",
        "3   2012-01-09 12:41:00\n",
        "4   2012-01-09 16:59:00\n",
        "Name: startdatetime, dtype: datetime64[ns]"
       ]
      }
     ],
     "prompt_number": 31
    },
    {
     "cell_type": "code",
     "collapsed": false,
     "input": [
      "data_log['enddatetime'] = data_log['session_end_time'].map(lambda x: datetime.strptime(x, \"%m/%d/%y %H:%M\"))\n",
      "data_log['enddatetime'].head(5)   "
     ],
     "language": "python",
     "metadata": {},
     "outputs": [
      {
       "metadata": {},
       "output_type": "pyout",
       "prompt_number": 32,
       "text": [
        "0   2012-01-06 16:55:00\n",
        "1   2012-01-07 11:27:00\n",
        "2   2012-01-08 09:31:00\n",
        "3   2012-01-09 12:48:00\n",
        "4   2012-01-09 17:43:00\n",
        "Name: enddatetime, dtype: datetime64[ns]"
       ]
      }
     ],
     "prompt_number": 32
    },
    {
     "cell_type": "code",
     "collapsed": false,
     "input": [
      "data_log['duration']=data_log['enddatetime']-data_log['startdatetime']\n",
      "#np.timedelta64(data_log['duration'])\n",
      "data_log['duration'].head(5)\n",
      "#data_log['duration']=np.int32(data_log['duration'])\n",
      "    \n"
     ],
     "language": "python",
     "metadata": {},
     "outputs": [
      {
       "metadata": {},
       "output_type": "pyout",
       "prompt_number": 33,
       "text": [
        "0   00:27:00\n",
        "1   00:27:00\n",
        "2   00:27:00\n",
        "3   00:07:00\n",
        "4   00:44:00\n",
        "Name: duration, dtype: timedelta64[ns]"
       ]
      }
     ],
     "prompt_number": 33
    },
    {
     "cell_type": "heading",
     "level": 2,
     "metadata": {},
     "source": [
      "Doing the conversions"
     ]
    },
    {
     "cell_type": "code",
     "collapsed": false,
     "input": [
      "#All the convertions\n",
      "\n",
      "data_log['duration']= data_log['duration'].astype(\"timedelta64[m]\")\n",
      "\n",
      "#data_log['duration']=data_log['duration']/np.timedelta64(1,'m')\n",
      "#data_log['duration']=np.int8(data_log['duration'])\n",
      "data_log['duration'].head(5)"
     ],
     "language": "python",
     "metadata": {},
     "outputs": [
      {
       "metadata": {},
       "output_type": "pyout",
       "prompt_number": 34,
       "text": [
        "0    27\n",
        "1    27\n",
        "2    27\n",
        "3     7\n",
        "4    44\n",
        "Name: duration, dtype: float64"
       ]
      }
     ],
     "prompt_number": 34
    },
    {
     "cell_type": "heading",
     "level": 2,
     "metadata": {},
     "source": [
      "Getting rid of negative durations"
     ]
    },
    {
     "cell_type": "code",
     "collapsed": false,
     "input": [
      "data_log_check1 = data_log.index[data_log['duration'] < 0]\n",
      "print data_log_check1\n",
      "data_log[38511:38512]"
     ],
     "language": "python",
     "metadata": {},
     "outputs": [
      {
       "output_type": "stream",
       "stream": "stdout",
       "text": [
        "Int64Index([38511], dtype='int64')\n"
       ]
      },
      {
       "html": [
        "<div style=\"max-height:1000px;max-width:1500px;overflow:auto;\">\n",
        "<table border=\"1\" class=\"dataframe\">\n",
        "  <thead>\n",
        "    <tr style=\"text-align: right;\">\n",
        "      <th></th>\n",
        "      <th>session_start_time</th>\n",
        "      <th>session_end_time</th>\n",
        "      <th>class_id</th>\n",
        "      <th>problems_completed</th>\n",
        "      <th>student_id</th>\n",
        "      <th>student_account_created</th>\n",
        "      <th>student_previous_logins_total</th>\n",
        "      <th>student_previous_class_logins</th>\n",
        "      <th>startdatetime</th>\n",
        "      <th>enddatetime</th>\n",
        "      <th>duration</th>\n",
        "    </tr>\n",
        "  </thead>\n",
        "  <tbody>\n",
        "    <tr>\n",
        "      <th>38511</th>\n",
        "      <td> 7/5/13 11:45</td>\n",
        "      <td> 7/5/13 10:38</td>\n",
        "      <td> m</td>\n",
        "      <td> 29</td>\n",
        "      <td> 172</td>\n",
        "      <td> 5/27/13 0:00</td>\n",
        "      <td> 94</td>\n",
        "      <td> 35</td>\n",
        "      <td>2013-07-05 11:45:00</td>\n",
        "      <td>2013-07-05 10:38:00</td>\n",
        "      <td>-67</td>\n",
        "    </tr>\n",
        "  </tbody>\n",
        "</table>\n",
        "</div>"
       ],
       "metadata": {},
       "output_type": "pyout",
       "prompt_number": 35,
       "text": [
        "      session_start_time session_end_time class_id  problems_completed  \\\n",
        "38511       7/5/13 11:45     7/5/13 10:38        m                  29   \n",
        "\n",
        "       student_id student_account_created  student_previous_logins_total  \\\n",
        "38511         172            5/27/13 0:00                             94   \n",
        "\n",
        "       student_previous_class_logins       startdatetime         enddatetime  \\\n",
        "38511                             35 2013-07-05 11:45:00 2013-07-05 10:38:00   \n",
        "\n",
        "       duration  \n",
        "38511       -67  "
       ]
      }
     ],
     "prompt_number": 35
    },
    {
     "cell_type": "markdown",
     "metadata": {},
     "source": [
      "Indeed, session_end_time is earlier than session_start_time. \n",
      "I will just remove that row since its one out of 48758"
     ]
    },
    {
     "cell_type": "code",
     "collapsed": false,
     "input": [
      "#data_log.drop([38511])\n",
      "data_log = pd.concat([data_log[:38511], data_log[38512:]])\n",
      "#reindexing, but doesn't work!\n",
      "#data_log = data_log.reindex()\n",
      "data_log[38510:38513]"
     ],
     "language": "python",
     "metadata": {},
     "outputs": [
      {
       "html": [
        "<div style=\"max-height:1000px;max-width:1500px;overflow:auto;\">\n",
        "<table border=\"1\" class=\"dataframe\">\n",
        "  <thead>\n",
        "    <tr style=\"text-align: right;\">\n",
        "      <th></th>\n",
        "      <th>session_start_time</th>\n",
        "      <th>session_end_time</th>\n",
        "      <th>class_id</th>\n",
        "      <th>problems_completed</th>\n",
        "      <th>student_id</th>\n",
        "      <th>student_account_created</th>\n",
        "      <th>student_previous_logins_total</th>\n",
        "      <th>student_previous_class_logins</th>\n",
        "      <th>startdatetime</th>\n",
        "      <th>enddatetime</th>\n",
        "      <th>duration</th>\n",
        "    </tr>\n",
        "  </thead>\n",
        "  <tbody>\n",
        "    <tr>\n",
        "      <th>38510</th>\n",
        "      <td> 7/5/13 11:36</td>\n",
        "      <td> 7/5/13 11:49</td>\n",
        "      <td> a</td>\n",
        "      <td>  6</td>\n",
        "      <td> 419</td>\n",
        "      <td>   4/6/13 0:00</td>\n",
        "      <td>  363</td>\n",
        "      <td>  84</td>\n",
        "      <td>2013-07-05 11:36:00</td>\n",
        "      <td>2013-07-05 11:49:00</td>\n",
        "      <td> 13</td>\n",
        "    </tr>\n",
        "    <tr>\n",
        "      <th>38512</th>\n",
        "      <td> 7/5/13 11:45</td>\n",
        "      <td> 7/5/13 12:13</td>\n",
        "      <td> g</td>\n",
        "      <td> 36</td>\n",
        "      <td> 172</td>\n",
        "      <td>  4/15/13 0:00</td>\n",
        "      <td>  205</td>\n",
        "      <td>  34</td>\n",
        "      <td>2013-07-05 11:45:00</td>\n",
        "      <td>2013-07-05 12:13:00</td>\n",
        "      <td> 28</td>\n",
        "    </tr>\n",
        "    <tr>\n",
        "      <th>38513</th>\n",
        "      <td> 7/5/13 11:50</td>\n",
        "      <td> 7/5/13 12:08</td>\n",
        "      <td> c</td>\n",
        "      <td> 22</td>\n",
        "      <td> 101</td>\n",
        "      <td> 10/25/12 0:00</td>\n",
        "      <td> 1049</td>\n",
        "      <td> 484</td>\n",
        "      <td>2013-07-05 11:50:00</td>\n",
        "      <td>2013-07-05 12:08:00</td>\n",
        "      <td> 18</td>\n",
        "    </tr>\n",
        "  </tbody>\n",
        "</table>\n",
        "</div>"
       ],
       "metadata": {},
       "output_type": "pyout",
       "prompt_number": 36,
       "text": [
        "      session_start_time session_end_time class_id  problems_completed  \\\n",
        "38510       7/5/13 11:36     7/5/13 11:49        a                   6   \n",
        "38512       7/5/13 11:45     7/5/13 12:13        g                  36   \n",
        "38513       7/5/13 11:50     7/5/13 12:08        c                  22   \n",
        "\n",
        "       student_id student_account_created  student_previous_logins_total  \\\n",
        "38510         419             4/6/13 0:00                            363   \n",
        "38512         172            4/15/13 0:00                            205   \n",
        "38513         101           10/25/12 0:00                           1049   \n",
        "\n",
        "       student_previous_class_logins       startdatetime         enddatetime  \\\n",
        "38510                             84 2013-07-05 11:36:00 2013-07-05 11:49:00   \n",
        "38512                             34 2013-07-05 11:45:00 2013-07-05 12:13:00   \n",
        "38513                            484 2013-07-05 11:50:00 2013-07-05 12:08:00   \n",
        "\n",
        "       duration  \n",
        "38510        13  \n",
        "38512        28  \n",
        "38513        18  "
       ]
      }
     ],
     "prompt_number": 36
    },
    {
     "cell_type": "heading",
     "level": 2,
     "metadata": {},
     "source": [
      "Getting rid of long durations (assuming student just left the computer on)"
     ]
    },
    {
     "cell_type": "code",
     "collapsed": false,
     "input": [
      "data_log_check2 = data_log.index[data_log['duration'] > 300]\n",
      "print data_log_check2"
     ],
     "language": "python",
     "metadata": {},
     "outputs": [
      {
       "output_type": "stream",
       "stream": "stdout",
       "text": [
        "Int64Index([19524, 48330], dtype='int64')\n"
       ]
      }
     ],
     "prompt_number": 37
    },
    {
     "cell_type": "code",
     "collapsed": false,
     "input": [
      "data_log[48329:48335]"
     ],
     "language": "python",
     "metadata": {},
     "outputs": [
      {
       "html": [
        "<div style=\"max-height:1000px;max-width:1500px;overflow:auto;\">\n",
        "<table border=\"1\" class=\"dataframe\">\n",
        "  <thead>\n",
        "    <tr style=\"text-align: right;\">\n",
        "      <th></th>\n",
        "      <th>session_start_time</th>\n",
        "      <th>session_end_time</th>\n",
        "      <th>class_id</th>\n",
        "      <th>problems_completed</th>\n",
        "      <th>student_id</th>\n",
        "      <th>student_account_created</th>\n",
        "      <th>student_previous_logins_total</th>\n",
        "      <th>student_previous_class_logins</th>\n",
        "      <th>startdatetime</th>\n",
        "      <th>enddatetime</th>\n",
        "      <th>duration</th>\n",
        "    </tr>\n",
        "  </thead>\n",
        "  <tbody>\n",
        "    <tr>\n",
        "      <th>48330</th>\n",
        "      <td> 12/20/13 20:47</td>\n",
        "      <td> 12/21/13 13:26</td>\n",
        "      <td> a</td>\n",
        "      <td> 14</td>\n",
        "      <td> 297</td>\n",
        "      <td> 7/25/13 0:00</td>\n",
        "      <td> 705</td>\n",
        "      <td> 198</td>\n",
        "      <td>2013-12-20 20:47:00</td>\n",
        "      <td>2013-12-21 13:26:00</td>\n",
        "      <td> 999</td>\n",
        "    </tr>\n",
        "    <tr>\n",
        "      <th>48331</th>\n",
        "      <td>  12/21/13 8:08</td>\n",
        "      <td>  12/21/13 8:32</td>\n",
        "      <td> a</td>\n",
        "      <td> 39</td>\n",
        "      <td> 716</td>\n",
        "      <td> 11/7/13 0:00</td>\n",
        "      <td> 161</td>\n",
        "      <td>  75</td>\n",
        "      <td>2013-12-21 08:08:00</td>\n",
        "      <td>2013-12-21 08:32:00</td>\n",
        "      <td>  24</td>\n",
        "    </tr>\n",
        "    <tr>\n",
        "      <th>48332</th>\n",
        "      <td> 12/21/13 10:41</td>\n",
        "      <td> 12/21/13 10:53</td>\n",
        "      <td> a</td>\n",
        "      <td> 14</td>\n",
        "      <td> 716</td>\n",
        "      <td> 12/2/13 0:00</td>\n",
        "      <td>  89</td>\n",
        "      <td>  39</td>\n",
        "      <td>2013-12-21 10:41:00</td>\n",
        "      <td>2013-12-21 10:53:00</td>\n",
        "      <td>  12</td>\n",
        "    </tr>\n",
        "    <tr>\n",
        "      <th>48333</th>\n",
        "      <td> 12/21/13 10:55</td>\n",
        "      <td> 12/21/13 11:12</td>\n",
        "      <td> m</td>\n",
        "      <td> 14</td>\n",
        "      <td> 702</td>\n",
        "      <td> 11/9/13 0:00</td>\n",
        "      <td>  58</td>\n",
        "      <td>  27</td>\n",
        "      <td>2013-12-21 10:55:00</td>\n",
        "      <td>2013-12-21 11:12:00</td>\n",
        "      <td>  17</td>\n",
        "    </tr>\n",
        "    <tr>\n",
        "      <th>48334</th>\n",
        "      <td> 12/21/13 11:43</td>\n",
        "      <td> 12/21/13 12:20</td>\n",
        "      <td> m</td>\n",
        "      <td> 25</td>\n",
        "      <td> 468</td>\n",
        "      <td> 9/22/13 0:00</td>\n",
        "      <td> 145</td>\n",
        "      <td>  67</td>\n",
        "      <td>2013-12-21 11:43:00</td>\n",
        "      <td>2013-12-21 12:20:00</td>\n",
        "      <td>  37</td>\n",
        "    </tr>\n",
        "    <tr>\n",
        "      <th>48335</th>\n",
        "      <td> 12/21/13 11:45</td>\n",
        "      <td> 12/21/13 12:05</td>\n",
        "      <td> c</td>\n",
        "      <td> 13</td>\n",
        "      <td> 349</td>\n",
        "      <td> 8/10/13 0:00</td>\n",
        "      <td> 819</td>\n",
        "      <td> 171</td>\n",
        "      <td>2013-12-21 11:45:00</td>\n",
        "      <td>2013-12-21 12:05:00</td>\n",
        "      <td>  20</td>\n",
        "    </tr>\n",
        "  </tbody>\n",
        "</table>\n",
        "</div>"
       ],
       "metadata": {},
       "output_type": "pyout",
       "prompt_number": 38,
       "text": [
        "      session_start_time session_end_time class_id  problems_completed  \\\n",
        "48330     12/20/13 20:47   12/21/13 13:26        a                  14   \n",
        "48331      12/21/13 8:08    12/21/13 8:32        a                  39   \n",
        "48332     12/21/13 10:41   12/21/13 10:53        a                  14   \n",
        "48333     12/21/13 10:55   12/21/13 11:12        m                  14   \n",
        "48334     12/21/13 11:43   12/21/13 12:20        m                  25   \n",
        "48335     12/21/13 11:45   12/21/13 12:05        c                  13   \n",
        "\n",
        "       student_id student_account_created  student_previous_logins_total  \\\n",
        "48330         297            7/25/13 0:00                            705   \n",
        "48331         716            11/7/13 0:00                            161   \n",
        "48332         716            12/2/13 0:00                             89   \n",
        "48333         702            11/9/13 0:00                             58   \n",
        "48334         468            9/22/13 0:00                            145   \n",
        "48335         349            8/10/13 0:00                            819   \n",
        "\n",
        "       student_previous_class_logins       startdatetime         enddatetime  \\\n",
        "48330                            198 2013-12-20 20:47:00 2013-12-21 13:26:00   \n",
        "48331                             75 2013-12-21 08:08:00 2013-12-21 08:32:00   \n",
        "48332                             39 2013-12-21 10:41:00 2013-12-21 10:53:00   \n",
        "48333                             27 2013-12-21 10:55:00 2013-12-21 11:12:00   \n",
        "48334                             67 2013-12-21 11:43:00 2013-12-21 12:20:00   \n",
        "48335                            171 2013-12-21 11:45:00 2013-12-21 12:05:00   \n",
        "\n",
        "       duration  \n",
        "48330       999  \n",
        "48331        24  \n",
        "48332        12  \n",
        "48333        17  \n",
        "48334        37  \n",
        "48335        20  "
       ]
      }
     ],
     "prompt_number": 38
    },
    {
     "cell_type": "markdown",
     "metadata": {},
     "source": [
      "Dropping those 2 lines"
     ]
    },
    {
     "cell_type": "code",
     "collapsed": false,
     "input": [
      "data_log = pd.concat([data_log[:19524], data_log[19525:48329],data_log[48330:]])\n",
      "data_log[48330:48335]"
     ],
     "language": "python",
     "metadata": {},
     "outputs": [
      {
       "html": [
        "<div style=\"max-height:1000px;max-width:1500px;overflow:auto;\">\n",
        "<table border=\"1\" class=\"dataframe\">\n",
        "  <thead>\n",
        "    <tr style=\"text-align: right;\">\n",
        "      <th></th>\n",
        "      <th>session_start_time</th>\n",
        "      <th>session_end_time</th>\n",
        "      <th>class_id</th>\n",
        "      <th>problems_completed</th>\n",
        "      <th>student_id</th>\n",
        "      <th>student_account_created</th>\n",
        "      <th>student_previous_logins_total</th>\n",
        "      <th>student_previous_class_logins</th>\n",
        "      <th>startdatetime</th>\n",
        "      <th>enddatetime</th>\n",
        "      <th>duration</th>\n",
        "    </tr>\n",
        "  </thead>\n",
        "  <tbody>\n",
        "    <tr>\n",
        "      <th>48333</th>\n",
        "      <td> 12/21/13 10:55</td>\n",
        "      <td> 12/21/13 11:12</td>\n",
        "      <td> m</td>\n",
        "      <td> 14</td>\n",
        "      <td> 702</td>\n",
        "      <td>  11/9/13 0:00</td>\n",
        "      <td>  58</td>\n",
        "      <td>  27</td>\n",
        "      <td>2013-12-21 10:55:00</td>\n",
        "      <td>2013-12-21 11:12:00</td>\n",
        "      <td> 17</td>\n",
        "    </tr>\n",
        "    <tr>\n",
        "      <th>48334</th>\n",
        "      <td> 12/21/13 11:43</td>\n",
        "      <td> 12/21/13 12:20</td>\n",
        "      <td> m</td>\n",
        "      <td> 25</td>\n",
        "      <td> 468</td>\n",
        "      <td>  9/22/13 0:00</td>\n",
        "      <td> 145</td>\n",
        "      <td>  67</td>\n",
        "      <td>2013-12-21 11:43:00</td>\n",
        "      <td>2013-12-21 12:20:00</td>\n",
        "      <td> 37</td>\n",
        "    </tr>\n",
        "    <tr>\n",
        "      <th>48335</th>\n",
        "      <td> 12/21/13 11:45</td>\n",
        "      <td> 12/21/13 12:05</td>\n",
        "      <td> c</td>\n",
        "      <td> 13</td>\n",
        "      <td> 349</td>\n",
        "      <td>  8/10/13 0:00</td>\n",
        "      <td> 819</td>\n",
        "      <td> 171</td>\n",
        "      <td>2013-12-21 11:45:00</td>\n",
        "      <td>2013-12-21 12:05:00</td>\n",
        "      <td> 20</td>\n",
        "    </tr>\n",
        "    <tr>\n",
        "      <th>48336</th>\n",
        "      <td> 12/21/13 12:03</td>\n",
        "      <td> 12/21/13 12:29</td>\n",
        "      <td> c</td>\n",
        "      <td> 11</td>\n",
        "      <td> 419</td>\n",
        "      <td>   9/5/13 0:00</td>\n",
        "      <td> 405</td>\n",
        "      <td>  98</td>\n",
        "      <td>2013-12-21 12:03:00</td>\n",
        "      <td>2013-12-21 12:29:00</td>\n",
        "      <td> 26</td>\n",
        "    </tr>\n",
        "    <tr>\n",
        "      <th>48337</th>\n",
        "      <td> 12/21/13 13:42</td>\n",
        "      <td> 12/21/13 13:49</td>\n",
        "      <td> g</td>\n",
        "      <td>  9</td>\n",
        "      <td>   5</td>\n",
        "      <td> 10/21/12 0:00</td>\n",
        "      <td> 855</td>\n",
        "      <td>  88</td>\n",
        "      <td>2013-12-21 13:42:00</td>\n",
        "      <td>2013-12-21 13:49:00</td>\n",
        "      <td>  7</td>\n",
        "    </tr>\n",
        "  </tbody>\n",
        "</table>\n",
        "</div>"
       ],
       "metadata": {},
       "output_type": "pyout",
       "prompt_number": 39,
       "text": [
        "      session_start_time session_end_time class_id  problems_completed  \\\n",
        "48333     12/21/13 10:55   12/21/13 11:12        m                  14   \n",
        "48334     12/21/13 11:43   12/21/13 12:20        m                  25   \n",
        "48335     12/21/13 11:45   12/21/13 12:05        c                  13   \n",
        "48336     12/21/13 12:03   12/21/13 12:29        c                  11   \n",
        "48337     12/21/13 13:42   12/21/13 13:49        g                   9   \n",
        "\n",
        "       student_id student_account_created  student_previous_logins_total  \\\n",
        "48333         702            11/9/13 0:00                             58   \n",
        "48334         468            9/22/13 0:00                            145   \n",
        "48335         349            8/10/13 0:00                            819   \n",
        "48336         419             9/5/13 0:00                            405   \n",
        "48337           5           10/21/12 0:00                            855   \n",
        "\n",
        "       student_previous_class_logins       startdatetime         enddatetime  \\\n",
        "48333                             27 2013-12-21 10:55:00 2013-12-21 11:12:00   \n",
        "48334                             67 2013-12-21 11:43:00 2013-12-21 12:20:00   \n",
        "48335                            171 2013-12-21 11:45:00 2013-12-21 12:05:00   \n",
        "48336                             98 2013-12-21 12:03:00 2013-12-21 12:29:00   \n",
        "48337                             88 2013-12-21 13:42:00 2013-12-21 13:49:00   \n",
        "\n",
        "       duration  \n",
        "48333        17  \n",
        "48334        37  \n",
        "48335        20  \n",
        "48336        26  \n",
        "48337         7  "
       ]
      }
     ],
     "prompt_number": 39
    },
    {
     "cell_type": "code",
     "collapsed": false,
     "input": [
      "#All the convertions\n",
      "\n",
      "#data_log['duration']= data_log['duration'].astype(\"timedelta64[m]\")\n",
      "\n",
      "#data_log['duration']=data_log['duration']/np.timedelta64(1,'m')\n",
      "#data_log['duration']=np.int8(data_log['duration'])\n",
      "#data_log['duration'].head(5)"
     ],
     "language": "python",
     "metadata": {},
     "outputs": [],
     "prompt_number": 40
    },
    {
     "cell_type": "heading",
     "level": 2,
     "metadata": {},
     "source": [
      "Regression model"
     ]
    },
    {
     "cell_type": "markdown",
     "metadata": {},
     "source": [
      "Plotting everything to get an idea where to look for variables"
     ]
    },
    {
     "cell_type": "code",
     "collapsed": false,
     "input": [
      "from pandas.tools.plotting import scatter_matrix\n",
      "scat = scatter_matrix(data_log, figsize = (10,10))"
     ],
     "language": "python",
     "metadata": {},
     "outputs": [],
     "prompt_number": 41
    },
    {
     "cell_type": "heading",
     "level": 2,
     "metadata": {},
     "source": [
      "Let's explore the data which related to each student's ID"
     ]
    },
    {
     "cell_type": "code",
     "collapsed": false,
     "input": [
      "#data_log_check3 = data_log.index[data_log['duration'] > 100]\n",
      "#data_log['student_id'][data_log.index[data_log_check3]]\n",
      "#students_log=[]\n",
      "\n",
      "#Unique students\n",
      "st_list = Unique_stud=pd.Series(data_log['student_id'].values.ravel()).unique()\n",
      "st_list.tolist()\n",
      "#print st_list\n",
      "print len(st_list)"
     ],
     "language": "python",
     "metadata": {},
     "outputs": [
      {
       "output_type": "stream",
       "stream": "stdout",
       "text": [
        "355\n"
       ]
      }
     ],
     "prompt_number": 42
    },
    {
     "cell_type": "code",
     "collapsed": false,
     "input": [
      "stud_accum=[]\n",
      "for i in range(0,len(st_list)):\n",
      "    stud_data={'K':i} \n",
      "    stud_data['stud_id']=st_list[i]\n",
      "    for j in range(0, len(data_log['student_id'])):\n",
      "        if st_list[i]==pd.Series(data_log['student_id']).any():\n",
      "            stud_data['stud_time']=+(data_log['duration'])\n",
      "    stud_accum.append(stud_data)\n",
      "print stud_accum"
     ],
     "language": "python",
     "metadata": {},
     "outputs": []
    },
    {
     "cell_type": "code",
     "collapsed": false,
     "input": [
      "stud_accum=[]\n",
      "for i in st_list:\n",
      "    stud_data={'K':i}    \n",
      "    for j in data_log:\n",
      "#if data_log['student_id']==st_list:\n",
      "         #   print st_list\n",
      "        #print data_log['student_id']        \n",
      "        \n",
      "    #print i\n",
      "    #stud_data['accumulated']=data_log['duration',indstud_ind==i]\n",
      "    #stud_accum.append(stud_data)\n",
      "#print    stud_accum \n"
     ],
     "language": "python",
     "metadata": {},
     "outputs": []
    },
    {
     "cell_type": "code",
     "collapsed": false,
     "input": [
      "#from statsmodels.sandbox.regression.predstd import wls_prediction_std\n",
      "\n",
      "import statsmodels.api as sm\n",
      "\n",
      "%matplotlib inline\n",
      "from matplotlib import pyplot as plt\n",
      "from pylab import *\n",
      "plt.title('Diration vs problems completed')\n",
      "plt.xlabel('duration')\n",
      "plt.ylabel('problems_completed')\n",
      "plt.plot(data_log['duration'],data_log['problems_completed'], 'bo')\n",
      "\n",
      "X = sm.add_constant(data_log['duration'], prepend=True)\n",
      "results = sm.OLS(data_log['problems_completed'], X).fit()\n",
      "intercept, slope = results.params\n",
      "\n",
      "print \"slope\"\n",
      "print slope\n",
      "print \"intercept\"\n",
      "print intercept\n",
      "r2 = results.rsquared\n",
      "xl = np.array([min(data_log['duration']), max(data_log['problems_completed'])])\n",
      "yl = intercept + slope * xl\n",
      "plt.plot(xl, yl, 'r-')\n",
      "plt.show\n",
      "#results.summary()"
     ],
     "language": "python",
     "metadata": {},
     "outputs": []
    },
    {
     "cell_type": "code",
     "collapsed": false,
     "input": [],
     "language": "python",
     "metadata": {},
     "outputs": []
    },
    {
     "cell_type": "code",
     "collapsed": false,
     "input": [
      "%matplotlib inline\n",
      "from matplotlib import pyplot as plt\n",
      "from pylab import *\n",
      "plt.title('Diration vs student_previous_logins_total')\n",
      "plt.xlabel('duration')\n",
      "plt.ylabel('student_previous_logins_total')\n",
      "plt.plot(data_log['duration'],data_log['student_previous_logins_total'], 'bo')"
     ],
     "language": "python",
     "metadata": {},
     "outputs": []
    },
    {
     "cell_type": "heading",
     "level": 2,
     "metadata": {},
     "source": [
      "Duration time as a function of multiple variables"
     ]
    },
    {
     "cell_type": "code",
     "collapsed": false,
     "input": [],
     "language": "python",
     "metadata": {},
     "outputs": []
    },
    {
     "cell_type": "code",
     "collapsed": false,
     "input": [],
     "language": "python",
     "metadata": {},
     "outputs": []
    },
    {
     "cell_type": "code",
     "collapsed": false,
     "input": [],
     "language": "python",
     "metadata": {},
     "outputs": []
    }
   ],
   "metadata": {}
  }
 ]
}