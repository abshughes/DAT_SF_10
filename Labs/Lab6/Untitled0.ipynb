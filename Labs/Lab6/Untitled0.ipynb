{
 "metadata": {
  "name": "",
  "signature": "sha256:f8861194caa563e4ec82e757217a56bb24efdaabda3878712954325c2fc1451b"
 },
 "nbformat": 3,
 "nbformat_minor": 0,
 "worksheets": [
  {
   "cells": [
    {
     "cell_type": "code",
     "collapsed": false,
     "input": [
      "import pandas as pd\n",
      "from pandas.tools.plotting import scatter_matrix\n",
      "import statsmodels.api as sm\n",
      "import matplotlib.pyplot as plt\n",
      "\n",
      "df = pd.read_csv('student_logins.csv')\n",
      "\n",
      "df['session_end_time'] = pd.to_datetime(df['session_end_time'])\n",
      "df['session_start_time'] = pd.to_datetime(df['session_start_time'])\n",
      "df['student_account_created'] = pd.to_datetime(df['student_account_created'])\n",
      "df['Duration'] = df['session_end_time'] - df['session_start_time']\n",
      "df['Duration'] = df['Duration'].map(lambda x: x.astype('float64')/(1e9*60))\n",
      "\n",
      "MaxCreated = pd.to_datetime(max(df['session_end_time']))\n",
      "df['AccountAge'] = MaxCreated - df['student_account_created']\n",
      "df['AccountAge'] = df['AccountAge'].map(lambda x: x.astype('float64')/(1e9*60*60*24))\n",
      "\n",
      "class_dummies = pd.get_dummies(df['class_id']) \n",
      "student_id_dummies = pd.get_dummies(df['student_id'])\n",
      "class_student_interaction = class_dummies * student_id_dummies\n",
      " \n",
      "df1 = df[(df['Duration'] < 225) & (df['Duration'] > 0)]\n",
      "df1 = pd.merge(df,class_dummies,left_index=True,right_index=True,how='left')\n",
      "x = df1[['problems_completed','AccountAge','student_previous_logins_total','student_previous_class_logins','a','c','e','g','m']].values\n",
      "y = df1['Duration'].values\n",
      "X = sm.add_constant(x, prepend=True)\n",
      "results = sm.OLS(y, X).fit()\n",
      "results.summary()\n",
      "\n",
      "class_dummies_cols = list(class_dummies.columns)\n",
      "student_id_dummies_cols = list(student_id_dummies.columns)\n",
      "rawfeatures = ['problems_completed','AccountAge','student_previous_logins_total','student_previous_class_logins']\n",
      "features = rawfeatures + class_dummies_cols + student_id_dummies_cols\n",
      "\n",
      "df2 = pd.merge(df1,student_id_dummies,left_index=True,right_index=True,how='left')\n",
      "x2 = df2[features].values\n",
      "y2 = df2['Duration'].values\n",
      "X2 = sm.add_constant(x2, prepend=True)\n",
      "results2 = sm.OLS(y2, X2).fit()\n",
      "results2.summary()\n",
      "\n",
      "\"\"\"\n",
      "student_id_dummies = dummy variable for studnets\n",
      "student_id_dummies * class_dummies (interaction)\n",
      "student_id_dummies, class_dummies, interaction\n",
      "residuals group by class / my predictions\n",
      "\"\"\""
     ],
     "language": "python",
     "metadata": {},
     "outputs": [
      {
       "metadata": {},
       "output_type": "pyout",
       "prompt_number": 1,
       "text": [
        "'\\nstudent_id_dummies = dummy variable for studnets\\nstudent_id_dummies * class_dummies (interaction)\\nstudent_id_dummies, class_dummies, interaction\\nresiduals group by class / my predictions\\n'"
       ]
      }
     ],
     "prompt_number": 1
    },
    {
     "cell_type": "code",
     "collapsed": false,
     "input": [],
     "language": "python",
     "metadata": {},
     "outputs": []
    }
   ],
   "metadata": {}
  }
 ]
}