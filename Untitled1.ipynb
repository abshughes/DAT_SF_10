{
 "cells": [
  {
   "cell_type": "code",
   "execution_count": 43,
   "metadata": {
    "collapsed": false
   },
   "outputs": [
    {
     "data": {
      "text/html": [
       "<div style=\"max-height:1000px;max-width:1500px;overflow:auto;\">\n",
       "<table border=\"1\" class=\"dataframe\">\n",
       "  <thead>\n",
       "    <tr style=\"text-align: right;\">\n",
       "      <th></th>\n",
       "      <th>measure</th>\n",
       "      <th>product</th>\n",
       "      <th>geotype</th>\n",
       "      <th>geoid</th>\n",
       "      <th>rate</th>\n",
       "    </tr>\n",
       "  </thead>\n",
       "  <tbody>\n",
       "    <tr>\n",
       "      <th>0</th>\n",
       "      <td> COL</td>\n",
       "      <td> HMOPOS</td>\n",
       "      <td> zipcode</td>\n",
       "      <td> 90001</td>\n",
       "      <td> 62.18</td>\n",
       "    </tr>\n",
       "    <tr>\n",
       "      <th>1</th>\n",
       "      <td> COL</td>\n",
       "      <td> HMOPOS</td>\n",
       "      <td> zipcode</td>\n",
       "      <td> 90002</td>\n",
       "      <td> 64.67</td>\n",
       "    </tr>\n",
       "    <tr>\n",
       "      <th>2</th>\n",
       "      <td> COL</td>\n",
       "      <td> HMOPOS</td>\n",
       "      <td> zipcode</td>\n",
       "      <td> 90003</td>\n",
       "      <td> 64.70</td>\n",
       "    </tr>\n",
       "    <tr>\n",
       "      <th>3</th>\n",
       "      <td> COL</td>\n",
       "      <td> HMOPOS</td>\n",
       "      <td> zipcode</td>\n",
       "      <td> 90004</td>\n",
       "      <td> 66.16</td>\n",
       "    </tr>\n",
       "    <tr>\n",
       "      <th>4</th>\n",
       "      <td> COL</td>\n",
       "      <td> HMOPOS</td>\n",
       "      <td> zipcode</td>\n",
       "      <td> 90005</td>\n",
       "      <td> 59.42</td>\n",
       "    </tr>\n",
       "  </tbody>\n",
       "</table>\n",
       "</div>"
      ],
      "text/plain": [
       "  measure product  geotype  geoid   rate\n",
       "0     COL  HMOPOS  zipcode  90001  62.18\n",
       "1     COL  HMOPOS  zipcode  90002  64.67\n",
       "2     COL  HMOPOS  zipcode  90003  64.70\n",
       "3     COL  HMOPOS  zipcode  90004  66.16\n",
       "4     COL  HMOPOS  zipcode  90005  59.42"
      ]
     },
     "execution_count": 43,
     "metadata": {},
     "output_type": "execute_result"
    }
   ],
   "source": [
    "import pandas as pd\n",
    "df=pd.read_csv('hbg_all_data.csv')\n",
    "df.head()"
   ]
  },
  {
   "cell_type": "code",
   "execution_count": 44,
   "metadata": {
    "collapsed": false
   },
   "outputs": [
    {
     "name": "stdout",
     "output_type": "stream",
     "text": [
      "<class 'pandas.core.frame.DataFrame'>\n",
      "Int64Index: 90620 entries, 0 to 90619\n",
      "Data columns (total 5 columns):\n",
      "measure    90620 non-null object\n",
      "product    90620 non-null object\n",
      "geotype    90620 non-null object\n",
      "geoid      90620 non-null int64\n",
      "rate       90620 non-null float64\n",
      "dtypes: float64(1), int64(1), object(3)"
     ]
    },
    {
     "data": {
      "text/html": [
       "<div style=\"max-height:1000px;max-width:1500px;overflow:auto;\">\n",
       "<table border=\"1\" class=\"dataframe\">\n",
       "  <thead>\n",
       "    <tr style=\"text-align: right;\">\n",
       "      <th></th>\n",
       "      <th>geoid</th>\n",
       "      <th>rate</th>\n",
       "    </tr>\n",
       "  </thead>\n",
       "  <tbody>\n",
       "    <tr>\n",
       "      <th>count</th>\n",
       "      <td> 90620.000000</td>\n",
       "      <td>  90620.000000</td>\n",
       "    </tr>\n",
       "    <tr>\n",
       "      <th>mean</th>\n",
       "      <td> 76000.464655</td>\n",
       "      <td>   1458.386151</td>\n",
       "    </tr>\n",
       "    <tr>\n",
       "      <th>std</th>\n",
       "      <td> 35098.085225</td>\n",
       "      <td>   9740.574661</td>\n",
       "    </tr>\n",
       "    <tr>\n",
       "      <th>min</th>\n",
       "      <td>     0.000000</td>\n",
       "      <td>      0.000000</td>\n",
       "    </tr>\n",
       "    <tr>\n",
       "      <th>25%</th>\n",
       "      <td> 90267.000000</td>\n",
       "      <td>     25.607500</td>\n",
       "    </tr>\n",
       "    <tr>\n",
       "      <th>50%</th>\n",
       "      <td> 92427.000000</td>\n",
       "      <td>     77.320000</td>\n",
       "    </tr>\n",
       "    <tr>\n",
       "      <th>75%</th>\n",
       "      <td> 94545.000000</td>\n",
       "      <td>    134.282500</td>\n",
       "    </tr>\n",
       "    <tr>\n",
       "      <th>max</th>\n",
       "      <td> 96162.000000</td>\n",
       "      <td> 219688.000000</td>\n",
       "    </tr>\n",
       "  </tbody>\n",
       "</table>\n",
       "</div>"
      ],
      "text/plain": [
       "              geoid           rate\n",
       "count  90620.000000   90620.000000\n",
       "mean   76000.464655    1458.386151\n",
       "std    35098.085225    9740.574661\n",
       "min        0.000000       0.000000\n",
       "25%    90267.000000      25.607500\n",
       "50%    92427.000000      77.320000\n",
       "75%    94545.000000     134.282500\n",
       "max    96162.000000  219688.000000"
      ]
     },
     "execution_count": 44,
     "metadata": {},
     "output_type": "execute_result"
    }
   ],
   "source": [
    "df.info()\n",
    "df.describe()"
   ]
  },
  {
   "cell_type": "code",
   "execution_count": 45,
   "metadata": {
    "collapsed": true
   },
   "outputs": [],
   "source": [
    "df1=df[df['geotype']=='zipcode']"
   ]
  },
  {
   "cell_type": "code",
   "execution_count": 46,
   "metadata": {
    "collapsed": false
   },
   "outputs": [
    {
     "data": {
      "text/html": [
       "<div style=\"max-height:1000px;max-width:1500px;overflow:auto;\">\n",
       "<table border=\"1\" class=\"dataframe\">\n",
       "  <thead>\n",
       "    <tr style=\"text-align: right;\">\n",
       "      <th></th>\n",
       "      <th>measure</th>\n",
       "      <th>product</th>\n",
       "      <th>geotype</th>\n",
       "      <th>geoid</th>\n",
       "      <th>rate</th>\n",
       "    </tr>\n",
       "  </thead>\n",
       "  <tbody>\n",
       "    <tr>\n",
       "      <th>0</th>\n",
       "      <td> COL</td>\n",
       "      <td> HMOPOS</td>\n",
       "      <td> zipcode</td>\n",
       "      <td> 90001</td>\n",
       "      <td> 62.18</td>\n",
       "    </tr>\n",
       "    <tr>\n",
       "      <th>1</th>\n",
       "      <td> COL</td>\n",
       "      <td> HMOPOS</td>\n",
       "      <td> zipcode</td>\n",
       "      <td> 90002</td>\n",
       "      <td> 64.67</td>\n",
       "    </tr>\n",
       "    <tr>\n",
       "      <th>2</th>\n",
       "      <td> COL</td>\n",
       "      <td> HMOPOS</td>\n",
       "      <td> zipcode</td>\n",
       "      <td> 90003</td>\n",
       "      <td> 64.70</td>\n",
       "    </tr>\n",
       "    <tr>\n",
       "      <th>3</th>\n",
       "      <td> COL</td>\n",
       "      <td> HMOPOS</td>\n",
       "      <td> zipcode</td>\n",
       "      <td> 90004</td>\n",
       "      <td> 66.16</td>\n",
       "    </tr>\n",
       "    <tr>\n",
       "      <th>4</th>\n",
       "      <td> COL</td>\n",
       "      <td> HMOPOS</td>\n",
       "      <td> zipcode</td>\n",
       "      <td> 90005</td>\n",
       "      <td> 59.42</td>\n",
       "    </tr>\n",
       "  </tbody>\n",
       "</table>\n",
       "</div>"
      ],
      "text/plain": [
       "  measure product  geotype  geoid   rate\n",
       "0     COL  HMOPOS  zipcode  90001  62.18\n",
       "1     COL  HMOPOS  zipcode  90002  64.67\n",
       "2     COL  HMOPOS  zipcode  90003  64.70\n",
       "3     COL  HMOPOS  zipcode  90004  66.16\n",
       "4     COL  HMOPOS  zipcode  90005  59.42"
      ]
     },
     "execution_count": 46,
     "metadata": {},
     "output_type": "execute_result"
    }
   ],
   "source": [
    "df1.head()"
   ]
  },
  {
   "cell_type": "code",
   "execution_count": 47,
   "metadata": {
    "collapsed": false
   },
   "outputs": [
    {
     "data": {
      "text/html": [
       "<div style=\"max-height:1000px;max-width:1500px;overflow:auto;\">\n",
       "<table border=\"1\" class=\"dataframe\">\n",
       "  <thead>\n",
       "    <tr style=\"text-align: right;\">\n",
       "      <th></th>\n",
       "      <th>geoid</th>\n",
       "      <th>rate</th>\n",
       "    </tr>\n",
       "  </thead>\n",
       "  <tbody>\n",
       "    <tr>\n",
       "      <th>count</th>\n",
       "      <td> 73006.000000</td>\n",
       "      <td>  73006.000000</td>\n",
       "    </tr>\n",
       "    <tr>\n",
       "      <th>mean</th>\n",
       "      <td> 93209.656302</td>\n",
       "      <td>   1495.539606</td>\n",
       "    </tr>\n",
       "    <tr>\n",
       "      <th>std</th>\n",
       "      <td>  1802.373157</td>\n",
       "      <td>   9975.460220</td>\n",
       "    </tr>\n",
       "    <tr>\n",
       "      <th>min</th>\n",
       "      <td> 90001.000000</td>\n",
       "      <td>      0.000000</td>\n",
       "    </tr>\n",
       "    <tr>\n",
       "      <th>25%</th>\n",
       "      <td> 91905.250000</td>\n",
       "      <td>     26.290000</td>\n",
       "    </tr>\n",
       "    <tr>\n",
       "      <th>50%</th>\n",
       "      <td> 93150.000000</td>\n",
       "      <td>     78.260000</td>\n",
       "    </tr>\n",
       "    <tr>\n",
       "      <th>75%</th>\n",
       "      <td> 94956.000000</td>\n",
       "      <td>    138.677500</td>\n",
       "    </tr>\n",
       "    <tr>\n",
       "      <th>max</th>\n",
       "      <td> 96162.000000</td>\n",
       "      <td> 219688.000000</td>\n",
       "    </tr>\n",
       "  </tbody>\n",
       "</table>\n",
       "</div>"
      ],
      "text/plain": [
       "              geoid           rate\n",
       "count  73006.000000   73006.000000\n",
       "mean   93209.656302    1495.539606\n",
       "std     1802.373157    9975.460220\n",
       "min    90001.000000       0.000000\n",
       "25%    91905.250000      26.290000\n",
       "50%    93150.000000      78.260000\n",
       "75%    94956.000000     138.677500\n",
       "max    96162.000000  219688.000000"
      ]
     },
     "execution_count": 47,
     "metadata": {},
     "output_type": "execute_result"
    }
   ],
   "source": [
    "# Basic stats\n",
    "df1.describe()"
   ]
  },
  {
   "cell_type": "code",
   "execution_count": 73,
   "metadata": {
    "collapsed": false
   },
   "outputs": [
    {
     "data": {
      "text/plain": [
       "Index([u'measure', u'product', u'geotype', u'geoid', u'rate'], dtype='object')"
      ]
     },
     "execution_count": 73,
     "metadata": {},
     "output_type": "execute_result"
    }
   ],
   "source": [
    "df1.columns"
   ]
  },
  {
   "cell_type": "code",
   "execution_count": 74,
   "metadata": {
    "collapsed": false
   },
   "outputs": [],
   "source": [
    "df1=df1.drop('geotype',1)"
   ]
  },
  {
   "cell_type": "code",
   "execution_count": 75,
   "metadata": {
    "collapsed": false
   },
   "outputs": [
    {
     "data": {
      "text/html": [
       "<div style=\"max-height:1000px;max-width:1500px;overflow:auto;\">\n",
       "<table border=\"1\" class=\"dataframe\">\n",
       "  <thead>\n",
       "    <tr style=\"text-align: right;\">\n",
       "      <th></th>\n",
       "      <th>measure</th>\n",
       "      <th>product</th>\n",
       "      <th>geoid</th>\n",
       "      <th>rate</th>\n",
       "    </tr>\n",
       "  </thead>\n",
       "  <tbody>\n",
       "    <tr>\n",
       "      <th>0</th>\n",
       "      <td> COL</td>\n",
       "      <td> HMOPOS</td>\n",
       "      <td> 90001</td>\n",
       "      <td> 62.18</td>\n",
       "    </tr>\n",
       "    <tr>\n",
       "      <th>1</th>\n",
       "      <td> COL</td>\n",
       "      <td> HMOPOS</td>\n",
       "      <td> 90002</td>\n",
       "      <td> 64.67</td>\n",
       "    </tr>\n",
       "    <tr>\n",
       "      <th>2</th>\n",
       "      <td> COL</td>\n",
       "      <td> HMOPOS</td>\n",
       "      <td> 90003</td>\n",
       "      <td> 64.70</td>\n",
       "    </tr>\n",
       "    <tr>\n",
       "      <th>3</th>\n",
       "      <td> COL</td>\n",
       "      <td> HMOPOS</td>\n",
       "      <td> 90004</td>\n",
       "      <td> 66.16</td>\n",
       "    </tr>\n",
       "    <tr>\n",
       "      <th>4</th>\n",
       "      <td> COL</td>\n",
       "      <td> HMOPOS</td>\n",
       "      <td> 90005</td>\n",
       "      <td> 59.42</td>\n",
       "    </tr>\n",
       "  </tbody>\n",
       "</table>\n",
       "</div>"
      ],
      "text/plain": [
       "  measure product  geoid   rate\n",
       "0     COL  HMOPOS  90001  62.18\n",
       "1     COL  HMOPOS  90002  64.67\n",
       "2     COL  HMOPOS  90003  64.70\n",
       "3     COL  HMOPOS  90004  66.16\n",
       "4     COL  HMOPOS  90005  59.42"
      ]
     },
     "execution_count": 75,
     "metadata": {},
     "output_type": "execute_result"
    }
   ],
   "source": [
    "df1.head()"
   ]
  },
  {
   "cell_type": "code",
   "execution_count": 76,
   "metadata": {
    "collapsed": false
   },
   "outputs": [
    {
     "name": "stdout",
     "output_type": "stream",
     "text": [
      "1495.5396062\n",
      "9975.46021994\n"
     ]
    }
   ],
   "source": [
    "print df1['rate'].mean()\n",
    "print df1['rate'].std()"
   ]
  },
  {
   "cell_type": "code",
   "execution_count": 90,
   "metadata": {
    "collapsed": false
   },
   "outputs": [
    {
     "name": "stdout",
     "output_type": "stream",
     "text": [
      "2105\n"
     ]
    }
   ],
   "source": [
    "geoid_unique=list(pd.unique(df1['geoid'].values.ravel()))\n",
    "print len(geoid_unique)"
   ]
  },
  {
   "cell_type": "code",
   "execution_count": 100,
   "metadata": {
    "collapsed": false
   },
   "outputs": [
    {
     "name": "stdout",
     "output_type": "stream",
     "text": [
      "['COL', 'HBASCR', 'NEPHSCR', 'ASIAL', 'DIABI', 'SPANL', 'BCS5274', 'EDV_NONSPD', 'EDV_SPD', 'ACR_SPD', 'ASIAN', 'BLACK', 'EDUC', 'HISP', 'IPBD_NONSPD', 'WHITE', 'ACR', 'MMA75', 'ACR_NONSPD', 'EDV', 'HBACON', 'INCOM', 'IPBD', 'IPBD_SPD']\n"
     ]
    }
   ],
   "source": [
    "measure_unique=list(pd.unique(df1['measure'].values.ravel()))\n",
    "print measure_unique"
   ]
  },
  {
   "cell_type": "code",
   "execution_count": 101,
   "metadata": {
    "collapsed": false
   },
   "outputs": [
    {
     "name": "stdout",
     "output_type": "stream",
     "text": [
      "['HMOPOS', 'PPO', 'MA', 'ALL', 'MC']\n"
     ]
    }
   ],
   "source": [
    "product_unique=list(pd.unique(df1['product'].values.ravel()))\n",
    "print product_unique"
   ]
  },
  {
   "cell_type": "code",
   "execution_count": 78,
   "metadata": {
    "collapsed": false
   },
   "outputs": [],
   "source": [
    "#print geoid_unique"
   ]
  },
  {
   "cell_type": "code",
   "execution_count": null,
   "metadata": {
    "collapsed": true
   },
   "outputs": [],
   "source": [
    "#KNN Classification of locations"
   ]
  },
  {
   "cell_type": "code",
   "execution_count": 88,
   "metadata": {
    "collapsed": false
   },
   "outputs": [],
   "source": [
    "from sklearn.cross_validation import train_test_split\n",
    "y=df1['geoid'].values\n",
    "#feature_names=['geoid']\n",
    "#print feature_names\n",
    "X=df1[['rate']].values\n",
    "X_train, X_test, y_train, y_test = train_test_split( X, y, test_size=0.2, random_state=0)"
   ]
  },
  {
   "cell_type": "code",
   "execution_count": 91,
   "metadata": {
    "collapsed": false
   },
   "outputs": [
    {
     "name": "stdout",
     "output_type": "stream",
     "text": [
      "KNN classification score is 0.000684837693467\n"
     ]
    }
   ],
   "source": [
    "from sklearn.neighbors import KNeighborsClassifier\n",
    "myknn = KNeighborsClassifier(2105).fit(X_train,y_train)\n",
    "print 'KNN classification score is %s' % myknn.score(X_test, y_test)"
   ]
  },
  {
   "cell_type": "code",
   "execution_count": 92,
   "metadata": {
    "collapsed": true
   },
   "outputs": [],
   "source": [
    "%matplotlib inline\n",
    "from matplotlib import pyplot as plt\n",
    "from pylab import *"
   ]
  },
  {
   "cell_type": "code",
   "execution_count": 96,
   "metadata": {
    "collapsed": false
   },
   "outputs": [
    {
     "data": {
      "image/png": "[encoded data removed]",
      "text/plain": [
       "<matplotlib.figure.Figure at 0x10c2d7110>"
      ]
     },
     "metadata": {},
     "output_type": "display_data"
    }
   ],
   "source": [
    "plt.xlabel('geoid')\n",
    "plt.ylabel('rate')\n",
    "plt.plot(df1['geoid'],df1['rate'])\n",
    "plt.show()"
   ]
  },
  {
   "cell_type": "code",
   "execution_count": 126,
   "metadata": {
    "collapsed": false
   },
   "outputs": [],
   "source": [
    "dft=df1.groupby(['measure']).rate.mean()\n",
    "dft1=df1.groupby(['measure']).std()"
   ]
  },
  {
   "cell_type": "code",
   "execution_count": 133,
   "metadata": {
    "collapsed": false
   },
   "outputs": [
    {
     "data": {
      "text/plain": [
       "measure\n",
       "ACR            9.738117\n",
       "ACR_NONSPD     8.119490\n",
       "ACR_SPD       15.969490\n",
       "ASIAL          6.780783\n",
       "ASIAN         10.973405\n",
       "Name: rate, dtype: float64"
      ]
     },
     "execution_count": 133,
     "metadata": {},
     "output_type": "execute_result"
    }
   ],
   "source": [
    "dft.head()"
   ]
  },
  {
   "cell_type": "code",
   "execution_count": 167,
   "metadata": {
    "collapsed": false
   },
   "outputs": [
    {
     "name": "stdout",
     "output_type": "stream",
     "text": [
      "24 5\n"
     ]
    }
   ],
   "source": [
    "#M - number of measures\n",
    "#P - number of products\n",
    "M=len(measure_unique)\n",
    "P=len(product_unique)\n",
    "print M,P\n",
    "mean_rates=np.zeros((P,M))"
   ]
  },
  {
   "cell_type": "code",
   "execution_count": 168,
   "metadata": {
    "collapsed": false
   },
   "outputs": [
    {
     "name": "stdout",
     "output_type": "stream",
     "text": [
      "HMOPOS\n",
      "89.6935365143\n",
      "PPO\n",
      "83.9240914001\n",
      "MA\n",
      "236.985570171\n",
      "ALL\n",
      "3696.16654303\n",
      "MC\n",
      "382.452445874\n"
     ]
    }
   ],
   "source": [
    "mean_rate=np.zeros((P))\n",
    "for i in range(0,P):\n",
    "    print product_unique[i]\n",
    "    mean_rate[i]=df1[df1['product']==product_unique[i]].rate.mean()\n",
    "    print mean_rate[i]"
   ]
  },
  {
   "cell_type": "code",
   "execution_count": 170,
   "metadata": {
    "collapsed": false
   },
   "outputs": [
    {
     "name": "stdout",
     "output_type": "stream",
     "text": [
      "COL\n",
      "61.5410598439\n",
      "HBASCR\n",
      "87.3150703043\n",
      "NEPHSCR\n",
      "84.3537607555\n",
      "ASIAL\n",
      "6.7807829408\n",
      "DIABI\n",
      "5.95772927597\n",
      "SPANL\n",
      "22.2182367919\n",
      "BCS5274\n",
      "75.988188499\n",
      "EDV_NONSPD\n",
      "523.868962472\n",
      "EDV_SPD\n",
      "829.505368957\n",
      "ACR_SPD\n",
      "15.9694904459\n",
      "ASIAN\n",
      "10.9734054742\n",
      "BLACK\n",
      "5.3387778485\n",
      "EDUC\n",
      "82.7326692209\n",
      "HISP\n",
      "29.4347549332\n",
      "IPBD_NONSPD\n",
      "126.249168506\n",
      "WHITE\n",
      "73.9826607257\n",
      "ACR\n",
      "9.73811725453\n",
      "MMA75\n",
      "40.6639857651\n",
      "ACR_NONSPD\n",
      "8.11949044586\n",
      "EDV\n",
      "281.977075682\n",
      "HBACON\n",
      "44.9456306401\n",
      "INCOM\n",
      "63138.5150738\n",
      "IPBD\n",
      "308.969865053\n",
      "IPBD_SPD\n",
      "881.847523325\n"
     ]
    }
   ],
   "source": [
    "mean_rate2=np.zeros((M))\n",
    "for j in range(0,M):\n",
    "    print measure_unique[j]\n",
    "    mean_rate2[j]=df1[df1['measure']==measure_unique[j]].rate.mean()\n",
    "    print mean_rate2[j]"
   ]
  },
  {
   "cell_type": "code",
   "execution_count": 187,
   "metadata": {
    "collapsed": false,
    "scrolled": true
   },
   "outputs": [],
   "source": [
    "for i in range(0,P):\n",
    "    for j in range(0,M):\n",
    "        mean_rates[i,j]=df1[(df1['product']==product_unique[i]) & (df1['measure']==measure_unique[j])].rate.mean()\n",
    "\n",
    "for i in range(0,P):\n",
    "    for j in range(0,M):\n",
    "        df1.loc[(df1['product']==product_unique[i])&(df1['measure']==measure_unique[j]),'mean_rate']=mean_rates[i,j]\n",
    "\n"
   ]
  },
  {
   "cell_type": "code",
   "execution_count": 215,
   "metadata": {
    "collapsed": false
   },
   "outputs": [],
   "source": [
    "df_trans=pd.DataFrame(mean_rates,index=product_unique, columns=measure_unique)"
   ]
  },
  {
   "cell_type": "code",
   "execution_count": 216,
   "metadata": {
    "collapsed": false
   },
   "outputs": [
    {
     "data": {
      "text/html": [
       "<div style=\"max-height:1000px;max-width:1500px;overflow:auto;\">\n",
       "<table border=\"1\" class=\"dataframe\">\n",
       "  <thead>\n",
       "    <tr style=\"text-align: right;\">\n",
       "      <th></th>\n",
       "      <th>COL</th>\n",
       "      <th>HBASCR</th>\n",
       "      <th>NEPHSCR</th>\n",
       "      <th>ASIAL</th>\n",
       "      <th>DIABI</th>\n",
       "      <th>SPANL</th>\n",
       "      <th>BCS5274</th>\n",
       "      <th>EDV_NONSPD</th>\n",
       "      <th>EDV_SPD</th>\n",
       "      <th>ACR_SPD</th>\n",
       "      <th>...</th>\n",
       "      <th>IPBD_NONSPD</th>\n",
       "      <th>WHITE</th>\n",
       "      <th>ACR</th>\n",
       "      <th>MMA75</th>\n",
       "      <th>ACR_NONSPD</th>\n",
       "      <th>EDV</th>\n",
       "      <th>HBACON</th>\n",
       "      <th>INCOM</th>\n",
       "      <th>IPBD</th>\n",
       "      <th>IPBD_SPD</th>\n",
       "    </tr>\n",
       "  </thead>\n",
       "  <tbody>\n",
       "    <tr>\n",
       "      <th>HMOPOS</th>\n",
       "      <td> 68.515358</td>\n",
       "      <td> 90.730803</td>\n",
       "      <td> 88.983153</td>\n",
       "      <td>      NaN</td>\n",
       "      <td>  4.606190</td>\n",
       "      <td>       NaN</td>\n",
       "      <td> 82.969422</td>\n",
       "      <td>        NaN</td>\n",
       "      <td>        NaN</td>\n",
       "      <td>      NaN</td>\n",
       "      <td>...</td>\n",
       "      <td>        NaN</td>\n",
       "      <td>       NaN</td>\n",
       "      <td>  7.974984</td>\n",
       "      <td> 40.019893</td>\n",
       "      <td>     NaN</td>\n",
       "      <td> 169.394955</td>\n",
       "      <td> 31.547814</td>\n",
       "      <td>          NaN</td>\n",
       "      <td> 151.461212</td>\n",
       "      <td>        NaN</td>\n",
       "    </tr>\n",
       "    <tr>\n",
       "      <th>PPO</th>\n",
       "      <td> 45.303408</td>\n",
       "      <td> 80.454283</td>\n",
       "      <td> 70.822868</td>\n",
       "      <td>      NaN</td>\n",
       "      <td>  3.149356</td>\n",
       "      <td>       NaN</td>\n",
       "      <td> 67.654946</td>\n",
       "      <td>        NaN</td>\n",
       "      <td>        NaN</td>\n",
       "      <td>      NaN</td>\n",
       "      <td>...</td>\n",
       "      <td>        NaN</td>\n",
       "      <td>       NaN</td>\n",
       "      <td>  8.080583</td>\n",
       "      <td> 44.668505</td>\n",
       "      <td>     NaN</td>\n",
       "      <td> 137.128474</td>\n",
       "      <td> 74.916224</td>\n",
       "      <td>          NaN</td>\n",
       "      <td> 153.992615</td>\n",
       "      <td>        NaN</td>\n",
       "    </tr>\n",
       "    <tr>\n",
       "      <th>MA</th>\n",
       "      <td> 76.628842</td>\n",
       "      <td> 94.926185</td>\n",
       "      <td> 95.514336</td>\n",
       "      <td>      NaN</td>\n",
       "      <td> 14.144368</td>\n",
       "      <td>       NaN</td>\n",
       "      <td> 85.835494</td>\n",
       "      <td>        NaN</td>\n",
       "      <td>        NaN</td>\n",
       "      <td>      NaN</td>\n",
       "      <td>...</td>\n",
       "      <td>        NaN</td>\n",
       "      <td>       NaN</td>\n",
       "      <td> 11.108621</td>\n",
       "      <td>       NaN</td>\n",
       "      <td>     NaN</td>\n",
       "      <td> 375.696627</td>\n",
       "      <td> 22.902848</td>\n",
       "      <td>          NaN</td>\n",
       "      <td> 802.447291</td>\n",
       "      <td>        NaN</td>\n",
       "    </tr>\n",
       "    <tr>\n",
       "      <th>ALL</th>\n",
       "      <td> 60.405059</td>\n",
       "      <td> 87.935440</td>\n",
       "      <td> 84.894433</td>\n",
       "      <td> 6.780783</td>\n",
       "      <td>  4.575662</td>\n",
       "      <td> 22.218237</td>\n",
       "      <td> 76.622101</td>\n",
       "      <td>        NaN</td>\n",
       "      <td>        NaN</td>\n",
       "      <td>      NaN</td>\n",
       "      <td>...</td>\n",
       "      <td>        NaN</td>\n",
       "      <td> 73.982661</td>\n",
       "      <td>  9.739532</td>\n",
       "      <td> 40.258405</td>\n",
       "      <td>     NaN</td>\n",
       "      <td> 217.017204</td>\n",
       "      <td> 43.764655</td>\n",
       "      <td> 63138.515074</td>\n",
       "      <td> 212.319790</td>\n",
       "      <td>        NaN</td>\n",
       "    </tr>\n",
       "    <tr>\n",
       "      <th>MC</th>\n",
       "      <td>       NaN</td>\n",
       "      <td> 78.497798</td>\n",
       "      <td> 80.184087</td>\n",
       "      <td>      NaN</td>\n",
       "      <td>  2.614940</td>\n",
       "      <td>       NaN</td>\n",
       "      <td> 57.756600</td>\n",
       "      <td> 523.868962</td>\n",
       "      <td> 829.505369</td>\n",
       "      <td> 15.96949</td>\n",
       "      <td>...</td>\n",
       "      <td> 126.249169</td>\n",
       "      <td>       NaN</td>\n",
       "      <td> 13.757778</td>\n",
       "      <td> 39.358000</td>\n",
       "      <td> 8.11949</td>\n",
       "      <td> 622.087693</td>\n",
       "      <td> 55.590377</td>\n",
       "      <td>          NaN</td>\n",
       "      <td> 295.339133</td>\n",
       "      <td> 881.847523</td>\n",
       "    </tr>\n",
       "  </tbody>\n",
       "</table>\n",
       "<p>5 rows × 24 columns</p>\n",
       "</div>"
      ],
      "text/plain": [
       "              COL     HBASCR    NEPHSCR     ASIAL      DIABI      SPANL  \\\n",
       "HMOPOS  68.515358  90.730803  88.983153       NaN   4.606190        NaN   \n",
       "PPO     45.303408  80.454283  70.822868       NaN   3.149356        NaN   \n",
       "MA      76.628842  94.926185  95.514336       NaN  14.144368        NaN   \n",
       "ALL     60.405059  87.935440  84.894433  6.780783   4.575662  22.218237   \n",
       "MC            NaN  78.497798  80.184087       NaN   2.614940        NaN   \n",
       "\n",
       "          BCS5274  EDV_NONSPD     EDV_SPD   ACR_SPD    ...     IPBD_NONSPD  \\\n",
       "HMOPOS  82.969422         NaN         NaN       NaN    ...             NaN   \n",
       "PPO     67.654946         NaN         NaN       NaN    ...             NaN   \n",
       "MA      85.835494         NaN         NaN       NaN    ...             NaN   \n",
       "ALL     76.622101         NaN         NaN       NaN    ...             NaN   \n",
       "MC      57.756600  523.868962  829.505369  15.96949    ...      126.249169   \n",
       "\n",
       "            WHITE        ACR      MMA75  ACR_NONSPD         EDV     HBACON  \\\n",
       "HMOPOS        NaN   7.974984  40.019893         NaN  169.394955  31.547814   \n",
       "PPO           NaN   8.080583  44.668505         NaN  137.128474  74.916224   \n",
       "MA            NaN  11.108621        NaN         NaN  375.696627  22.902848   \n",
       "ALL     73.982661   9.739532  40.258405         NaN  217.017204  43.764655   \n",
       "MC            NaN  13.757778  39.358000     8.11949  622.087693  55.590377   \n",
       "\n",
       "               INCOM        IPBD    IPBD_SPD  \n",
       "HMOPOS           NaN  151.461212         NaN  \n",
       "PPO              NaN  153.992615         NaN  \n",
       "MA               NaN  802.447291         NaN  \n",
       "ALL     63138.515074  212.319790         NaN  \n",
       "MC               NaN  295.339133  881.847523  \n",
       "\n",
       "[5 rows x 24 columns]"
      ]
     },
     "execution_count": 216,
     "metadata": {},
     "output_type": "execute_result"
    }
   ],
   "source": [
    "df_trans"
   ]
  },
  {
   "cell_type": "code",
   "execution_count": 219,
   "metadata": {
    "collapsed": false
   },
   "outputs": [
    {
     "data": {
      "text/plain": [
       "<matplotlib.axes._subplots.AxesSubplot at 0x111011850>"
      ]
     },
     "execution_count": 219,
     "metadata": {},
     "output_type": "execute_result"
    },
    {
     "data": {
      "image/png": "[encoded data removed]",
      "text/plain": [
       "<matplotlib.figure.Figure at 0x1112928d0>"
      ]
     },
     "metadata": {},
     "output_type": "display_data"
    }
   ],
   "source": [
    "df_trans.plot(kind='bar', ylim=[0,200], legend=False)\n"
   ]
  },
  {
   "cell_type": "code",
   "execution_count": null,
   "metadata": {
    "collapsed": true
   },
   "outputs": [],
   "source": []
  }
 ],
 "metadata": {
  "kernelspec": {
   "display_name": "Python 2",
   "language": "python",
   "name": "python2"
  },
  "language_info": {
   "codemirror_mode": {
    "name": "ipython",
    "version": 2
   },
   "file_extension": ".py",
   "mimetype": "text/x-python",
   "name": "python",
   "nbconvert_exporter": "python",
   "pygments_lexer": "ipython2",
   "version": "2.7.9"
  }
 },
 "nbformat": 4,
 "nbformat_minor": 0
}
